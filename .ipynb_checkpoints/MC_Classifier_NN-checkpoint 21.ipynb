{
 "cells": [
  {
   "cell_type": "markdown",
   "metadata": {},
   "source": [
    "# Sequencial NN"
   ]
  },
  {
   "cell_type": "code",
   "execution_count": 198,
   "metadata": {},
   "outputs": [],
   "source": [
    "import numpy as np\n",
    "import pandas as pd \n",
    "import matplotlib.pyplot as plt\n",
    "from keras.models import Sequential\n",
    "from keras.layers import Dense\n",
    "from keras.layers import LSTM\n",
    "from config.config import *\n",
    "from config.constants import *\n",
    "from keras.callbacks import ModelCheckpoint\n",
    "from keras.models import load_model\n",
    "from sklearn.metrics import accuracy_score\n",
    "from collections import Counter\n",
    "from sklearn.model_selection import train_test_split"
   ]
  },
  {
   "cell_type": "code",
   "execution_count": 199,
   "metadata": {},
   "outputs": [],
   "source": [
    "def plot_model(hist):\n",
    "    fig, axs = plt.subplots(nrows=1, figsize=(11, 9))\n",
    "    plt.rcParams['font.size'] = '14'\n",
    "\n",
    "    for label in (axs.get_xticklabels() + axs.get_yticklabels()):\n",
    "        label.set_fontsize(14)    \n",
    "\n",
    "    plt.plot(hist.history['accuracy'])\n",
    "    plt.plot(hist.history['val_accuracy'])\n",
    "\n",
    "    axs.set_title('Model Accuracy')\n",
    "    axs.set_ylabel('Accuracy', fontsize=14)\n",
    "    axs.set_xlabel('Epoch', fontsize=14)\n",
    "    plt.legend(['train', 'val'], loc='upper left')\n",
    "    plt.show()\n",
    "    \n",
    "    print(\"Model has training accuracy of {:.2f}%\".format(hist.history['accuracy'][-1]*100))"
   ]
  },
  {
   "cell_type": "code",
   "execution_count": 206,
   "metadata": {},
   "outputs": [],
   "source": [
    "def pre_process_split(path):\n",
    "    \n",
    "    dataset = pd.read_csv(path)\n",
    "    dataset.dropna(inplace = True)\n",
    "    \n",
    "    # assigning new column names to the dataframe\n",
    "    # dataset.columns = constants.cols + ['label']\n",
    "    \n",
    "    # creating training set ignoring labels\n",
    "    train_data = dataset[dataset.columns[:-1]].values\n",
    "    labels = dataset['label'].values\n",
    "    n_class = len(set(labels))\n",
    "    \n",
    "    X_train, X_test, y_train, y_test =   train_test_split(train_data, labels, test_size=0.20)\n",
    "\n",
    "    X_train = X_train.reshape(-1, 1, train_data.shape[1])\n",
    "    X_test  = X_test.reshape(-1, 1, train_data.shape[1])\n",
    "    y_train = y_train.reshape(-1, 1, 1)\n",
    "    y_test = y_test.reshape(-1, 1, 1)\n",
    "    \n",
    "    return X_train, X_test, y_train, y_test, n_class"
   ]
  },
  {
   "cell_type": "code",
   "execution_count": 201,
   "metadata": {},
   "outputs": [],
   "source": [
    "def model_config_train(name,eps,bs,actvn,datalink):\n",
    "    \n",
    "    print(\"processing dataset\")\n",
    "    X_train, X_test, y_train, y_test, n_class = pre_process_split(datalink)\n",
    "    print(n_class)\n",
    "    model = Sequential()\n",
    "    model.add(LSTM(100, input_shape=(X_train.shape[1], X_train.shape[2])))\n",
    "    model.add(Dense(n_class, activation=actvn))\n",
    "    print(model.summary())\n",
    "       \n",
    "    chk = ModelCheckpoint(name+'.pkl',save_best_only=True, mode='auto', verbose=1)\n",
    "    print(\"saving as:\",name+'.pkl')\n",
    "    model.compile(loss='sparse_categorical_crossentropy', optimizer='adam', metrics=['accuracy'])\n",
    "    hist = model.fit(X_train, y_train, epochs=eps, batch_size=bs, callbacks=[chk], validation_split=0.2)\n",
    "    \n",
    "    plot_model(hist)\n",
    "    \n",
    "    return model"
   ]
  },
  {
   "cell_type": "markdown",
   "metadata": {},
   "source": [
    "## Loading dataset for binary classifier"
   ]
  },
  {
   "cell_type": "code",
   "execution_count": 202,
   "metadata": {},
   "outputs": [],
   "source": [
    "def plotter(plot_data,unique_labels,n_plots):\n",
    "    \n",
    "    data = plot_data.copy()\n",
    "    predicted_labels = data['label']\n",
    "    #print(len(set(predicted_labels)),unique_labels)\n",
    "    #print(Counter(predicted_labels).values(),[unique_labels[each] for each in Counter(predicted_labels).keys()])\n",
    "    \n",
    "    matrics = sorted(zip([unique_labels[each] for each in Counter(predicted_labels).keys()],Counter(predicted_labels).values() ), key=lambda x: x[1])\n",
    "    \n",
    "    score = [list(j) for j in matrics][::-1]\n",
    "    \n",
    "    \n",
    "    \n",
    "    total = sum([i[1] for i in score])\n",
    "\n",
    "    c=0\n",
    "    for i in score:\n",
    "\n",
    "        score[c][1] = str(round(i[1]*100/total,2))+\"%\"\n",
    "        #print(\"Fault type:\", i[-1], \"Percentage: {:.2f}%\".format(i[1]*100/total))\n",
    "        c+=1\n",
    "\n",
    "    print(pd.DataFrame.from_records(score,columns=['Fault type','Percentage']))\n",
    "    \n",
    "    #print(\"changing numbers to labels again\")\n",
    "    data['label'] = [unique_labels[i] for i in predicted_labels]\n",
    "\n",
    "    fig, ax = plt.subplots(n_plots,figsize=(15,4*n_plots))\n",
    "\n",
    "    for j in range(n_plots):\n",
    "\n",
    "        legend_list = []\n",
    "        for i in range(len(set(predicted_labels))):\n",
    "\n",
    "            extract = data[data.label==unique_labels[i]][cols[j]]    \n",
    "\n",
    "            #print(len(extract))\n",
    "            if unique_labels[i]==score[0][0] and score[0][0]!='NML' or unique_labels[i]== 'FAULT':\n",
    "                temp = ax[j].scatter(extract.index,extract,marker='+',s=40)\n",
    "            else:\n",
    "                temp = ax[j].scatter(extract.index,extract,marker='.',s=10)\n",
    "\n",
    "\n",
    "            legend_list.append(temp)\n",
    "\n",
    "        ax[j].legend(legend_list,unique_labels,scatterpoints=3,ncol=1,fontsize=15)\n",
    "\n",
    "    fig.tight_layout()\n",
    "    plt.show()\n",
    "\n",
    "    return score[0][0]"
   ]
  },
  {
   "cell_type": "code",
   "execution_count": 203,
   "metadata": {},
   "outputs": [],
   "source": [
    "def tester(model,frame):\n",
    "    \n",
    "    data = frame\n",
    "    \n",
    "    cols = ['A'+str(each+1) for each in range(int(col_len/2))] + ['V'+str(each+1) for each in range(int(col_len/2))]\n",
    "    \n",
    "    if data.shape[1]==6:\n",
    "        data.columns = cols\n",
    "    elif data.shape[1]==7:\n",
    "        data.columns = cols + ['label']\n",
    "        data = data[cols]\n",
    "    else:\n",
    "        print(\"columns length is \",data.shape[1])\n",
    "    \n",
    "    \n",
    "    test_preds = model.predict(data.values.reshape(-1,1,6).tolist())\n",
    "    predicted_labels = np.argmax(test_preds,axis=1)\n",
    "    \n",
    "    data['label'] = predicted_labels\n",
    "    \n",
    "    return data\n",
    "    "
   ]
  },
  {
   "cell_type": "markdown",
   "metadata": {},
   "source": [
    "## Testing the models"
   ]
  },
  {
   "cell_type": "code",
   "execution_count": 207,
   "metadata": {},
   "outputs": [
    {
     "name": "stdout",
     "output_type": "stream",
     "text": [
      "processing dataset\n",
      "2\n",
      "Model: \"sequential\"\n",
      "_________________________________________________________________\n",
      "Layer (type)                 Output Shape              Param #   \n",
      "=================================================================\n",
      "lstm (LSTM)                  (None, 100)               42800     \n",
      "_________________________________________________________________\n",
      "dense (Dense)                (None, 2)                 202       \n",
      "=================================================================\n",
      "Total params: 43,002\n",
      "Trainable params: 43,002\n",
      "Non-trainable params: 0\n",
      "_________________________________________________________________\n",
      "None\n",
      "saving as: binary_clf.pkl\n",
      "Epoch 1/20\n",
      "704/704 [==============================] - 18s 8ms/step - loss: 0.1642 - accuracy: 0.9469 - val_loss: 0.0825 - val_accuracy: 0.9734\n",
      "\n",
      "Epoch 00001: val_loss improved from inf to 0.08246, saving model to binary_clf.pkl\n"
     ]
    },
    {
     "name": "stderr",
     "output_type": "stream",
     "text": [
      "WARNING:absl:Found untraced functions such as lstm_cell_layer_call_and_return_conditional_losses, lstm_cell_layer_call_fn, lstm_cell_layer_call_fn, lstm_cell_layer_call_and_return_conditional_losses, lstm_cell_layer_call_and_return_conditional_losses while saving (showing 5 of 5). These functions will not be directly callable after loading.\n"
     ]
    },
    {
     "name": "stdout",
     "output_type": "stream",
     "text": [
      "INFO:tensorflow:Assets written to: binary_clf.pkl/assets\n"
     ]
    },
    {
     "name": "stderr",
     "output_type": "stream",
     "text": [
      "INFO:tensorflow:Assets written to: binary_clf.pkl/assets\n"
     ]
    },
    {
     "name": "stdout",
     "output_type": "stream",
     "text": [
      "Epoch 2/20\n",
      "704/704 [==============================] - 6s 8ms/step - loss: 0.0826 - accuracy: 0.9728 - val_loss: 0.0802 - val_accuracy: 0.9735\n",
      "\n",
      "Epoch 00002: val_loss improved from 0.08246 to 0.08019, saving model to binary_clf.pkl\n"
     ]
    },
    {
     "name": "stderr",
     "output_type": "stream",
     "text": [
      "WARNING:absl:Found untraced functions such as lstm_cell_layer_call_and_return_conditional_losses, lstm_cell_layer_call_fn, lstm_cell_layer_call_fn, lstm_cell_layer_call_and_return_conditional_losses, lstm_cell_layer_call_and_return_conditional_losses while saving (showing 5 of 5). These functions will not be directly callable after loading.\n"
     ]
    },
    {
     "name": "stdout",
     "output_type": "stream",
     "text": [
      "INFO:tensorflow:Assets written to: binary_clf.pkl/assets\n"
     ]
    },
    {
     "name": "stderr",
     "output_type": "stream",
     "text": [
      "INFO:tensorflow:Assets written to: binary_clf.pkl/assets\n"
     ]
    },
    {
     "name": "stdout",
     "output_type": "stream",
     "text": [
      "Epoch 3/20\n",
      "704/704 [==============================] - 6s 9ms/step - loss: 0.0814 - accuracy: 0.9739 - val_loss: 0.0793 - val_accuracy: 0.9758\n",
      "\n",
      "Epoch 00003: val_loss improved from 0.08019 to 0.07931, saving model to binary_clf.pkl\n"
     ]
    },
    {
     "name": "stderr",
     "output_type": "stream",
     "text": [
      "WARNING:absl:Found untraced functions such as lstm_cell_layer_call_and_return_conditional_losses, lstm_cell_layer_call_fn, lstm_cell_layer_call_fn, lstm_cell_layer_call_and_return_conditional_losses, lstm_cell_layer_call_and_return_conditional_losses while saving (showing 5 of 5). These functions will not be directly callable after loading.\n"
     ]
    },
    {
     "name": "stdout",
     "output_type": "stream",
     "text": [
      "INFO:tensorflow:Assets written to: binary_clf.pkl/assets\n"
     ]
    },
    {
     "name": "stderr",
     "output_type": "stream",
     "text": [
      "INFO:tensorflow:Assets written to: binary_clf.pkl/assets\n"
     ]
    },
    {
     "name": "stdout",
     "output_type": "stream",
     "text": [
      "Epoch 4/20\n",
      "704/704 [==============================] - 7s 10ms/step - loss: 0.0800 - accuracy: 0.9745 - val_loss: 0.0786 - val_accuracy: 0.9757\n",
      "\n",
      "Epoch 00004: val_loss improved from 0.07931 to 0.07861, saving model to binary_clf.pkl\n"
     ]
    },
    {
     "name": "stderr",
     "output_type": "stream",
     "text": [
      "WARNING:absl:Found untraced functions such as lstm_cell_layer_call_and_return_conditional_losses, lstm_cell_layer_call_fn, lstm_cell_layer_call_fn, lstm_cell_layer_call_and_return_conditional_losses, lstm_cell_layer_call_and_return_conditional_losses while saving (showing 5 of 5). These functions will not be directly callable after loading.\n"
     ]
    },
    {
     "name": "stdout",
     "output_type": "stream",
     "text": [
      "INFO:tensorflow:Assets written to: binary_clf.pkl/assets\n"
     ]
    },
    {
     "name": "stderr",
     "output_type": "stream",
     "text": [
      "INFO:tensorflow:Assets written to: binary_clf.pkl/assets\n"
     ]
    },
    {
     "name": "stdout",
     "output_type": "stream",
     "text": [
      "Epoch 5/20\n",
      "704/704 [==============================] - 7s 10ms/step - loss: 0.0804 - accuracy: 0.9745 - val_loss: 0.0783 - val_accuracy: 0.9759\n",
      "\n",
      "Epoch 00005: val_loss improved from 0.07861 to 0.07834, saving model to binary_clf.pkl\n"
     ]
    },
    {
     "name": "stderr",
     "output_type": "stream",
     "text": [
      "WARNING:absl:Found untraced functions such as lstm_cell_layer_call_and_return_conditional_losses, lstm_cell_layer_call_fn, lstm_cell_layer_call_fn, lstm_cell_layer_call_and_return_conditional_losses, lstm_cell_layer_call_and_return_conditional_losses while saving (showing 5 of 5). These functions will not be directly callable after loading.\n"
     ]
    },
    {
     "name": "stdout",
     "output_type": "stream",
     "text": [
      "INFO:tensorflow:Assets written to: binary_clf.pkl/assets\n"
     ]
    },
    {
     "name": "stderr",
     "output_type": "stream",
     "text": [
      "INFO:tensorflow:Assets written to: binary_clf.pkl/assets\n"
     ]
    },
    {
     "name": "stdout",
     "output_type": "stream",
     "text": [
      "Epoch 6/20\n",
      "704/704 [==============================] - 6s 9ms/step - loss: 0.0788 - accuracy: 0.9752 - val_loss: 0.0780 - val_accuracy: 0.9745\n",
      "\n",
      "Epoch 00006: val_loss improved from 0.07834 to 0.07798, saving model to binary_clf.pkl\n"
     ]
    },
    {
     "name": "stderr",
     "output_type": "stream",
     "text": [
      "WARNING:absl:Found untraced functions such as lstm_cell_layer_call_and_return_conditional_losses, lstm_cell_layer_call_fn, lstm_cell_layer_call_fn, lstm_cell_layer_call_and_return_conditional_losses, lstm_cell_layer_call_and_return_conditional_losses while saving (showing 5 of 5). These functions will not be directly callable after loading.\n"
     ]
    },
    {
     "name": "stdout",
     "output_type": "stream",
     "text": [
      "INFO:tensorflow:Assets written to: binary_clf.pkl/assets\n"
     ]
    },
    {
     "name": "stderr",
     "output_type": "stream",
     "text": [
      "INFO:tensorflow:Assets written to: binary_clf.pkl/assets\n"
     ]
    },
    {
     "name": "stdout",
     "output_type": "stream",
     "text": [
      "Epoch 7/20\n",
      "704/704 [==============================] - 6s 9ms/step - loss: 0.0795 - accuracy: 0.9747 - val_loss: 0.0779 - val_accuracy: 0.9755\n",
      "\n",
      "Epoch 00007: val_loss improved from 0.07798 to 0.07789, saving model to binary_clf.pkl\n"
     ]
    },
    {
     "name": "stderr",
     "output_type": "stream",
     "text": [
      "WARNING:absl:Found untraced functions such as lstm_cell_layer_call_and_return_conditional_losses, lstm_cell_layer_call_fn, lstm_cell_layer_call_fn, lstm_cell_layer_call_and_return_conditional_losses, lstm_cell_layer_call_and_return_conditional_losses while saving (showing 5 of 5). These functions will not be directly callable after loading.\n"
     ]
    },
    {
     "name": "stdout",
     "output_type": "stream",
     "text": [
      "INFO:tensorflow:Assets written to: binary_clf.pkl/assets\n"
     ]
    },
    {
     "name": "stderr",
     "output_type": "stream",
     "text": [
      "INFO:tensorflow:Assets written to: binary_clf.pkl/assets\n"
     ]
    },
    {
     "name": "stdout",
     "output_type": "stream",
     "text": [
      "Epoch 8/20\n",
      "704/704 [==============================] - 6s 9ms/step - loss: 0.0789 - accuracy: 0.9749 - val_loss: 0.0787 - val_accuracy: 0.9760\n",
      "\n",
      "Epoch 00008: val_loss did not improve from 0.07789\n",
      "Epoch 9/20\n",
      "704/704 [==============================] - 6s 9ms/step - loss: 0.0782 - accuracy: 0.9750 - val_loss: 0.0781 - val_accuracy: 0.9760\n",
      "\n",
      "Epoch 00009: val_loss did not improve from 0.07789\n",
      "Epoch 10/20\n",
      "704/704 [==============================] - 6s 9ms/step - loss: 0.0785 - accuracy: 0.9752 - val_loss: 0.0766 - val_accuracy: 0.9760\n",
      "\n",
      "Epoch 00010: val_loss improved from 0.07789 to 0.07656, saving model to binary_clf.pkl\n"
     ]
    },
    {
     "name": "stderr",
     "output_type": "stream",
     "text": [
      "WARNING:absl:Found untraced functions such as lstm_cell_layer_call_and_return_conditional_losses, lstm_cell_layer_call_fn, lstm_cell_layer_call_fn, lstm_cell_layer_call_and_return_conditional_losses, lstm_cell_layer_call_and_return_conditional_losses while saving (showing 5 of 5). These functions will not be directly callable after loading.\n"
     ]
    },
    {
     "name": "stdout",
     "output_type": "stream",
     "text": [
      "INFO:tensorflow:Assets written to: binary_clf.pkl/assets\n"
     ]
    },
    {
     "name": "stderr",
     "output_type": "stream",
     "text": [
      "INFO:tensorflow:Assets written to: binary_clf.pkl/assets\n"
     ]
    },
    {
     "name": "stdout",
     "output_type": "stream",
     "text": [
      "Epoch 11/20\n",
      "704/704 [==============================] - 6s 9ms/step - loss: 0.0785 - accuracy: 0.9752 - val_loss: 0.0766 - val_accuracy: 0.9755\n",
      "\n",
      "Epoch 00011: val_loss did not improve from 0.07656\n",
      "Epoch 12/20\n",
      "704/704 [==============================] - 7s 10ms/step - loss: 0.0781 - accuracy: 0.9751 - val_loss: 0.0761 - val_accuracy: 0.9764\n",
      "\n",
      "Epoch 00012: val_loss improved from 0.07656 to 0.07606, saving model to binary_clf.pkl\n"
     ]
    },
    {
     "name": "stderr",
     "output_type": "stream",
     "text": [
      "WARNING:absl:Found untraced functions such as lstm_cell_layer_call_and_return_conditional_losses, lstm_cell_layer_call_fn, lstm_cell_layer_call_fn, lstm_cell_layer_call_and_return_conditional_losses, lstm_cell_layer_call_and_return_conditional_losses while saving (showing 5 of 5). These functions will not be directly callable after loading.\n"
     ]
    },
    {
     "name": "stdout",
     "output_type": "stream",
     "text": [
      "INFO:tensorflow:Assets written to: binary_clf.pkl/assets\n"
     ]
    },
    {
     "name": "stderr",
     "output_type": "stream",
     "text": [
      "INFO:tensorflow:Assets written to: binary_clf.pkl/assets\n"
     ]
    },
    {
     "name": "stdout",
     "output_type": "stream",
     "text": [
      "Epoch 13/20\n",
      "704/704 [==============================] - 7s 10ms/step - loss: 0.0786 - accuracy: 0.9748 - val_loss: 0.0772 - val_accuracy: 0.9760\n",
      "\n",
      "Epoch 00013: val_loss did not improve from 0.07606\n",
      "Epoch 14/20\n",
      "704/704 [==============================] - 9s 12ms/step - loss: 0.0775 - accuracy: 0.9753 - val_loss: 0.0765 - val_accuracy: 0.9755\n",
      "\n",
      "Epoch 00014: val_loss did not improve from 0.07606\n",
      "Epoch 15/20\n",
      "704/704 [==============================] - 8s 12ms/step - loss: 0.0779 - accuracy: 0.9752 - val_loss: 0.0773 - val_accuracy: 0.9763\n",
      "\n",
      "Epoch 00015: val_loss did not improve from 0.07606\n",
      "Epoch 16/20\n",
      "704/704 [==============================] - 7s 10ms/step - loss: 0.0780 - accuracy: 0.9754 - val_loss: 0.0772 - val_accuracy: 0.9762\n",
      "\n",
      "Epoch 00016: val_loss did not improve from 0.07606\n",
      "Epoch 17/20\n",
      "704/704 [==============================] - 7s 10ms/step - loss: 0.0779 - accuracy: 0.9754 - val_loss: 0.0763 - val_accuracy: 0.9758\n",
      "\n",
      "Epoch 00017: val_loss did not improve from 0.07606\n",
      "Epoch 18/20\n",
      "704/704 [==============================] - 7s 10ms/step - loss: 0.0784 - accuracy: 0.9753 - val_loss: 0.0776 - val_accuracy: 0.9759\n",
      "\n",
      "Epoch 00018: val_loss did not improve from 0.07606\n",
      "Epoch 19/20\n",
      "704/704 [==============================] - 7s 10ms/step - loss: 0.0770 - accuracy: 0.9758 - val_loss: 0.0761 - val_accuracy: 0.9764\n",
      "\n",
      "Epoch 00019: val_loss did not improve from 0.07606\n",
      "Epoch 20/20\n",
      "704/704 [==============================] - 7s 10ms/step - loss: 0.0771 - accuracy: 0.9756 - val_loss: 0.0770 - val_accuracy: 0.9759\n",
      "\n",
      "Epoch 00020: val_loss did not improve from 0.07606\n"
     ]
    },
    {
     "data": {
      "image/png": "[encoded data removed]",
      "text/plain": [
       "<Figure size 792x648 with 1 Axes>"
      ]
     },
     "metadata": {
      "needs_background": "light"
     },
     "output_type": "display_data"
    },
    {
     "name": "stdout",
     "output_type": "stream",
     "text": [
      "Model has training accuracy of 97.56%\n"
     ]
    },
    {
     "data": {
      "text/plain": [
       "<keras.engine.sequential.Sequential at 0x7fa00d5e7bb0>"
      ]
     },
     "execution_count": 207,
     "metadata": {},
     "output_type": "execute_result"
    }
   ],
   "source": [
    "model_config_train('binary_clf',20,2000,'softmax','./KMTrainingSet/binary/bin_dataset_simulink.csv')"
   ]
  },
  {
   "cell_type": "code",
   "execution_count": 208,
   "metadata": {},
   "outputs": [
    {
     "name": "stdout",
     "output_type": "stream",
     "text": [
      "processing dataset\n",
      "11\n",
      "Model: \"sequential_1\"\n",
      "_________________________________________________________________\n",
      "Layer (type)                 Output Shape              Param #   \n",
      "=================================================================\n",
      "lstm_1 (LSTM)                (None, 100)               42800     \n",
      "_________________________________________________________________\n",
      "dense_1 (Dense)              (None, 11)                1111      \n",
      "=================================================================\n",
      "Total params: 43,911\n",
      "Trainable params: 43,911\n",
      "Non-trainable params: 0\n",
      "_________________________________________________________________\n",
      "None\n",
      "saving as: multi_clf.pkl\n",
      "Epoch 1/20\n",
      "92/92 [==============================] - 4s 18ms/step - loss: 1.6490 - accuracy: 0.5855 - val_loss: 0.7116 - val_accuracy: 0.8784\n",
      "\n",
      "Epoch 00001: val_loss improved from inf to 0.71158, saving model to multi_clf.pkl\n"
     ]
    },
    {
     "name": "stderr",
     "output_type": "stream",
     "text": [
      "WARNING:absl:Found untraced functions such as lstm_cell_1_layer_call_and_return_conditional_losses, lstm_cell_1_layer_call_fn, lstm_cell_1_layer_call_fn, lstm_cell_1_layer_call_and_return_conditional_losses, lstm_cell_1_layer_call_and_return_conditional_losses while saving (showing 5 of 5). These functions will not be directly callable after loading.\n"
     ]
    },
    {
     "name": "stdout",
     "output_type": "stream",
     "text": [
      "INFO:tensorflow:Assets written to: multi_clf.pkl/assets\n"
     ]
    },
    {
     "name": "stderr",
     "output_type": "stream",
     "text": [
      "INFO:tensorflow:Assets written to: multi_clf.pkl/assets\n"
     ]
    },
    {
     "name": "stdout",
     "output_type": "stream",
     "text": [
      "Epoch 2/20\n",
      "92/92 [==============================] - 1s 12ms/step - loss: 0.5876 - accuracy: 0.8787 - val_loss: 0.3553 - val_accuracy: 0.8824\n",
      "\n",
      "Epoch 00002: val_loss improved from 0.71158 to 0.35529, saving model to multi_clf.pkl\n"
     ]
    },
    {
     "name": "stderr",
     "output_type": "stream",
     "text": [
      "WARNING:absl:Found untraced functions such as lstm_cell_1_layer_call_and_return_conditional_losses, lstm_cell_1_layer_call_fn, lstm_cell_1_layer_call_fn, lstm_cell_1_layer_call_and_return_conditional_losses, lstm_cell_1_layer_call_and_return_conditional_losses while saving (showing 5 of 5). These functions will not be directly callable after loading.\n"
     ]
    },
    {
     "name": "stdout",
     "output_type": "stream",
     "text": [
      "INFO:tensorflow:Assets written to: multi_clf.pkl/assets\n"
     ]
    },
    {
     "name": "stderr",
     "output_type": "stream",
     "text": [
      "INFO:tensorflow:Assets written to: multi_clf.pkl/assets\n"
     ]
    },
    {
     "name": "stdout",
     "output_type": "stream",
     "text": [
      "Epoch 3/20\n",
      "92/92 [==============================] - 1s 12ms/step - loss: 0.3251 - accuracy: 0.8823 - val_loss: 0.2651 - val_accuracy: 0.8882\n",
      "\n",
      "Epoch 00003: val_loss improved from 0.35529 to 0.26514, saving model to multi_clf.pkl\n"
     ]
    },
    {
     "name": "stderr",
     "output_type": "stream",
     "text": [
      "WARNING:absl:Found untraced functions such as lstm_cell_1_layer_call_and_return_conditional_losses, lstm_cell_1_layer_call_fn, lstm_cell_1_layer_call_fn, lstm_cell_1_layer_call_and_return_conditional_losses, lstm_cell_1_layer_call_and_return_conditional_losses while saving (showing 5 of 5). These functions will not be directly callable after loading.\n"
     ]
    },
    {
     "name": "stdout",
     "output_type": "stream",
     "text": [
      "INFO:tensorflow:Assets written to: multi_clf.pkl/assets\n"
     ]
    },
    {
     "name": "stderr",
     "output_type": "stream",
     "text": [
      "INFO:tensorflow:Assets written to: multi_clf.pkl/assets\n"
     ]
    },
    {
     "name": "stdout",
     "output_type": "stream",
     "text": [
      "Epoch 4/20\n",
      "92/92 [==============================] - 1s 13ms/step - loss: 0.2559 - accuracy: 0.8864 - val_loss: 0.2353 - val_accuracy: 0.8873\n",
      "\n",
      "Epoch 00004: val_loss improved from 0.26514 to 0.23531, saving model to multi_clf.pkl\n"
     ]
    },
    {
     "name": "stderr",
     "output_type": "stream",
     "text": [
      "WARNING:absl:Found untraced functions such as lstm_cell_1_layer_call_and_return_conditional_losses, lstm_cell_1_layer_call_fn, lstm_cell_1_layer_call_fn, lstm_cell_1_layer_call_and_return_conditional_losses, lstm_cell_1_layer_call_and_return_conditional_losses while saving (showing 5 of 5). These functions will not be directly callable after loading.\n"
     ]
    },
    {
     "name": "stdout",
     "output_type": "stream",
     "text": [
      "INFO:tensorflow:Assets written to: multi_clf.pkl/assets\n"
     ]
    },
    {
     "name": "stderr",
     "output_type": "stream",
     "text": [
      "INFO:tensorflow:Assets written to: multi_clf.pkl/assets\n"
     ]
    },
    {
     "name": "stdout",
     "output_type": "stream",
     "text": [
      "Epoch 5/20\n",
      "92/92 [==============================] - 1s 13ms/step - loss: 0.2322 - accuracy: 0.8873 - val_loss: 0.2237 - val_accuracy: 0.8899\n",
      "\n",
      "Epoch 00005: val_loss improved from 0.23531 to 0.22372, saving model to multi_clf.pkl\n"
     ]
    },
    {
     "name": "stderr",
     "output_type": "stream",
     "text": [
      "WARNING:absl:Found untraced functions such as lstm_cell_1_layer_call_and_return_conditional_losses, lstm_cell_1_layer_call_fn, lstm_cell_1_layer_call_fn, lstm_cell_1_layer_call_and_return_conditional_losses, lstm_cell_1_layer_call_and_return_conditional_losses while saving (showing 5 of 5). These functions will not be directly callable after loading.\n"
     ]
    },
    {
     "name": "stdout",
     "output_type": "stream",
     "text": [
      "INFO:tensorflow:Assets written to: multi_clf.pkl/assets\n"
     ]
    },
    {
     "name": "stderr",
     "output_type": "stream",
     "text": [
      "INFO:tensorflow:Assets written to: multi_clf.pkl/assets\n"
     ]
    },
    {
     "name": "stdout",
     "output_type": "stream",
     "text": [
      "Epoch 6/20\n",
      "92/92 [==============================] - 1s 14ms/step - loss: 0.2213 - accuracy: 0.8881 - val_loss: 0.2162 - val_accuracy: 0.8871\n",
      "\n",
      "Epoch 00006: val_loss improved from 0.22372 to 0.21622, saving model to multi_clf.pkl\n"
     ]
    },
    {
     "name": "stderr",
     "output_type": "stream",
     "text": [
      "WARNING:absl:Found untraced functions such as lstm_cell_1_layer_call_and_return_conditional_losses, lstm_cell_1_layer_call_fn, lstm_cell_1_layer_call_fn, lstm_cell_1_layer_call_and_return_conditional_losses, lstm_cell_1_layer_call_and_return_conditional_losses while saving (showing 5 of 5). These functions will not be directly callable after loading.\n"
     ]
    },
    {
     "name": "stdout",
     "output_type": "stream",
     "text": [
      "INFO:tensorflow:Assets written to: multi_clf.pkl/assets\n"
     ]
    },
    {
     "name": "stderr",
     "output_type": "stream",
     "text": [
      "INFO:tensorflow:Assets written to: multi_clf.pkl/assets\n"
     ]
    },
    {
     "name": "stdout",
     "output_type": "stream",
     "text": [
      "Epoch 7/20\n",
      "92/92 [==============================] - 1s 13ms/step - loss: 0.2143 - accuracy: 0.8883 - val_loss: 0.2117 - val_accuracy: 0.8864\n",
      "\n",
      "Epoch 00007: val_loss improved from 0.21622 to 0.21169, saving model to multi_clf.pkl\n"
     ]
    },
    {
     "name": "stderr",
     "output_type": "stream",
     "text": [
      "WARNING:absl:Found untraced functions such as lstm_cell_1_layer_call_and_return_conditional_losses, lstm_cell_1_layer_call_fn, lstm_cell_1_layer_call_fn, lstm_cell_1_layer_call_and_return_conditional_losses, lstm_cell_1_layer_call_and_return_conditional_losses while saving (showing 5 of 5). These functions will not be directly callable after loading.\n"
     ]
    },
    {
     "name": "stdout",
     "output_type": "stream",
     "text": [
      "INFO:tensorflow:Assets written to: multi_clf.pkl/assets\n"
     ]
    },
    {
     "name": "stderr",
     "output_type": "stream",
     "text": [
      "INFO:tensorflow:Assets written to: multi_clf.pkl/assets\n"
     ]
    },
    {
     "name": "stdout",
     "output_type": "stream",
     "text": [
      "Epoch 8/20\n",
      "92/92 [==============================] - 1s 13ms/step - loss: 0.2094 - accuracy: 0.8885 - val_loss: 0.2074 - val_accuracy: 0.8892\n",
      "\n",
      "Epoch 00008: val_loss improved from 0.21169 to 0.20742, saving model to multi_clf.pkl\n"
     ]
    },
    {
     "name": "stderr",
     "output_type": "stream",
     "text": [
      "WARNING:absl:Found untraced functions such as lstm_cell_1_layer_call_and_return_conditional_losses, lstm_cell_1_layer_call_fn, lstm_cell_1_layer_call_fn, lstm_cell_1_layer_call_and_return_conditional_losses, lstm_cell_1_layer_call_and_return_conditional_losses while saving (showing 5 of 5). These functions will not be directly callable after loading.\n"
     ]
    },
    {
     "name": "stdout",
     "output_type": "stream",
     "text": [
      "INFO:tensorflow:Assets written to: multi_clf.pkl/assets\n"
     ]
    },
    {
     "name": "stderr",
     "output_type": "stream",
     "text": [
      "INFO:tensorflow:Assets written to: multi_clf.pkl/assets\n"
     ]
    },
    {
     "name": "stdout",
     "output_type": "stream",
     "text": [
      "Epoch 9/20\n",
      "92/92 [==============================] - 1s 12ms/step - loss: 0.2057 - accuracy: 0.8899 - val_loss: 0.2047 - val_accuracy: 0.8886\n",
      "\n",
      "Epoch 00009: val_loss improved from 0.20742 to 0.20467, saving model to multi_clf.pkl\n"
     ]
    },
    {
     "name": "stderr",
     "output_type": "stream",
     "text": [
      "WARNING:absl:Found untraced functions such as lstm_cell_1_layer_call_and_return_conditional_losses, lstm_cell_1_layer_call_fn, lstm_cell_1_layer_call_fn, lstm_cell_1_layer_call_and_return_conditional_losses, lstm_cell_1_layer_call_and_return_conditional_losses while saving (showing 5 of 5). These functions will not be directly callable after loading.\n"
     ]
    },
    {
     "name": "stdout",
     "output_type": "stream",
     "text": [
      "INFO:tensorflow:Assets written to: multi_clf.pkl/assets\n"
     ]
    },
    {
     "name": "stderr",
     "output_type": "stream",
     "text": [
      "INFO:tensorflow:Assets written to: multi_clf.pkl/assets\n"
     ]
    },
    {
     "name": "stdout",
     "output_type": "stream",
     "text": [
      "Epoch 10/20\n",
      "92/92 [==============================] - 1s 12ms/step - loss: 0.2047 - accuracy: 0.8901 - val_loss: 0.2028 - val_accuracy: 0.8920\n",
      "\n",
      "Epoch 00010: val_loss improved from 0.20467 to 0.20275, saving model to multi_clf.pkl\n"
     ]
    },
    {
     "name": "stderr",
     "output_type": "stream",
     "text": [
      "WARNING:absl:Found untraced functions such as lstm_cell_1_layer_call_and_return_conditional_losses, lstm_cell_1_layer_call_fn, lstm_cell_1_layer_call_fn, lstm_cell_1_layer_call_and_return_conditional_losses, lstm_cell_1_layer_call_and_return_conditional_losses while saving (showing 5 of 5). These functions will not be directly callable after loading.\n"
     ]
    },
    {
     "name": "stdout",
     "output_type": "stream",
     "text": [
      "INFO:tensorflow:Assets written to: multi_clf.pkl/assets\n"
     ]
    },
    {
     "name": "stderr",
     "output_type": "stream",
     "text": [
      "INFO:tensorflow:Assets written to: multi_clf.pkl/assets\n"
     ]
    },
    {
     "name": "stdout",
     "output_type": "stream",
     "text": [
      "Epoch 11/20\n",
      "92/92 [==============================] - 1s 11ms/step - loss: 0.2027 - accuracy: 0.8899 - val_loss: 0.2012 - val_accuracy: 0.8927\n",
      "\n",
      "Epoch 00011: val_loss improved from 0.20275 to 0.20118, saving model to multi_clf.pkl\n"
     ]
    },
    {
     "name": "stderr",
     "output_type": "stream",
     "text": [
      "WARNING:absl:Found untraced functions such as lstm_cell_1_layer_call_and_return_conditional_losses, lstm_cell_1_layer_call_fn, lstm_cell_1_layer_call_fn, lstm_cell_1_layer_call_and_return_conditional_losses, lstm_cell_1_layer_call_and_return_conditional_losses while saving (showing 5 of 5). These functions will not be directly callable after loading.\n"
     ]
    },
    {
     "name": "stdout",
     "output_type": "stream",
     "text": [
      "INFO:tensorflow:Assets written to: multi_clf.pkl/assets\n"
     ]
    },
    {
     "name": "stderr",
     "output_type": "stream",
     "text": [
      "INFO:tensorflow:Assets written to: multi_clf.pkl/assets\n"
     ]
    },
    {
     "name": "stdout",
     "output_type": "stream",
     "text": [
      "Epoch 12/20\n",
      "92/92 [==============================] - 1s 12ms/step - loss: 0.1997 - accuracy: 0.8920 - val_loss: 0.2006 - val_accuracy: 0.8920\n",
      "\n",
      "Epoch 00012: val_loss improved from 0.20118 to 0.20063, saving model to multi_clf.pkl\n"
     ]
    },
    {
     "name": "stderr",
     "output_type": "stream",
     "text": [
      "WARNING:absl:Found untraced functions such as lstm_cell_1_layer_call_and_return_conditional_losses, lstm_cell_1_layer_call_fn, lstm_cell_1_layer_call_fn, lstm_cell_1_layer_call_and_return_conditional_losses, lstm_cell_1_layer_call_and_return_conditional_losses while saving (showing 5 of 5). These functions will not be directly callable after loading.\n"
     ]
    },
    {
     "name": "stdout",
     "output_type": "stream",
     "text": [
      "INFO:tensorflow:Assets written to: multi_clf.pkl/assets\n"
     ]
    },
    {
     "name": "stderr",
     "output_type": "stream",
     "text": [
      "INFO:tensorflow:Assets written to: multi_clf.pkl/assets\n"
     ]
    },
    {
     "name": "stdout",
     "output_type": "stream",
     "text": [
      "Epoch 13/20\n",
      "92/92 [==============================] - 1s 11ms/step - loss: 0.1996 - accuracy: 0.8915 - val_loss: 0.1987 - val_accuracy: 0.8927\n",
      "\n",
      "Epoch 00013: val_loss improved from 0.20063 to 0.19871, saving model to multi_clf.pkl\n"
     ]
    },
    {
     "name": "stderr",
     "output_type": "stream",
     "text": [
      "WARNING:absl:Found untraced functions such as lstm_cell_1_layer_call_and_return_conditional_losses, lstm_cell_1_layer_call_fn, lstm_cell_1_layer_call_fn, lstm_cell_1_layer_call_and_return_conditional_losses, lstm_cell_1_layer_call_and_return_conditional_losses while saving (showing 5 of 5). These functions will not be directly callable after loading.\n"
     ]
    },
    {
     "name": "stdout",
     "output_type": "stream",
     "text": [
      "INFO:tensorflow:Assets written to: multi_clf.pkl/assets\n"
     ]
    },
    {
     "name": "stderr",
     "output_type": "stream",
     "text": [
      "INFO:tensorflow:Assets written to: multi_clf.pkl/assets\n"
     ]
    },
    {
     "name": "stdout",
     "output_type": "stream",
     "text": [
      "Epoch 14/20\n",
      "92/92 [==============================] - 1s 12ms/step - loss: 0.2000 - accuracy: 0.8899 - val_loss: 0.1994 - val_accuracy: 0.8919\n",
      "\n",
      "Epoch 00014: val_loss did not improve from 0.19871\n",
      "Epoch 15/20\n",
      "92/92 [==============================] - 1s 12ms/step - loss: 0.2000 - accuracy: 0.8903 - val_loss: 0.1978 - val_accuracy: 0.8935\n",
      "\n",
      "Epoch 00015: val_loss improved from 0.19871 to 0.19780, saving model to multi_clf.pkl\n"
     ]
    },
    {
     "name": "stderr",
     "output_type": "stream",
     "text": [
      "WARNING:absl:Found untraced functions such as lstm_cell_1_layer_call_and_return_conditional_losses, lstm_cell_1_layer_call_fn, lstm_cell_1_layer_call_fn, lstm_cell_1_layer_call_and_return_conditional_losses, lstm_cell_1_layer_call_and_return_conditional_losses while saving (showing 5 of 5). These functions will not be directly callable after loading.\n"
     ]
    },
    {
     "name": "stdout",
     "output_type": "stream",
     "text": [
      "INFO:tensorflow:Assets written to: multi_clf.pkl/assets\n"
     ]
    },
    {
     "name": "stderr",
     "output_type": "stream",
     "text": [
      "INFO:tensorflow:Assets written to: multi_clf.pkl/assets\n"
     ]
    },
    {
     "name": "stdout",
     "output_type": "stream",
     "text": [
      "Epoch 16/20\n",
      "92/92 [==============================] - 1s 12ms/step - loss: 0.1992 - accuracy: 0.8903 - val_loss: 0.1970 - val_accuracy: 0.8904\n",
      "\n",
      "Epoch 00016: val_loss improved from 0.19780 to 0.19700, saving model to multi_clf.pkl\n"
     ]
    },
    {
     "name": "stderr",
     "output_type": "stream",
     "text": [
      "WARNING:absl:Found untraced functions such as lstm_cell_1_layer_call_and_return_conditional_losses, lstm_cell_1_layer_call_fn, lstm_cell_1_layer_call_fn, lstm_cell_1_layer_call_and_return_conditional_losses, lstm_cell_1_layer_call_and_return_conditional_losses while saving (showing 5 of 5). These functions will not be directly callable after loading.\n"
     ]
    },
    {
     "name": "stdout",
     "output_type": "stream",
     "text": [
      "INFO:tensorflow:Assets written to: multi_clf.pkl/assets\n"
     ]
    },
    {
     "name": "stderr",
     "output_type": "stream",
     "text": [
      "INFO:tensorflow:Assets written to: multi_clf.pkl/assets\n"
     ]
    },
    {
     "name": "stdout",
     "output_type": "stream",
     "text": [
      "Epoch 17/20\n",
      "92/92 [==============================] - 1s 12ms/step - loss: 0.1968 - accuracy: 0.8911 - val_loss: 0.1966 - val_accuracy: 0.8891\n",
      "\n",
      "Epoch 00017: val_loss improved from 0.19700 to 0.19663, saving model to multi_clf.pkl\n"
     ]
    },
    {
     "name": "stderr",
     "output_type": "stream",
     "text": [
      "WARNING:absl:Found untraced functions such as lstm_cell_1_layer_call_and_return_conditional_losses, lstm_cell_1_layer_call_fn, lstm_cell_1_layer_call_fn, lstm_cell_1_layer_call_and_return_conditional_losses, lstm_cell_1_layer_call_and_return_conditional_losses while saving (showing 5 of 5). These functions will not be directly callable after loading.\n"
     ]
    },
    {
     "name": "stdout",
     "output_type": "stream",
     "text": [
      "INFO:tensorflow:Assets written to: multi_clf.pkl/assets\n"
     ]
    },
    {
     "name": "stderr",
     "output_type": "stream",
     "text": [
      "INFO:tensorflow:Assets written to: multi_clf.pkl/assets\n"
     ]
    },
    {
     "name": "stdout",
     "output_type": "stream",
     "text": [
      "Epoch 18/20\n",
      "92/92 [==============================] - 1s 12ms/step - loss: 0.1975 - accuracy: 0.8910 - val_loss: 0.1961 - val_accuracy: 0.8939\n",
      "\n",
      "Epoch 00018: val_loss improved from 0.19663 to 0.19612, saving model to multi_clf.pkl\n"
     ]
    },
    {
     "name": "stderr",
     "output_type": "stream",
     "text": [
      "WARNING:absl:Found untraced functions such as lstm_cell_1_layer_call_and_return_conditional_losses, lstm_cell_1_layer_call_fn, lstm_cell_1_layer_call_fn, lstm_cell_1_layer_call_and_return_conditional_losses, lstm_cell_1_layer_call_and_return_conditional_losses while saving (showing 5 of 5). These functions will not be directly callable after loading.\n"
     ]
    },
    {
     "name": "stdout",
     "output_type": "stream",
     "text": [
      "INFO:tensorflow:Assets written to: multi_clf.pkl/assets\n"
     ]
    },
    {
     "name": "stderr",
     "output_type": "stream",
     "text": [
      "INFO:tensorflow:Assets written to: multi_clf.pkl/assets\n"
     ]
    },
    {
     "name": "stdout",
     "output_type": "stream",
     "text": [
      "Epoch 19/20\n",
      "92/92 [==============================] - 1s 13ms/step - loss: 0.1952 - accuracy: 0.8929 - val_loss: 0.1961 - val_accuracy: 0.8900\n",
      "\n",
      "Epoch 00019: val_loss did not improve from 0.19612\n",
      "Epoch 20/20\n",
      "92/92 [==============================] - 1s 13ms/step - loss: 0.1975 - accuracy: 0.8912 - val_loss: 0.1958 - val_accuracy: 0.8950\n",
      "\n",
      "Epoch 00020: val_loss improved from 0.19612 to 0.19582, saving model to multi_clf.pkl\n"
     ]
    },
    {
     "name": "stderr",
     "output_type": "stream",
     "text": [
      "WARNING:absl:Found untraced functions such as lstm_cell_1_layer_call_and_return_conditional_losses, lstm_cell_1_layer_call_fn, lstm_cell_1_layer_call_fn, lstm_cell_1_layer_call_and_return_conditional_losses, lstm_cell_1_layer_call_and_return_conditional_losses while saving (showing 5 of 5). These functions will not be directly callable after loading.\n"
     ]
    },
    {
     "name": "stdout",
     "output_type": "stream",
     "text": [
      "INFO:tensorflow:Assets written to: multi_clf.pkl/assets\n"
     ]
    },
    {
     "name": "stderr",
     "output_type": "stream",
     "text": [
      "INFO:tensorflow:Assets written to: multi_clf.pkl/assets\n"
     ]
    },
    {
     "data": {
      "image/png": "[encoded data removed]",
      "text/plain": [
       "<Figure size 792x648 with 1 Axes>"
      ]
     },
     "metadata": {
      "needs_background": "light"
     },
     "output_type": "display_data"
    },
    {
     "name": "stdout",
     "output_type": "stream",
     "text": [
      "Model has training accuracy of 89.18%\n"
     ]
    },
    {
     "data": {
      "text/plain": [
       "<keras.engine.sequential.Sequential at 0x7fa00e0ef160>"
      ]
     },
     "execution_count": 208,
     "metadata": {},
     "output_type": "execute_result"
    }
   ],
   "source": [
    "model_config_train('multi_clf',20,2000,'softmax','./KMTrainingSet/multi/mul_dataset_simulink.csv')"
   ]
  },
  {
   "cell_type": "code",
   "execution_count": 209,
   "metadata": {},
   "outputs": [],
   "source": [
    "binary_labels_list = ['NML','FAULT']\n",
    "binary_model = load_model('binary_clf.pkl')"
   ]
  },
  {
   "cell_type": "code",
   "execution_count": 210,
   "metadata": {},
   "outputs": [],
   "source": [
    "multi_labels_list = ['AB', 'AC', 'BC', 'ABC', 'AG', 'BG', 'ABG', 'CG', 'ACG', 'BCG', 'ABCG']\n",
    "multi_model = load_model('multi_clf.pkl')"
   ]
  },
  {
   "cell_type": "code",
   "execution_count": 211,
   "metadata": {},
   "outputs": [],
   "source": [
    "import os"
   ]
  },
  {
   "cell_type": "code",
   "execution_count": 212,
   "metadata": {},
   "outputs": [],
   "source": [
    "# current directory\n",
    "path = \"./TrainingSet/\"\n",
    "\n",
    "# list of file of the given path is assigned to the variable \n",
    "file_list = [each for each in list(os.walk(path))[0][-1] if \".csv\" in each]"
   ]
  },
  {
   "cell_type": "code",
   "execution_count": null,
   "metadata": {},
   "outputs": [
    {
     "name": "stdout",
     "output_type": "stream",
     "text": [
      "\n",
      ".\n",
      ".\n",
      " 5ABCG.csv\n",
      "  Fault type Percentage\n",
      "0        NML     97.64%\n",
      "1      FAULT      2.35%\n"
     ]
    },
    {
     "data": {
      "image/png": "[encoded data removed]",
      "text/plain": [
       "<Figure size 1080x576 with 2 Axes>"
      ]
     },
     "metadata": {
      "needs_background": "light"
     },
     "output_type": "display_data"
    },
    {
     "name": "stdout",
     "output_type": "stream",
     "text": [
      "  Fault type Percentage\n",
      "0        ABC     82.17%\n",
      "1       ABCG     14.86%\n",
      "2        BCG       1.7%\n",
      "3        ACG      1.27%\n"
     ]
    },
    {
     "data": {
      "image/png": "[encoded data removed]",
      "text/plain": [
       "<Figure size 1080x576 with 2 Axes>"
      ]
     },
     "metadata": {
      "needs_background": "light"
     },
     "output_type": "display_data"
    },
    {
     "name": "stdout",
     "output_type": "stream",
     "text": [
      "\n",
      ".\n",
      ".\n",
      " 10ABG.csv\n"
     ]
    }
   ],
   "source": [
    "checker = []\n",
    "for each in file_list:\n",
    "    print(\"\\n.\\n.\\n\",each)  \n",
    "    temp = tester(binary_model,pd.read_csv('./TrainingSet/'+each))\n",
    "    plotter(temp,binary_labels_list,2)\n",
    "    temp = tester(multi_model,temp[temp.label!=0])\n",
    "    high = plotter(temp,multi_labels_list,2)\n",
    "    if high == ''.join([i for i in each.split(\".\")[0] if not i.isdigit()]):\n",
    "        checker.append(high)\n",
    "    else:\n",
    "        checker.append('incorrect')\n"
   ]
  },
  {
   "cell_type": "code",
   "execution_count": null,
   "metadata": {},
   "outputs": [],
   "source": [
    "files_failing_model = [file_list[i] for i in range(len(checker)) if checker[i]=='incorrect']\n",
    "\n",
    "names = [''.join([i for i in each.split(\".\")[0] if not i.isdigit()]) for each in files_failing_model]"
   ]
  },
  {
   "cell_type": "code",
   "execution_count": null,
   "metadata": {},
   "outputs": [],
   "source": [
    "Counter(names)"
   ]
  },
  {
   "cell_type": "code",
   "execution_count": null,
   "metadata": {},
   "outputs": [],
   "source": [
    "\n",
    "\n",
    "temp = tester(binary_model,pd.read_csv('./TrainingSet/1AB.csv'))\n",
    "plotter(temp,binary_labels_list,2)\n",
    "temp = tester(multi_model,temp[temp.label!=0])\n",
    "plotter(temp,multi_labels_list,2)"
   ]
  },
  {
   "cell_type": "code",
   "execution_count": null,
   "metadata": {},
   "outputs": [],
   "source": [
    "data = pd.read_csv('./TrainingSet/1AG.csv')"
   ]
  },
  {
   "cell_type": "code",
   "execution_count": null,
   "metadata": {},
   "outputs": [],
   "source": [
    "round(data['3V'])"
   ]
  },
  {
   "cell_type": "code",
   "execution_count": null,
   "metadata": {},
   "outputs": [],
   "source": [
    "dat = Counter((round(data['3V'])/10))\n",
    "matrics = sorted(zip([each for each in Counter(dat).keys()],Counter(dat).values() ), key=lambda x: x[0])\n",
    "\n",
    "\n",
    "\n"
   ]
  },
  {
   "cell_type": "code",
   "execution_count": null,
   "metadata": {},
   "outputs": [],
   "source": [
    "matrics"
   ]
  },
  {
   "cell_type": "code",
   "execution_count": null,
   "metadata": {},
   "outputs": [],
   "source": [
    "import matplotlib.pyplot as plt\n",
    "from kneed import KneeLocator\n",
    "from sklearn.datasets import make_blobs\n",
    "from sklearn.cluster import KMeans\n",
    "from sklearn.metrics import silhouette_score\n",
    "from sklearn.preprocessing import StandardScaler"
   ]
  },
  {
   "cell_type": "code",
   "execution_count": null,
   "metadata": {},
   "outputs": [],
   "source": [
    "import pandas as pd\n",
    "data = pd.read_csv('KMTrainingset/2ABG.csv')"
   ]
  },
  {
   "cell_type": "code",
   "execution_count": null,
   "metadata": {},
   "outputs": [],
   "source": [
    "features = data[data.columns[:-1]].values.tolist()\n",
    "#true_labels = data['label'].values.tolist()"
   ]
  },
  {
   "cell_type": "code",
   "execution_count": null,
   "metadata": {},
   "outputs": [],
   "source": [
    "scaler = StandardScaler()\n",
    "scaled_features = scaler.fit_transform(features)\n"
   ]
  },
  {
   "cell_type": "code",
   "execution_count": null,
   "metadata": {},
   "outputs": [],
   "source": [
    "kmeans = KMeans(\n",
    "    init=\"random\",\n",
    "    n_clusters=2,\n",
    "    n_init=10,\n",
    "    max_iter=500,\n",
    "    random_state=42\n",
    ")"
   ]
  },
  {
   "cell_type": "code",
   "execution_count": null,
   "metadata": {},
   "outputs": [],
   "source": [
    "kmeans.fit(scaled_features)"
   ]
  },
  {
   "cell_type": "code",
   "execution_count": null,
   "metadata": {},
   "outputs": [],
   "source": [
    "kmeans.cluster_centers_"
   ]
  },
  {
   "cell_type": "code",
   "execution_count": null,
   "metadata": {},
   "outputs": [],
   "source": [
    "labels = kmeans.fit_predict(features)\n"
   ]
  },
  {
   "cell_type": "code",
   "execution_count": null,
   "metadata": {},
   "outputs": [],
   "source": [
    "#data['label']=labels\n",
    "data.head()"
   ]
  },
  {
   "cell_type": "code",
   "execution_count": null,
   "metadata": {},
   "outputs": [],
   "source": [
    "dic = Counter(labels)"
   ]
  },
  {
   "cell_type": "code",
   "execution_count": null,
   "metadata": {},
   "outputs": [],
   "source": [
    "dic"
   ]
  },
  {
   "cell_type": "code",
   "execution_count": null,
   "metadata": {},
   "outputs": [],
   "source": [
    "if dic[1]>dic[0]:\n",
    "    print(\"1 = 0 , 0 =1\")\n",
    "    data['label']=[1 if i == 0 else 0 for i in labels]\n",
    "else:\n",
    "    print(True)"
   ]
  },
  {
   "cell_type": "code",
   "execution_count": null,
   "metadata": {},
   "outputs": [],
   "source": [
    "dic = Counter(data['label'])"
   ]
  },
  {
   "cell_type": "code",
   "execution_count": null,
   "metadata": {},
   "outputs": [],
   "source": [
    "data"
   ]
  },
  {
   "cell_type": "code",
   "execution_count": null,
   "metadata": {},
   "outputs": [],
   "source": [
    "n_plots = 6\n",
    "fig, ax = plt.subplots(n_plots,figsize=(15,4*n_plots))\n",
    "unique_labels = ['NML','Fault']\n",
    "cols = data.columns[:-1]\n",
    "\n",
    "for j in range(6):\n",
    "\n",
    "    \n",
    "    legend_list = []\n",
    "    for i in list(set(data.label)):\n",
    "        \n",
    "        plo = data[data.label == i]\n",
    "        temp = ax[j].scatter(plo.index,plo[cols[j]],marker='+',s=40)  \n",
    "\n",
    "\n",
    "        legend_list.append(temp)\n",
    "\n",
    "    ax[j].legend(legend_list,unique_labels,scatterpoints=3,ncol=1,fontsize=15)\n",
    "\n",
    "fig.tight_layout()\n",
    "plt.show()"
   ]
  },
  {
   "cell_type": "code",
   "execution_count": null,
   "metadata": {},
   "outputs": [],
   "source": []
  },
  {
   "cell_type": "code",
   "execution_count": null,
   "metadata": {},
   "outputs": [],
   "source": [
    "org = [0,1,0,1,1,1,0,0,1,0,1]\n",
    "[1 if i == 0 else 0 for i in org]"
   ]
  },
  {
   "cell_type": "code",
   "execution_count": null,
   "metadata": {},
   "outputs": [],
   "source": [
    "for x,y in zip(org,[1 if i == 0 else 0 for i in org]):\n",
    "    print(x+y)"
   ]
  },
  {
   "cell_type": "code",
   "execution_count": null,
   "metadata": {},
   "outputs": [],
   "source": []
  },
  {
   "cell_type": "code",
   "execution_count": null,
   "metadata": {},
   "outputs": [],
   "source": []
  },
  {
   "cell_type": "code",
   "execution_count": null,
   "metadata": {},
   "outputs": [],
   "source": []
  }
 ],
 "metadata": {
  "kernelspec": {
   "display_name": "Python 3",
   "language": "python",
   "name": "python3"
  },
  "language_info": {
   "codemirror_mode": {
    "name": "ipython",
    "version": 3
   },
   "file_extension": ".py",
   "mimetype": "text/x-python",
   "name": "python",
   "nbconvert_exporter": "python",
   "pygments_lexer": "ipython3",
   "version": "3.8.5"
  }
 },
 "nbformat": 4,
 "nbformat_minor": 4
}
