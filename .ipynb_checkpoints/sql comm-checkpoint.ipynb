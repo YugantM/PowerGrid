{
 "cells": [
  {
   "cell_type": "code",
   "execution_count": 1,
   "metadata": {},
   "outputs": [],
   "source": [
    "import mysql.connector"
   ]
  },
  {
   "cell_type": "code",
   "execution_count": 2,
   "metadata": {},
   "outputs": [],
   "source": [
    "from sqlalchemy import create_engine"
   ]
  },
  {
   "cell_type": "code",
   "execution_count": 3,
   "metadata": {},
   "outputs": [],
   "source": [
    "import pandas as pd"
   ]
  },
  {
   "cell_type": "code",
   "execution_count": 17,
   "metadata": {},
   "outputs": [],
   "source": [
    "mydb = mysql.connector.connect(\n",
    "  host=\"localhost\",\n",
    "  user=\"root\",\n",
    "  password=\"#Include76002\",\n",
    "    database = 'mysql'\n",
    ")\n",
    "\n",
    "mycursor = mydb.cursor(buffered=True)\n"
   ]
  },
  {
   "cell_type": "code",
   "execution_count": 5,
   "metadata": {},
   "outputs": [],
   "source": [
    "def dump_df(cursor,name,df,replace= False):\n",
    "    \n",
    "    exist_flag = False\n",
    "    \n",
    "    mycursor.execute(\"SHOW TABLES\")\n",
    "  \n",
    "    for x in mycursor:\n",
    "        if name == x[0]:\n",
    "            exist_flag = True\n",
    "    \n",
    "    if exist_flag:\n",
    "        drop_it = \"drop table {0}\".format(name)\n",
    "        if replace:\n",
    "            cursor.execute(drop_it)\n",
    "            mydb.commit()\n",
    "            print(\"table: {0} has been droped\".format(name))\n",
    "    \n",
    "    # create part\n",
    "    sql = '''Create table '''+ str(name)+\" (\"\n",
    "    \n",
    "    dtype= ''' VARCHAR(250)'''\n",
    "    columns = list(df.columns)\n",
    "    \n",
    "    for each in columns:\n",
    "        \n",
    "        sql = sql + each + dtype +\", \"\n",
    "    \n",
    "    sql = sql[:-2] + \");\"\n",
    "    print(sql)\n",
    "    \n",
    "    \n",
    "    # insert part\n",
    "    \n",
    "    \n",
    "    for i in list(df.index):\n",
    "        cols = \"(\"+\",\".join(columns)+\")\"\n",
    "        temp = \"INSERT INTO \"+str(name)+ cols +\" VALUES\"\n",
    "        # adding formater\n",
    "\n",
    "        sql = sql + temp+ \"(\"+\",\".join([each.replace(\",\",\".\") for each in list(data.iloc[i])])+\");\"\n",
    "        \n",
    "    \n",
    "    for i in sql.split(\";\"):\n",
    "        mycursor.execute(i)\n",
    "\n",
    "        mydb.commit()\n",
    "\n",
    "    \n"
   ]
  },
  {
   "cell_type": "code",
   "execution_count": 6,
   "metadata": {},
   "outputs": [],
   "source": [
    "data = pd.read_csv(\"./Data/BusShortcircuit.csv\",sep=\";\")"
   ]
  },
  {
   "cell_type": "code",
   "execution_count": 7,
   "metadata": {},
   "outputs": [
    {
     "name": "stdout",
     "output_type": "stream",
     "text": [
      "table: voltages has been droped\n",
      "Create table voltages (Time VARCHAR(250), Voltage VARCHAR(250));\n"
     ]
    }
   ],
   "source": [
    "dump_df(mycursor,'voltages',data,replace=True)"
   ]
  },
  {
   "cell_type": "code",
   "execution_count": 24,
   "metadata": {},
   "outputs": [],
   "source": [
    "mycursor.execute(\"SHOW TABLES;\")\n",
    "tables = mycursor.fetchall()   "
   ]
  },
  {
   "cell_type": "code",
   "execution_count": 28,
   "metadata": {},
   "outputs": [],
   "source": [
    "frame = pd.read_sql(\"select * from voltages\", mydb)"
   ]
  },
  {
   "cell_type": "code",
   "execution_count": 34,
   "metadata": {},
   "outputs": [
    {
     "data": {
      "text/plain": [
       "'10003 x 2'"
      ]
     },
     "execution_count": 34,
     "metadata": {},
     "output_type": "execute_result"
    }
   ],
   "source": [
    "str(frame.shape[0]) +\" x \"+str(frame.shape[1])"
   ]
  },
  {
   "cell_type": "code",
   "execution_count": 40,
   "metadata": {},
   "outputs": [
    {
     "data": {
      "text/html": [
       "<div>\n",
       "<style scoped>\n",
       "    .dataframe tbody tr th:only-of-type {\n",
       "        vertical-align: middle;\n",
       "    }\n",
       "\n",
       "    .dataframe tbody tr th {\n",
       "        vertical-align: top;\n",
       "    }\n",
       "\n",
       "    .dataframe thead th {\n",
       "        text-align: right;\n",
       "    }\n",
       "</style>\n",
       "<table border=\"1\" class=\"dataframe\">\n",
       "  <thead>\n",
       "    <tr style=\"text-align: right;\">\n",
       "      <th></th>\n",
       "      <th>Time</th>\n",
       "      <th>Voltage</th>\n",
       "    </tr>\n",
       "  </thead>\n",
       "  <tbody>\n",
       "    <tr>\n",
       "      <th>count</th>\n",
       "      <td>10003</td>\n",
       "      <td>10003</td>\n",
       "    </tr>\n",
       "    <tr>\n",
       "      <th>unique</th>\n",
       "      <td>10001</td>\n",
       "      <td>2381</td>\n",
       "    </tr>\n",
       "    <tr>\n",
       "      <th>top</th>\n",
       "      <td>1</td>\n",
       "      <td>1.04</td>\n",
       "    </tr>\n",
       "    <tr>\n",
       "      <th>freq</th>\n",
       "      <td>2</td>\n",
       "      <td>6618</td>\n",
       "    </tr>\n",
       "  </tbody>\n",
       "</table>\n",
       "</div>"
      ],
      "text/plain": [
       "         Time Voltage\n",
       "count   10003   10003\n",
       "unique  10001    2381\n",
       "top         1    1.04\n",
       "freq        2    6618"
      ]
     },
     "execution_count": 40,
     "metadata": {},
     "output_type": "execute_result"
    }
   ],
   "source": [
    "frame.describe()"
   ]
  },
  {
   "cell_type": "code",
   "execution_count": 53,
   "metadata": {},
   "outputs": [
    {
     "name": "stdout",
     "output_type": "stream",
     "text": [
      "Waiting for Simulink to start\n",
      "sent data: 0\n"
     ]
    },
    {
     "ename": "KeyboardInterrupt",
     "evalue": "",
     "output_type": "error",
     "traceback": [
      "\u001b[0;31m---------------------------------------------------------------------------\u001b[0m",
      "\u001b[0;31mKeyboardInterrupt\u001b[0m                         Traceback (most recent call last)",
      "\u001b[0;32m<ipython-input-53-22b77a7f1b70>\u001b[0m in \u001b[0;36m<module>\u001b[0;34m\u001b[0m\n\u001b[1;32m     20\u001b[0m \u001b[0;34m\u001b[0m\u001b[0m\n\u001b[1;32m     21\u001b[0m     \u001b[0;31m# receive data from Simulink\u001b[0m\u001b[0;34m\u001b[0m\u001b[0;34m\u001b[0m\u001b[0;34m\u001b[0m\u001b[0m\n\u001b[0;32m---> 22\u001b[0;31m     \u001b[0mdata\u001b[0m \u001b[0;34m=\u001b[0m \u001b[0ms\u001b[0m\u001b[0;34m.\u001b[0m\u001b[0mrecv\u001b[0m\u001b[0;34m(\u001b[0m\u001b[0mBUFFER_SIZE\u001b[0m\u001b[0;34m)\u001b[0m\u001b[0;34m\u001b[0m\u001b[0;34m\u001b[0m\u001b[0m\n\u001b[0m\u001b[1;32m     23\u001b[0m     \u001b[0mconverteddata\u001b[0m \u001b[0;34m=\u001b[0m \u001b[0mint\u001b[0m\u001b[0;34m.\u001b[0m\u001b[0mfrom_bytes\u001b[0m\u001b[0;34m(\u001b[0m\u001b[0mdata\u001b[0m\u001b[0;34m,\u001b[0m \u001b[0mbyteorder\u001b[0m\u001b[0;34m=\u001b[0m\u001b[0;34m'big'\u001b[0m\u001b[0;34m,\u001b[0m \u001b[0msigned\u001b[0m\u001b[0;34m=\u001b[0m\u001b[0;32mFalse\u001b[0m\u001b[0;34m)\u001b[0m\u001b[0;34m\u001b[0m\u001b[0;34m\u001b[0m\u001b[0m\n\u001b[1;32m     24\u001b[0m     \u001b[0mprint\u001b[0m\u001b[0;34m(\u001b[0m\u001b[0;34m'received data:'\u001b[0m\u001b[0;34m,\u001b[0m \u001b[0mconverteddata\u001b[0m\u001b[0;34m)\u001b[0m\u001b[0;34m\u001b[0m\u001b[0;34m\u001b[0m\u001b[0m\n",
      "\u001b[0;31mKeyboardInterrupt\u001b[0m: "
     ]
    }
   ],
   "source": [
    "import socket, struct\n",
    "\n",
    "TCP_IP = 'localhost'\n",
    "TCP_PORT = 50000\n",
    "BUFFER_SIZE = 20\n",
    "\n",
    "s = socket.socket(socket.AF_INET, socket.SOCK_STREAM)\n",
    "s.connect((TCP_IP, TCP_PORT))\n",
    "print('Waiting for Simulink to start')\n",
    "#s.listen(1)\n",
    "\n",
    "#conn, addr = s.accept()\n",
    "#print('Connection address: ', addr)\n",
    "\n",
    "for i in range(50):\n",
    "    # send data to Simulink\n",
    "    msg1 = struct.pack('>d', i)\n",
    "    #conn.send(msg1)\n",
    "    print('sent data:', i)\n",
    "    \n",
    "    # receive data from Simulink\n",
    "    data = s.recv(BUFFER_SIZE)\n",
    "    converteddata = int.from_bytes(data, byteorder='big', signed=False)\n",
    "    print('received data:', converteddata)\n",
    "\n",
    "conn.close()"
   ]
  },
  {
   "cell_type": "code",
   "execution_count": null,
   "metadata": {},
   "outputs": [],
   "source": []
  }
 ],
 "metadata": {
  "kernelspec": {
   "display_name": "Python 3",
   "language": "python",
   "name": "python3"
  },
  "language_info": {
   "codemirror_mode": {
    "name": "ipython",
    "version": 3
   },
   "file_extension": ".py",
   "mimetype": "text/x-python",
   "name": "python",
   "nbconvert_exporter": "python",
   "pygments_lexer": "ipython3",
   "version": "3.8.5"
  }
 },
 "nbformat": 4,
 "nbformat_minor": 4
}
