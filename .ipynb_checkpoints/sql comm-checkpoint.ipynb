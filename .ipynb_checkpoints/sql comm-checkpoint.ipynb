{
 "cells": [
  {
   "cell_type": "code",
   "execution_count": 39,
   "metadata": {},
   "outputs": [],
   "source": [
    "import mysql.connector"
   ]
  },
  {
   "cell_type": "code",
   "execution_count": 40,
   "metadata": {},
   "outputs": [],
   "source": [
    "from sqlalchemy import create_engine"
   ]
  },
  {
   "cell_type": "code",
   "execution_count": 41,
   "metadata": {},
   "outputs": [],
   "source": [
    "import pandas as pd"
   ]
  },
  {
   "cell_type": "code",
   "execution_count": 42,
   "metadata": {},
   "outputs": [],
   "source": [
    "mydb = mysql.connector.connect(\n",
    "  host=\"localhost\",\n",
    "  user=\"root\",\n",
    "  password=\"#Include76002\",\n",
    "    database = 'mysql'\n",
    ")\n",
    "\n",
    "mycursor = mydb.cursor()\n"
   ]
  },
  {
   "cell_type": "code",
   "execution_count": 43,
   "metadata": {},
   "outputs": [],
   "source": [
    "def dump_df(cursor,name,df,replace= False):\n",
    "    \n",
    "    exist_flag = False\n",
    "    \n",
    "    mycursor.execute(\"SHOW TABLES\")\n",
    "  \n",
    "    for x in mycursor:\n",
    "        if name == x[0]:\n",
    "            exist_flag = True\n",
    "    \n",
    "    if exist_flag:\n",
    "        drop_it = \"drop table {0}\".format(name)\n",
    "        if replace:\n",
    "            cursor.execute(drop_it)\n",
    "            mydb.commit()\n",
    "            print(\"table: {0} has been droped\".format(name))\n",
    "    \n",
    "    # create part\n",
    "    sql = '''Create table '''+ str(name)+\" (\"\n",
    "    \n",
    "    dtype= ''' VARCHAR(250)'''\n",
    "    columns = list(df.columns)\n",
    "    \n",
    "    for each in columns:\n",
    "        \n",
    "        sql = sql + each + dtype +\", \"\n",
    "    \n",
    "    sql = sql[:-2] + \");\"\n",
    "    print(sql)\n",
    "    \n",
    "    \n",
    "    # insert part\n",
    "    \n",
    "    \n",
    "    for i in list(df.index):\n",
    "        cols = \"(\"+\",\".join(columns)+\")\"\n",
    "        temp = \"INSERT INTO \"+str(name)+ cols +\" VALUES\"\n",
    "        # adding formater\n",
    "\n",
    "        sql = sql + temp+ \"(\"+\",\".join([each.replace(\",\",\".\") for each in list(data.iloc[i])])+\");\"\n",
    "        \n",
    "    \n",
    "    for i in sql.split(\";\"):\n",
    "        mycursor.execute(i)\n",
    "\n",
    "        mydb.commit()\n",
    "\n",
    "    \n"
   ]
  },
  {
   "cell_type": "code",
   "execution_count": 44,
   "metadata": {},
   "outputs": [],
   "source": [
    "data = pd.read_csv(\"./Data/BusShortcircuit.csv\",sep=\";\")"
   ]
  },
  {
   "cell_type": "code",
   "execution_count": 45,
   "metadata": {},
   "outputs": [
    {
     "name": "stdout",
     "output_type": "stream",
     "text": [
      "Create table voltages (Time VARCHAR(250), Voltage VARCHAR(250));\n"
     ]
    }
   ],
   "source": [
    "dump_df(mycursor,'voltages',data,replace=True)"
   ]
  },
  {
   "cell_type": "code",
   "execution_count": null,
   "metadata": {},
   "outputs": [],
   "source": []
  },
  {
   "cell_type": "code",
   "execution_count": null,
   "metadata": {},
   "outputs": [],
   "source": []
  }
 ],
 "metadata": {
  "kernelspec": {
   "display_name": "Python 3",
   "language": "python",
   "name": "python3"
  },
  "language_info": {
   "codemirror_mode": {
    "name": "ipython",
    "version": 3
   },
   "file_extension": ".py",
   "mimetype": "text/x-python",
   "name": "python",
   "nbconvert_exporter": "python",
   "pygments_lexer": "ipython3",
   "version": "3.7.9"
  }
 },
 "nbformat": 4,
 "nbformat_minor": 4
}
