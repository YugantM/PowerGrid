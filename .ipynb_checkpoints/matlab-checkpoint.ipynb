{
 "cells": [
  {
   "cell_type": "code",
   "execution_count": 244,
   "metadata": {},
   "outputs": [],
   "source": [
    "import matlab.engine\n"
   ]
  },
  {
   "cell_type": "code",
   "execution_count": 245,
   "metadata": {},
   "outputs": [],
   "source": [
    "from random import uniform"
   ]
  },
  {
   "cell_type": "code",
   "execution_count": 246,
   "metadata": {},
   "outputs": [],
   "source": [
    "eng = matlab.engine.start_matlab(matlab.engine.find_matlab()[0])\n",
    "#eng.quit()"
   ]
  },
  {
   "cell_type": "code",
   "execution_count": 247,
   "metadata": {},
   "outputs": [],
   "source": [
    "file ='demo_rand_numbs'\n",
    "file2 = 'ex_9_bus_PMU'\n",
    "#out = eng.sim(file2)"
   ]
  },
  {
   "cell_type": "code",
   "execution_count": 248,
   "metadata": {},
   "outputs": [],
   "source": [
    "fault_types = [\"'FaultA'\",\"'FaultB'\",\"'FaultC'\",\"'GroundFault'\"]"
   ]
  },
  {
   "cell_type": "code",
   "execution_count": 249,
   "metadata": {},
   "outputs": [],
   "source": [
    "combinations = []\n",
    "\n",
    "s = fault_types\n",
    "x = len(s)     \n",
    "for i in range(1 << x):\n",
    "    if len([s[j] for j in range(x) if (i & (1 << j))])>=2:\n",
    "        combinations.append([s[j] for j in range(x) if (i & (1 << j))])\n",
    "        \n"
   ]
  },
  {
   "cell_type": "code",
   "execution_count": 250,
   "metadata": {},
   "outputs": [
    {
     "data": {
      "text/plain": [
       "[[\"'FaultA'\", \"'FaultB'\"],\n",
       " [\"'FaultA'\", \"'FaultC'\"],\n",
       " [\"'FaultB'\", \"'FaultC'\"],\n",
       " [\"'FaultA'\", \"'FaultB'\", \"'FaultC'\"],\n",
       " [\"'FaultA'\", \"'GroundFault'\"],\n",
       " [\"'FaultB'\", \"'GroundFault'\"],\n",
       " [\"'FaultA'\", \"'FaultB'\", \"'GroundFault'\"],\n",
       " [\"'FaultC'\", \"'GroundFault'\"],\n",
       " [\"'FaultA'\", \"'FaultC'\", \"'GroundFault'\"],\n",
       " [\"'FaultB'\", \"'FaultC'\", \"'GroundFault'\"],\n",
       " [\"'FaultA'\", \"'FaultB'\", \"'FaultC'\", \"'GroundFault'\"]]"
      ]
     },
     "execution_count": 250,
     "metadata": {},
     "output_type": "execute_result"
    }
   ],
   "source": [
    "combinations"
   ]
  },
  {
   "cell_type": "code",
   "execution_count": 251,
   "metadata": {},
   "outputs": [
    {
     "name": "stdout",
     "output_type": "stream",
     "text": [
      "set_param('ex_9_bus_PMU/Three-Phase Fault','FaultA',0,'FaultB',0,'FaultC',0,'GroundFault',0)\n"
     ]
    }
   ],
   "source": [
    "print(\"set_param('ex_9_bus_PMU/Three-Phase Fault',{})\".format(\",0,\".join(combinations[-1])+',0'))\n"
   ]
  },
  {
   "cell_type": "code",
   "execution_count": 252,
   "metadata": {},
   "outputs": [
    {
     "data": {
      "text/plain": [
       "{'path': '/Users/yuganthadiyal/Documents/GitHub/PowerGrid',\n",
       " 'm': [],\n",
       " 'mlapp': [],\n",
       " 'mlx': [],\n",
       " 'mat': ['results.mat'],\n",
       " 'mex': [],\n",
       " 'mdl': [],\n",
       " 'slx': [],\n",
       " 'sfx': [],\n",
       " 'p': [],\n",
       " 'classes': [],\n",
       " 'packages': []}"
      ]
     },
     "execution_count": 252,
     "metadata": {},
     "output_type": "execute_result"
    }
   ],
   "source": [
    "eng.what()"
   ]
  },
  {
   "cell_type": "code",
   "execution_count": 265,
   "metadata": {
    "scrolled": true
   },
   "outputs": [
    {
     "name": "stdout",
     "output_type": "stream",
     "text": [
      "Setting up...\n",
      "set_param('ex_9_bus_PMU/Three-Phase Fault','SwitchTimes','[7.779585574966966 8.613247063706007]','FaultA',1,'FaultB',1)\n",
      "New setup ready...\n",
      "Stopping\n",
      "[\"'FaultA'\", \"'FaultB'\"]\n",
      "Success:  csvwrite('./TrainingSet/AB.csv',data.mux_data.Data) \n",
      "\n",
      "\n",
      "Setting up...\n",
      "set_param('ex_9_bus_PMU/Three-Phase Fault','SwitchTimes','[3.1935964774640384 7.121655902631229]','FaultA',1,'FaultC',1)\n",
      "New setup ready...\n",
      "Stopping\n",
      "[\"'FaultA'\", \"'FaultC'\"]\n",
      "Success:  csvwrite('./TrainingSet/AC.csv',data.mux_data.Data) \n",
      "\n",
      "\n",
      "Setting up...\n",
      "set_param('ex_9_bus_PMU/Three-Phase Fault','SwitchTimes','[6.9723506135310584 10.267029507049495]','FaultB',1,'FaultC',1)\n",
      "New setup ready...\n",
      "Stopping\n",
      "[\"'FaultB'\", \"'FaultC'\"]\n",
      "Success:  csvwrite('./TrainingSet/BC.csv',data.mux_data.Data) \n",
      "\n",
      "\n",
      "Setting up...\n",
      "set_param('ex_9_bus_PMU/Three-Phase Fault','SwitchTimes','[2.5825521162654317 3.6250818471807595]','FaultA',1,'FaultB',1,'FaultC',1)\n",
      "New setup ready...\n",
      "Stopping\n",
      "[\"'FaultA'\", \"'FaultB'\", \"'FaultC'\"]\n",
      "Success:  csvwrite('./TrainingSet/ABC.csv',data.mux_data.Data) \n",
      "\n",
      "\n",
      "Setting up...\n",
      "set_param('ex_9_bus_PMU/Three-Phase Fault','SwitchTimes','[2.2125936634776577 7.179409730151522]','FaultA',1,'GroundFault',1)\n",
      "New setup ready...\n",
      "Stopping\n",
      "[\"'FaultA'\", \"'GroundFault'\"]\n",
      "Success:  csvwrite('./TrainingSet/AG.csv',data.mux_data.Data) \n",
      "\n",
      "\n",
      "Setting up...\n",
      "set_param('ex_9_bus_PMU/Three-Phase Fault','SwitchTimes','[1.2692779612842426 7.6157015508327035]','FaultB',1,'GroundFault',1)\n",
      "New setup ready...\n",
      "Stopping\n",
      "[\"'FaultB'\", \"'GroundFault'\"]\n",
      "Success:  csvwrite('./TrainingSet/BG.csv',data.mux_data.Data) \n",
      "\n",
      "\n",
      "Setting up...\n",
      "set_param('ex_9_bus_PMU/Three-Phase Fault','SwitchTimes','[2.1289226550538456 3.9772146845109653]','FaultA',1,'FaultB',1,'GroundFault',1)\n",
      "New setup ready...\n",
      "Stopping\n",
      "[\"'FaultA'\", \"'FaultB'\", \"'GroundFault'\"]\n",
      "Success:  csvwrite('./TrainingSet/ABG.csv',data.mux_data.Data) \n",
      "\n",
      "\n",
      "Setting up...\n",
      "set_param('ex_9_bus_PMU/Three-Phase Fault','SwitchTimes','[2.9505269563798775 4.057523240918909]','FaultC',1,'GroundFault',1)\n",
      "New setup ready...\n",
      "Stopping\n",
      "[\"'FaultC'\", \"'GroundFault'\"]\n",
      "Success:  csvwrite('./TrainingSet/CG.csv',data.mux_data.Data) \n",
      "\n",
      "\n",
      "Setting up...\n",
      "set_param('ex_9_bus_PMU/Three-Phase Fault','SwitchTimes','[5.202232832580564 9.926441252017398]','FaultA',1,'FaultC',1,'GroundFault',1)\n",
      "New setup ready...\n",
      "Stopping\n",
      "[\"'FaultA'\", \"'FaultC'\", \"'GroundFault'\"]\n",
      "Success:  csvwrite('./TrainingSet/ACG.csv',data.mux_data.Data) \n",
      "\n",
      "\n",
      "Setting up...\n",
      "set_param('ex_9_bus_PMU/Three-Phase Fault','SwitchTimes','[8.916390960714907 9.294919702812814]','FaultB',1,'FaultC',1,'GroundFault',1)\n",
      "New setup ready...\n",
      "Stopping\n",
      "[\"'FaultB'\", \"'FaultC'\", \"'GroundFault'\"]\n",
      "Success:  csvwrite('./TrainingSet/BCG.csv',data.mux_data.Data) \n",
      "\n",
      "\n",
      "Setting up...\n",
      "set_param('ex_9_bus_PMU/Three-Phase Fault','SwitchTimes','[6.710708761427852 8.129717363235093]','FaultA',1,'FaultB',1,'FaultC',1,'GroundFault',1)\n",
      "New setup ready...\n",
      "Stopping\n",
      "[\"'FaultA'\", \"'FaultB'\", \"'FaultC'\", \"'GroundFault'\"]\n",
      "Success:  csvwrite('./TrainingSet/ABCG.csv',data.mux_data.Data) \n",
      "\n",
      "\n"
     ]
    }
   ],
   "source": [
    "eng.eval(\"load_system('{}')\".format(file2))\n",
    "model = file2\n",
    "for each in combinations:\n",
    "    \n",
    "    #Flush the parameters at the start of each loop\n",
    "    \n",
    "    flush = \"set_param('ex_9_bus_PMU/Three-Phase Fault',{})\".format(\",0,\".join(combinations[-1])+',0')\n",
    "\n",
    "    print(\"Setting up...\")\n",
    "    #print(flush)\n",
    "    eng.eval(flush,nargout=0)\n",
    "\n",
    "    \n",
    "    \n",
    "    start_time = str(uniform(0.0, 10.0) + uniform(0.0, 10.0)/10)\n",
    "        \n",
    "    end_time = '0'\n",
    "    \n",
    "    while float(end_time) < float(start_time):\n",
    "        end_time = str(uniform(0.0, 10.0) + uniform(0.0, 10.0)/10)\n",
    "            \n",
    "    occr_time = \"'[\" + start_time + \" \" + end_time+ \"]'\"\n",
    "    new_setup = \"set_param('ex_9_bus_PMU/Three-Phase Fault','SwitchTimes',{},{})\".format(occr_time,\",1,\".join(each)+',1')\n",
    "\n",
    "    print(new_setup)\n",
    "    eng.eval(new_setup,nargout=0)\n",
    "    print(\"New setup ready...\")\n",
    "    eng.workspace['data'] = eng.sim(model)\n",
    "        \n",
    "    print('Stopping')\n",
    "    #eng.eval(\"out.mux_data.Data\")\n",
    "     \n",
    "    print(each)\n",
    "    if \"'GroundFault'\" not in each:\n",
    "        name = [i[-2] for i in each]\n",
    "        \n",
    "    else:\n",
    "        \n",
    "        name = [i[-2] for i in each]\n",
    "        name = name[:-1] + ['G']\n",
    "    \n",
    "    name = \"csvwrite(\"+\"'./TrainingSet/\"+\"\".join(name)+\".csv',data.mux_data.Data)\"\n",
    "    \n",
    "    print(\"Success: \",name,\"\\n\\n\")\n",
    "    eng.eval(name,nargout=0)\n"
   ]
  },
  {
   "cell_type": "code",
   "execution_count": 268,
   "metadata": {},
   "outputs": [],
   "source": [
    "import pandas as pd\n",
    "import matplotlib.pyplot as plt"
   ]
  },
  {
   "cell_type": "code",
   "execution_count": 274,
   "metadata": {},
   "outputs": [
    {
     "ename": "ValueError",
     "evalue": "Length mismatch: Expected axis has 6 elements, new values have 4 elements",
     "output_type": "error",
     "traceback": [
      "\u001b[0;31m---------------------------------------------------------------------------\u001b[0m",
      "\u001b[0;31mValueError\u001b[0m                                Traceback (most recent call last)",
      "\u001b[0;32m<ipython-input-274-80031b1c663c>\u001b[0m in \u001b[0;36m<module>\u001b[0;34m\u001b[0m\n\u001b[1;32m      7\u001b[0m \u001b[0;34m\u001b[0m\u001b[0m\n\u001b[1;32m      8\u001b[0m \u001b[0;31m# assigning new column names to the dataframe\u001b[0m\u001b[0;34m\u001b[0m\u001b[0;34m\u001b[0m\u001b[0;34m\u001b[0m\u001b[0m\n\u001b[0;32m----> 9\u001b[0;31m \u001b[0mdata\u001b[0m\u001b[0;34m.\u001b[0m\u001b[0mcolumns\u001b[0m \u001b[0;34m=\u001b[0m \u001b[0mcols\u001b[0m\u001b[0;34m\u001b[0m\u001b[0;34m\u001b[0m\u001b[0m\n\u001b[0m\u001b[1;32m     10\u001b[0m \u001b[0;34m\u001b[0m\u001b[0m\n\u001b[1;32m     11\u001b[0m \u001b[0mfig\u001b[0m\u001b[0;34m,\u001b[0m \u001b[0max\u001b[0m \u001b[0;34m=\u001b[0m \u001b[0mplt\u001b[0m\u001b[0;34m.\u001b[0m\u001b[0msubplots\u001b[0m\u001b[0;34m(\u001b[0m\u001b[0;36m6\u001b[0m\u001b[0;34m,\u001b[0m\u001b[0mfigsize\u001b[0m\u001b[0;34m=\u001b[0m\u001b[0;34m(\u001b[0m\u001b[0;36m15\u001b[0m\u001b[0;34m,\u001b[0m\u001b[0;36m15\u001b[0m\u001b[0;34m)\u001b[0m\u001b[0;34m)\u001b[0m\u001b[0;34m\u001b[0m\u001b[0;34m\u001b[0m\u001b[0m\n",
      "\u001b[0;32m~/opt/anaconda3/lib/python3.8/site-packages/pandas/core/generic.py\u001b[0m in \u001b[0;36m__setattr__\u001b[0;34m(self, name, value)\u001b[0m\n\u001b[1;32m   5150\u001b[0m         \u001b[0;32mtry\u001b[0m\u001b[0;34m:\u001b[0m\u001b[0;34m\u001b[0m\u001b[0;34m\u001b[0m\u001b[0m\n\u001b[1;32m   5151\u001b[0m             \u001b[0mobject\u001b[0m\u001b[0;34m.\u001b[0m\u001b[0m__getattribute__\u001b[0m\u001b[0;34m(\u001b[0m\u001b[0mself\u001b[0m\u001b[0;34m,\u001b[0m \u001b[0mname\u001b[0m\u001b[0;34m)\u001b[0m\u001b[0;34m\u001b[0m\u001b[0;34m\u001b[0m\u001b[0m\n\u001b[0;32m-> 5152\u001b[0;31m             \u001b[0;32mreturn\u001b[0m \u001b[0mobject\u001b[0m\u001b[0;34m.\u001b[0m\u001b[0m__setattr__\u001b[0m\u001b[0;34m(\u001b[0m\u001b[0mself\u001b[0m\u001b[0;34m,\u001b[0m \u001b[0mname\u001b[0m\u001b[0;34m,\u001b[0m \u001b[0mvalue\u001b[0m\u001b[0;34m)\u001b[0m\u001b[0;34m\u001b[0m\u001b[0;34m\u001b[0m\u001b[0m\n\u001b[0m\u001b[1;32m   5153\u001b[0m         \u001b[0;32mexcept\u001b[0m \u001b[0mAttributeError\u001b[0m\u001b[0;34m:\u001b[0m\u001b[0;34m\u001b[0m\u001b[0;34m\u001b[0m\u001b[0m\n\u001b[1;32m   5154\u001b[0m             \u001b[0;32mpass\u001b[0m\u001b[0;34m\u001b[0m\u001b[0;34m\u001b[0m\u001b[0m\n",
      "\u001b[0;32mpandas/_libs/properties.pyx\u001b[0m in \u001b[0;36mpandas._libs.properties.AxisProperty.__set__\u001b[0;34m()\u001b[0m\n",
      "\u001b[0;32m~/opt/anaconda3/lib/python3.8/site-packages/pandas/core/generic.py\u001b[0m in \u001b[0;36m_set_axis\u001b[0;34m(self, axis, labels)\u001b[0m\n\u001b[1;32m    562\u001b[0m     \u001b[0;32mdef\u001b[0m \u001b[0m_set_axis\u001b[0m\u001b[0;34m(\u001b[0m\u001b[0mself\u001b[0m\u001b[0;34m,\u001b[0m \u001b[0maxis\u001b[0m\u001b[0;34m:\u001b[0m \u001b[0mint\u001b[0m\u001b[0;34m,\u001b[0m \u001b[0mlabels\u001b[0m\u001b[0;34m:\u001b[0m \u001b[0mIndex\u001b[0m\u001b[0;34m)\u001b[0m \u001b[0;34m->\u001b[0m \u001b[0;32mNone\u001b[0m\u001b[0;34m:\u001b[0m\u001b[0;34m\u001b[0m\u001b[0;34m\u001b[0m\u001b[0m\n\u001b[1;32m    563\u001b[0m         \u001b[0mlabels\u001b[0m \u001b[0;34m=\u001b[0m \u001b[0mensure_index\u001b[0m\u001b[0;34m(\u001b[0m\u001b[0mlabels\u001b[0m\u001b[0;34m)\u001b[0m\u001b[0;34m\u001b[0m\u001b[0;34m\u001b[0m\u001b[0m\n\u001b[0;32m--> 564\u001b[0;31m         \u001b[0mself\u001b[0m\u001b[0;34m.\u001b[0m\u001b[0m_mgr\u001b[0m\u001b[0;34m.\u001b[0m\u001b[0mset_axis\u001b[0m\u001b[0;34m(\u001b[0m\u001b[0maxis\u001b[0m\u001b[0;34m,\u001b[0m \u001b[0mlabels\u001b[0m\u001b[0;34m)\u001b[0m\u001b[0;34m\u001b[0m\u001b[0;34m\u001b[0m\u001b[0m\n\u001b[0m\u001b[1;32m    565\u001b[0m         \u001b[0mself\u001b[0m\u001b[0;34m.\u001b[0m\u001b[0m_clear_item_cache\u001b[0m\u001b[0;34m(\u001b[0m\u001b[0;34m)\u001b[0m\u001b[0;34m\u001b[0m\u001b[0;34m\u001b[0m\u001b[0m\n\u001b[1;32m    566\u001b[0m \u001b[0;34m\u001b[0m\u001b[0m\n",
      "\u001b[0;32m~/opt/anaconda3/lib/python3.8/site-packages/pandas/core/internals/managers.py\u001b[0m in \u001b[0;36mset_axis\u001b[0;34m(self, axis, new_labels)\u001b[0m\n\u001b[1;32m    224\u001b[0m \u001b[0;34m\u001b[0m\u001b[0m\n\u001b[1;32m    225\u001b[0m         \u001b[0;32mif\u001b[0m \u001b[0mnew_len\u001b[0m \u001b[0;34m!=\u001b[0m \u001b[0mold_len\u001b[0m\u001b[0;34m:\u001b[0m\u001b[0;34m\u001b[0m\u001b[0;34m\u001b[0m\u001b[0m\n\u001b[0;32m--> 226\u001b[0;31m             raise ValueError(\n\u001b[0m\u001b[1;32m    227\u001b[0m                 \u001b[0;34mf\"Length mismatch: Expected axis has {old_len} elements, new \"\u001b[0m\u001b[0;34m\u001b[0m\u001b[0;34m\u001b[0m\u001b[0m\n\u001b[1;32m    228\u001b[0m                 \u001b[0;34mf\"values have {new_len} elements\"\u001b[0m\u001b[0;34m\u001b[0m\u001b[0;34m\u001b[0m\u001b[0m\n",
      "\u001b[0;31mValueError\u001b[0m: Length mismatch: Expected axis has 6 elements, new values have 4 elements"
     ]
    }
   ],
   "source": [
    "data = pd.read_csv('TrainingSet/AB.csv')\n",
    "# storing length of columns ignoring column 'label'\n",
    "col_len = data.shape[1]\n",
    "\n",
    "# creating a new column list for the csv as there are no column names from MatLab\n",
    "cols = [str(each+1)+'A' for each in range(int(col_len/2))] + [str(each+1)+'V' for each in range(int(col_len/2))]\n",
    "\n",
    "# assigning new column names to the dataframe\n",
    "data.columns = cols \n",
    "\n",
    "fig, ax = plt.subplots(6,figsize=(15,15))\n",
    "\n",
    "#normal = data[data.label == 'NML']\n",
    "#abnormal = data[data.label == 'AG']\n",
    "for i in range(col_len):\n",
    "    ax[i].plot(data[cols[i]],\"-\")\n",
    "    ax[i].set_title(cols[i])\n",
    "fig.tight_layout()\n"
   ]
  },
  {
   "cell_type": "code",
   "execution_count": null,
   "metadata": {},
   "outputs": [],
   "source": [
    "out = list(out._data)\n",
    "mx = out[-1]\n",
    "out = int(mx)*out"
   ]
  },
  {
   "cell_type": "code",
   "execution_count": null,
   "metadata": {},
   "outputs": [],
   "source": [
    "time = list(eng.workspace['time']['time']._data)\n",
    "data = list(eng.workspace['time']['signals']['values']._data)"
   ]
  },
  {
   "cell_type": "code",
   "execution_count": null,
   "metadata": {},
   "outputs": [],
   "source": [
    "import matplotlib.pyplot as plt\n",
    "\n",
    "plt.plot(time,data)\n"
   ]
  },
  {
   "cell_type": "code",
   "execution_count": null,
   "metadata": {},
   "outputs": [],
   "source": [
    "num_of_samples = len(data)\n",
    "time = int(data[-1]._data[-1])\n",
    "print(int(data[-1]._data[-1]),num_of_samples)"
   ]
  },
  {
   "cell_type": "code",
   "execution_count": null,
   "metadata": {},
   "outputs": [],
   "source": [
    "numbers = list(eng.workspace['time']._data)\n"
   ]
  },
  {
   "cell_type": "code",
   "execution_count": null,
   "metadata": {},
   "outputs": [],
   "source": [
    "numbers"
   ]
  },
  {
   "cell_type": "code",
   "execution_count": null,
   "metadata": {},
   "outputs": [],
   "source": [
    "import datetime as dt\n",
    "time = list(data._data)\n",
    "def matlab2datetime(matlab_datenum):\n",
    "    day = dt.datetime.fromordinal(int(matlab_datenum))\n",
    "    dayfrac = dt.timedelta(days=matlab_datenum%1) - dt.timedelta(days = 366)\n",
    "    return day + dayfrac\n",
    "\n",
    "# convert Matlab variable \"t\" into list of python datetime objects\n",
    "my_dict = {}\n",
    "my_dict['date_time'] = [matlab2datetime(tval) for tval in time]\n",
    "my_dict"
   ]
  },
  {
   "cell_type": "code",
   "execution_count": null,
   "metadata": {},
   "outputs": [],
   "source": [
    "eng.cd('/Users/yuganthadiyal/Documents/MATLAB')"
   ]
  },
  {
   "cell_type": "code",
   "execution_count": null,
   "metadata": {},
   "outputs": [],
   "source": [
    "eng.workspace['numbers']"
   ]
  },
  {
   "cell_type": "code",
   "execution_count": null,
   "metadata": {},
   "outputs": [],
   "source": [
    "import matplotlib.pyplot as plt\n",
    "plt.plot(list(eng.workspace['numbers']._data))"
   ]
  },
  {
   "cell_type": "code",
   "execution_count": null,
   "metadata": {},
   "outputs": [],
   "source": [
    "import h5py\n",
    "f = h5py.File('results.mat', 'r')"
   ]
  },
  {
   "cell_type": "code",
   "execution_count": null,
   "metadata": {},
   "outputs": [],
   "source": [
    "obj  = f[list(f.keys())[-1]]\n"
   ]
  },
  {
   "cell_type": "code",
   "execution_count": null,
   "metadata": {},
   "outputs": [],
   "source": [
    "list(obj[0])"
   ]
  },
  {
   "cell_type": "code",
   "execution_count": null,
   "metadata": {},
   "outputs": [],
   "source": []
  }
 ],
 "metadata": {
  "kernelspec": {
   "display_name": "Python 3",
   "language": "python",
   "name": "python3"
  },
  "language_info": {
   "codemirror_mode": {
    "name": "ipython",
    "version": 3
   },
   "file_extension": ".py",
   "mimetype": "text/x-python",
   "name": "python",
   "nbconvert_exporter": "python",
   "pygments_lexer": "ipython3",
   "version": "3.8.5"
  }
 },
 "nbformat": 4,
 "nbformat_minor": 4
}
