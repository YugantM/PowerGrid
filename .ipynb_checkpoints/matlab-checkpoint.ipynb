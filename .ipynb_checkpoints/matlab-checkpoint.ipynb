{
 "cells": [
  {
   "cell_type": "code",
   "execution_count": 1,
   "metadata": {},
   "outputs": [],
   "source": [
    "import matlab.engine\n"
   ]
  },
  {
   "cell_type": "code",
   "execution_count": 2,
   "metadata": {},
   "outputs": [],
   "source": [
    "from random import uniform,randint"
   ]
  },
  {
   "cell_type": "code",
   "execution_count": 3,
   "metadata": {},
   "outputs": [],
   "source": [
    "import pandas as pd\n",
    "import matplotlib.pyplot as plt"
   ]
  },
  {
   "cell_type": "code",
   "execution_count": 4,
   "metadata": {},
   "outputs": [],
   "source": [
    "# !!! run matlab.engine.shareEngine in MatLab / can automated from shell\n",
    "eng = matlab.engine.start_matlab()\n",
    "#eng.quit()"
   ]
  },
  {
   "cell_type": "code",
   "execution_count": 5,
   "metadata": {},
   "outputs": [],
   "source": [
    "file ='demo_rand_numbs'\n",
    "file2 = 'ex_9_bus_PMU'\n",
    "#out = eng.sim(file2)"
   ]
  },
  {
   "cell_type": "code",
   "execution_count": 6,
   "metadata": {},
   "outputs": [],
   "source": [
    "fault_types = [\"'FaultA'\",\"'FaultB'\",\"'FaultC'\",\"'GroundFault'\"]"
   ]
  },
  {
   "cell_type": "code",
   "execution_count": 7,
   "metadata": {},
   "outputs": [],
   "source": [
    "combinations = []\n",
    "\n",
    "s = fault_types\n",
    "x = len(s)     \n",
    "for i in range(1 << x):\n",
    "    if len([s[j] for j in range(x) if (i & (1 << j))])>=2:\n",
    "        combinations.append([s[j] for j in range(x) if (i & (1 << j))])\n",
    "        \n"
   ]
  },
  {
   "cell_type": "code",
   "execution_count": 10,
   "metadata": {},
   "outputs": [],
   "source": [
    "import matplotlib.pyplot as plt\n",
    "from kneed import KneeLocator\n",
    "from sklearn.datasets import make_blobs\n",
    "from sklearn.cluster import KMeans\n",
    "from sklearn.metrics import silhouette_score\n",
    "from sklearn.preprocessing import StandardScaler"
   ]
  },
  {
   "cell_type": "code",
   "execution_count": 12,
   "metadata": {},
   "outputs": [],
   "source": [
    "from collections import Counter"
   ]
  },
  {
   "cell_type": "code",
   "execution_count": 13,
   "metadata": {
    "scrolled": false
   },
   "outputs": [
    {
     "name": "stdout",
     "output_type": "stream",
     "text": [
      "Setting up...\n",
      "set_param('ex_9_bus_PMU/Three-Phase Fault','SwitchTimes','[0.4364917623811717 1.0725287760629503]','FaultA',1,'FaultB',1)\n",
      "New setup ready...\n",
      "Stopping\n",
      "[\"'FaultA'\", \"'FaultB'\"]\n",
      "Success:  csvwrite('./KMTrainingset/1AB.csv',data.mux_data.Data) \n",
      "\n",
      "\n",
      "Setting up...\n",
      "set_param('ex_9_bus_PMU/Three-Phase Fault','SwitchTimes','[1.0666344146454751 1.9241148261784573]','FaultA',1,'FaultC',1)\n",
      "New setup ready...\n",
      "Stopping\n",
      "[\"'FaultA'\", \"'FaultC'\"]\n",
      "Success:  csvwrite('./KMTrainingset/1AC.csv',data.mux_data.Data) \n",
      "\n",
      "\n",
      "Setting up...\n",
      "set_param('ex_9_bus_PMU/Three-Phase Fault','SwitchTimes','[1.4908077586665622 1.6645929264494865]','FaultB',1,'FaultC',1)\n",
      "New setup ready...\n",
      "Stopping\n",
      "[\"'FaultB'\", \"'FaultC'\"]\n",
      "Success:  csvwrite('./KMTrainingset/1BC.csv',data.mux_data.Data) \n",
      "\n",
      "\n",
      "Setting up...\n",
      "set_param('ex_9_bus_PMU/Three-Phase Fault','SwitchTimes','[0.34013395745586766 1.199548556365923]','FaultA',1,'FaultB',1,'FaultC',1)\n",
      "New setup ready...\n",
      "Stopping\n",
      "[\"'FaultA'\", \"'FaultB'\", \"'FaultC'\"]\n",
      "Success:  csvwrite('./KMTrainingset/1ABC.csv',data.mux_data.Data) \n",
      "\n",
      "\n",
      "bit_flip\n",
      "Setting up...\n",
      "set_param('ex_9_bus_PMU/Three-Phase Fault','SwitchTimes','[1.619651086545971 1.7116795336587844]','FaultA',1,'GroundFault',1)\n",
      "New setup ready...\n",
      "the MATLAB function has been cancelled\n"
     ]
    },
    {
     "ename": "TypeError",
     "evalue": "None cannot be passed to MATLAB",
     "output_type": "error",
     "traceback": [
      "\u001b[0;31m---------------------------------------------------------------------------\u001b[0m",
      "\u001b[0;31mTypeError\u001b[0m                                 Traceback (most recent call last)",
      "\u001b[0;32m<ipython-input-13-77253ab26e1c>\u001b[0m in \u001b[0;36m<module>\u001b[0;34m\u001b[0m\n\u001b[1;32m     34\u001b[0m         \u001b[0meng\u001b[0m\u001b[0;34m.\u001b[0m\u001b[0meval\u001b[0m\u001b[0;34m(\u001b[0m\u001b[0mnew_setup\u001b[0m\u001b[0;34m,\u001b[0m\u001b[0mnargout\u001b[0m\u001b[0;34m=\u001b[0m\u001b[0;36m0\u001b[0m\u001b[0;34m)\u001b[0m\u001b[0;34m\u001b[0m\u001b[0;34m\u001b[0m\u001b[0m\n\u001b[1;32m     35\u001b[0m         \u001b[0mprint\u001b[0m\u001b[0;34m(\u001b[0m\u001b[0;34m\"New setup ready...\"\u001b[0m\u001b[0;34m)\u001b[0m\u001b[0;34m\u001b[0m\u001b[0;34m\u001b[0m\u001b[0m\n\u001b[0;32m---> 36\u001b[0;31m         \u001b[0meng\u001b[0m\u001b[0;34m.\u001b[0m\u001b[0mworkspace\u001b[0m\u001b[0;34m[\u001b[0m\u001b[0;34m'data'\u001b[0m\u001b[0;34m]\u001b[0m \u001b[0;34m=\u001b[0m \u001b[0meng\u001b[0m\u001b[0;34m.\u001b[0m\u001b[0msim\u001b[0m\u001b[0;34m(\u001b[0m\u001b[0mmodel\u001b[0m\u001b[0;34m)\u001b[0m\u001b[0;34m\u001b[0m\u001b[0;34m\u001b[0m\u001b[0m\n\u001b[0m\u001b[1;32m     37\u001b[0m \u001b[0;34m\u001b[0m\u001b[0m\n\u001b[1;32m     38\u001b[0m         \u001b[0mprint\u001b[0m\u001b[0;34m(\u001b[0m\u001b[0;34m'Stopping'\u001b[0m\u001b[0;34m)\u001b[0m\u001b[0;34m\u001b[0m\u001b[0;34m\u001b[0m\u001b[0m\n",
      "\u001b[0;32m~/opt/anaconda3/lib/python3.8/site-packages/matlab/engine/matlabengine.py\u001b[0m in \u001b[0;36m__setitem__\u001b[0;34m(self, attr, value)\u001b[0m\n\u001b[1;32m    126\u001b[0m \u001b[0;34m\u001b[0m\u001b[0m\n\u001b[1;32m    127\u001b[0m         \u001b[0m_method\u001b[0m\u001b[0;34m=\u001b[0m\u001b[0mMatlabFunc\u001b[0m\u001b[0;34m(\u001b[0m\u001b[0mself\u001b[0m\u001b[0;34m.\u001b[0m\u001b[0m_engine\u001b[0m\u001b[0;34m(\u001b[0m\u001b[0;34m)\u001b[0m\u001b[0;34m,\u001b[0m \u001b[0;34m\"assignin\"\u001b[0m\u001b[0;34m)\u001b[0m\u001b[0;34m\u001b[0m\u001b[0;34m\u001b[0m\u001b[0m\n\u001b[0;32m--> 128\u001b[0;31m         \u001b[0;32mreturn\u001b[0m  \u001b[0m_method\u001b[0m\u001b[0;34m(\u001b[0m\u001b[0;34m\"base\"\u001b[0m\u001b[0;34m,\u001b[0m \u001b[0mattr\u001b[0m\u001b[0;34m,\u001b[0m \u001b[0mvalue\u001b[0m\u001b[0;34m,\u001b[0m \u001b[0mnargout\u001b[0m\u001b[0;34m=\u001b[0m\u001b[0;36m0\u001b[0m\u001b[0;34m)\u001b[0m\u001b[0;34m\u001b[0m\u001b[0;34m\u001b[0m\u001b[0m\n\u001b[0m\u001b[1;32m    129\u001b[0m \u001b[0;34m\u001b[0m\u001b[0m\n\u001b[1;32m    130\u001b[0m     \u001b[0;32mdef\u001b[0m \u001b[0m__repr__\u001b[0m\u001b[0;34m(\u001b[0m\u001b[0mself\u001b[0m\u001b[0;34m)\u001b[0m\u001b[0;34m:\u001b[0m\u001b[0;34m\u001b[0m\u001b[0;34m\u001b[0m\u001b[0m\n",
      "\u001b[0;32m~/opt/anaconda3/lib/python3.8/site-packages/matlab/engine/matlabengine.py\u001b[0m in \u001b[0;36m__call__\u001b[0;34m(self, *args, **kwargs)\u001b[0m\n\u001b[1;32m     62\u001b[0m             \u001b[0;32mraise\u001b[0m \u001b[0mTypeError\u001b[0m\u001b[0;34m(\u001b[0m\u001b[0mpythonengine\u001b[0m\u001b[0;34m.\u001b[0m\u001b[0mgetMessage\u001b[0m\u001b[0;34m(\u001b[0m\u001b[0;34m'StderrMustBeStringIO'\u001b[0m\u001b[0;34m,\u001b[0m \u001b[0m_sIO_info\u001b[0m\u001b[0;34m,\u001b[0m \u001b[0m_stderr_info\u001b[0m\u001b[0;34m)\u001b[0m\u001b[0;34m)\u001b[0m\u001b[0;34m\u001b[0m\u001b[0;34m\u001b[0m\u001b[0m\n\u001b[1;32m     63\u001b[0m \u001b[0;34m\u001b[0m\u001b[0m\n\u001b[0;32m---> 64\u001b[0;31m         future = pythonengine.evaluateFunction(self._engine()._matlab,\n\u001b[0m\u001b[1;32m     65\u001b[0m                                                \u001b[0mself\u001b[0m\u001b[0;34m.\u001b[0m\u001b[0m_name\u001b[0m\u001b[0;34m,\u001b[0m \u001b[0mnargs\u001b[0m\u001b[0;34m,\u001b[0m\u001b[0margs\u001b[0m\u001b[0;34m,\u001b[0m\u001b[0;34m\u001b[0m\u001b[0;34m\u001b[0m\u001b[0m\n\u001b[1;32m     66\u001b[0m                                                out=_stdout, err=_stderr)\n",
      "\u001b[0;31mTypeError\u001b[0m: None cannot be passed to MATLAB"
     ]
    }
   ],
   "source": [
    "eng.eval(\"load_system('{}')\".format(file2))\n",
    "\n",
    "\n",
    "for x in range(10):\n",
    "\n",
    "    model = file2\n",
    "    time = randint(1,8)\n",
    "\n",
    "    total_labels = ['NML']\n",
    "\n",
    "    for each in combinations:\n",
    "\n",
    "        #Flush the parameters at the start of each loop\n",
    "\n",
    "        flush = \"set_param('ex_9_bus_PMU/Three-Phase Fault',{})\".format(\",0,\".join(combinations[-1])+',0')\n",
    "\n",
    "        print(\"Setting up...\")\n",
    "        #print(flush)\n",
    "        eng.eval(flush,nargout=0)\n",
    "\n",
    "\n",
    "\n",
    "        start_time = str(uniform(0.0, time) + uniform(0.0, time)/10)\n",
    "\n",
    "        end_time = '0'\n",
    "\n",
    "        while float(end_time) < float(start_time):\n",
    "            end_time = str(uniform(0.0, time) + uniform(0.0, time)/10)\n",
    "\n",
    "        occr_time = \"'[\" + start_time + \" \" + end_time+ \"]'\"\n",
    "        new_setup = \"set_param('ex_9_bus_PMU/Three-Phase Fault','SwitchTimes',{},{})\".format(occr_time,\",1,\".join(each)+',1')\n",
    "\n",
    "        print(new_setup)\n",
    "        eng.eval(new_setup,nargout=0)\n",
    "        print(\"New setup ready...\")\n",
    "        eng.workspace['data'] = eng.sim(model)\n",
    "\n",
    "        print('Stopping')\n",
    "        #eng.eval(\"out.mux_data.Data\")\n",
    "\n",
    "        print(each)\n",
    "        if \"'GroundFault'\" not in each:\n",
    "            name = [i[-2] for i in each]\n",
    "\n",
    "        else:\n",
    "\n",
    "            name = [i[-2] for i in each]\n",
    "            name = name[:-1] + ['G']\n",
    "\n",
    "        fault_type = \"\".join(name)\n",
    "        total_labels.append(fault_type)\n",
    "        file_path = \"./KMTrainingset/\"+str(x+1)+\"\".join(name)+\".csv\"\n",
    "        name = \"csvwrite(\"+\"'./KMTrainingset/\"+str(x+1)+\"\".join(name)+\".csv',data.mux_data.Data)\"\n",
    "\n",
    "        print(\"Success: \",name,\"\\n\\n\")\n",
    "        eng.eval(name,nargout=0)\n",
    "\n",
    "        data = pd.read_csv(file_path)\n",
    "        # storing length of columns ignoring column 'label'\n",
    "        col_len = data.shape[1]\n",
    "\n",
    "        # creating a new column list for the csv as there are no column names from MatLab\n",
    "        cols = ['A'+str(each+1) for each in range(int(col_len/2))] + ['V'+str(each+1) for each in range(int(col_len/2))]\n",
    "\n",
    "        # assigning new column names to the dataframe\n",
    "        data.columns = cols \n",
    "        start = None\n",
    "        end = None\n",
    "        total = len(data)\n",
    "\n",
    "        kmeans = KMeans(init=\"random\",n_clusters=2,n_init=10,max_iter=500,random_state=42)        \n",
    "        features = data.values.tolist()\n",
    "        \n",
    "        scaler = StandardScaler()\n",
    "        scaled_features = scaler.fit_transform(features)\n",
    "        kmeans.fit(scaled_features)\n",
    "        \n",
    "        clustered_labels = kmeans.fit_predict(features)\n",
    "        dic = Counter(clustered_labels)\n",
    "        \n",
    "        if dic[1]>dic[0]:\n",
    "            print(\"bit_flip\")\n",
    "            data['label']=[1 if i == 0 else 0 for i in clustered_labels]\n",
    "        else:    \n",
    "            data['label'] = clustered_labels\n",
    "        \n",
    "        '''\n",
    "        for i in range(len(data)):\n",
    "            if sum(list(data.iloc[i])[3:])/3 >100:\n",
    "                start = i\n",
    "                print(\"Check index: \",i)\n",
    "                break\n",
    "\n",
    "        for i in range(len(data)):\n",
    "            if sum(list(data.iloc[len(data)-i-1])[3:])/3 >100:\n",
    "                end = len(data)-i\n",
    "                print(\"Check index: \",len(data)-i)\n",
    "                break\n",
    "\n",
    "        print(start,end-start,total-end,start+end-start+total-end )\n",
    "        data['label'] = [0]*start+[total_labels.index(fault_type)]*(end-start)+[0]*(total-end)\n",
    "        '''\n",
    "        data.to_csv( file_path, index=False, encoding='utf-8-sig')\n"
   ]
  },
  {
   "cell_type": "code",
   "execution_count": 5,
   "metadata": {},
   "outputs": [],
   "source": []
  },
  {
   "cell_type": "code",
   "execution_count": 7,
   "metadata": {},
   "outputs": [
    {
     "name": "stdout",
     "output_type": "stream",
     "text": [
      "Check index:  33\n",
      "Check index:  12460\n"
     ]
    },
    {
     "data": {
      "image/png": "[encoded data removed]",
      "text/plain": [
       "<Figure size 1080x1080 with 6 Axes>"
      ]
     },
     "metadata": {
      "needs_background": "light"
     },
     "output_type": "display_data"
    }
   ],
   "source": [
    "data = pd.read_csv('ml_test.csv')\n",
    "# storing length of columns ignoring column 'label'\n",
    "col_len = data.shape[1]\n",
    "\n",
    "# creating a new column list for the csv as there are no column names from MatLab\n",
    "cols = [str(each+1)+'A' for each in range(int(col_len/2))] + [str(each+1)+'V' for each in range(int(col_len/2))]\n",
    "\n",
    "# assigning new column names to the dataframe\n",
    "data.columns = cols \n",
    "start = None\n",
    "end = None\n",
    "total = len(data)\n",
    "\n",
    "\n",
    "for i in range(len(data)):\n",
    "    if sum(list(data.iloc[i])[3:])/3 >90:\n",
    "        \n",
    "        print(\"Check index: \",i)\n",
    "        break\n",
    "\n",
    "for i in range(len(data)):\n",
    "    if sum(list(data.iloc[len(data)-i-1])[3:])/3 >90:\n",
    "        \n",
    "        print(\"Check index: \",len(data)-i)\n",
    "        break\n",
    "\n",
    "        \n",
    "fig, ax = plt.subplots(6,figsize=(15,15))\n",
    "\n",
    "#normal = data[data.label == 'NML']\n",
    "#abnormal = data[data.label == 'AG']\n",
    "for i in range(col_len):\n",
    "    ax[i].plot(data[cols[i]],\"-\")\n",
    "    ax[i].set_title(cols[i])\n",
    "fig.tight_layout()\n"
   ]
  },
  {
   "cell_type": "code",
   "execution_count": 32,
   "metadata": {},
   "outputs": [
    {
     "data": {
      "image/png": "[encoded data removed]",
      "text/plain": [
       "<Figure size 1080x360 with 1 Axes>"
      ]
     },
     "metadata": {
      "needs_background": "light"
     },
     "output_type": "display_data"
    }
   ],
   "source": [
    "x = 2600\n",
    "y = 3882\n",
    "\n",
    "plt.figure(figsize=(15,5))\n",
    "temp = ['NML']*x+['blah']*(y-x)+['NML']*(6000-y)\n",
    "plt.plot(temp)\n",
    "plt.show()"
   ]
  },
  {
   "cell_type": "code",
   "execution_count": 306,
   "metadata": {},
   "outputs": [
    {
     "ename": "AttributeError",
     "evalue": "'matlab.object' object has no attribute '_data'",
     "output_type": "error",
     "traceback": [
      "\u001b[0;31m---------------------------------------------------------------------------\u001b[0m",
      "\u001b[0;31mAttributeError\u001b[0m                            Traceback (most recent call last)",
      "\u001b[0;32m<ipython-input-306-24cb37e5ba0e>\u001b[0m in \u001b[0;36m<module>\u001b[0;34m\u001b[0m\n\u001b[0;32m----> 1\u001b[0;31m \u001b[0mout\u001b[0m \u001b[0;34m=\u001b[0m \u001b[0mlist\u001b[0m\u001b[0;34m(\u001b[0m\u001b[0mout\u001b[0m\u001b[0;34m.\u001b[0m\u001b[0m_data\u001b[0m\u001b[0;34m)\u001b[0m\u001b[0;34m\u001b[0m\u001b[0;34m\u001b[0m\u001b[0m\n\u001b[0m\u001b[1;32m      2\u001b[0m \u001b[0mmx\u001b[0m \u001b[0;34m=\u001b[0m \u001b[0mout\u001b[0m\u001b[0;34m[\u001b[0m\u001b[0;34m-\u001b[0m\u001b[0;36m1\u001b[0m\u001b[0;34m]\u001b[0m\u001b[0;34m\u001b[0m\u001b[0;34m\u001b[0m\u001b[0m\n\u001b[1;32m      3\u001b[0m \u001b[0mout\u001b[0m \u001b[0;34m=\u001b[0m \u001b[0mint\u001b[0m\u001b[0;34m(\u001b[0m\u001b[0mmx\u001b[0m\u001b[0;34m)\u001b[0m\u001b[0;34m*\u001b[0m\u001b[0mout\u001b[0m\u001b[0;34m\u001b[0m\u001b[0;34m\u001b[0m\u001b[0m\n",
      "\u001b[0;31mAttributeError\u001b[0m: 'matlab.object' object has no attribute '_data'"
     ]
    }
   ],
   "source": [
    "out = list(out._data)\n",
    "mx = out[-1]\n",
    "out = int(mx)*out"
   ]
  },
  {
   "cell_type": "code",
   "execution_count": null,
   "metadata": {},
   "outputs": [],
   "source": [
    "time = list(eng.workspace['time']['time']._data)\n",
    "data = list(eng.workspace['time']['signals']['values']._data)"
   ]
  },
  {
   "cell_type": "code",
   "execution_count": null,
   "metadata": {},
   "outputs": [],
   "source": [
    "import matplotlib.pyplot as plt\n",
    "\n",
    "plt.plot(time,data)\n"
   ]
  },
  {
   "cell_type": "code",
   "execution_count": null,
   "metadata": {},
   "outputs": [],
   "source": [
    "num_of_samples = len(data)\n",
    "time = int(data[-1]._data[-1])\n",
    "print(int(data[-1]._data[-1]),num_of_samples)"
   ]
  },
  {
   "cell_type": "code",
   "execution_count": null,
   "metadata": {},
   "outputs": [],
   "source": [
    "numbers = list(eng.workspace['time']._data)\n"
   ]
  },
  {
   "cell_type": "code",
   "execution_count": null,
   "metadata": {},
   "outputs": [],
   "source": [
    "numbers"
   ]
  },
  {
   "cell_type": "code",
   "execution_count": null,
   "metadata": {},
   "outputs": [],
   "source": [
    "import datetime as dt\n",
    "time = list(data._data)\n",
    "def matlab2datetime(matlab_datenum):\n",
    "    day = dt.datetime.fromordinal(int(matlab_datenum))\n",
    "    dayfrac = dt.timedelta(days=matlab_datenum%1) - dt.timedelta(days = 366)\n",
    "    return day + dayfrac\n",
    "\n",
    "# convert Matlab variable \"t\" into list of python datetime objects\n",
    "my_dict = {}\n",
    "my_dict['date_time'] = [matlab2datetime(tval) for tval in time]\n",
    "my_dict"
   ]
  },
  {
   "cell_type": "code",
   "execution_count": null,
   "metadata": {},
   "outputs": [],
   "source": [
    "eng.cd('/Users/yuganthadiyal/Documents/MATLAB')"
   ]
  },
  {
   "cell_type": "code",
   "execution_count": null,
   "metadata": {},
   "outputs": [],
   "source": [
    "eng.workspace['numbers']"
   ]
  },
  {
   "cell_type": "code",
   "execution_count": null,
   "metadata": {},
   "outputs": [],
   "source": [
    "import matplotlib.pyplot as plt\n",
    "plt.plot(list(eng.workspace['numbers']._data))"
   ]
  },
  {
   "cell_type": "code",
   "execution_count": null,
   "metadata": {},
   "outputs": [],
   "source": [
    "import h5py\n",
    "f = h5py.File('results.mat', 'r')"
   ]
  },
  {
   "cell_type": "code",
   "execution_count": null,
   "metadata": {},
   "outputs": [],
   "source": [
    "obj  = f[list(f.keys())[-1]]\n"
   ]
  },
  {
   "cell_type": "code",
   "execution_count": null,
   "metadata": {},
   "outputs": [],
   "source": [
    "list(obj[0])"
   ]
  },
  {
   "cell_type": "code",
   "execution_count": null,
   "metadata": {},
   "outputs": [],
   "source": []
  }
 ],
 "metadata": {
  "kernelspec": {
   "display_name": "Python 3",
   "language": "python",
   "name": "python3"
  },
  "language_info": {
   "codemirror_mode": {
    "name": "ipython",
    "version": 3
   },
   "file_extension": ".py",
   "mimetype": "text/x-python",
   "name": "python",
   "nbconvert_exporter": "python",
   "pygments_lexer": "ipython3",
   "version": "3.8.5"
  }
 },
 "nbformat": 4,
 "nbformat_minor": 4
}
