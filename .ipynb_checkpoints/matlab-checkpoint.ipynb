{
 "cells": [
  {
   "cell_type": "code",
   "execution_count": 1,
   "metadata": {},
   "outputs": [],
   "source": [
    "import matlab.engine\n"
   ]
  },
  {
   "cell_type": "code",
   "execution_count": 2,
   "metadata": {},
   "outputs": [],
   "source": [
    "from random import uniform,randint"
   ]
  },
  {
   "cell_type": "code",
   "execution_count": 3,
   "metadata": {},
   "outputs": [],
   "source": [
    "import pandas as pd\n",
    "import matplotlib.pyplot as plt"
   ]
  },
  {
   "cell_type": "code",
   "execution_count": 32,
   "metadata": {},
   "outputs": [],
   "source": [
    "# !!! run matlab.engine.shareEngine in MatLab / can automated from shell\n",
    "eng = matlab.engine.start_matlab()\n",
    "#eng.quit()"
   ]
  },
  {
   "cell_type": "code",
   "execution_count": 33,
   "metadata": {},
   "outputs": [],
   "source": [
    "file ='demo_rand_numbs'\n",
    "file2 = 'ex_9_bus_PMU'\n",
    "file3='latest_ex_9_bus_PMU'\n",
    "#out = eng.sim(file2)"
   ]
  },
  {
   "cell_type": "code",
   "execution_count": 34,
   "metadata": {},
   "outputs": [],
   "source": [
    "fault_types = [\"'FaultA'\",\"'FaultB'\",\"'FaultC'\",\"'GroundFault'\"]"
   ]
  },
  {
   "cell_type": "code",
   "execution_count": 35,
   "metadata": {},
   "outputs": [],
   "source": [
    "combinations = []\n",
    "\n",
    "s = fault_types\n",
    "x = len(s)     \n",
    "for i in range(1 << x):\n",
    "    if len([s[j] for j in range(x) if (i & (1 << j))])>=2:\n",
    "        combinations.append([s[j] for j in range(x) if (i & (1 << j))])\n",
    "        \n"
   ]
  },
  {
   "cell_type": "code",
   "execution_count": 36,
   "metadata": {},
   "outputs": [
    {
     "data": {
      "text/plain": [
       "11"
      ]
     },
     "execution_count": 36,
     "metadata": {},
     "output_type": "execute_result"
    }
   ],
   "source": [
    "len(combinations)"
   ]
  },
  {
   "cell_type": "code",
   "execution_count": 37,
   "metadata": {},
   "outputs": [
    {
     "data": {
      "text/plain": [
       "10"
      ]
     },
     "execution_count": 37,
     "metadata": {},
     "output_type": "execute_result"
    }
   ],
   "source": [
    "combinations = combinations[:3]+combinations[4:]\n",
    "len(combinations)"
   ]
  },
  {
   "cell_type": "code",
   "execution_count": 38,
   "metadata": {},
   "outputs": [],
   "source": [
    "import matplotlib.pyplot as plt\n",
    "from kneed import KneeLocator\n",
    "from sklearn.datasets import make_blobs\n",
    "from sklearn.cluster import KMeans\n",
    "from sklearn.metrics import silhouette_score\n",
    "from sklearn.preprocessing import StandardScaler"
   ]
  },
  {
   "cell_type": "code",
   "execution_count": 26,
   "metadata": {},
   "outputs": [],
   "source": [
    "from collections import Counter"
   ]
  },
  {
   "cell_type": "code",
   "execution_count": 40,
   "metadata": {
    "scrolled": false
   },
   "outputs": [
    {
     "name": "stdout",
     "output_type": "stream",
     "text": [
      "Setting up...\n",
      "set_param('latest_ex_9_bus_PMU/Three-Phase Fault1','SwitchTimes','[2.002011437887102 2.972758387332555]','FaultA',1,'FaultB',1)\n",
      "New setup ready...\n",
      "Stopping\n",
      "[\"'FaultA'\", \"'FaultB'\"]\n",
      "Success:  csvwrite('./RangeLatestSimTraining/1AB.csv',data.mux_data.Data) \n",
      "\n",
      "\n"
     ]
    },
    {
     "ename": "AttributeError",
     "evalue": "'DataFrame' object has no attribute 'label'",
     "output_type": "error",
     "traceback": [
      "\u001b[0;31m---------------------------------------------------------------------------\u001b[0m",
      "\u001b[0;31mAttributeError\u001b[0m                            Traceback (most recent call last)",
      "\u001b[0;32m<ipython-input-40-394409200c27>\u001b[0m in \u001b[0;36m<module>\u001b[0;34m\u001b[0m\n\u001b[1;32m     73\u001b[0m         \u001b[0mlabels\u001b[0m \u001b[0;34m=\u001b[0m \u001b[0;34m[\u001b[0m\u001b[0;36m0\u001b[0m\u001b[0;34m]\u001b[0m\u001b[0;34m*\u001b[0m\u001b[0mlen\u001b[0m\u001b[0;34m(\u001b[0m\u001b[0mdata\u001b[0m\u001b[0;34m)\u001b[0m\u001b[0;34m\u001b[0m\u001b[0;34m\u001b[0m\u001b[0m\n\u001b[1;32m     74\u001b[0m \u001b[0;34m\u001b[0m\u001b[0m\n\u001b[0;32m---> 75\u001b[0;31m         \u001b[0mprint\u001b[0m\u001b[0;34m(\u001b[0m\u001b[0mlen\u001b[0m\u001b[0;34m(\u001b[0m\u001b[0mdata\u001b[0m\u001b[0;34m[\u001b[0m\u001b[0mdata\u001b[0m\u001b[0;34m.\u001b[0m\u001b[0mlabel\u001b[0m\u001b[0;34m!=\u001b[0m\u001b[0;36m0\u001b[0m\u001b[0;34m]\u001b[0m\u001b[0;34m)\u001b[0m\u001b[0;34m)\u001b[0m\u001b[0;34m\u001b[0m\u001b[0;34m\u001b[0m\u001b[0m\n\u001b[0m\u001b[1;32m     76\u001b[0m         \u001b[0;32mfor\u001b[0m \u001b[0mi\u001b[0m \u001b[0;32min\u001b[0m \u001b[0mrange\u001b[0m\u001b[0;34m(\u001b[0m\u001b[0mdata\u001b[0m\u001b[0;34m.\u001b[0m\u001b[0mshape\u001b[0m\u001b[0;34m[\u001b[0m\u001b[0;36m0\u001b[0m\u001b[0;34m]\u001b[0m\u001b[0;34m)\u001b[0m\u001b[0;34m:\u001b[0m\u001b[0;34m\u001b[0m\u001b[0;34m\u001b[0m\u001b[0m\n\u001b[1;32m     77\u001b[0m             \u001b[0;32mfor\u001b[0m \u001b[0mj\u001b[0m \u001b[0;32min\u001b[0m \u001b[0mrange\u001b[0m\u001b[0;34m(\u001b[0m\u001b[0mdata\u001b[0m\u001b[0;34m.\u001b[0m\u001b[0mshape\u001b[0m\u001b[0;34m[\u001b[0m\u001b[0;36m1\u001b[0m\u001b[0;34m]\u001b[0m\u001b[0;34m)\u001b[0m\u001b[0;34m:\u001b[0m\u001b[0;34m\u001b[0m\u001b[0;34m\u001b[0m\u001b[0m\n",
      "\u001b[0;32m~/opt/anaconda3/lib/python3.8/site-packages/pandas/core/generic.py\u001b[0m in \u001b[0;36m__getattr__\u001b[0;34m(self, name)\u001b[0m\n\u001b[1;32m   5137\u001b[0m             \u001b[0;32mif\u001b[0m \u001b[0mself\u001b[0m\u001b[0;34m.\u001b[0m\u001b[0m_info_axis\u001b[0m\u001b[0;34m.\u001b[0m\u001b[0m_can_hold_identifiers_and_holds_name\u001b[0m\u001b[0;34m(\u001b[0m\u001b[0mname\u001b[0m\u001b[0;34m)\u001b[0m\u001b[0;34m:\u001b[0m\u001b[0;34m\u001b[0m\u001b[0;34m\u001b[0m\u001b[0m\n\u001b[1;32m   5138\u001b[0m                 \u001b[0;32mreturn\u001b[0m \u001b[0mself\u001b[0m\u001b[0;34m[\u001b[0m\u001b[0mname\u001b[0m\u001b[0;34m]\u001b[0m\u001b[0;34m\u001b[0m\u001b[0;34m\u001b[0m\u001b[0m\n\u001b[0;32m-> 5139\u001b[0;31m             \u001b[0;32mreturn\u001b[0m \u001b[0mobject\u001b[0m\u001b[0;34m.\u001b[0m\u001b[0m__getattribute__\u001b[0m\u001b[0;34m(\u001b[0m\u001b[0mself\u001b[0m\u001b[0;34m,\u001b[0m \u001b[0mname\u001b[0m\u001b[0;34m)\u001b[0m\u001b[0;34m\u001b[0m\u001b[0;34m\u001b[0m\u001b[0m\n\u001b[0m\u001b[1;32m   5140\u001b[0m \u001b[0;34m\u001b[0m\u001b[0m\n\u001b[1;32m   5141\u001b[0m     \u001b[0;32mdef\u001b[0m \u001b[0m__setattr__\u001b[0m\u001b[0;34m(\u001b[0m\u001b[0mself\u001b[0m\u001b[0;34m,\u001b[0m \u001b[0mname\u001b[0m\u001b[0;34m:\u001b[0m \u001b[0mstr\u001b[0m\u001b[0;34m,\u001b[0m \u001b[0mvalue\u001b[0m\u001b[0;34m)\u001b[0m \u001b[0;34m->\u001b[0m \u001b[0;32mNone\u001b[0m\u001b[0;34m:\u001b[0m\u001b[0;34m\u001b[0m\u001b[0;34m\u001b[0m\u001b[0m\n",
      "\u001b[0;31mAttributeError\u001b[0m: 'DataFrame' object has no attribute 'label'"
     ]
    }
   ],
   "source": [
    "eng.eval(\"load_system('{}')\".format(file3))\n",
    "\n",
    "threshold_range = [0.6,1.4]\n",
    "\n",
    "store_path = \"./RangeLatestSimTraining/\"\n",
    "for x in range(10):\n",
    "\n",
    "    model = file3\n",
    "    time = randint(1,8)\n",
    "\n",
    "    total_labels = ['NML', 'AB', 'AC', 'BC','AG', 'BG', 'ABG', 'CG', 'ACG', 'BCG', 'ABCG']\n",
    "\n",
    "    for each in combinations:\n",
    "\n",
    "        #Flush the parameters at the start of each loop\n",
    "\n",
    "        flush = \"set_param('latest_ex_9_bus_PMU/Three-Phase Fault1',{})\".format(\",0,\".join(combinations[-1])+',0')\n",
    "\n",
    "        print(\"Setting up...\")\n",
    "        #print(flush)\n",
    "        eng.eval(flush,nargout=0)\n",
    "\n",
    "\n",
    "\n",
    "        start_time = str(uniform(0.0, time) + uniform(0.0, time)/10)\n",
    "\n",
    "        end_time = '0'\n",
    "\n",
    "        while float(end_time) < float(start_time):\n",
    "            end_time = str(uniform(0.0, time) + uniform(0.0, time)/10)\n",
    "\n",
    "        occr_time = \"'[\" + start_time + \" \" + end_time+ \"]'\"\n",
    "        new_setup = \"set_param('latest_ex_9_bus_PMU/Three-Phase Fault1','SwitchTimes',{},{})\".format(occr_time,\",1,\".join(each)+',1')\n",
    "\n",
    "        print(new_setup)\n",
    "        eng.eval(new_setup,nargout=0)\n",
    "        print(\"New setup ready...\")\n",
    "        eng.workspace['data'] = eng.sim(model)\n",
    "\n",
    "        print('Stopping')\n",
    "        #eng.eval(\"out.mux_data.Data\")\n",
    "\n",
    "        print(each)\n",
    "        if \"'GroundFault'\" not in each:\n",
    "            name = [i[-2] for i in each]\n",
    "\n",
    "        else:\n",
    "\n",
    "            name = [i[-2] for i in each]\n",
    "            name = name[:-1] + ['G']\n",
    "\n",
    "        fault_type = \"\".join(name)\n",
    "        total_labels.append(fault_type)\n",
    "        file_path = store_path+str(x+1)+\"\".join(name)+\".csv\"\n",
    "        name = \"csvwrite(\"+\"'\"+store_path+str(x+1)+\"\".join(name)+\".csv',data.mux_data.Data)\"\n",
    "\n",
    "        print(\"Success: \",name,\"\\n\\n\")\n",
    "        eng.eval(name,nargout=0)\n",
    "\n",
    "        data = pd.read_csv(file_path)\n",
    "        # storing length of columns ignoring column 'label'\n",
    "        col_len = data.shape[1]\n",
    "\n",
    "        # creating a new column list for the csv as there are no column names from MatLab\n",
    "        cols = ['A'+str(each+1) for each in range(int(col_len/2))] + ['V'+str(each+1) for each in range(int(col_len/2))]\n",
    "\n",
    "        # assigning new column names to the dataframe\n",
    "        data.columns = cols \n",
    "        \n",
    "\n",
    "        data = data[cols[:3]]\n",
    "               \n",
    "        labels = [0]*len(data)\n",
    "\n",
    "\n",
    "        for i in range(data.shape[0]):\n",
    "            for j in range(data.shape[1]):\n",
    "                if data.iloc[i][j] < threshold_range[0] or data.iloc[i][j]> threshold_range[-1]:\n",
    "                    labels[i]= total_labels.index(fault_type)\n",
    "        \n",
    "        data['label'] = labels\n",
    "        print(len(data[data.label!=0]))\n",
    "        '''\n",
    "        \n",
    "        start = None\n",
    "        end = None\n",
    "        total = len(data)\n",
    "\n",
    "        kmeans = KMeans(init=\"random\",n_clusters=2,n_init=10,max_iter=500,random_state=42)        \n",
    "        features = data.values.tolist()\n",
    "        \n",
    "        kmeans.fit(features)\n",
    "        \n",
    "        clustered_labels = kmeans.fit_predict(features)\n",
    "        dic = Counter(clustered_labels)\n",
    "        \n",
    "        \n",
    "        \n",
    "        if dic[1]>dic[0]:\n",
    "            print(\"bit_flip\")\n",
    "            alt_labs = [1 if i == 0 else 0 for i in clustered_labels]\n",
    "            data['label'] = [i*total_labels.index(fault_type) for i in alt_labs]\n",
    "        else:    \n",
    "            data['label'] = [i*total_labels.index(fault_type) for i in clustered_labels]\n",
    "        \n",
    "        \n",
    "        for i in range(len(data)):\n",
    "            if sum(list(data.iloc[i])[3:])/3 >100:\n",
    "                start = i\n",
    "                print(\"Check index: \",i)\n",
    "                break\n",
    "\n",
    "        for i in range(len(data)):\n",
    "            if sum(list(data.iloc[len(data)-i-1])[3:])/3 >100:\n",
    "                end = len(data)-i\n",
    "                print(\"Check index: \",len(data)-i)\n",
    "                break\n",
    "\n",
    "        print(start,end-start,total-end,start+end-start+total-end )\n",
    "        data['label'] = [0]*start+[total_labels.index(fault_type)]*(end-start)+[0]*(total-end)\n",
    "        '''\n",
    "        \n",
    "        data.to_csv( file_path, index=False, encoding='utf-8-sig')\n"
   ]
  },
  {
   "cell_type": "code",
   "execution_count": 5,
   "metadata": {},
   "outputs": [],
   "source": []
  },
  {
   "cell_type": "code",
   "execution_count": 22,
   "metadata": {},
   "outputs": [
    {
     "data": {
      "text/plain": [
       "'fig, ax = plt.subplots(6,figsize=(15,15))\\n\\n#normal = data[data.label == \\'NML\\']\\n#abnormal = data[data.label == \\'AG\\']\\nfor i in range(col_len):\\n    ax[i].plot(data[cols[i]],\"-\")\\n    ax[i].set_title(cols[i])\\nfig.tight_layout()\\n'"
      ]
     },
     "execution_count": 22,
     "metadata": {},
     "output_type": "execute_result"
    }
   ],
   "source": [
    "data = pd.read_csv('ml_test.csv')\n",
    "# storing length of columns ignoring column 'label'\n",
    "col_len = data.shape[1]\n",
    "\n",
    "# creating a new column list for the csv as there are no column names from MatLab\n",
    "cols = [str(each+1)+'A' for each in range(int(col_len/2))] + [str(each+1)+'V' for each in range(int(col_len/2))]\n",
    "\n",
    "# assigning new column names to the dataframe\n",
    "data.columns = cols \n",
    "start = None\n",
    "end = None\n",
    "total = len(data)\n",
    "\n",
    "lista = []\n",
    "for i in range(len(data)):\n",
    "    \n",
    "    #print(sum(list(data.iloc[i])[:3])/3 <0.6 or sum(list(data.iloc[i])[:3])/3 >1.3)\n",
    "    lista.append(sum(list(data.iloc[i])[:3])/3 <0.6 or sum(list(data.iloc[i])[:3])/3 >1.3)\n",
    "    lista.append(list(data.iloc[i])[1]<0.5)\n",
    "        \n",
    "    \n",
    "        \n",
    "'''fig, ax = plt.subplots(6,figsize=(15,15))\n",
    "\n",
    "#normal = data[data.label == 'NML']\n",
    "#abnormal = data[data.label == 'AG']\n",
    "for i in range(col_len):\n",
    "    ax[i].plot(data[cols[i]],\"-\")\n",
    "    ax[i].set_title(cols[i])\n",
    "fig.tight_layout()\n",
    "'''"
   ]
  },
  {
   "cell_type": "code",
   "execution_count": 106,
   "metadata": {},
   "outputs": [],
   "source": [
    "data = pd.read_csv('./KMTrainingset/1ABC.csv')"
   ]
  },
  {
   "cell_type": "code",
   "execution_count": 107,
   "metadata": {},
   "outputs": [],
   "source": [
    "data = data[data.columns[:3]]"
   ]
  },
  {
   "cell_type": "code",
   "execution_count": 108,
   "metadata": {},
   "outputs": [],
   "source": [
    "data['label'] = [0]"
   ]
  },
  {
   "cell_type": "code",
   "execution_count": 122,
   "metadata": {},
   "outputs": [],
   "source": [
    "labels = [0]*len(data)\n",
    "c=0\n",
    "blah = data.copy()\n",
    "for i in range(blah.shape[0]):\n",
    "    for j in range(blah.shape[1]-1):\n",
    "        if data.iloc[i][j] <0.6 or data.iloc[i][j]>1.4:\n",
    "            labels[i]= 1\n",
    "            #print(data.iloc[i]['label'])\n",
    "        "
   ]
  },
  {
   "cell_type": "code",
   "execution_count": 123,
   "metadata": {},
   "outputs": [],
   "source": [
    "data['label'] = labels"
   ]
  },
  {
   "cell_type": "code",
   "execution_count": 69,
   "metadata": {},
   "outputs": [],
   "source": [
    "train_data = data[data.columns[:3]]"
   ]
  },
  {
   "cell_type": "code",
   "execution_count": 70,
   "metadata": {},
   "outputs": [],
   "source": [
    "kmeans = KMeans(init=\"random\",n_clusters=2,n_init=10,max_iter=500,random_state=42)        \n",
    "features = train_data.values.tolist()"
   ]
  },
  {
   "cell_type": "code",
   "execution_count": 71,
   "metadata": {},
   "outputs": [],
   "source": [
    "clustered_labels = kmeans.fit_predict(features)\n",
    "dic = Counter(clustered_labels)"
   ]
  },
  {
   "cell_type": "code",
   "execution_count": 72,
   "metadata": {},
   "outputs": [
    {
     "name": "stderr",
     "output_type": "stream",
     "text": [
      "<ipython-input-72-665f4152e55b>:1: SettingWithCopyWarning: \n",
      "A value is trying to be set on a copy of a slice from a DataFrame.\n",
      "Try using .loc[row_indexer,col_indexer] = value instead\n",
      "\n",
      "See the caveats in the documentation: https://pandas.pydata.org/pandas-docs/stable/user_guide/indexing.html#returning-a-view-versus-a-copy\n",
      "  train_data['label'] = clustered_labels\n"
     ]
    }
   ],
   "source": [
    "train_data['label'] = clustered_labels"
   ]
  },
  {
   "cell_type": "code",
   "execution_count": 138,
   "metadata": {},
   "outputs": [
    {
     "name": "stdout",
     "output_type": "stream",
     "text": [
      "  Fault type Percentage\n",
      "0        NML     85.19%\n",
      "1         BC     14.81%\n"
     ]
    },
    {
     "data": {
      "image/png": "[encoded data removed]",
      "text/plain": [
       "<Figure size 1080x864 with 3 Axes>"
      ]
     },
     "metadata": {
      "needs_background": "light"
     },
     "output_type": "display_data"
    }
   ],
   "source": [
    "n_plots = 3\n",
    "unique_labels = ['NML', 'AB', 'AC', 'BC', 'ABC', 'AG', 'BG', 'ABG', 'CG', 'ACG', 'BCG', 'ABCG']\n",
    "\n",
    "data = pd.read_csv(\"./RangeTrainingset/1BC.csv\")\n",
    "predicted_labels = data['label']\n",
    "#print(len(set(predicted_labels)),unique_labels)\n",
    "#print(Counter(predicted_labels).values(),[unique_labels[each] for each in Counter(predicted_labels).keys()])\n",
    "    \n",
    "matrics = sorted(zip([unique_labels[each] for each in Counter(predicted_labels).keys()],Counter(predicted_labels).values() ), key=lambda x: x[1])\n",
    "cols = ['A'+str(each+1) for each in range(int(col_len/2))] + ['V'+str(each+1) for each in range(int(col_len/2))]\n",
    "score = [list(j) for j in matrics][::-1]\n",
    "    \n",
    "    \n",
    "    \n",
    "total = sum([i[1] for i in score])\n",
    "\n",
    "c=0\n",
    "for i in score:\n",
    "\n",
    "    score[c][1] = str(round(i[1]*100/total,2))+\"%\"\n",
    "    #print(\"Fault type:\", i[-1], \"Percentage: {:.2f}%\".format(i[1]*100/total))\n",
    "    c+=1\n",
    "\n",
    "print(pd.DataFrame.from_records(score,columns=['Fault type','Percentage']))\n",
    "    \n",
    "#print(\"changing numbers to labels again\")\n",
    "data['label'] = [unique_labels[i] for i in predicted_labels]\n",
    "\n",
    "fig, ax = plt.subplots(n_plots,figsize=(15,4*n_plots))\n",
    "\n",
    "for j in range(n_plots):\n",
    "\n",
    "    legend_list = []\n",
    "    available_labels = [each[0] for each in score ]\n",
    "        \n",
    "    for i in range(len(available_labels)):\n",
    "\n",
    "        extract = data[data.label==available_labels[i]][cols[j]]    \n",
    "\n",
    "        if len(unique_labels)==2:\n",
    "                \n",
    "            if available_labels[i]=='FAULT':\n",
    "                temp = ax[j].scatter(extract.index,extract,marker='+',s=40) \n",
    "            elif available_labels[i]=='NML':\n",
    "                temp = ax[j].scatter(extract.index,extract,marker='.',s=10) \n",
    "        else:\n",
    "            #print(available_labels[i],score[i][0],score[i][1])\n",
    "            if available_labels[i]==score[0][0]:\n",
    "                temp = ax[j].scatter(extract.index,extract,marker='+',s=40)\n",
    "            else:\n",
    "                temp = ax[j].scatter(extract.index,extract,marker='.',s=10)\n",
    "\n",
    "\n",
    "        legend_list.append(temp)\n",
    "\n",
    "    ax[j].legend(legend_list,available_labels,scatterpoints=3,ncol=1,fontsize=15)\n",
    "\n",
    "fig.tight_layout()\n",
    "plt.show()\n"
   ]
  },
  {
   "cell_type": "code",
   "execution_count": 74,
   "metadata": {},
   "outputs": [
    {
     "ename": "TypeError",
     "evalue": "scatter() missing 1 required positional argument: 'y'",
     "output_type": "error",
     "traceback": [
      "\u001b[0;31m---------------------------------------------------------------------------\u001b[0m",
      "\u001b[0;31mTypeError\u001b[0m                                 Traceback (most recent call last)",
      "\u001b[0;32m<ipython-input-74-9d5135e88838>\u001b[0m in \u001b[0;36m<module>\u001b[0;34m\u001b[0m\n\u001b[0;32m----> 1\u001b[0;31m \u001b[0mplt\u001b[0m\u001b[0;34m.\u001b[0m\u001b[0mscatter\u001b[0m\u001b[0;34m(\u001b[0m\u001b[0mtrain_data\u001b[0m\u001b[0;34m[\u001b[0m\u001b[0mtrain_data\u001b[0m\u001b[0;34m.\u001b[0m\u001b[0mcolumns\u001b[0m\u001b[0;34m[\u001b[0m\u001b[0;36m0\u001b[0m\u001b[0;34m]\u001b[0m\u001b[0;34m]\u001b[0m\u001b[0;34m)\u001b[0m\u001b[0;34m\u001b[0m\u001b[0;34m\u001b[0m\u001b[0m\n\u001b[0m",
      "\u001b[0;31mTypeError\u001b[0m: scatter() missing 1 required positional argument: 'y'"
     ]
    }
   ],
   "source": [
    "plt.scatter(train_data[train_data.columns[0]])"
   ]
  },
  {
   "cell_type": "code",
   "execution_count": 48,
   "metadata": {},
   "outputs": [],
   "source": [
    "        kmeans = KMeans(init=\"random\",n_clusters=2,n_init=10,max_iter=500,random_state=42)        \n",
    "        features = data.values.tolist()\n",
    "        \n",
    "        scaler = StandardScaler()\n",
    "        scaled_features = scaler.fit_transform(features)\n",
    "        kmeans.fit(scaled_features)\n",
    "        \n",
    "        clustered_labels = kmeans.fit_predict(features)\n",
    "        dic = Counter(clustered_labels)"
   ]
  },
  {
   "cell_type": "code",
   "execution_count": 132,
   "metadata": {},
   "outputs": [],
   "source": [
    "data = pd.read_csv(\"./RangeTrainingset/1AC.csv\")"
   ]
  },
  {
   "cell_type": "code",
   "execution_count": 133,
   "metadata": {},
   "outputs": [
    {
     "data": {
      "text/plain": [
       "[<matplotlib.lines.Line2D at 0x7fb5508def40>]"
      ]
     },
     "execution_count": 133,
     "metadata": {},
     "output_type": "execute_result"
    },
    {
     "data": {
      "image/png": "[encoded data removed]",
      "text/plain": [
       "<Figure size 432x288 with 1 Axes>"
      ]
     },
     "metadata": {
      "needs_background": "light"
     },
     "output_type": "display_data"
    }
   ],
   "source": [
    "plt.plot(round(data['A2']*10))"
   ]
  },
  {
   "cell_type": "code",
   "execution_count": 32,
   "metadata": {},
   "outputs": [
    {
     "data": {
      "image/png": "[encoded data removed]",
      "text/plain": [
       "<Figure size 1080x360 with 1 Axes>"
      ]
     },
     "metadata": {
      "needs_background": "light"
     },
     "output_type": "display_data"
    }
   ],
   "source": [
    "x = 2600\n",
    "y = 3882\n",
    "\n",
    "plt.figure(figsize=(15,5))\n",
    "temp = ['NML']*x+['blah']*(y-x)+['NML']*(6000-y)\n",
    "plt.plot(temp)\n",
    "plt.show()"
   ]
  },
  {
   "cell_type": "code",
   "execution_count": 306,
   "metadata": {},
   "outputs": [
    {
     "ename": "AttributeError",
     "evalue": "'matlab.object' object has no attribute '_data'",
     "output_type": "error",
     "traceback": [
      "\u001b[0;31m---------------------------------------------------------------------------\u001b[0m",
      "\u001b[0;31mAttributeError\u001b[0m                            Traceback (most recent call last)",
      "\u001b[0;32m<ipython-input-306-24cb37e5ba0e>\u001b[0m in \u001b[0;36m<module>\u001b[0;34m\u001b[0m\n\u001b[0;32m----> 1\u001b[0;31m \u001b[0mout\u001b[0m \u001b[0;34m=\u001b[0m \u001b[0mlist\u001b[0m\u001b[0;34m(\u001b[0m\u001b[0mout\u001b[0m\u001b[0;34m.\u001b[0m\u001b[0m_data\u001b[0m\u001b[0;34m)\u001b[0m\u001b[0;34m\u001b[0m\u001b[0;34m\u001b[0m\u001b[0m\n\u001b[0m\u001b[1;32m      2\u001b[0m \u001b[0mmx\u001b[0m \u001b[0;34m=\u001b[0m \u001b[0mout\u001b[0m\u001b[0;34m[\u001b[0m\u001b[0;34m-\u001b[0m\u001b[0;36m1\u001b[0m\u001b[0;34m]\u001b[0m\u001b[0;34m\u001b[0m\u001b[0;34m\u001b[0m\u001b[0m\n\u001b[1;32m      3\u001b[0m \u001b[0mout\u001b[0m \u001b[0;34m=\u001b[0m \u001b[0mint\u001b[0m\u001b[0;34m(\u001b[0m\u001b[0mmx\u001b[0m\u001b[0;34m)\u001b[0m\u001b[0;34m*\u001b[0m\u001b[0mout\u001b[0m\u001b[0;34m\u001b[0m\u001b[0;34m\u001b[0m\u001b[0m\n",
      "\u001b[0;31mAttributeError\u001b[0m: 'matlab.object' object has no attribute '_data'"
     ]
    }
   ],
   "source": [
    "out = list(out._data)\n",
    "mx = out[-1]\n",
    "out = int(mx)*out"
   ]
  },
  {
   "cell_type": "code",
   "execution_count": null,
   "metadata": {},
   "outputs": [],
   "source": [
    "time = list(eng.workspace['time']['time']._data)\n",
    "data = list(eng.workspace['time']['signals']['values']._data)"
   ]
  },
  {
   "cell_type": "code",
   "execution_count": null,
   "metadata": {},
   "outputs": [],
   "source": [
    "import matplotlib.pyplot as plt\n",
    "\n",
    "plt.plot(time,data)\n"
   ]
  },
  {
   "cell_type": "code",
   "execution_count": null,
   "metadata": {},
   "outputs": [],
   "source": [
    "num_of_samples = len(data)\n",
    "time = int(data[-1]._data[-1])\n",
    "print(int(data[-1]._data[-1]),num_of_samples)"
   ]
  },
  {
   "cell_type": "code",
   "execution_count": null,
   "metadata": {},
   "outputs": [],
   "source": [
    "numbers = list(eng.workspace['time']._data)\n"
   ]
  },
  {
   "cell_type": "code",
   "execution_count": null,
   "metadata": {},
   "outputs": [],
   "source": [
    "numbers"
   ]
  },
  {
   "cell_type": "code",
   "execution_count": null,
   "metadata": {},
   "outputs": [],
   "source": [
    "import datetime as dt\n",
    "time = list(data._data)\n",
    "def matlab2datetime(matlab_datenum):\n",
    "    day = dt.datetime.fromordinal(int(matlab_datenum))\n",
    "    dayfrac = dt.timedelta(days=matlab_datenum%1) - dt.timedelta(days = 366)\n",
    "    return day + dayfrac\n",
    "\n",
    "# convert Matlab variable \"t\" into list of python datetime objects\n",
    "my_dict = {}\n",
    "my_dict['date_time'] = [matlab2datetime(tval) for tval in time]\n",
    "my_dict"
   ]
  },
  {
   "cell_type": "code",
   "execution_count": null,
   "metadata": {},
   "outputs": [],
   "source": [
    "eng.cd('/Users/yuganthadiyal/Documents/MATLAB')"
   ]
  },
  {
   "cell_type": "code",
   "execution_count": null,
   "metadata": {},
   "outputs": [],
   "source": [
    "eng.workspace['numbers']"
   ]
  },
  {
   "cell_type": "code",
   "execution_count": null,
   "metadata": {},
   "outputs": [],
   "source": [
    "import matplotlib.pyplot as plt\n",
    "plt.plot(list(eng.workspace['numbers']._data))"
   ]
  },
  {
   "cell_type": "code",
   "execution_count": null,
   "metadata": {},
   "outputs": [],
   "source": [
    "import h5py\n",
    "f = h5py.File('results.mat', 'r')"
   ]
  },
  {
   "cell_type": "code",
   "execution_count": null,
   "metadata": {},
   "outputs": [],
   "source": [
    "obj  = f[list(f.keys())[-1]]\n"
   ]
  },
  {
   "cell_type": "code",
   "execution_count": null,
   "metadata": {},
   "outputs": [],
   "source": [
    "list(obj[0])"
   ]
  },
  {
   "cell_type": "code",
   "execution_count": null,
   "metadata": {},
   "outputs": [],
   "source": []
  }
 ],
 "metadata": {
  "kernelspec": {
   "display_name": "Python 3",
   "language": "python",
   "name": "python3"
  },
  "language_info": {
   "codemirror_mode": {
    "name": "ipython",
    "version": 3
   },
   "file_extension": ".py",
   "mimetype": "text/x-python",
   "name": "python",
   "nbconvert_exporter": "python",
   "pygments_lexer": "ipython3",
   "version": "3.8.5"
  }
 },
 "nbformat": 4,
 "nbformat_minor": 4
}
