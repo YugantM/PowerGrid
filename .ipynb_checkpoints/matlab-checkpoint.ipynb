{
 "cells": [
  {
   "cell_type": "code",
   "execution_count": 282,
   "metadata": {},
   "outputs": [],
   "source": [
    "import matlab.engine\n"
   ]
  },
  {
   "cell_type": "code",
   "execution_count": 283,
   "metadata": {},
   "outputs": [],
   "source": [
    "from random import uniform"
   ]
  },
  {
   "cell_type": "code",
   "execution_count": 284,
   "metadata": {},
   "outputs": [],
   "source": [
    "eng = matlab.engine.start_matlab(matlab.engine.find_matlab()[0])\n",
    "#eng.quit()"
   ]
  },
  {
   "cell_type": "code",
   "execution_count": 285,
   "metadata": {},
   "outputs": [],
   "source": [
    "file ='demo_rand_numbs'\n",
    "file2 = 'ex_9_bus_PMU'\n",
    "#out = eng.sim(file2)"
   ]
  },
  {
   "cell_type": "code",
   "execution_count": 286,
   "metadata": {},
   "outputs": [],
   "source": [
    "fault_types = [\"'FaultA'\",\"'FaultB'\",\"'FaultC'\",\"'GroundFault'\"]"
   ]
  },
  {
   "cell_type": "code",
   "execution_count": 287,
   "metadata": {},
   "outputs": [],
   "source": [
    "combinations = []\n",
    "\n",
    "s = fault_types\n",
    "x = len(s)     \n",
    "for i in range(1 << x):\n",
    "    if len([s[j] for j in range(x) if (i & (1 << j))])>=2:\n",
    "        combinations.append([s[j] for j in range(x) if (i & (1 << j))])\n",
    "        \n"
   ]
  },
  {
   "cell_type": "code",
   "execution_count": 288,
   "metadata": {},
   "outputs": [
    {
     "data": {
      "text/plain": [
       "[[\"'FaultA'\", \"'FaultB'\"],\n",
       " [\"'FaultA'\", \"'FaultC'\"],\n",
       " [\"'FaultB'\", \"'FaultC'\"],\n",
       " [\"'FaultA'\", \"'FaultB'\", \"'FaultC'\"],\n",
       " [\"'FaultA'\", \"'GroundFault'\"],\n",
       " [\"'FaultB'\", \"'GroundFault'\"],\n",
       " [\"'FaultA'\", \"'FaultB'\", \"'GroundFault'\"],\n",
       " [\"'FaultC'\", \"'GroundFault'\"],\n",
       " [\"'FaultA'\", \"'FaultC'\", \"'GroundFault'\"],\n",
       " [\"'FaultB'\", \"'FaultC'\", \"'GroundFault'\"],\n",
       " [\"'FaultA'\", \"'FaultB'\", \"'FaultC'\", \"'GroundFault'\"]]"
      ]
     },
     "execution_count": 288,
     "metadata": {},
     "output_type": "execute_result"
    }
   ],
   "source": [
    "combinations"
   ]
  },
  {
   "cell_type": "code",
   "execution_count": 289,
   "metadata": {},
   "outputs": [
    {
     "name": "stdout",
     "output_type": "stream",
     "text": [
      "set_param('ex_9_bus_PMU/Three-Phase Fault','FaultA',0,'FaultB',0,'FaultC',0,'GroundFault',0)\n"
     ]
    }
   ],
   "source": [
    "print(\"set_param('ex_9_bus_PMU/Three-Phase Fault',{})\".format(\",0,\".join(combinations[-1])+',0'))\n"
   ]
  },
  {
   "cell_type": "code",
   "execution_count": 290,
   "metadata": {},
   "outputs": [
    {
     "data": {
      "text/plain": [
       "{'path': '/Users/yuganthadiyal/Documents/GitHub/PowerGrid',\n",
       " 'm': [],\n",
       " 'mlapp': [],\n",
       " 'mlx': [],\n",
       " 'mat': ['results.mat'],\n",
       " 'mex': [],\n",
       " 'mdl': [],\n",
       " 'slx': [],\n",
       " 'sfx': [],\n",
       " 'p': [],\n",
       " 'classes': [],\n",
       " 'packages': []}"
      ]
     },
     "execution_count": 290,
     "metadata": {},
     "output_type": "execute_result"
    }
   ],
   "source": [
    "eng.what()"
   ]
  },
  {
   "cell_type": "code",
   "execution_count": 302,
   "metadata": {
    "scrolled": true
   },
   "outputs": [
    {
     "name": "stdout",
     "output_type": "stream",
     "text": [
      "Setting up...\n",
      "set_param('ex_9_bus_PMU/Three-Phase Fault','SwitchTimes','[2.960047228645665 5.237223851670451]','FaultA',1,'FaultB',1)\n",
      "New setup ready...\n",
      "Stopping\n",
      "[\"'FaultA'\", \"'FaultB'\"]\n",
      "Success:  csvwrite('./TrainingSet/AB.csv',data.mux_data.Data) \n",
      "\n",
      "\n",
      "Setting up...\n",
      "set_param('ex_9_bus_PMU/Three-Phase Fault','SwitchTimes','[1.7037045027710294 5.434504689102314]','FaultA',1,'FaultC',1)\n",
      "New setup ready...\n",
      "Stopping\n",
      "[\"'FaultA'\", \"'FaultC'\"]\n",
      "Success:  csvwrite('./TrainingSet/AC.csv',data.mux_data.Data) \n",
      "\n",
      "\n",
      "Setting up...\n",
      "set_param('ex_9_bus_PMU/Three-Phase Fault','SwitchTimes','[2.5625592335526832 2.813704639641054]','FaultB',1,'FaultC',1)\n",
      "New setup ready...\n",
      "Stopping\n",
      "[\"'FaultB'\", \"'FaultC'\"]\n",
      "Success:  csvwrite('./TrainingSet/BC.csv',data.mux_data.Data) \n",
      "\n",
      "\n",
      "Setting up...\n",
      "set_param('ex_9_bus_PMU/Three-Phase Fault','SwitchTimes','[4.879256353158277 7.9293707665216075]','FaultA',1,'FaultB',1,'FaultC',1)\n",
      "New setup ready...\n",
      "Stopping\n",
      "[\"'FaultA'\", \"'FaultB'\", \"'FaultC'\"]\n",
      "Success:  csvwrite('./TrainingSet/ABC.csv',data.mux_data.Data) \n",
      "\n",
      "\n",
      "Setting up...\n",
      "set_param('ex_9_bus_PMU/Three-Phase Fault','SwitchTimes','[2.473961565307385 2.955074881989188]','FaultA',1,'GroundFault',1)\n",
      "New setup ready...\n",
      "Stopping\n",
      "[\"'FaultA'\", \"'GroundFault'\"]\n",
      "Success:  csvwrite('./TrainingSet/AG.csv',data.mux_data.Data) \n",
      "\n",
      "\n",
      "Setting up...\n",
      "set_param('ex_9_bus_PMU/Three-Phase Fault','SwitchTimes','[4.269407265266812 6.176376063746006]','FaultB',1,'GroundFault',1)\n",
      "New setup ready...\n",
      "Stopping\n",
      "[\"'FaultB'\", \"'GroundFault'\"]\n",
      "Success:  csvwrite('./TrainingSet/BG.csv',data.mux_data.Data) \n",
      "\n",
      "\n",
      "Setting up...\n",
      "set_param('ex_9_bus_PMU/Three-Phase Fault','SwitchTimes','[6.744520923195924 6.900313857240295]','FaultA',1,'FaultB',1,'GroundFault',1)\n",
      "New setup ready...\n",
      "Stopping\n",
      "[\"'FaultA'\", \"'FaultB'\", \"'GroundFault'\"]\n",
      "Success:  csvwrite('./TrainingSet/ABG.csv',data.mux_data.Data) \n",
      "\n",
      "\n",
      "Setting up...\n",
      "set_param('ex_9_bus_PMU/Three-Phase Fault','SwitchTimes','[3.9238747446894537 4.805251396566972]','FaultC',1,'GroundFault',1)\n",
      "New setup ready...\n",
      "Stopping\n",
      "[\"'FaultC'\", \"'GroundFault'\"]\n",
      "Success:  csvwrite('./TrainingSet/CG.csv',data.mux_data.Data) \n",
      "\n",
      "\n",
      "Setting up...\n",
      "set_param('ex_9_bus_PMU/Three-Phase Fault','SwitchTimes','[3.5128997668888022 6.204298301888293]','FaultA',1,'FaultC',1,'GroundFault',1)\n",
      "New setup ready...\n",
      "Stopping\n",
      "[\"'FaultA'\", \"'FaultC'\", \"'GroundFault'\"]\n",
      "Success:  csvwrite('./TrainingSet/ACG.csv',data.mux_data.Data) \n",
      "\n",
      "\n",
      "Setting up...\n",
      "set_param('ex_9_bus_PMU/Three-Phase Fault','SwitchTimes','[8.340097204543284 8.498447212592138]','FaultB',1,'FaultC',1,'GroundFault',1)\n",
      "New setup ready...\n",
      "Stopping\n",
      "[\"'FaultB'\", \"'FaultC'\", \"'GroundFault'\"]\n",
      "Success:  csvwrite('./TrainingSet/BCG.csv',data.mux_data.Data) \n",
      "\n",
      "\n",
      "Setting up...\n",
      "set_param('ex_9_bus_PMU/Three-Phase Fault','SwitchTimes','[2.061406483745544 7.087880101585712]','FaultA',1,'FaultB',1,'FaultC',1,'GroundFault',1)\n",
      "New setup ready...\n",
      "Stopping\n",
      "[\"'FaultA'\", \"'FaultB'\", \"'FaultC'\", \"'GroundFault'\"]\n",
      "Success:  csvwrite('./TrainingSet/ABCG.csv',data.mux_data.Data) \n",
      "\n",
      "\n"
     ]
    }
   ],
   "source": [
    "eng.eval(\"load_system('{}')\".format(file2))\n",
    "model = file2\n",
    "time = 8.0\n",
    "for each in combinations:\n",
    "    \n",
    "    #Flush the parameters at the start of each loop\n",
    "    \n",
    "    flush = \"set_param('ex_9_bus_PMU/Three-Phase Fault',{})\".format(\",0,\".join(combinations[-1])+',0')\n",
    "\n",
    "    print(\"Setting up...\")\n",
    "    #print(flush)\n",
    "    eng.eval(flush,nargout=0)\n",
    "\n",
    "    \n",
    "    \n",
    "    start_time = str(uniform(0.0, time) + uniform(0.0, time)/10)\n",
    "        \n",
    "    end_time = '0'\n",
    "    \n",
    "    while float(end_time) < float(start_time):\n",
    "        end_time = str(uniform(0.0, time) + uniform(0.0, time)/10)\n",
    "            \n",
    "    occr_time = \"'[\" + start_time + \" \" + end_time+ \"]'\"\n",
    "    new_setup = \"set_param('ex_9_bus_PMU/Three-Phase Fault','SwitchTimes',{},{})\".format(occr_time,\",1,\".join(each)+',1')\n",
    "\n",
    "    print(new_setup)\n",
    "    eng.eval(new_setup,nargout=0)\n",
    "    print(\"New setup ready...\")\n",
    "    eng.workspace['data'] = eng.sim(model)\n",
    "        \n",
    "    print('Stopping')\n",
    "    #eng.eval(\"out.mux_data.Data\")\n",
    "     \n",
    "    print(each)\n",
    "    if \"'GroundFault'\" not in each:\n",
    "        name = [i[-2] for i in each]\n",
    "        \n",
    "    else:\n",
    "        \n",
    "        name = [i[-2] for i in each]\n",
    "        name = name[:-1] + ['G']\n",
    "    \n",
    "    name = \"csvwrite(\"+\"'./TrainingSet/\"+\"\".join(name)+\".csv',data.mux_data.Data)\"\n",
    "    \n",
    "    print(\"Success: \",name,\"\\n\\n\")\n",
    "    eng.eval(name,nargout=0)\n"
   ]
  },
  {
   "cell_type": "code",
   "execution_count": 303,
   "metadata": {},
   "outputs": [],
   "source": [
    "import pandas as pd\n",
    "import matplotlib.pyplot as plt"
   ]
  },
  {
   "cell_type": "code",
   "execution_count": 322,
   "metadata": {},
   "outputs": [
    {
     "name": "stdout",
     "output_type": "stream",
     "text": [
      "Check index:  5129\n",
      "Check index:  8000\n"
     ]
    },
    {
     "data": {
      "image/png": "[encoded data removed]",
      "text/plain": [
       "<Figure size 1080x1080 with 6 Axes>"
      ]
     },
     "metadata": {
      "needs_background": "light"
     },
     "output_type": "display_data"
    }
   ],
   "source": [
    "data = pd.read_csv('TrainingSet/BCG.csv')\n",
    "# storing length of columns ignoring column 'label'\n",
    "col_len = data.shape[1]\n",
    "\n",
    "# creating a new column list for the csv as there are no column names from MatLab\n",
    "cols = [str(each+1)+'A' for each in range(int(col_len/2))] + [str(each+1)+'V' for each in range(int(col_len/2))]\n",
    "\n",
    "# assigning new column names to the dataframe\n",
    "data.columns = cols \n",
    "\n",
    "for i in range(len(data)):\n",
    "    if sum(list(data.iloc[i])[3:])/3 >100:\n",
    "        \n",
    "        print(\"Check index: \",i)\n",
    "        break\n",
    "\n",
    "for i in range(len(data)):\n",
    "    if sum(list(data.iloc[len(data)-i-1])[3:])/3 >100:\n",
    "        \n",
    "        print(\"Check index: \",len(data)-i)\n",
    "        break\n",
    "\n",
    "        \n",
    "fig, ax = plt.subplots(6,figsize=(15,15))\n",
    "\n",
    "#normal = data[data.label == 'NML']\n",
    "#abnormal = data[data.label == 'AG']\n",
    "for i in range(col_len):\n",
    "    ax[i].plot(data[cols[i]],\"-\")\n",
    "    ax[i].set_title(cols[i])\n",
    "fig.tight_layout()\n"
   ]
  },
  {
   "cell_type": "code",
   "execution_count": 306,
   "metadata": {},
   "outputs": [
    {
     "ename": "AttributeError",
     "evalue": "'matlab.object' object has no attribute '_data'",
     "output_type": "error",
     "traceback": [
      "\u001b[0;31m---------------------------------------------------------------------------\u001b[0m",
      "\u001b[0;31mAttributeError\u001b[0m                            Traceback (most recent call last)",
      "\u001b[0;32m<ipython-input-306-24cb37e5ba0e>\u001b[0m in \u001b[0;36m<module>\u001b[0;34m\u001b[0m\n\u001b[0;32m----> 1\u001b[0;31m \u001b[0mout\u001b[0m \u001b[0;34m=\u001b[0m \u001b[0mlist\u001b[0m\u001b[0;34m(\u001b[0m\u001b[0mout\u001b[0m\u001b[0;34m.\u001b[0m\u001b[0m_data\u001b[0m\u001b[0;34m)\u001b[0m\u001b[0;34m\u001b[0m\u001b[0;34m\u001b[0m\u001b[0m\n\u001b[0m\u001b[1;32m      2\u001b[0m \u001b[0mmx\u001b[0m \u001b[0;34m=\u001b[0m \u001b[0mout\u001b[0m\u001b[0;34m[\u001b[0m\u001b[0;34m-\u001b[0m\u001b[0;36m1\u001b[0m\u001b[0;34m]\u001b[0m\u001b[0;34m\u001b[0m\u001b[0;34m\u001b[0m\u001b[0m\n\u001b[1;32m      3\u001b[0m \u001b[0mout\u001b[0m \u001b[0;34m=\u001b[0m \u001b[0mint\u001b[0m\u001b[0;34m(\u001b[0m\u001b[0mmx\u001b[0m\u001b[0;34m)\u001b[0m\u001b[0;34m*\u001b[0m\u001b[0mout\u001b[0m\u001b[0;34m\u001b[0m\u001b[0;34m\u001b[0m\u001b[0m\n",
      "\u001b[0;31mAttributeError\u001b[0m: 'matlab.object' object has no attribute '_data'"
     ]
    }
   ],
   "source": [
    "out = list(out._data)\n",
    "mx = out[-1]\n",
    "out = int(mx)*out"
   ]
  },
  {
   "cell_type": "code",
   "execution_count": null,
   "metadata": {},
   "outputs": [],
   "source": [
    "time = list(eng.workspace['time']['time']._data)\n",
    "data = list(eng.workspace['time']['signals']['values']._data)"
   ]
  },
  {
   "cell_type": "code",
   "execution_count": null,
   "metadata": {},
   "outputs": [],
   "source": [
    "import matplotlib.pyplot as plt\n",
    "\n",
    "plt.plot(time,data)\n"
   ]
  },
  {
   "cell_type": "code",
   "execution_count": null,
   "metadata": {},
   "outputs": [],
   "source": [
    "num_of_samples = len(data)\n",
    "time = int(data[-1]._data[-1])\n",
    "print(int(data[-1]._data[-1]),num_of_samples)"
   ]
  },
  {
   "cell_type": "code",
   "execution_count": null,
   "metadata": {},
   "outputs": [],
   "source": [
    "numbers = list(eng.workspace['time']._data)\n"
   ]
  },
  {
   "cell_type": "code",
   "execution_count": null,
   "metadata": {},
   "outputs": [],
   "source": [
    "numbers"
   ]
  },
  {
   "cell_type": "code",
   "execution_count": null,
   "metadata": {},
   "outputs": [],
   "source": [
    "import datetime as dt\n",
    "time = list(data._data)\n",
    "def matlab2datetime(matlab_datenum):\n",
    "    day = dt.datetime.fromordinal(int(matlab_datenum))\n",
    "    dayfrac = dt.timedelta(days=matlab_datenum%1) - dt.timedelta(days = 366)\n",
    "    return day + dayfrac\n",
    "\n",
    "# convert Matlab variable \"t\" into list of python datetime objects\n",
    "my_dict = {}\n",
    "my_dict['date_time'] = [matlab2datetime(tval) for tval in time]\n",
    "my_dict"
   ]
  },
  {
   "cell_type": "code",
   "execution_count": null,
   "metadata": {},
   "outputs": [],
   "source": [
    "eng.cd('/Users/yuganthadiyal/Documents/MATLAB')"
   ]
  },
  {
   "cell_type": "code",
   "execution_count": null,
   "metadata": {},
   "outputs": [],
   "source": [
    "eng.workspace['numbers']"
   ]
  },
  {
   "cell_type": "code",
   "execution_count": null,
   "metadata": {},
   "outputs": [],
   "source": [
    "import matplotlib.pyplot as plt\n",
    "plt.plot(list(eng.workspace['numbers']._data))"
   ]
  },
  {
   "cell_type": "code",
   "execution_count": null,
   "metadata": {},
   "outputs": [],
   "source": [
    "import h5py\n",
    "f = h5py.File('results.mat', 'r')"
   ]
  },
  {
   "cell_type": "code",
   "execution_count": null,
   "metadata": {},
   "outputs": [],
   "source": [
    "obj  = f[list(f.keys())[-1]]\n"
   ]
  },
  {
   "cell_type": "code",
   "execution_count": null,
   "metadata": {},
   "outputs": [],
   "source": [
    "list(obj[0])"
   ]
  },
  {
   "cell_type": "code",
   "execution_count": null,
   "metadata": {},
   "outputs": [],
   "source": []
  }
 ],
 "metadata": {
  "kernelspec": {
   "display_name": "Python 3",
   "language": "python",
   "name": "python3"
  },
  "language_info": {
   "codemirror_mode": {
    "name": "ipython",
    "version": 3
   },
   "file_extension": ".py",
   "mimetype": "text/x-python",
   "name": "python",
   "nbconvert_exporter": "python",
   "pygments_lexer": "ipython3",
   "version": "3.8.5"
  }
 },
 "nbformat": 4,
 "nbformat_minor": 4
}
