{
 "cells": [
  {
   "cell_type": "markdown",
   "metadata": {},
   "source": [
    "# Sequencial NN"
   ]
  },
  {
   "cell_type": "code",
   "execution_count": 6,
   "metadata": {},
   "outputs": [],
   "source": [
    "import numpy as np\n",
    "import pandas as pd \n",
    "import matplotlib.pyplot as plt\n",
    "from keras.models import Sequential\n",
    "from keras.layers import Dense,InputLayer,Dropout\n",
    "from keras.layers import LSTM\n",
    "from config.config import *\n",
    "from config.constants import *\n",
    "from keras.callbacks import ModelCheckpoint\n",
    "from keras.models import load_model\n",
    "from sklearn.metrics import accuracy_score,multilabel_confusion_matrix\n",
    "from collections import Counter\n",
    "from sklearn.model_selection import train_test_split"
   ]
  },
  {
   "cell_type": "code",
   "execution_count": 7,
   "metadata": {},
   "outputs": [],
   "source": [
    "import os\n",
    "import matplotlib.pyplot as plt\n",
    "from kneed import KneeLocator\n",
    "from sklearn.datasets import make_blobs\n",
    "from sklearn.cluster import KMeans\n",
    "from sklearn.metrics import silhouette_score\n",
    "from sklearn.preprocessing import StandardScaler"
   ]
  },
  {
   "cell_type": "code",
   "execution_count": 8,
   "metadata": {},
   "outputs": [],
   "source": [
    "def plot_model(hist):\n",
    "    fig, axs = plt.subplots(nrows=1, figsize=(11, 9))\n",
    "    plt.rcParams['font.size'] = '14'\n",
    "\n",
    "    for label in (axs.get_xticklabels() + axs.get_yticklabels()):\n",
    "        label.set_fontsize(14)    \n",
    "\n",
    "    plt.plot(hist.history['accuracy'])\n",
    "    plt.plot(hist.history['val_accuracy'])\n",
    "\n",
    "    axs.set_title('Model Accuracy')\n",
    "    axs.set_ylabel('Accuracy', fontsize=14)\n",
    "    axs.set_xlabel('Epoch', fontsize=14)\n",
    "    plt.legend(['train', 'val'], loc='upper left')\n",
    "    plt.show()\n",
    "    \n",
    "    print(\"Model has training accuracy of {:.2f}%\".format(hist.history['accuracy'][-1]*100))"
   ]
  },
  {
   "cell_type": "code",
   "execution_count": 9,
   "metadata": {},
   "outputs": [],
   "source": [
    "def pre_process_split(path):\n",
    "    \n",
    "    dataset = pd.read_csv(path)\n",
    "    dataset.dropna(inplace = True)\n",
    "    \n",
    "    # assigning new column names to the dataframe\n",
    "    # dataset.columns = constants.cols + ['label']\n",
    "    \n",
    "    # creating training set ignoring labels\n",
    "    train_data = dataset[dataset.columns[:-1]].values\n",
    "    #scaler = StandardScaler()    \n",
    "    #train_data = scaler.fit_transform(train_data)\n",
    "\n",
    "    labels = dataset['label'].values\n",
    "    n_class = len(set(labels))\n",
    "    \n",
    "    X_train, X_test, y_train, y_test =   train_test_split(train_data, labels, test_size=0.20)\n",
    "\n",
    "    X_train = X_train.reshape(-1, 1, train_data.shape[1])\n",
    "    X_test  = X_test.reshape(-1, 1, train_data.shape[1])\n",
    "    y_train = y_train.reshape(-1, 1, 1)\n",
    "    y_test = y_test.reshape(-1, 1, 1)\n",
    "    \n",
    "    return X_train, X_test, y_train, y_test, n_class"
   ]
  },
  {
   "cell_type": "code",
   "execution_count": 10,
   "metadata": {},
   "outputs": [],
   "source": [
    "def model_config_train(name,eps,bs,actvn,datalink):\n",
    "    \n",
    "    print(\"processing dataset\")\n",
    "    X_train, X_test, y_train, y_test, n_class = pre_process_split(datalink)\n",
    "    \n",
    "    print(n_class)\n",
    "    model = Sequential()\n",
    "    model.add(LSTM(200,input_shape=(X_train.shape[1], X_train.shape[2])))\n",
    "    model.add(Dense(n_class, activation=actvn))\n",
    "    print(model.summary())\n",
    "       \n",
    "    chk = ModelCheckpoint(name+'.pkl',save_best_only=True, mode='auto', verbose=1)\n",
    "    print(\"saving as:\",name+'.pkl')\n",
    "    model.compile(loss='sparse_categorical_crossentropy', optimizer='adam', metrics=['accuracy'])\n",
    "    hist = model.fit(X_train, y_train, epochs=eps, batch_size=bs, callbacks=[chk], validation_split=0.2)    \n",
    "    plot_model(hist)\n",
    "    \n",
    "    return model"
   ]
  },
  {
   "cell_type": "markdown",
   "metadata": {},
   "source": [
    "## Loading dataset for binary classifier"
   ]
  },
  {
   "cell_type": "code",
   "execution_count": 11,
   "metadata": {},
   "outputs": [],
   "source": [
    "def plotter(plot_data,unique_labels,n_plots):\n",
    "    \n",
    "    data = plot_data.copy()\n",
    "    predicted_labels = data['label']\n",
    "    #print(len(set(predicted_labels)),unique_labels)\n",
    "    #print(Counter(predicted_labels).values(),[unique_labels[each] for each in Counter(predicted_labels).keys()])\n",
    "    \n",
    "    matrics = sorted(zip([unique_labels[each] for each in Counter(predicted_labels).keys()],Counter(predicted_labels).values() ), key=lambda x: x[1])\n",
    "    cols = ['A'+str(each+1) for each in range(int(col_len/2))] + ['V'+str(each+1) for each in range(int(col_len/2))]\n",
    "    score = [list(j) for j in matrics][::-1]\n",
    "    \n",
    "    \n",
    "    \n",
    "    total = sum([i[1] for i in score])\n",
    "\n",
    "    c=0\n",
    "    for i in score:\n",
    "\n",
    "        score[c][1] = str(round(i[1]*100/total,2))+\"%\"\n",
    "        #print(\"Fault type:\", i[-1], \"Percentage: {:.2f}%\".format(i[1]*100/total))\n",
    "        c+=1\n",
    "\n",
    "    print(pd.DataFrame.from_records(score,columns=['Fault type','Percentage']))\n",
    "    \n",
    "    #print(\"changing numbers to labels again\")\n",
    "    data['label'] = [unique_labels[i] for i in predicted_labels]\n",
    "\n",
    "    fig, ax = plt.subplots(n_plots,figsize=(15,4*n_plots))\n",
    "\n",
    "    for j in range(n_plots):\n",
    "\n",
    "        legend_list = []\n",
    "        available_labels = [each[0] for each in score ]\n",
    "        \n",
    "        for i in range(len(available_labels)):\n",
    "\n",
    "            extract = data[data.label==available_labels[i]][cols[j]]    \n",
    "\n",
    "            if len(unique_labels)==2:\n",
    "                \n",
    "                if available_labels[i]=='FAULT':\n",
    "                    temp = ax[j].scatter(extract.index,extract,marker='+',s=40) \n",
    "                elif available_labels[i]=='NML':\n",
    "                    temp = ax[j].scatter(extract.index,extract,marker='.',s=10) \n",
    "            else:\n",
    "                #print(available_labels[i],score[i][0],score[i][1])\n",
    "                if available_labels[i]==score[0][0]:\n",
    "                    temp = ax[j].scatter(extract.index,extract,marker='+',s=40)\n",
    "                else:\n",
    "                    temp = ax[j].scatter(extract.index,extract,marker='.',s=10)\n",
    "\n",
    "\n",
    "            legend_list.append(temp)\n",
    "\n",
    "        ax[j].legend(legend_list,available_labels,scatterpoints=3,ncol=1,fontsize=15)\n",
    "\n",
    "    fig.tight_layout()\n",
    "    plt.show()\n",
    "\n",
    "    return score[0][0]"
   ]
  },
  {
   "cell_type": "code",
   "execution_count": 12,
   "metadata": {},
   "outputs": [],
   "source": [
    "def tester(model,frame):\n",
    "    \n",
    "    data = frame\n",
    "    \n",
    "    \n",
    "    cols = ['A'+str(each+1) for each in range(int(col_len/2))] + ['V'+str(each+1) for each in range(int(col_len/2))]\n",
    "    \n",
    "    if data.shape[1]==6:\n",
    "        data.columns = cols\n",
    "    elif data.shape[1]==7:\n",
    "        data.columns = cols + ['label']\n",
    "        data = data[cols]\n",
    "    elif data.shape[1]==3:\n",
    "        data.columns = cols[:3]\n",
    "    elif data.shape[1]==4:\n",
    "        data.columns = cols[:3]+['label']\n",
    "        \n",
    "    else:\n",
    "        print(\"columns length is \",data.shape[1])\n",
    "    \n",
    "    #test_preds = model.predict(data)\n",
    "    if frame.shape[1]<=4:\n",
    "        tup = 3\n",
    "    elif frame.shape[1]>=6:\n",
    "        tup = 6\n",
    "    test_preds = model.predict(data.values.reshape(-1,1,tup).tolist())\n",
    "    predicted_labels = np.argmax(test_preds,axis=1)\n",
    "    \n",
    "    data['label'] = predicted_labels\n",
    "    \n",
    "    return data\n",
    "    "
   ]
  },
  {
   "cell_type": "markdown",
   "metadata": {},
   "source": [
    "## Testing the models"
   ]
  },
  {
   "cell_type": "code",
   "execution_count": 33,
   "metadata": {},
   "outputs": [
    {
     "name": "stdout",
     "output_type": "stream",
     "text": [
      "processing dataset\n",
      "2\n",
      "Model: \"sequential\"\n",
      "_________________________________________________________________\n",
      "Layer (type)                 Output Shape              Param #   \n",
      "=================================================================\n",
      "lstm (LSTM)                  (None, 200)               163200    \n",
      "_________________________________________________________________\n",
      "dense (Dense)                (None, 2)                 402       \n",
      "=================================================================\n",
      "Total params: 163,602\n",
      "Trainable params: 163,602\n",
      "Non-trainable params: 0\n",
      "_________________________________________________________________\n",
      "None\n",
      "saving as: range_binary_clf.pkl\n",
      "Epoch 1/6\n",
      "640/640 [==============================] - 22s 23ms/step - loss: 0.2975 - accuracy: 0.8951 - val_loss: 0.0994 - val_accuracy: 0.9868\n",
      "\n",
      "Epoch 00001: val_loss improved from inf to 0.09944, saving model to range_binary_clf.pkl\n"
     ]
    },
    {
     "name": "stderr",
     "output_type": "stream",
     "text": [
      "WARNING:absl:Found untraced functions such as lstm_cell_18_layer_call_and_return_conditional_losses, lstm_cell_18_layer_call_fn, lstm_cell_18_layer_call_fn, lstm_cell_18_layer_call_and_return_conditional_losses, lstm_cell_18_layer_call_and_return_conditional_losses while saving (showing 5 of 5). These functions will not be directly callable after loading.\n"
     ]
    },
    {
     "name": "stdout",
     "output_type": "stream",
     "text": [
      "INFO:tensorflow:Assets written to: range_binary_clf.pkl/assets\n"
     ]
    },
    {
     "name": "stderr",
     "output_type": "stream",
     "text": [
      "INFO:tensorflow:Assets written to: range_binary_clf.pkl/assets\n"
     ]
    },
    {
     "name": "stdout",
     "output_type": "stream",
     "text": [
      "Epoch 2/6\n",
      "640/640 [==============================] - 14s 23ms/step - loss: 0.0888 - accuracy: 0.9879 - val_loss: 0.0582 - val_accuracy: 0.9951\n",
      "\n",
      "Epoch 00002: val_loss improved from 0.09944 to 0.05822, saving model to range_binary_clf.pkl\n"
     ]
    },
    {
     "name": "stderr",
     "output_type": "stream",
     "text": [
      "WARNING:absl:Found untraced functions such as lstm_cell_18_layer_call_and_return_conditional_losses, lstm_cell_18_layer_call_fn, lstm_cell_18_layer_call_fn, lstm_cell_18_layer_call_and_return_conditional_losses, lstm_cell_18_layer_call_and_return_conditional_losses while saving (showing 5 of 5). These functions will not be directly callable after loading.\n"
     ]
    },
    {
     "name": "stdout",
     "output_type": "stream",
     "text": [
      "INFO:tensorflow:Assets written to: range_binary_clf.pkl/assets\n"
     ]
    },
    {
     "name": "stderr",
     "output_type": "stream",
     "text": [
      "INFO:tensorflow:Assets written to: range_binary_clf.pkl/assets\n"
     ]
    },
    {
     "name": "stdout",
     "output_type": "stream",
     "text": [
      "Epoch 3/6\n",
      "640/640 [==============================] - 16s 25ms/step - loss: 0.0469 - accuracy: 0.9949 - val_loss: 0.0181 - val_accuracy: 0.9949\n",
      "\n",
      "Epoch 00003: val_loss improved from 0.05822 to 0.01806, saving model to range_binary_clf.pkl\n"
     ]
    },
    {
     "name": "stderr",
     "output_type": "stream",
     "text": [
      "WARNING:absl:Found untraced functions such as lstm_cell_18_layer_call_and_return_conditional_losses, lstm_cell_18_layer_call_fn, lstm_cell_18_layer_call_fn, lstm_cell_18_layer_call_and_return_conditional_losses, lstm_cell_18_layer_call_and_return_conditional_losses while saving (showing 5 of 5). These functions will not be directly callable after loading.\n"
     ]
    },
    {
     "name": "stdout",
     "output_type": "stream",
     "text": [
      "INFO:tensorflow:Assets written to: range_binary_clf.pkl/assets\n"
     ]
    },
    {
     "name": "stderr",
     "output_type": "stream",
     "text": [
      "INFO:tensorflow:Assets written to: range_binary_clf.pkl/assets\n"
     ]
    },
    {
     "name": "stdout",
     "output_type": "stream",
     "text": [
      "Epoch 4/6\n",
      "640/640 [==============================] - 16s 24ms/step - loss: 0.0147 - accuracy: 0.9956 - val_loss: 0.0092 - val_accuracy: 0.9972\n",
      "\n",
      "Epoch 00004: val_loss improved from 0.01806 to 0.00918, saving model to range_binary_clf.pkl\n"
     ]
    },
    {
     "name": "stderr",
     "output_type": "stream",
     "text": [
      "WARNING:absl:Found untraced functions such as lstm_cell_18_layer_call_and_return_conditional_losses, lstm_cell_18_layer_call_fn, lstm_cell_18_layer_call_fn, lstm_cell_18_layer_call_and_return_conditional_losses, lstm_cell_18_layer_call_and_return_conditional_losses while saving (showing 5 of 5). These functions will not be directly callable after loading.\n"
     ]
    },
    {
     "name": "stdout",
     "output_type": "stream",
     "text": [
      "INFO:tensorflow:Assets written to: range_binary_clf.pkl/assets\n"
     ]
    },
    {
     "name": "stderr",
     "output_type": "stream",
     "text": [
      "INFO:tensorflow:Assets written to: range_binary_clf.pkl/assets\n"
     ]
    },
    {
     "name": "stdout",
     "output_type": "stream",
     "text": [
      "Epoch 5/6\n",
      "640/640 [==============================] - 15s 24ms/step - loss: 0.0086 - accuracy: 0.9978 - val_loss: 0.0070 - val_accuracy: 0.9986\n",
      "\n",
      "Epoch 00005: val_loss improved from 0.00918 to 0.00703, saving model to range_binary_clf.pkl\n"
     ]
    },
    {
     "name": "stderr",
     "output_type": "stream",
     "text": [
      "WARNING:absl:Found untraced functions such as lstm_cell_18_layer_call_and_return_conditional_losses, lstm_cell_18_layer_call_fn, lstm_cell_18_layer_call_fn, lstm_cell_18_layer_call_and_return_conditional_losses, lstm_cell_18_layer_call_and_return_conditional_losses while saving (showing 5 of 5). These functions will not be directly callable after loading.\n"
     ]
    },
    {
     "name": "stdout",
     "output_type": "stream",
     "text": [
      "INFO:tensorflow:Assets written to: range_binary_clf.pkl/assets\n"
     ]
    },
    {
     "name": "stderr",
     "output_type": "stream",
     "text": [
      "INFO:tensorflow:Assets written to: range_binary_clf.pkl/assets\n"
     ]
    },
    {
     "name": "stdout",
     "output_type": "stream",
     "text": [
      "Epoch 6/6\n",
      "640/640 [==============================] - 16s 24ms/step - loss: 0.0067 - accuracy: 0.9984 - val_loss: 0.0060 - val_accuracy: 0.9988\n",
      "\n",
      "Epoch 00006: val_loss improved from 0.00703 to 0.00601, saving model to range_binary_clf.pkl\n"
     ]
    },
    {
     "name": "stderr",
     "output_type": "stream",
     "text": [
      "WARNING:absl:Found untraced functions such as lstm_cell_18_layer_call_and_return_conditional_losses, lstm_cell_18_layer_call_fn, lstm_cell_18_layer_call_fn, lstm_cell_18_layer_call_and_return_conditional_losses, lstm_cell_18_layer_call_and_return_conditional_losses while saving (showing 5 of 5). These functions will not be directly callable after loading.\n"
     ]
    },
    {
     "name": "stdout",
     "output_type": "stream",
     "text": [
      "INFO:tensorflow:Assets written to: range_binary_clf.pkl/assets\n"
     ]
    },
    {
     "name": "stderr",
     "output_type": "stream",
     "text": [
      "INFO:tensorflow:Assets written to: range_binary_clf.pkl/assets\n"
     ]
    },
    {
     "data": {
      "image/png": "[encoded data removed]",
      "text/plain": [
       "<Figure size 792x648 with 1 Axes>"
      ]
     },
     "metadata": {
      "needs_background": "light"
     },
     "output_type": "display_data"
    },
    {
     "name": "stdout",
     "output_type": "stream",
     "text": [
      "Model has training accuracy of 99.85%\n"
     ]
    },
    {
     "data": {
      "text/plain": [
       "<keras.engine.sequential.Sequential at 0x7fa972b733d0>"
      ]
     },
     "execution_count": 33,
     "metadata": {},
     "output_type": "execute_result"
    }
   ],
   "source": [
    "model_config_train('range_binary_clf',6,2000,'softmax','./RangeTrainingset/binary/bin_dataset_simulink.csv')"
   ]
  },
  {
   "cell_type": "code",
   "execution_count": 91,
   "metadata": {},
   "outputs": [
    {
     "name": "stdout",
     "output_type": "stream",
     "text": [
      "processing dataset\n",
      "10\n",
      "Model: \"sequential_2\"\n",
      "_________________________________________________________________\n",
      "Layer (type)                 Output Shape              Param #   \n",
      "=================================================================\n",
      "lstm_2 (LSTM)                (None, 200)               163200    \n",
      "_________________________________________________________________\n",
      "dense_2 (Dense)              (None, 10)                2010      \n",
      "=================================================================\n",
      "Total params: 165,210\n",
      "Trainable params: 165,210\n",
      "Non-trainable params: 0\n",
      "_________________________________________________________________\n",
      "None\n",
      "saving as: range_multi_clf.pkl\n",
      "Epoch 1/15\n",
      "69/69 [==============================] - 4s 31ms/step - loss: 2.2062 - accuracy: 0.3407 - val_loss: 1.8444 - val_accuracy: 0.4516\n",
      "\n",
      "Epoch 00001: val_loss improved from inf to 1.84438, saving model to range_multi_clf.pkl\n"
     ]
    },
    {
     "name": "stderr",
     "output_type": "stream",
     "text": [
      "WARNING:absl:Found untraced functions such as lstm_cell_28_layer_call_and_return_conditional_losses, lstm_cell_28_layer_call_fn, lstm_cell_28_layer_call_fn, lstm_cell_28_layer_call_and_return_conditional_losses, lstm_cell_28_layer_call_and_return_conditional_losses while saving (showing 5 of 5). These functions will not be directly callable after loading.\n"
     ]
    },
    {
     "name": "stdout",
     "output_type": "stream",
     "text": [
      "INFO:tensorflow:Assets written to: range_multi_clf.pkl/assets\n"
     ]
    },
    {
     "name": "stderr",
     "output_type": "stream",
     "text": [
      "INFO:tensorflow:Assets written to: range_multi_clf.pkl/assets\n"
     ]
    },
    {
     "name": "stdout",
     "output_type": "stream",
     "text": [
      "Epoch 2/15\n",
      "69/69 [==============================] - 2s 27ms/step - loss: 1.7029 - accuracy: 0.5333 - val_loss: 1.2651 - val_accuracy: 0.6249\n",
      "\n",
      "Epoch 00002: val_loss improved from 1.84438 to 1.26514, saving model to range_multi_clf.pkl\n"
     ]
    },
    {
     "name": "stderr",
     "output_type": "stream",
     "text": [
      "WARNING:absl:Found untraced functions such as lstm_cell_28_layer_call_and_return_conditional_losses, lstm_cell_28_layer_call_fn, lstm_cell_28_layer_call_fn, lstm_cell_28_layer_call_and_return_conditional_losses, lstm_cell_28_layer_call_and_return_conditional_losses while saving (showing 5 of 5). These functions will not be directly callable after loading.\n"
     ]
    },
    {
     "name": "stdout",
     "output_type": "stream",
     "text": [
      "INFO:tensorflow:Assets written to: range_multi_clf.pkl/assets\n"
     ]
    },
    {
     "name": "stderr",
     "output_type": "stream",
     "text": [
      "INFO:tensorflow:Assets written to: range_multi_clf.pkl/assets\n"
     ]
    },
    {
     "name": "stdout",
     "output_type": "stream",
     "text": [
      "Epoch 3/15\n",
      "69/69 [==============================] - 2s 26ms/step - loss: 1.1663 - accuracy: 0.6540 - val_loss: 0.9298 - val_accuracy: 0.7602\n",
      "\n",
      "Epoch 00003: val_loss improved from 1.26514 to 0.92982, saving model to range_multi_clf.pkl\n"
     ]
    },
    {
     "name": "stderr",
     "output_type": "stream",
     "text": [
      "WARNING:absl:Found untraced functions such as lstm_cell_28_layer_call_and_return_conditional_losses, lstm_cell_28_layer_call_fn, lstm_cell_28_layer_call_fn, lstm_cell_28_layer_call_and_return_conditional_losses, lstm_cell_28_layer_call_and_return_conditional_losses while saving (showing 5 of 5). These functions will not be directly callable after loading.\n"
     ]
    },
    {
     "name": "stdout",
     "output_type": "stream",
     "text": [
      "INFO:tensorflow:Assets written to: range_multi_clf.pkl/assets\n"
     ]
    },
    {
     "name": "stderr",
     "output_type": "stream",
     "text": [
      "INFO:tensorflow:Assets written to: range_multi_clf.pkl/assets\n"
     ]
    },
    {
     "name": "stdout",
     "output_type": "stream",
     "text": [
      "Epoch 4/15\n",
      "69/69 [==============================] - 2s 24ms/step - loss: 0.8821 - accuracy: 0.7867 - val_loss: 0.7378 - val_accuracy: 0.8509\n",
      "\n",
      "Epoch 00004: val_loss improved from 0.92982 to 0.73778, saving model to range_multi_clf.pkl\n"
     ]
    },
    {
     "name": "stderr",
     "output_type": "stream",
     "text": [
      "WARNING:absl:Found untraced functions such as lstm_cell_28_layer_call_and_return_conditional_losses, lstm_cell_28_layer_call_fn, lstm_cell_28_layer_call_fn, lstm_cell_28_layer_call_and_return_conditional_losses, lstm_cell_28_layer_call_and_return_conditional_losses while saving (showing 5 of 5). These functions will not be directly callable after loading.\n"
     ]
    },
    {
     "name": "stdout",
     "output_type": "stream",
     "text": [
      "INFO:tensorflow:Assets written to: range_multi_clf.pkl/assets\n"
     ]
    },
    {
     "name": "stderr",
     "output_type": "stream",
     "text": [
      "INFO:tensorflow:Assets written to: range_multi_clf.pkl/assets\n"
     ]
    },
    {
     "name": "stdout",
     "output_type": "stream",
     "text": [
      "Epoch 5/15\n",
      "69/69 [==============================] - 2s 24ms/step - loss: 0.7009 - accuracy: 0.8621 - val_loss: 0.5848 - val_accuracy: 0.9039\n",
      "\n",
      "Epoch 00005: val_loss improved from 0.73778 to 0.58483, saving model to range_multi_clf.pkl\n"
     ]
    },
    {
     "name": "stderr",
     "output_type": "stream",
     "text": [
      "WARNING:absl:Found untraced functions such as lstm_cell_28_layer_call_and_return_conditional_losses, lstm_cell_28_layer_call_fn, lstm_cell_28_layer_call_fn, lstm_cell_28_layer_call_and_return_conditional_losses, lstm_cell_28_layer_call_and_return_conditional_losses while saving (showing 5 of 5). These functions will not be directly callable after loading.\n"
     ]
    },
    {
     "name": "stdout",
     "output_type": "stream",
     "text": [
      "INFO:tensorflow:Assets written to: range_multi_clf.pkl/assets\n"
     ]
    },
    {
     "name": "stderr",
     "output_type": "stream",
     "text": [
      "INFO:tensorflow:Assets written to: range_multi_clf.pkl/assets\n"
     ]
    },
    {
     "name": "stdout",
     "output_type": "stream",
     "text": [
      "Epoch 6/15\n",
      "69/69 [==============================] - 2s 25ms/step - loss: 0.5545 - accuracy: 0.9215 - val_loss: 0.4546 - val_accuracy: 0.9281\n",
      "\n",
      "Epoch 00006: val_loss improved from 0.58483 to 0.45459, saving model to range_multi_clf.pkl\n"
     ]
    },
    {
     "name": "stderr",
     "output_type": "stream",
     "text": [
      "WARNING:absl:Found untraced functions such as lstm_cell_28_layer_call_and_return_conditional_losses, lstm_cell_28_layer_call_fn, lstm_cell_28_layer_call_fn, lstm_cell_28_layer_call_and_return_conditional_losses, lstm_cell_28_layer_call_and_return_conditional_losses while saving (showing 5 of 5). These functions will not be directly callable after loading.\n"
     ]
    },
    {
     "name": "stdout",
     "output_type": "stream",
     "text": [
      "INFO:tensorflow:Assets written to: range_multi_clf.pkl/assets\n"
     ]
    },
    {
     "name": "stderr",
     "output_type": "stream",
     "text": [
      "INFO:tensorflow:Assets written to: range_multi_clf.pkl/assets\n"
     ]
    },
    {
     "name": "stdout",
     "output_type": "stream",
     "text": [
      "Epoch 7/15\n",
      "69/69 [==============================] - 2s 27ms/step - loss: 0.4293 - accuracy: 0.9267 - val_loss: 0.3478 - val_accuracy: 0.9321\n",
      "\n",
      "Epoch 00007: val_loss improved from 0.45459 to 0.34783, saving model to range_multi_clf.pkl\n"
     ]
    },
    {
     "name": "stderr",
     "output_type": "stream",
     "text": [
      "WARNING:absl:Found untraced functions such as lstm_cell_28_layer_call_and_return_conditional_losses, lstm_cell_28_layer_call_fn, lstm_cell_28_layer_call_fn, lstm_cell_28_layer_call_and_return_conditional_losses, lstm_cell_28_layer_call_and_return_conditional_losses while saving (showing 5 of 5). These functions will not be directly callable after loading.\n"
     ]
    },
    {
     "name": "stdout",
     "output_type": "stream",
     "text": [
      "INFO:tensorflow:Assets written to: range_multi_clf.pkl/assets\n"
     ]
    },
    {
     "name": "stderr",
     "output_type": "stream",
     "text": [
      "INFO:tensorflow:Assets written to: range_multi_clf.pkl/assets\n"
     ]
    },
    {
     "name": "stdout",
     "output_type": "stream",
     "text": [
      "Epoch 8/15\n",
      "69/69 [==============================] - 2s 24ms/step - loss: 0.3306 - accuracy: 0.9305 - val_loss: 0.2685 - val_accuracy: 0.9478\n",
      "\n",
      "Epoch 00008: val_loss improved from 0.34783 to 0.26848, saving model to range_multi_clf.pkl\n"
     ]
    },
    {
     "name": "stderr",
     "output_type": "stream",
     "text": [
      "WARNING:absl:Found untraced functions such as lstm_cell_28_layer_call_and_return_conditional_losses, lstm_cell_28_layer_call_fn, lstm_cell_28_layer_call_fn, lstm_cell_28_layer_call_and_return_conditional_losses, lstm_cell_28_layer_call_and_return_conditional_losses while saving (showing 5 of 5). These functions will not be directly callable after loading.\n"
     ]
    },
    {
     "name": "stdout",
     "output_type": "stream",
     "text": [
      "INFO:tensorflow:Assets written to: range_multi_clf.pkl/assets\n"
     ]
    },
    {
     "name": "stderr",
     "output_type": "stream",
     "text": [
      "INFO:tensorflow:Assets written to: range_multi_clf.pkl/assets\n"
     ]
    },
    {
     "name": "stdout",
     "output_type": "stream",
     "text": [
      "Epoch 9/15\n",
      "69/69 [==============================] - 2s 24ms/step - loss: 0.2557 - accuracy: 0.9492 - val_loss: 0.2141 - val_accuracy: 0.9594\n",
      "\n",
      "Epoch 00009: val_loss improved from 0.26848 to 0.21405, saving model to range_multi_clf.pkl\n"
     ]
    },
    {
     "name": "stderr",
     "output_type": "stream",
     "text": [
      "WARNING:absl:Found untraced functions such as lstm_cell_28_layer_call_and_return_conditional_losses, lstm_cell_28_layer_call_fn, lstm_cell_28_layer_call_fn, lstm_cell_28_layer_call_and_return_conditional_losses, lstm_cell_28_layer_call_and_return_conditional_losses while saving (showing 5 of 5). These functions will not be directly callable after loading.\n"
     ]
    },
    {
     "name": "stdout",
     "output_type": "stream",
     "text": [
      "INFO:tensorflow:Assets written to: range_multi_clf.pkl/assets\n"
     ]
    },
    {
     "name": "stderr",
     "output_type": "stream",
     "text": [
      "INFO:tensorflow:Assets written to: range_multi_clf.pkl/assets\n"
     ]
    },
    {
     "name": "stdout",
     "output_type": "stream",
     "text": [
      "Epoch 10/15\n",
      "69/69 [==============================] - 2s 25ms/step - loss: 0.2045 - accuracy: 0.9605 - val_loss: 0.1780 - val_accuracy: 0.9616\n",
      "\n",
      "Epoch 00010: val_loss improved from 0.21405 to 0.17802, saving model to range_multi_clf.pkl\n"
     ]
    },
    {
     "name": "stderr",
     "output_type": "stream",
     "text": [
      "WARNING:absl:Found untraced functions such as lstm_cell_28_layer_call_and_return_conditional_losses, lstm_cell_28_layer_call_fn, lstm_cell_28_layer_call_fn, lstm_cell_28_layer_call_and_return_conditional_losses, lstm_cell_28_layer_call_and_return_conditional_losses while saving (showing 5 of 5). These functions will not be directly callable after loading.\n"
     ]
    },
    {
     "name": "stdout",
     "output_type": "stream",
     "text": [
      "INFO:tensorflow:Assets written to: range_multi_clf.pkl/assets\n"
     ]
    },
    {
     "name": "stderr",
     "output_type": "stream",
     "text": [
      "INFO:tensorflow:Assets written to: range_multi_clf.pkl/assets\n"
     ]
    },
    {
     "name": "stdout",
     "output_type": "stream",
     "text": [
      "Epoch 11/15\n",
      "69/69 [==============================] - 2s 26ms/step - loss: 0.1734 - accuracy: 0.9621 - val_loss: 0.1545 - val_accuracy: 0.9632\n",
      "\n",
      "Epoch 00011: val_loss improved from 0.17802 to 0.15454, saving model to range_multi_clf.pkl\n"
     ]
    },
    {
     "name": "stderr",
     "output_type": "stream",
     "text": [
      "WARNING:absl:Found untraced functions such as lstm_cell_28_layer_call_and_return_conditional_losses, lstm_cell_28_layer_call_fn, lstm_cell_28_layer_call_fn, lstm_cell_28_layer_call_and_return_conditional_losses, lstm_cell_28_layer_call_and_return_conditional_losses while saving (showing 5 of 5). These functions will not be directly callable after loading.\n"
     ]
    },
    {
     "name": "stdout",
     "output_type": "stream",
     "text": [
      "INFO:tensorflow:Assets written to: range_multi_clf.pkl/assets\n"
     ]
    },
    {
     "name": "stderr",
     "output_type": "stream",
     "text": [
      "INFO:tensorflow:Assets written to: range_multi_clf.pkl/assets\n"
     ]
    },
    {
     "name": "stdout",
     "output_type": "stream",
     "text": [
      "Epoch 12/15\n",
      "69/69 [==============================] - 2s 25ms/step - loss: 0.1522 - accuracy: 0.9623 - val_loss: 0.1380 - val_accuracy: 0.9640\n",
      "\n",
      "Epoch 00012: val_loss improved from 0.15454 to 0.13796, saving model to range_multi_clf.pkl\n"
     ]
    },
    {
     "name": "stderr",
     "output_type": "stream",
     "text": [
      "WARNING:absl:Found untraced functions such as lstm_cell_28_layer_call_and_return_conditional_losses, lstm_cell_28_layer_call_fn, lstm_cell_28_layer_call_fn, lstm_cell_28_layer_call_and_return_conditional_losses, lstm_cell_28_layer_call_and_return_conditional_losses while saving (showing 5 of 5). These functions will not be directly callable after loading.\n"
     ]
    },
    {
     "name": "stdout",
     "output_type": "stream",
     "text": [
      "INFO:tensorflow:Assets written to: range_multi_clf.pkl/assets\n"
     ]
    },
    {
     "name": "stderr",
     "output_type": "stream",
     "text": [
      "INFO:tensorflow:Assets written to: range_multi_clf.pkl/assets\n"
     ]
    },
    {
     "name": "stdout",
     "output_type": "stream",
     "text": [
      "Epoch 13/15\n",
      "69/69 [==============================] - 2s 28ms/step - loss: 0.1367 - accuracy: 0.9641 - val_loss: 0.1261 - val_accuracy: 0.9643\n",
      "\n",
      "Epoch 00013: val_loss improved from 0.13796 to 0.12615, saving model to range_multi_clf.pkl\n"
     ]
    },
    {
     "name": "stderr",
     "output_type": "stream",
     "text": [
      "WARNING:absl:Found untraced functions such as lstm_cell_28_layer_call_and_return_conditional_losses, lstm_cell_28_layer_call_fn, lstm_cell_28_layer_call_fn, lstm_cell_28_layer_call_and_return_conditional_losses, lstm_cell_28_layer_call_and_return_conditional_losses while saving (showing 5 of 5). These functions will not be directly callable after loading.\n"
     ]
    },
    {
     "name": "stdout",
     "output_type": "stream",
     "text": [
      "INFO:tensorflow:Assets written to: range_multi_clf.pkl/assets\n"
     ]
    },
    {
     "name": "stderr",
     "output_type": "stream",
     "text": [
      "INFO:tensorflow:Assets written to: range_multi_clf.pkl/assets\n"
     ]
    },
    {
     "name": "stdout",
     "output_type": "stream",
     "text": [
      "Epoch 14/15\n",
      "69/69 [==============================] - 2s 26ms/step - loss: 0.1255 - accuracy: 0.9649 - val_loss: 0.1177 - val_accuracy: 0.9648\n",
      "\n",
      "Epoch 00014: val_loss improved from 0.12615 to 0.11772, saving model to range_multi_clf.pkl\n"
     ]
    },
    {
     "name": "stderr",
     "output_type": "stream",
     "text": [
      "WARNING:absl:Found untraced functions such as lstm_cell_28_layer_call_and_return_conditional_losses, lstm_cell_28_layer_call_fn, lstm_cell_28_layer_call_fn, lstm_cell_28_layer_call_and_return_conditional_losses, lstm_cell_28_layer_call_and_return_conditional_losses while saving (showing 5 of 5). These functions will not be directly callable after loading.\n"
     ]
    },
    {
     "name": "stdout",
     "output_type": "stream",
     "text": [
      "INFO:tensorflow:Assets written to: range_multi_clf.pkl/assets\n"
     ]
    },
    {
     "name": "stderr",
     "output_type": "stream",
     "text": [
      "INFO:tensorflow:Assets written to: range_multi_clf.pkl/assets\n"
     ]
    },
    {
     "name": "stdout",
     "output_type": "stream",
     "text": [
      "Epoch 15/15\n",
      "69/69 [==============================] - 2s 26ms/step - loss: 0.1162 - accuracy: 0.9663 - val_loss: 0.1105 - val_accuracy: 0.9683\n",
      "\n",
      "Epoch 00015: val_loss improved from 0.11772 to 0.11050, saving model to range_multi_clf.pkl\n"
     ]
    },
    {
     "name": "stderr",
     "output_type": "stream",
     "text": [
      "WARNING:absl:Found untraced functions such as lstm_cell_28_layer_call_and_return_conditional_losses, lstm_cell_28_layer_call_fn, lstm_cell_28_layer_call_fn, lstm_cell_28_layer_call_and_return_conditional_losses, lstm_cell_28_layer_call_and_return_conditional_losses while saving (showing 5 of 5). These functions will not be directly callable after loading.\n"
     ]
    },
    {
     "name": "stdout",
     "output_type": "stream",
     "text": [
      "INFO:tensorflow:Assets written to: range_multi_clf.pkl/assets\n"
     ]
    },
    {
     "name": "stderr",
     "output_type": "stream",
     "text": [
      "INFO:tensorflow:Assets written to: range_multi_clf.pkl/assets\n"
     ]
    },
    {
     "data": {
      "image/png": "[encoded data removed]",
      "text/plain": [
       "<Figure size 792x648 with 1 Axes>"
      ]
     },
     "metadata": {
      "needs_background": "light"
     },
     "output_type": "display_data"
    },
    {
     "name": "stdout",
     "output_type": "stream",
     "text": [
      "Model has training accuracy of 96.66%\n"
     ]
    },
    {
     "data": {
      "text/plain": [
       "<keras.engine.sequential.Sequential at 0x7fa94ff25730>"
      ]
     },
     "execution_count": 91,
     "metadata": {},
     "output_type": "execute_result"
    }
   ],
   "source": [
    "model_config_train('range_multi_clf',15,2000,'softmax','./RangeTrainingset/multi/mul_dataset_simulink.csv')"
   ]
  },
  {
   "cell_type": "code",
   "execution_count": 17,
   "metadata": {},
   "outputs": [],
   "source": [
    "binary_labels_list = ['NML','FAULT']\n"
   ]
  },
  {
   "cell_type": "code",
   "execution_count": 18,
   "metadata": {},
   "outputs": [],
   "source": [
    "#multi_labels_list = ['AB', 'AC', 'BC', 'ABC', 'AG', 'BG', 'ABG', 'CG', 'ACG', 'BCG', 'ABCG']\n",
    "multi_labels_list = ['AB', 'AC', 'BC','AG', 'BG', 'ABG', 'CG', 'ACG', 'BCG', 'ABCG']\n"
   ]
  },
  {
   "cell_type": "code",
   "execution_count": 19,
   "metadata": {},
   "outputs": [],
   "source": [
    "binary_model = load_model('range_binary_clf.pkl')\n",
    "multi_model = load_model('range_multi_clf.pkl')"
   ]
  },
  {
   "cell_type": "code",
   "execution_count": 20,
   "metadata": {},
   "outputs": [
    {
     "name": "stdout",
     "output_type": "stream",
     "text": [
      "  Fault type Percentage\n",
      "0        NML     99.07%\n",
      "1      FAULT      0.93%\n"
     ]
    },
    {
     "data": {
      "image/png": "[encoded data removed]",
      "text/plain": [
       "<Figure size 1080x864 with 3 Axes>"
      ]
     },
     "metadata": {
      "needs_background": "light"
     },
     "output_type": "display_data"
    },
    {
     "name": "stdout",
     "output_type": "stream",
     "text": [
      "  Fault type Percentage\n",
      "0         BG     100.0%\n"
     ]
    },
    {
     "data": {
      "image/png": "[encoded data removed]",
      "text/plain": [
       "<Figure size 1080x864 with 3 Axes>"
      ]
     },
     "metadata": {
      "needs_background": "light"
     },
     "output_type": "display_data"
    },
    {
     "data": {
      "text/plain": [
       "'BG'"
      ]
     },
     "execution_count": 20,
     "metadata": {},
     "output_type": "execute_result"
    }
   ],
   "source": [
    "dat = pd.read_csv('ml_test.csv')\n",
    "dat = dat[dat.columns[:3]]\n",
    "data = tester(binary_model,dat)\n",
    "plotter(data,binary_labels_list,3)\n",
    "data = tester(multi_model,data[data.label!=0][data.columns[:3]])\n",
    "plotter(data,multi_labels_list,3)\n"
   ]
  },
  {
   "cell_type": "code",
   "execution_count": 3,
   "metadata": {},
   "outputs": [],
   "source": [
    "# current directory\n",
    "path = \"./RangeTrainingset/\"\n",
    "\n",
    "# list of file of the given path is assigned to the variable \n",
    "file_list = [each for each in list(os.walk(path))[0][-1] if \".csv\" in each]"
   ]
  },
  {
   "cell_type": "code",
   "execution_count": 22,
   "metadata": {},
   "outputs": [
    {
     "name": "stdout",
     "output_type": "stream",
     "text": [
      "\n",
      ".\n",
      ".\n",
      " 5ABCG.csv\n",
      "  Fault type Percentage\n",
      "0        NML      96.9%\n",
      "1      FAULT       3.1%\n"
     ]
    },
    {
     "data": {
      "image/png": "[encoded data removed]",
      "text/plain": [
       "<Figure size 1080x576 with 2 Axes>"
      ]
     },
     "metadata": {
      "needs_background": "light"
     },
     "output_type": "display_data"
    },
    {
     "ename": "ValueError",
     "evalue": "cannot reshape array of size 2480 into shape (1,3)",
     "output_type": "error",
     "traceback": [
      "\u001b[0;31m---------------------------------------------------------------------------\u001b[0m",
      "\u001b[0;31mValueError\u001b[0m                                Traceback (most recent call last)",
      "\u001b[0;32m<ipython-input-22-7994883be3b7>\u001b[0m in \u001b[0;36m<module>\u001b[0;34m\u001b[0m\n\u001b[1;32m      7\u001b[0m     \u001b[0mtemp\u001b[0m \u001b[0;34m=\u001b[0m \u001b[0mtester\u001b[0m\u001b[0;34m(\u001b[0m\u001b[0mbinary_model\u001b[0m\u001b[0;34m,\u001b[0m\u001b[0mtemp\u001b[0m\u001b[0;34m[\u001b[0m\u001b[0mtemp\u001b[0m\u001b[0;34m.\u001b[0m\u001b[0mcolumns\u001b[0m\u001b[0;34m[\u001b[0m\u001b[0;34m:\u001b[0m\u001b[0;36m3\u001b[0m\u001b[0;34m]\u001b[0m\u001b[0;34m]\u001b[0m\u001b[0;34m)\u001b[0m\u001b[0;34m\u001b[0m\u001b[0;34m\u001b[0m\u001b[0m\n\u001b[1;32m      8\u001b[0m     \u001b[0mplotter\u001b[0m\u001b[0;34m(\u001b[0m\u001b[0mtemp\u001b[0m\u001b[0;34m,\u001b[0m\u001b[0mbinary_labels_list\u001b[0m\u001b[0;34m,\u001b[0m\u001b[0;36m2\u001b[0m\u001b[0;34m)\u001b[0m\u001b[0;34m\u001b[0m\u001b[0;34m\u001b[0m\u001b[0m\n\u001b[0;32m----> 9\u001b[0;31m     \u001b[0mtemp\u001b[0m \u001b[0;34m=\u001b[0m \u001b[0mtester\u001b[0m\u001b[0;34m(\u001b[0m\u001b[0mmulti_model\u001b[0m\u001b[0;34m,\u001b[0m\u001b[0mtemp\u001b[0m\u001b[0;34m[\u001b[0m\u001b[0mtemp\u001b[0m\u001b[0;34m.\u001b[0m\u001b[0mlabel\u001b[0m\u001b[0;34m!=\u001b[0m\u001b[0;36m0\u001b[0m\u001b[0;34m]\u001b[0m\u001b[0;34m)\u001b[0m\u001b[0;34m\u001b[0m\u001b[0;34m\u001b[0m\u001b[0m\n\u001b[0m\u001b[1;32m     10\u001b[0m     \u001b[0mhigh\u001b[0m \u001b[0;34m=\u001b[0m \u001b[0mplotter\u001b[0m\u001b[0;34m(\u001b[0m\u001b[0mtemp\u001b[0m\u001b[0;34m,\u001b[0m\u001b[0mmulti_labels_list\u001b[0m\u001b[0;34m,\u001b[0m\u001b[0;36m2\u001b[0m\u001b[0;34m)\u001b[0m\u001b[0;34m\u001b[0m\u001b[0;34m\u001b[0m\u001b[0m\n\u001b[1;32m     11\u001b[0m     \u001b[0;32mif\u001b[0m \u001b[0mhigh\u001b[0m \u001b[0;34m==\u001b[0m \u001b[0;34m''\u001b[0m\u001b[0;34m.\u001b[0m\u001b[0mjoin\u001b[0m\u001b[0;34m(\u001b[0m\u001b[0;34m[\u001b[0m\u001b[0mi\u001b[0m \u001b[0;32mfor\u001b[0m \u001b[0mi\u001b[0m \u001b[0;32min\u001b[0m \u001b[0meach\u001b[0m\u001b[0;34m.\u001b[0m\u001b[0msplit\u001b[0m\u001b[0;34m(\u001b[0m\u001b[0;34m\".\"\u001b[0m\u001b[0;34m)\u001b[0m\u001b[0;34m[\u001b[0m\u001b[0;36m0\u001b[0m\u001b[0;34m]\u001b[0m \u001b[0;32mif\u001b[0m \u001b[0;32mnot\u001b[0m \u001b[0mi\u001b[0m\u001b[0;34m.\u001b[0m\u001b[0misdigit\u001b[0m\u001b[0;34m(\u001b[0m\u001b[0;34m)\u001b[0m\u001b[0;34m]\u001b[0m\u001b[0;34m)\u001b[0m\u001b[0;34m:\u001b[0m\u001b[0;34m\u001b[0m\u001b[0;34m\u001b[0m\u001b[0m\n",
      "\u001b[0;32m<ipython-input-12-54a11d1aeeab>\u001b[0m in \u001b[0;36mtester\u001b[0;34m(model, frame)\u001b[0m\n\u001b[1;32m     24\u001b[0m     \u001b[0;32melif\u001b[0m \u001b[0mframe\u001b[0m\u001b[0;34m.\u001b[0m\u001b[0mshape\u001b[0m\u001b[0;34m[\u001b[0m\u001b[0;36m1\u001b[0m\u001b[0;34m]\u001b[0m\u001b[0;34m>=\u001b[0m\u001b[0;36m6\u001b[0m\u001b[0;34m:\u001b[0m\u001b[0;34m\u001b[0m\u001b[0;34m\u001b[0m\u001b[0m\n\u001b[1;32m     25\u001b[0m         \u001b[0mtup\u001b[0m \u001b[0;34m=\u001b[0m \u001b[0;36m6\u001b[0m\u001b[0;34m\u001b[0m\u001b[0;34m\u001b[0m\u001b[0m\n\u001b[0;32m---> 26\u001b[0;31m     \u001b[0mtest_preds\u001b[0m \u001b[0;34m=\u001b[0m \u001b[0mmodel\u001b[0m\u001b[0;34m.\u001b[0m\u001b[0mpredict\u001b[0m\u001b[0;34m(\u001b[0m\u001b[0mdata\u001b[0m\u001b[0;34m.\u001b[0m\u001b[0mvalues\u001b[0m\u001b[0;34m.\u001b[0m\u001b[0mreshape\u001b[0m\u001b[0;34m(\u001b[0m\u001b[0;34m-\u001b[0m\u001b[0;36m1\u001b[0m\u001b[0;34m,\u001b[0m\u001b[0;36m1\u001b[0m\u001b[0;34m,\u001b[0m\u001b[0mtup\u001b[0m\u001b[0;34m)\u001b[0m\u001b[0;34m.\u001b[0m\u001b[0mtolist\u001b[0m\u001b[0;34m(\u001b[0m\u001b[0;34m)\u001b[0m\u001b[0;34m)\u001b[0m\u001b[0;34m\u001b[0m\u001b[0;34m\u001b[0m\u001b[0m\n\u001b[0m\u001b[1;32m     27\u001b[0m     \u001b[0mpredicted_labels\u001b[0m \u001b[0;34m=\u001b[0m \u001b[0mnp\u001b[0m\u001b[0;34m.\u001b[0m\u001b[0margmax\u001b[0m\u001b[0;34m(\u001b[0m\u001b[0mtest_preds\u001b[0m\u001b[0;34m,\u001b[0m\u001b[0maxis\u001b[0m\u001b[0;34m=\u001b[0m\u001b[0;36m1\u001b[0m\u001b[0;34m)\u001b[0m\u001b[0;34m\u001b[0m\u001b[0;34m\u001b[0m\u001b[0m\n\u001b[1;32m     28\u001b[0m \u001b[0;34m\u001b[0m\u001b[0m\n",
      "\u001b[0;31mValueError\u001b[0m: cannot reshape array of size 2480 into shape (1,3)"
     ]
    }
   ],
   "source": [
    "files_failing_the_test = []\n",
    "files_passing_the_test = []\n",
    "\n",
    "for each in file_list:\n",
    "    print(\"\\n.\\n.\\n\",each)      \n",
    "    temp = pd.read_csv('./RangeTrainingset/'+each)    \n",
    "    temp = tester(binary_model,temp[temp.columns[:3]])\n",
    "    plotter(temp,binary_labels_list,2)\n",
    "    temp = tester(multi_model,temp[temp.label!=0])\n",
    "    high = plotter(temp,multi_labels_list,2)\n",
    "    if high == ''.join([i for i in each.split(\".\")[0] if not i.isdigit()]):\n",
    "        files_passing_the_test.append(each)\n",
    "    else:\n",
    "        files_failing_the_test.append(each)\n"
   ]
  },
  {
   "cell_type": "code",
   "execution_count": 229,
   "metadata": {},
   "outputs": [
    {
     "name": "stdout",
     "output_type": "stream",
     "text": [
      "['10ABG.csv', '3BC.csv', '3CG.csv', '1BCG.csv', '7BG.csv', '5BG.csv', '9ABG.csv', '1BC.csv', '1CG.csv', '5ABG.csv', '9AG.csv', '7ABC.csv', '7ACG.csv', '7ABG.csv', '9AC.csv', '1BG.csv', '5ABC.csv', '5ACG.csv', '9AB.csv', '9ACG.csv', '9ABC.csv', '5BC.csv', '5CG.csv', '7BC.csv', '7CG.csv', '10ACG.csv', '3BG.csv', '10ABC.csv', '3BCG.csv', '4BG.csv', '1ABC.csv', '1ACG.csv', '8AG.csv', '3ABG.csv', '10AC.csv', '7BCG.csv', '6BG.csv', '10AB.csv', '2BC.csv', '2CG.csv', '5BCG.csv', '2BG.csv', '6BC.csv', '6CG.csv', '9BCG.csv', '10AG.csv', '3ABC.csv', '3ACG.csv', '8AC.csv', '4BC.csv', '4CG.csv', '1ABG.csv', '8AB.csv', '10BCG.csv', '8CG.csv', '8BC.csv', '4AB.csv', '6ACG.csv', '6ABC.csv', '8ABG.csv', '4AC.csv', '4ABG.csv', '2AG.csv', '6AC.csv', '6AB.csv', '10BG.csv', '2AB.csv', '2BCG.csv', '10BC.csv', '10CG.csv', '6AG.csv', '2AC.csv', '4ACG.csv', '4ABC.csv', '8ABC.csv', '8ACG.csv', '4AG.csv', '6ABG.csv', '8BG.csv', '7AC.csv', '3AG.csv', '7AB.csv', '6BCG.csv', '5AB.csv', '9CG.csv', '9BC.csv', '2ABG.csv', '1AG.csv', '5AC.csv', '5AG.csv', '1AC.csv', '2ACG.csv', '1AB.csv', '2ABC.csv', '9BG.csv', '3AB.csv', '3AC.csv', '4BCG.csv', '7AG.csv', '8BCG.csv'] ....\n",
      "\n",
      ".... ['5ABCG.csv', '4ABCG.csv', '6ABCG.csv', '7ABCG.csv', '2ABCG.csv', '10ABCG.csv', '3ABCG.csv', '1ABCG.csv', '8ABCG.csv', '9ABCG.csv']\n"
     ]
    }
   ],
   "source": [
    "print(files_passing_the_test,\"....\\n\\n....\",files_failing_the_test)"
   ]
  },
  {
   "cell_type": "code",
   "execution_count": null,
   "metadata": {},
   "outputs": [],
   "source": [
    "names = [''.join([i for i in each.split(\".\")[0] if not i.isdigit()]) for each in files_passing_the_test]"
   ]
  },
  {
   "cell_type": "code",
   "execution_count": null,
   "metadata": {},
   "outputs": [],
   "source": [
    "Counter(names)"
   ]
  },
  {
   "cell_type": "code",
   "execution_count": null,
   "metadata": {},
   "outputs": [],
   "source": [
    "temp = tester(binary_model,pd.read_csv('ml_test.csv'))\n",
    "plotter(temp,binary_labels_list,2)\n",
    "temp = tester(multi_model,temp[temp.label!=0])\n",
    "high = plotter(temp,multi_labels_list,2)\n",
    "print(high)"
   ]
  },
  {
   "cell_type": "code",
   "execution_count": null,
   "metadata": {},
   "outputs": [],
   "source": [
    "files_failing_the_test = []\n",
    "files_passing_the_test = []\n",
    "for i in range(1,10):\n",
    "    print(\"___________________________________________________________________\")\n",
    "    temp = tester(binary_model,pd.read_csv('./KMTrainingSet/'+str(i)+'ABC.csv'))\n",
    "    plotter(temp,binary_labels_list,2)\n",
    "    temp = tester(multi_model,temp[temp.label!=0])\n",
    "    high = plotter(temp,multi_labels_list,2)\n",
    "    if high == ''.join([i for i in each.split(\".\")[0] if not i.isdigit()]):\n",
    "        checker.append(str(i)+'ABC.csv')\n",
    "    else:\n",
    "        checker.append('incorrect')\n",
    "    print(\"----------------------------------------------------------------\")\n",
    "    "
   ]
  },
  {
   "cell_type": "code",
   "execution_count": null,
   "metadata": {},
   "outputs": [],
   "source": [
    "files_failing_model = [str(i)+'ABC.csv' for i in range(len(checker)) if checker[i]=='incorrect']\n",
    "\n",
    "names = [''.join([i for i in each.split(\".\")[0] if not i.isdigit()]) for each in files_failing_model]"
   ]
  },
  {
   "cell_type": "code",
   "execution_count": null,
   "metadata": {},
   "outputs": [],
   "source": [
    "Counter(names)"
   ]
  },
  {
   "cell_type": "code",
   "execution_count": null,
   "metadata": {},
   "outputs": [],
   "source": [
    "data = pd.read_csv('./KMTrainingSet/1AG.csv')"
   ]
  },
  {
   "cell_type": "code",
   "execution_count": null,
   "metadata": {},
   "outputs": [],
   "source": [
    "round(data['3V'])"
   ]
  },
  {
   "cell_type": "code",
   "execution_count": null,
   "metadata": {},
   "outputs": [],
   "source": [
    "dat = Counter((round(data['3V'])/10))\n",
    "matrics = sorted(zip([each for each in Counter(dat).keys()],Counter(dat).values() ), key=lambda x: x[0])\n",
    "\n",
    "\n",
    "\n"
   ]
  },
  {
   "cell_type": "code",
   "execution_count": null,
   "metadata": {},
   "outputs": [],
   "source": []
  },
  {
   "cell_type": "code",
   "execution_count": null,
   "metadata": {},
   "outputs": [],
   "source": [
    "data = pd.read_csv('KMTrainingset/2ABG.csv')"
   ]
  },
  {
   "cell_type": "code",
   "execution_count": null,
   "metadata": {},
   "outputs": [],
   "source": [
    "features = data[data.columns[:-1]].values.tolist()\n",
    "#true_labels = data['label'].values.tolist()"
   ]
  },
  {
   "cell_type": "code",
   "execution_count": null,
   "metadata": {},
   "outputs": [],
   "source": [
    "scaler = StandardScaler()\n",
    "scaled_features = scaler.fit_transform(features)\n"
   ]
  },
  {
   "cell_type": "code",
   "execution_count": null,
   "metadata": {},
   "outputs": [],
   "source": [
    "scaled_features"
   ]
  },
  {
   "cell_type": "code",
   "execution_count": null,
   "metadata": {},
   "outputs": [],
   "source": [
    "kmeans = KMeans(\n",
    "    init=\"random\",\n",
    "    n_clusters=2,\n",
    "    n_init=10,\n",
    "    max_iter=500,\n",
    "    random_state=42\n",
    ")"
   ]
  },
  {
   "cell_type": "code",
   "execution_count": null,
   "metadata": {},
   "outputs": [],
   "source": [
    "kmeans.fit(scaled_features)"
   ]
  },
  {
   "cell_type": "code",
   "execution_count": null,
   "metadata": {},
   "outputs": [],
   "source": [
    "kmeans.cluster_centers_"
   ]
  },
  {
   "cell_type": "code",
   "execution_count": null,
   "metadata": {},
   "outputs": [],
   "source": [
    "labels = kmeans.fit_predict(features)\n"
   ]
  },
  {
   "cell_type": "code",
   "execution_count": null,
   "metadata": {},
   "outputs": [],
   "source": [
    "#data['label']=labels\n",
    "data.head()"
   ]
  },
  {
   "cell_type": "code",
   "execution_count": null,
   "metadata": {},
   "outputs": [],
   "source": [
    "dic = Counter(labels)"
   ]
  },
  {
   "cell_type": "code",
   "execution_count": null,
   "metadata": {},
   "outputs": [],
   "source": [
    "dic"
   ]
  },
  {
   "cell_type": "code",
   "execution_count": null,
   "metadata": {},
   "outputs": [],
   "source": [
    "if dic[1]>dic[0]:\n",
    "    print(\"1 = 0 , 0 =1\")\n",
    "    data['label']=[1 if i == 0 else 0 for i in labels]\n",
    "else:\n",
    "    print(True)"
   ]
  },
  {
   "cell_type": "code",
   "execution_count": null,
   "metadata": {},
   "outputs": [],
   "source": [
    "dic = Counter(data['label'])"
   ]
  },
  {
   "cell_type": "code",
   "execution_count": null,
   "metadata": {},
   "outputs": [],
   "source": [
    "data"
   ]
  },
  {
   "cell_type": "code",
   "execution_count": null,
   "metadata": {},
   "outputs": [],
   "source": [
    "n_plots = 6\n",
    "fig, ax = plt.subplots(n_plots,figsize=(15,4*n_plots))\n",
    "unique_labels = ['NML','Fault']\n",
    "cols = data.columns[:-1]\n",
    "\n",
    "for j in range(6):\n",
    "\n",
    "    \n",
    "    legend_list = []\n",
    "    for i in list(set(data.label)):\n",
    "        \n",
    "        plo = data[data.label == i]\n",
    "        temp = ax[j].scatter(plo.index,plo[cols[j]],marker='+',s=40)  \n",
    "\n",
    "\n",
    "        legend_list.append(temp)\n",
    "\n",
    "    ax[j].legend(legend_list,unique_labels,scatterpoints=3,ncol=1,fontsize=15)\n",
    "\n",
    "fig.tight_layout()\n",
    "plt.show()"
   ]
  },
  {
   "cell_type": "code",
   "execution_count": null,
   "metadata": {},
   "outputs": [],
   "source": []
  },
  {
   "cell_type": "code",
   "execution_count": null,
   "metadata": {},
   "outputs": [],
   "source": [
    "org = [0,1,0,1,1,1,0,0,1,0,1]\n",
    "[1 if i == 0 else 0 for i in org]"
   ]
  },
  {
   "cell_type": "code",
   "execution_count": null,
   "metadata": {},
   "outputs": [],
   "source": [
    "for x,y in zip(org,[1 if i == 0 else 0 for i in org]):\n",
    "    print(x+y)"
   ]
  },
  {
   "cell_type": "code",
   "execution_count": null,
   "metadata": {},
   "outputs": [],
   "source": []
  },
  {
   "cell_type": "code",
   "execution_count": null,
   "metadata": {},
   "outputs": [],
   "source": []
  },
  {
   "cell_type": "code",
   "execution_count": null,
   "metadata": {},
   "outputs": [],
   "source": []
  }
 ],
 "metadata": {
  "kernelspec": {
   "display_name": "Python 3",
   "language": "python",
   "name": "python3"
  },
  "language_info": {
   "codemirror_mode": {
    "name": "ipython",
    "version": 3
   },
   "file_extension": ".py",
   "mimetype": "text/x-python",
   "name": "python",
   "nbconvert_exporter": "python",
   "pygments_lexer": "ipython3",
   "version": "3.8.5"
  }
 },
 "nbformat": 4,
 "nbformat_minor": 4
}
