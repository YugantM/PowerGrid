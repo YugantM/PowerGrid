{
 "cells": [
  {
   "cell_type": "code",
   "execution_count": 3,
   "metadata": {},
   "outputs": [],
   "source": [
    "import numpy as np\n",
    "import pandas as pd \n",
    "import matplotlib.pyplot as plt\n",
    "from keras.models import Sequential\n",
    "from keras.layers import Dense,InputLayer,Dropout\n",
    "from keras.layers import LSTM\n",
    "from config.config import *\n",
    "from config.constants import *\n",
    "from keras.callbacks import ModelCheckpoint\n",
    "from keras.models import load_model\n",
    "from sklearn.metrics import accuracy_score,multilabel_confusion_matrix\n",
    "from collections import Counter\n",
    "from sklearn.model_selection import train_test_split"
   ]
  },
  {
   "cell_type": "code",
   "execution_count": 4,
   "metadata": {},
   "outputs": [],
   "source": [
    "import os\n",
    "import matplotlib.pyplot as plt\n",
    "from kneed import KneeLocator\n",
    "from sklearn.datasets import make_blobs\n",
    "from sklearn.cluster import KMeans\n",
    "from sklearn.metrics import silhouette_score\n",
    "from sklearn.preprocessing import StandardScaler"
   ]
  },
  {
   "cell_type": "code",
   "execution_count": 5,
   "metadata": {},
   "outputs": [],
   "source": [
    "import seaborn as sns\n",
    "import matplotlib.pylab as plt"
   ]
  },
  {
   "cell_type": "code",
   "execution_count": 6,
   "metadata": {},
   "outputs": [],
   "source": [
    "import regex as re"
   ]
  },
  {
   "cell_type": "code",
   "execution_count": 7,
   "metadata": {},
   "outputs": [],
   "source": [
    "master_binary = []\n",
    "master_bin_with_multi = []"
   ]
  },
  {
   "cell_type": "code",
   "execution_count": 8,
   "metadata": {},
   "outputs": [],
   "source": [
    "# current directory\n",
    "th_path = \"./TrainingSet/\"\n",
    "\n",
    "# list of file of the given path is assigned to the variable \n",
    "th_file_list = [th_path+each for each in list(os.walk(th_path))[0][-1] if \".csv\" in each]\n",
    "\n",
    "clus_path = './KMTrainingset/'\n",
    "\n",
    "clus_file_list = [clus_path+each for each in list(os.walk(clus_path))[0][-1] if \".csv\" in each]"
   ]
  },
  {
   "cell_type": "code",
   "execution_count": 9,
   "metadata": {},
   "outputs": [],
   "source": [
    "range_path = './RangeTrainingset/'\n",
    "range_file_list = [range_path+each for each in list(os.walk(range_path))[0][-1] if \".csv\" in each]"
   ]
  },
  {
   "cell_type": "code",
   "execution_count": 10,
   "metadata": {},
   "outputs": [],
   "source": [
    "bin_th_model = load_model('manual_binary_clf.pkl')\n",
    "mul_th_model = load_model('manual_multi_clf.pkl')"
   ]
  },
  {
   "cell_type": "code",
   "execution_count": 11,
   "metadata": {},
   "outputs": [],
   "source": [
    "bin_clus_model = load_model('clus_binary_clf.pkl')\n",
    "mul_clus_model = load_model('clus_multi_clf.pkl')"
   ]
  },
  {
   "cell_type": "code",
   "execution_count": 12,
   "metadata": {},
   "outputs": [],
   "source": [
    "bin_range_model = load_model('range_binary_clf.pkl')\n",
    "mul_range_model = load_model('range_multi_clf.pkl')"
   ]
  },
  {
   "cell_type": "markdown",
   "metadata": {},
   "source": [
    "# 1. Testing threshold model "
   ]
  },
  {
   "cell_type": "markdown",
   "metadata": {},
   "source": [
    "### Trainingset + TH Binary model"
   ]
  },
  {
   "cell_type": "code",
   "execution_count": 9,
   "metadata": {},
   "outputs": [],
   "source": [
    "matrix = {}\n",
    "for i in range(len(th_file_list)):\n",
    "\n",
    "    fault_type = re.sub(r'[0-9]+', '', th_file_list[i].split(\"/\")[-1].split(\".\")[0])\n",
    "    data = pd.read_csv(th_file_list[i])\n",
    "\n",
    "    original_labels = data['label']\n",
    "    #print(fault_type, set(original_labels))\n",
    "\n",
    "    original_labels = [1 if each!=0 else 0 for each in original_labels ]\n",
    "    data =data.drop('label',axis=1)\n",
    "    predicted_labels = np.argmax(bin_th_model.predict(data.values.reshape(-1,1,6)), axis=1)\n",
    "    \n",
    "    percentage = 100*[x-y for x,y in zip(original_labels,predicted_labels)].count(0)/data.shape[0]\n",
    "    \n",
    "    if fault_type not in list(matrix.keys()):\n",
    "        matrix[fault_type] = []\n",
    "        matrix[fault_type].append(percentage)\n",
    "    else:\n",
    "        matrix[fault_type].append(percentage)"
   ]
  },
  {
   "cell_type": "code",
   "execution_count": 10,
   "metadata": {},
   "outputs": [
    {
     "name": "stdout",
     "output_type": "stream",
     "text": [
      "{'ABCG': 90.755, 'ABG': 95.77850000000001, 'BC': 97.17750000000001, 'CG': 98.543, 'BCG': 95.69, 'BG': 98.49599999999998, 'AG': 97.91500000000002, 'ABC': 89.962, 'ACG': 95.319, 'AC': 94.12750000000001, 'AB': 94.48400000000001}\n"
     ]
    }
   ],
   "source": [
    "for each in matrix.keys():\n",
    "    \n",
    "    matrix[each] = sum(matrix[each])/len(matrix[each])\n",
    "\n",
    "print(matrix)"
   ]
  },
  {
   "cell_type": "code",
   "execution_count": 11,
   "metadata": {},
   "outputs": [],
   "source": [
    "master_binary.append(matrix)"
   ]
  },
  {
   "cell_type": "code",
   "execution_count": 12,
   "metadata": {},
   "outputs": [
    {
     "data": {
      "text/plain": [
       "95.29522727272727"
      ]
     },
     "execution_count": 12,
     "metadata": {},
     "output_type": "execute_result"
    }
   ],
   "source": [
    "sum(matrix.values())/len(matrix.values())"
   ]
  },
  {
   "cell_type": "markdown",
   "metadata": {},
   "source": [
    "## KMTrainingset + TH Binary model"
   ]
  },
  {
   "cell_type": "code",
   "execution_count": 13,
   "metadata": {},
   "outputs": [],
   "source": [
    "matrix = {}\n",
    "for i in range(len(clus_file_list)):\n",
    "\n",
    "    fault_type = re.sub(r'[0-9]+', '', clus_file_list[i].split(\"/\")[-1].split(\".\")[0])\n",
    "    data = pd.read_csv(clus_file_list[i])\n",
    "\n",
    "    original_labels = data['label']\n",
    "    #print(fault_type, set(original_labels))\n",
    "\n",
    "    original_labels = [1 if each!=0 else 0 for each in original_labels ]\n",
    "    data =data.drop('label',axis=1)\n",
    "    predicted_labels = np.argmax(bin_th_model.predict(data.values.reshape(-1,1,6)), axis=1)\n",
    "    \n",
    "    percentage = 100*[x-y for x,y in zip(original_labels,predicted_labels)].count(0)/data.shape[0]\n",
    "    \n",
    "    if fault_type not in list(matrix.keys()):\n",
    "        matrix[fault_type] = []\n",
    "        matrix[fault_type].append(percentage)\n",
    "    else:\n",
    "        matrix[fault_type].append(percentage)"
   ]
  },
  {
   "cell_type": "code",
   "execution_count": 14,
   "metadata": {},
   "outputs": [
    {
     "name": "stdout",
     "output_type": "stream",
     "text": [
      "{'ABCG': 74.454, 'ABG': 88.93350000000001, 'BC': 95.111, 'CG': 87.39799999999998, 'BCG': 80.32, 'BG': 96.1805, 'AG': 96.561, 'ABC': 82.6125, 'ACG': 88.69500000000001, 'AC': 93.18999999999998, 'AB': 93.444}\n"
     ]
    }
   ],
   "source": [
    "for each in matrix.keys():\n",
    "    \n",
    "    matrix[each] = sum(matrix[each])/len(matrix[each])\n",
    "\n",
    "print(matrix)"
   ]
  },
  {
   "cell_type": "code",
   "execution_count": 15,
   "metadata": {},
   "outputs": [],
   "source": [
    "master_binary.append(matrix)"
   ]
  },
  {
   "cell_type": "code",
   "execution_count": 16,
   "metadata": {},
   "outputs": [
    {
     "data": {
      "text/plain": [
       "88.80904545454544"
      ]
     },
     "execution_count": 16,
     "metadata": {},
     "output_type": "execute_result"
    }
   ],
   "source": [
    "sum(matrix.values())/len(matrix.values())"
   ]
  },
  {
   "cell_type": "markdown",
   "metadata": {},
   "source": [
    "## Trainingset + Clus Binary model"
   ]
  },
  {
   "cell_type": "code",
   "execution_count": 17,
   "metadata": {},
   "outputs": [],
   "source": [
    "matrix = {}\n",
    "for i in range(len(th_file_list)):\n",
    "\n",
    "    fault_type = re.sub(r'[0-9]+', '', th_file_list[i].split(\"/\")[-1].split(\".\")[0])\n",
    "    data = pd.read_csv(th_file_list[i])\n",
    "\n",
    "    original_labels = data['label']\n",
    "    #print(fault_type, set(original_labels))\n",
    "\n",
    "    original_labels = [1 if each!=0 else 0 for each in original_labels ]\n",
    "    data =data.drop('label',axis=1)\n",
    "    predicted_labels = np.argmax(bin_clus_model.predict(data.values.reshape(-1,1,6)), axis=1)\n",
    "    \n",
    "    percentage = 100*[x-y for x,y in zip(original_labels,predicted_labels)].count(0)/data.shape[0]\n",
    "    \n",
    "    if fault_type not in list(matrix.keys()):\n",
    "        matrix[fault_type] = []\n",
    "        matrix[fault_type].append(percentage)\n",
    "    else:\n",
    "        matrix[fault_type].append(percentage)"
   ]
  },
  {
   "cell_type": "code",
   "execution_count": 18,
   "metadata": {},
   "outputs": [
    {
     "name": "stdout",
     "output_type": "stream",
     "text": [
      "{'ABCG': 74.254, 'ABG': 88.7625, 'BC': 94.04499999999999, 'CG': 91.95200000000001, 'BCG': 82.47149999999999, 'BG': 96.066, 'AG': 96.457, 'ABC': 67.553, 'ACG': 86.9515, 'AC': 88.53000000000002, 'AB': 90.01199999999999}\n"
     ]
    }
   ],
   "source": [
    "for each in matrix.keys():\n",
    "    \n",
    "    matrix[each] = sum(matrix[each])/len(matrix[each])\n",
    "\n",
    "print(matrix)"
   ]
  },
  {
   "cell_type": "code",
   "execution_count": 19,
   "metadata": {},
   "outputs": [],
   "source": [
    "master_binary.append(matrix)"
   ]
  },
  {
   "cell_type": "code",
   "execution_count": 20,
   "metadata": {},
   "outputs": [
    {
     "data": {
      "text/plain": [
       "87.00495454545454"
      ]
     },
     "execution_count": 20,
     "metadata": {},
     "output_type": "execute_result"
    }
   ],
   "source": [
    "sum(matrix.values())/len(matrix.values())"
   ]
  },
  {
   "cell_type": "code",
   "execution_count": null,
   "metadata": {},
   "outputs": [],
   "source": []
  },
  {
   "cell_type": "markdown",
   "metadata": {},
   "source": [
    "## KMTrainingset + Clus Binary model"
   ]
  },
  {
   "cell_type": "code",
   "execution_count": 21,
   "metadata": {},
   "outputs": [],
   "source": [
    "matrix = {}\n",
    "for i in range(len(clus_file_list)):\n",
    "\n",
    "    fault_type = re.sub(r'[0-9]+', '', clus_file_list[i].split(\"/\")[-1].split(\".\")[0])\n",
    "    data = pd.read_csv(clus_file_list[i])\n",
    "\n",
    "    original_labels = data['label']\n",
    "    #print(fault_type, set(original_labels))\n",
    "\n",
    "    original_labels = [1 if each!=0 else 0 for each in original_labels ]\n",
    "    data =data.drop('label',axis=1)\n",
    "    predicted_labels = np.argmax(bin_clus_model.predict(data.values.reshape(-1,1,6)), axis=1)\n",
    "    \n",
    "    percentage = 100*[x-y for x,y in zip(original_labels,predicted_labels)].count(0)/data.shape[0]\n",
    "    \n",
    "    if fault_type not in list(matrix.keys()):\n",
    "        matrix[fault_type] = []\n",
    "        matrix[fault_type].append(percentage)\n",
    "    else:\n",
    "        matrix[fault_type].append(percentage)"
   ]
  },
  {
   "cell_type": "code",
   "execution_count": 22,
   "metadata": {},
   "outputs": [
    {
     "name": "stdout",
     "output_type": "stream",
     "text": [
      "{'ABCG': 90.23700000000001, 'ABG': 99.956, 'BC': 99.94050000000001, 'CG': 91.246, 'BCG': 91.69800000000001, 'BG': 99.95400000000001, 'AG': 99.94450000000002, 'ABC': 99.819, 'ACG': 99.9375, 'AC': 99.92049999999999, 'AB': 99.911}\n"
     ]
    }
   ],
   "source": [
    "for each in matrix.keys():\n",
    "    \n",
    "    matrix[each] = sum(matrix[each])/len(matrix[each])\n",
    "\n",
    "print(matrix)"
   ]
  },
  {
   "cell_type": "code",
   "execution_count": 23,
   "metadata": {},
   "outputs": [],
   "source": [
    "master_binary.append(matrix)"
   ]
  },
  {
   "cell_type": "code",
   "execution_count": 24,
   "metadata": {},
   "outputs": [
    {
     "data": {
      "text/plain": [
       "97.50581818181819"
      ]
     },
     "execution_count": 24,
     "metadata": {},
     "output_type": "execute_result"
    }
   ],
   "source": [
    "sum(matrix.values())/len(matrix.values())"
   ]
  },
  {
   "cell_type": "code",
   "execution_count": 44,
   "metadata": {},
   "outputs": [],
   "source": [
    "x = pd.DataFrame(master_binary)\n",
    "x.index = ['TH+TH','TH+CLS','CLS+TH','CLS+CLS']\n",
    "x['Avg'] = [round(sum(x.iloc[i])/x.shape[1]) for i in range(x.shape[0])]"
   ]
  },
  {
   "cell_type": "code",
   "execution_count": 238,
   "metadata": {},
   "outputs": [],
   "source": [
    "#x"
   ]
  },
  {
   "cell_type": "code",
   "execution_count": 212,
   "metadata": {},
   "outputs": [],
   "source": [
    "x.to_csv('Binary_Matrix.csv')"
   ]
  },
  {
   "cell_type": "code",
   "execution_count": 241,
   "metadata": {},
   "outputs": [
    {
     "data": {
      "image/png": "[encoded data removed]",
      "text/plain": [
       "<Figure size 1440x720 with 2 Axes>"
      ]
     },
     "metadata": {
      "needs_background": "light"
     },
     "output_type": "display_data"
    }
   ],
   "source": [
    "plt.figure(figsize=(20,10))\n",
    "\n",
    "\n",
    "ax = sns.heatmap(round(x), linewidth=0,annot=True)\n",
    "plt.savefig('binary_validation.png')\n",
    "plt.show()"
   ]
  },
  {
   "cell_type": "markdown",
   "metadata": {},
   "source": [
    "## Binary + Multi"
   ]
  },
  {
   "cell_type": "markdown",
   "metadata": {},
   "source": [
    "### 1. Binary = TH"
   ]
  },
  {
   "cell_type": "code",
   "execution_count": 108,
   "metadata": {},
   "outputs": [],
   "source": [
    "all_faluts = ['NML','AB', 'AC', 'BC', 'ABC', 'AG', 'BG', 'ABG', 'CG', 'ACG', 'BCG', 'ABCG']"
   ]
  },
  {
   "cell_type": "code",
   "execution_count": 198,
   "metadata": {},
   "outputs": [],
   "source": [
    "master_bin_with_multi = []"
   ]
  },
  {
   "cell_type": "markdown",
   "metadata": {},
   "source": [
    "### Trainingset"
   ]
  },
  {
   "cell_type": "code",
   "execution_count": 199,
   "metadata": {},
   "outputs": [],
   "source": [
    "matrix = {}\n",
    "for i in range(len(th_file_list)):\n",
    "\n",
    "    fault_type = re.sub(r'[0-9]+', '', th_file_list[i].split(\"/\")[-1].split(\".\")[0])\n",
    "    data = pd.read_csv(th_file_list[i])\n",
    "\n",
    "    original_labels = data['label']\n",
    "\n",
    "    index = list(set(original_labels))[-1]\n",
    "\n",
    "    data =data.drop('label',axis=1)\n",
    "\n",
    "    predicted_labels = np.argmax(bin_th_model.predict(data.values.reshape(-1,1,6)), axis=1)\n",
    "\n",
    "    data['label'] = predicted_labels\n",
    "\n",
    "    data = data[data.label!=0]\n",
    "\n",
    "    data = data.drop('label',axis=1)\n",
    "\n",
    "    predicted_labels = np.argmax(mul_th_model.predict(data.values.reshape(-1,1,6)), axis=1)\n",
    "\n",
    "    results = sorted(zip([each for each in Counter(predicted_labels).keys()],Counter(predicted_labels).values() ), key=lambda x: x[1])\n",
    "\n",
    "    major_label = results[-1][0]\n",
    "\n",
    "\n",
    "    percentage = list(predicted_labels).count(index-1)*100/data.shape[0]\n",
    "    \n",
    "    if fault_type not in list(matrix.keys()):\n",
    "        matrix[fault_type] = []\n",
    "        matrix[fault_type].append(percentage)\n",
    "    else:\n",
    "        matrix[fault_type].append(percentage)\n",
    "\n",
    "        \n",
    "for each in matrix.keys():\n",
    "    \n",
    "    matrix[each] = sum(matrix[each])/len(matrix[each])\n",
    "\n",
    "matrix['avg'] = sum(matrix.values())/len(matrix.values())\n",
    "master_bin_with_multi.append(matrix)"
   ]
  },
  {
   "cell_type": "code",
   "execution_count": null,
   "metadata": {},
   "outputs": [],
   "source": []
  },
  {
   "cell_type": "code",
   "execution_count": 200,
   "metadata": {},
   "outputs": [],
   "source": [
    "matrix = {}\n",
    "for i in range(len(th_file_list)):\n",
    "\n",
    "    fault_type = re.sub(r'[0-9]+', '', th_file_list[i].split(\"/\")[-1].split(\".\")[0])\n",
    "    data = pd.read_csv(th_file_list[i])\n",
    "\n",
    "    original_labels = data['label']\n",
    "\n",
    "    index = list(set(original_labels))[-1]\n",
    "\n",
    "    data =data.drop('label',axis=1)\n",
    "\n",
    "    predicted_labels = np.argmax(bin_th_model.predict(data.values.reshape(-1,1,6)), axis=1)\n",
    "\n",
    "    data['label'] = predicted_labels\n",
    "\n",
    "    data = data[data.label!=0]\n",
    "\n",
    "    data = data.drop('label',axis=1)\n",
    "\n",
    "    predicted_labels = np.argmax(mul_clus_model.predict(data.values.reshape(-1,1,6)), axis=1)\n",
    "\n",
    "    results = sorted(zip([each for each in Counter(predicted_labels).keys()],Counter(predicted_labels).values() ), key=lambda x: x[1])\n",
    "\n",
    "    major_label = results[-1][0]\n",
    "\n",
    "\n",
    "    percentage = list(predicted_labels).count(index-1)*100/data.shape[0]\n",
    "    \n",
    "    if fault_type not in list(matrix.keys()):\n",
    "        matrix[fault_type] = []\n",
    "        matrix[fault_type].append(percentage)\n",
    "    else:\n",
    "        matrix[fault_type].append(percentage)\n",
    "\n",
    "        \n",
    "for each in matrix.keys():\n",
    "    \n",
    "    matrix[each] = sum(matrix[each])/len(matrix[each])\n",
    "\n",
    "matrix['avg'] = sum(matrix.values())/len(matrix.values())\n",
    "master_bin_with_multi.append(matrix)"
   ]
  },
  {
   "cell_type": "code",
   "execution_count": 201,
   "metadata": {},
   "outputs": [],
   "source": [
    "matrix = {}\n",
    "for i in range(len(th_file_list)):\n",
    "\n",
    "    fault_type = re.sub(r'[0-9]+', '', th_file_list[i].split(\"/\")[-1].split(\".\")[0])\n",
    "    data = pd.read_csv(th_file_list[i])\n",
    "\n",
    "    original_labels = data['label']\n",
    "\n",
    "    index = list(set(original_labels))[-1]\n",
    "\n",
    "    data =data.drop('label',axis=1)\n",
    "\n",
    "    predicted_labels = np.argmax(bin_clus_model.predict(data.values.reshape(-1,1,6)), axis=1)\n",
    "\n",
    "    data['label'] = predicted_labels\n",
    "\n",
    "    data = data[data.label!=0]\n",
    "\n",
    "    data = data.drop('label',axis=1)\n",
    "\n",
    "    predicted_labels = np.argmax(mul_th_model.predict(data.values.reshape(-1,1,6)), axis=1)\n",
    "\n",
    "    results = sorted(zip([each for each in Counter(predicted_labels).keys()],Counter(predicted_labels).values() ), key=lambda x: x[1])\n",
    "\n",
    "    major_label = results[-1][0]\n",
    "\n",
    "\n",
    "    percentage = list(predicted_labels).count(index-1)*100/data.shape[0]\n",
    "    \n",
    "    if fault_type not in list(matrix.keys()):\n",
    "        matrix[fault_type] = []\n",
    "        matrix[fault_type].append(percentage)\n",
    "    else:\n",
    "        matrix[fault_type].append(percentage)\n",
    "\n",
    "        \n",
    "for each in matrix.keys():\n",
    "    \n",
    "    matrix[each] = sum(matrix[each])/len(matrix[each])\n",
    "\n",
    "matrix['avg'] = sum(matrix.values())/len(matrix.values())\n",
    "master_bin_with_multi.append(matrix)"
   ]
  },
  {
   "cell_type": "code",
   "execution_count": null,
   "metadata": {},
   "outputs": [],
   "source": []
  },
  {
   "cell_type": "code",
   "execution_count": 202,
   "metadata": {},
   "outputs": [],
   "source": [
    "matrix = {}\n",
    "for i in range(len(th_file_list)):\n",
    "\n",
    "    fault_type = re.sub(r'[0-9]+', '', th_file_list[i].split(\"/\")[-1].split(\".\")[0])\n",
    "    data = pd.read_csv(th_file_list[i])\n",
    "\n",
    "    original_labels = data['label']\n",
    "\n",
    "    index = list(set(original_labels))[-1]\n",
    "\n",
    "    data =data.drop('label',axis=1)\n",
    "\n",
    "    predicted_labels = np.argmax(bin_clus_model.predict(data.values.reshape(-1,1,6)), axis=1)\n",
    "\n",
    "    data['label'] = predicted_labels\n",
    "\n",
    "    data = data[data.label!=0]\n",
    "\n",
    "    data = data.drop('label',axis=1)\n",
    "\n",
    "    predicted_labels = np.argmax(mul_clus_model.predict(data.values.reshape(-1,1,6)), axis=1)\n",
    "\n",
    "    results = sorted(zip([each for each in Counter(predicted_labels).keys()],Counter(predicted_labels).values() ), key=lambda x: x[1])\n",
    "\n",
    "    major_label = results[-1][0]\n",
    "\n",
    "\n",
    "    percentage = list(predicted_labels).count(index-1)*100/data.shape[0]\n",
    "    \n",
    "    if fault_type not in list(matrix.keys()):\n",
    "        matrix[fault_type] = []\n",
    "        matrix[fault_type].append(percentage)\n",
    "    else:\n",
    "        matrix[fault_type].append(percentage)\n",
    "\n",
    "        \n",
    "for each in matrix.keys():\n",
    "    \n",
    "    matrix[each] = sum(matrix[each])/len(matrix[each])\n",
    "\n",
    "matrix['avg'] = sum(matrix.values())/len(matrix.values())\n",
    "master_bin_with_multi.append(matrix)"
   ]
  },
  {
   "cell_type": "code",
   "execution_count": 203,
   "metadata": {},
   "outputs": [],
   "source": [
    "y = pd.DataFrame(master_bin_with_multi)\n",
    "y.index = ['TH+TH','TH+CLS','CLS+TH','CLS+CLS']"
   ]
  },
  {
   "cell_type": "code",
   "execution_count": 204,
   "metadata": {},
   "outputs": [
    {
     "data": {
      "text/html": [
       "<div>\n",
       "<style scoped>\n",
       "    .dataframe tbody tr th:only-of-type {\n",
       "        vertical-align: middle;\n",
       "    }\n",
       "\n",
       "    .dataframe tbody tr th {\n",
       "        vertical-align: top;\n",
       "    }\n",
       "\n",
       "    .dataframe thead th {\n",
       "        text-align: right;\n",
       "    }\n",
       "</style>\n",
       "<table border=\"1\" class=\"dataframe\">\n",
       "  <thead>\n",
       "    <tr style=\"text-align: right;\">\n",
       "      <th></th>\n",
       "      <th>ABCG</th>\n",
       "      <th>ABG</th>\n",
       "      <th>BC</th>\n",
       "      <th>CG</th>\n",
       "      <th>BCG</th>\n",
       "      <th>BG</th>\n",
       "      <th>AG</th>\n",
       "      <th>ABC</th>\n",
       "      <th>ACG</th>\n",
       "      <th>AC</th>\n",
       "      <th>AB</th>\n",
       "      <th>avg</th>\n",
       "    </tr>\n",
       "  </thead>\n",
       "  <tbody>\n",
       "    <tr>\n",
       "      <th>TH+TH</th>\n",
       "      <td>0.006694</td>\n",
       "      <td>46.849108</td>\n",
       "      <td>66.690682</td>\n",
       "      <td>79.512231</td>\n",
       "      <td>47.097757</td>\n",
       "      <td>68.998914</td>\n",
       "      <td>73.880789</td>\n",
       "      <td>97.756238</td>\n",
       "      <td>45.580835</td>\n",
       "      <td>45.745895</td>\n",
       "      <td>49.122187</td>\n",
       "      <td>56.476485</td>\n",
       "    </tr>\n",
       "    <tr>\n",
       "      <th>TH+CLS</th>\n",
       "      <td>22.433054</td>\n",
       "      <td>46.734235</td>\n",
       "      <td>65.510445</td>\n",
       "      <td>96.721958</td>\n",
       "      <td>53.304646</td>\n",
       "      <td>69.017591</td>\n",
       "      <td>73.832567</td>\n",
       "      <td>37.648842</td>\n",
       "      <td>44.157937</td>\n",
       "      <td>45.471628</td>\n",
       "      <td>48.952755</td>\n",
       "      <td>54.889605</td>\n",
       "    </tr>\n",
       "    <tr>\n",
       "      <th>CLS+TH</th>\n",
       "      <td>0.028160</td>\n",
       "      <td>99.227642</td>\n",
       "      <td>97.289194</td>\n",
       "      <td>100.000000</td>\n",
       "      <td>97.901560</td>\n",
       "      <td>100.000000</td>\n",
       "      <td>100.000000</td>\n",
       "      <td>99.229847</td>\n",
       "      <td>92.670155</td>\n",
       "      <td>96.651866</td>\n",
       "      <td>98.715087</td>\n",
       "      <td>89.246683</td>\n",
       "    </tr>\n",
       "    <tr>\n",
       "      <th>CLS+CLS</th>\n",
       "      <td>16.540427</td>\n",
       "      <td>98.980449</td>\n",
       "      <td>97.643085</td>\n",
       "      <td>100.000000</td>\n",
       "      <td>97.872437</td>\n",
       "      <td>100.000000</td>\n",
       "      <td>100.000000</td>\n",
       "      <td>94.530782</td>\n",
       "      <td>94.022435</td>\n",
       "      <td>96.042008</td>\n",
       "      <td>98.070914</td>\n",
       "      <td>90.336594</td>\n",
       "    </tr>\n",
       "  </tbody>\n",
       "</table>\n",
       "</div>"
      ],
      "text/plain": [
       "              ABCG        ABG         BC          CG        BCG          BG  \\\n",
       "TH+TH     0.006694  46.849108  66.690682   79.512231  47.097757   68.998914   \n",
       "TH+CLS   22.433054  46.734235  65.510445   96.721958  53.304646   69.017591   \n",
       "CLS+TH    0.028160  99.227642  97.289194  100.000000  97.901560  100.000000   \n",
       "CLS+CLS  16.540427  98.980449  97.643085  100.000000  97.872437  100.000000   \n",
       "\n",
       "                 AG        ABC        ACG         AC         AB        avg  \n",
       "TH+TH     73.880789  97.756238  45.580835  45.745895  49.122187  56.476485  \n",
       "TH+CLS    73.832567  37.648842  44.157937  45.471628  48.952755  54.889605  \n",
       "CLS+TH   100.000000  99.229847  92.670155  96.651866  98.715087  89.246683  \n",
       "CLS+CLS  100.000000  94.530782  94.022435  96.042008  98.070914  90.336594  "
      ]
     },
     "execution_count": 204,
     "metadata": {},
     "output_type": "execute_result"
    }
   ],
   "source": [
    "#y"
   ]
  },
  {
   "cell_type": "code",
   "execution_count": 242,
   "metadata": {},
   "outputs": [
    {
     "data": {
      "image/png": "[encoded data removed]",
      "text/plain": [
       "<Figure size 1440x720 with 2 Axes>"
      ]
     },
     "metadata": {
      "needs_background": "light"
     },
     "output_type": "display_data"
    }
   ],
   "source": [
    "plt.figure(figsize=(20,10))\n",
    "\n",
    "\n",
    "ax = sns.heatmap(round(y), linewidth=0,annot=True)\n",
    "plt.savefig(\"training_binary_multi.png\")\n",
    "plt.show()"
   ]
  },
  {
   "cell_type": "code",
   "execution_count": 213,
   "metadata": {},
   "outputs": [],
   "source": [
    "y.to_csv('training_bin_mul.csv')"
   ]
  },
  {
   "cell_type": "markdown",
   "metadata": {},
   "source": [
    "### KMTraininngset"
   ]
  },
  {
   "cell_type": "code",
   "execution_count": 205,
   "metadata": {},
   "outputs": [],
   "source": [
    "matrix = {}\n",
    "for i in range(len(clus_file_list)):\n",
    "\n",
    "    fault_type = re.sub(r'[0-9]+', '', clus_file_list[i].split(\"/\")[-1].split(\".\")[0])\n",
    "    data = pd.read_csv(clus_file_list[i])\n",
    "\n",
    "    original_labels = data['label']\n",
    "\n",
    "    index = list(set(original_labels))[-1]\n",
    "\n",
    "    data =data.drop('label',axis=1)\n",
    "\n",
    "    predicted_labels = np.argmax(bin_th_model.predict(data.values.reshape(-1,1,6)), axis=1)\n",
    "\n",
    "    data['label'] = predicted_labels\n",
    "\n",
    "    data = data[data.label!=0]\n",
    "\n",
    "    data = data.drop('label',axis=1)\n",
    "\n",
    "    predicted_labels = np.argmax(mul_th_model.predict(data.values.reshape(-1,1,6)), axis=1)\n",
    "\n",
    "    results = sorted(zip([each for each in Counter(predicted_labels).keys()],Counter(predicted_labels).values() ), key=lambda x: x[1])\n",
    "\n",
    "    major_label = results[-1][0]\n",
    "\n",
    "\n",
    "    percentage = list(predicted_labels).count(index-1)*100/data.shape[0]\n",
    "    \n",
    "    if fault_type not in list(matrix.keys()):\n",
    "        matrix[fault_type] = []\n",
    "        matrix[fault_type].append(percentage)\n",
    "    else:\n",
    "        matrix[fault_type].append(percentage)\n",
    "\n",
    "        \n",
    "for each in matrix.keys():\n",
    "    \n",
    "    matrix[each] = sum(matrix[each])/len(matrix[each])\n",
    "\n",
    "matrix['avg'] = sum(matrix.values())/len(matrix.values())\n",
    "master_bin_with_multi.append(matrix)"
   ]
  },
  {
   "cell_type": "code",
   "execution_count": 206,
   "metadata": {},
   "outputs": [],
   "source": [
    "matrix = {}\n",
    "for i in range(len(clus_file_list)):\n",
    "\n",
    "    fault_type = re.sub(r'[0-9]+', '', clus_file_list[i].split(\"/\")[-1].split(\".\")[0])\n",
    "    data = pd.read_csv(clus_file_list[i])\n",
    "\n",
    "    original_labels = data['label']\n",
    "\n",
    "    index = list(set(original_labels))[-1]\n",
    "\n",
    "    data =data.drop('label',axis=1)\n",
    "\n",
    "    predicted_labels = np.argmax(bin_th_model.predict(data.values.reshape(-1,1,6)), axis=1)\n",
    "\n",
    "    data['label'] = predicted_labels\n",
    "\n",
    "    data = data[data.label!=0]\n",
    "\n",
    "    data = data.drop('label',axis=1)\n",
    "\n",
    "    predicted_labels = np.argmax(mul_clus_model.predict(data.values.reshape(-1,1,6)), axis=1)\n",
    "\n",
    "    results = sorted(zip([each for each in Counter(predicted_labels).keys()],Counter(predicted_labels).values() ), key=lambda x: x[1])\n",
    "\n",
    "    major_label = results[-1][0]\n",
    "\n",
    "\n",
    "    percentage = list(predicted_labels).count(index-1)*100/data.shape[0]\n",
    "    \n",
    "    if fault_type not in list(matrix.keys()):\n",
    "        matrix[fault_type] = []\n",
    "        matrix[fault_type].append(percentage)\n",
    "    else:\n",
    "        matrix[fault_type].append(percentage)\n",
    "\n",
    "        \n",
    "for each in matrix.keys():\n",
    "    \n",
    "    matrix[each] = sum(matrix[each])/len(matrix[each])\n",
    "\n",
    "matrix['avg'] = sum(matrix.values())/len(matrix.values())\n",
    "master_bin_with_multi.append(matrix)"
   ]
  },
  {
   "cell_type": "code",
   "execution_count": 207,
   "metadata": {},
   "outputs": [],
   "source": [
    "matrix = {}\n",
    "for i in range(len(clus_file_list)):\n",
    "\n",
    "    fault_type = re.sub(r'[0-9]+', '', clus_file_list[i].split(\"/\")[-1].split(\".\")[0])\n",
    "    data = pd.read_csv(clus_file_list[i])\n",
    "\n",
    "    original_labels = data['label']\n",
    "\n",
    "    index = list(set(original_labels))[-1]\n",
    "\n",
    "    data =data.drop('label',axis=1)\n",
    "\n",
    "    predicted_labels = np.argmax(bin_clus_model.predict(data.values.reshape(-1,1,6)), axis=1)\n",
    "\n",
    "    data['label'] = predicted_labels\n",
    "\n",
    "    data = data[data.label!=0]\n",
    "\n",
    "    data = data.drop('label',axis=1)\n",
    "\n",
    "    predicted_labels = np.argmax(mul_th_model.predict(data.values.reshape(-1,1,6)), axis=1)\n",
    "\n",
    "    results = sorted(zip([each for each in Counter(predicted_labels).keys()],Counter(predicted_labels).values() ), key=lambda x: x[1])\n",
    "\n",
    "    major_label = results[-1][0]\n",
    "\n",
    "\n",
    "    percentage = list(predicted_labels).count(index-1)*100/data.shape[0]\n",
    "    \n",
    "    if fault_type not in list(matrix.keys()):\n",
    "        matrix[fault_type] = []\n",
    "        matrix[fault_type].append(percentage)\n",
    "    else:\n",
    "        matrix[fault_type].append(percentage)\n",
    "\n",
    "        \n",
    "for each in matrix.keys():\n",
    "    \n",
    "    matrix[each] = sum(matrix[each])/len(matrix[each])\n",
    "\n",
    "matrix['avg'] = sum(matrix.values())/len(matrix.values())\n",
    "master_bin_with_multi.append(matrix)"
   ]
  },
  {
   "cell_type": "code",
   "execution_count": 208,
   "metadata": {},
   "outputs": [],
   "source": [
    "matrix = {}\n",
    "for i in range(len(clus_file_list)):\n",
    "\n",
    "    fault_type = re.sub(r'[0-9]+', '', clus_file_list[i].split(\"/\")[-1].split(\".\")[0])\n",
    "    data = pd.read_csv(clus_file_list[i])\n",
    "\n",
    "    original_labels = data['label']\n",
    "\n",
    "    index = list(set(original_labels))[-1]\n",
    "\n",
    "    data =data.drop('label',axis=1)\n",
    "\n",
    "    predicted_labels = np.argmax(bin_clus_model.predict(data.values.reshape(-1,1,6)), axis=1)\n",
    "\n",
    "    data['label'] = predicted_labels\n",
    "\n",
    "    data = data[data.label!=0]\n",
    "\n",
    "    data = data.drop('label',axis=1)\n",
    "\n",
    "    predicted_labels = np.argmax(mul_clus_model.predict(data.values.reshape(-1,1,6)), axis=1)\n",
    "\n",
    "    results = sorted(zip([each for each in Counter(predicted_labels).keys()],Counter(predicted_labels).values() ), key=lambda x: x[1])\n",
    "\n",
    "    major_label = results[-1][0]\n",
    "\n",
    "\n",
    "    percentage = list(predicted_labels).count(index-1)*100/data.shape[0]\n",
    "    \n",
    "    if fault_type not in list(matrix.keys()):\n",
    "        matrix[fault_type] = []\n",
    "        matrix[fault_type].append(percentage)\n",
    "    else:\n",
    "        matrix[fault_type].append(percentage)\n",
    "\n",
    "        \n",
    "for each in matrix.keys():\n",
    "    \n",
    "    matrix[each] = sum(matrix[each])/len(matrix[each])\n",
    "\n",
    "matrix['avg'] = sum(matrix.values())/len(matrix.values())\n",
    "master_bin_with_multi.append(matrix)"
   ]
  },
  {
   "cell_type": "code",
   "execution_count": null,
   "metadata": {},
   "outputs": [],
   "source": []
  },
  {
   "cell_type": "code",
   "execution_count": 209,
   "metadata": {},
   "outputs": [],
   "source": [
    "z = pd.DataFrame(master_bin_with_multi[4:])\n",
    "z.index = ['TH+TH','TH+CLS','CLS+TH','CLS+CLS']"
   ]
  },
  {
   "cell_type": "code",
   "execution_count": 243,
   "metadata": {},
   "outputs": [],
   "source": [
    "#z"
   ]
  },
  {
   "cell_type": "code",
   "execution_count": 214,
   "metadata": {},
   "outputs": [],
   "source": [
    "z.to_csv('kmtraining_binary_mul.csv')"
   ]
  },
  {
   "cell_type": "code",
   "execution_count": 244,
   "metadata": {},
   "outputs": [
    {
     "data": {
      "image/png": "[encoded data removed]",
      "text/plain": [
       "<Figure size 1440x720 with 2 Axes>"
      ]
     },
     "metadata": {
      "needs_background": "light"
     },
     "output_type": "display_data"
    }
   ],
   "source": [
    "\n",
    "#plt.plot(z.T)\n",
    "plt.figure(figsize=(20,10))\n",
    "\n",
    "ax = sns.heatmap(round(z), linewidth=0,annot=True)\n",
    "plt.savefig(\"kmtraining_binary_multi.png\")\n",
    "plt.show()"
   ]
  },
  {
   "cell_type": "markdown",
   "metadata": {},
   "source": [
    "## Range training-set"
   ]
  },
  {
   "cell_type": "code",
   "execution_count": 47,
   "metadata": {},
   "outputs": [],
   "source": [
    "old_faluts = ['NML','AB', 'AC', 'BC', 'ABC', 'AG', 'BG', 'ABG', 'CG', 'ACG', 'BCG', 'ABCG']\n",
    "all_faluts = ['AB', 'AC', 'BC', 'AG', 'BG', 'ABG', 'CG', 'ACG', 'BCG', 'ABCG']"
   ]
  },
  {
   "cell_type": "code",
   "execution_count": null,
   "metadata": {},
   "outputs": [],
   "source": []
  },
  {
   "cell_type": "code",
   "execution_count": null,
   "metadata": {},
   "outputs": [],
   "source": []
  },
  {
   "cell_type": "code",
   "execution_count": 63,
   "metadata": {},
   "outputs": [],
   "source": [
    "matrix = {}\n",
    "for i in range(len(range_file_list)):\n",
    "\n",
    "    fault_type = re.sub(r'[0-9]+', '', range_file_list[i].split(\"/\")[-1].split(\".\")[0])\n",
    "    data = pd.read_csv(range_file_list[i])\n",
    "\n",
    "    original_labels = data['label']\n",
    "\n",
    "    index = list(set(original_labels))[-1]\n",
    "\n",
    "    if index !=0:\n",
    "        \n",
    "\n",
    "        data =data.drop('label',axis=1)\n",
    "\n",
    "        predicted_labels = np.argmax(bin_range_model.predict(data.values.reshape(-1,1,3)), axis=1)\n",
    "\n",
    "        data['label'] = predicted_labels\n",
    "\n",
    "        data = data[data.label!=0]\n",
    "        #print(range_file_list[i],set(original_labels),index)\n",
    "\n",
    "        data = data.drop('label',axis=1)\n",
    "\n",
    "\n",
    "\n",
    "        predicted_labels = np.argmax(mul_range_model.predict(data.values.reshape(-1,1,3)), axis=1)\n",
    "\n",
    "        results = sorted(zip([each for each in Counter(predicted_labels).keys()],Counter(predicted_labels).values() ), key=lambda x: x[1])\n",
    "\n",
    "        major_label = results[-1][0]\n",
    "\n",
    "\n",
    "        percentage = list(predicted_labels).count(index-1)*100/data.shape[0]\n",
    "\n",
    "        if fault_type not in list(matrix.keys()):\n",
    "            matrix[fault_type] = []\n",
    "            matrix[fault_type].append(percentage)\n",
    "        else:\n",
    "            matrix[fault_type].append(percentage)\n",
    "\n",
    "        \n",
    "for each in matrix.keys():\n",
    "    \n",
    "    matrix[each] = sum(matrix[each])/len(matrix[each])\n",
    "\n",
    "matrix['avg'] = sum(matrix.values())/len(matrix.values())\n",
    "master_tester.append(matrix)"
   ]
  },
  {
   "cell_type": "code",
   "execution_count": 85,
   "metadata": {},
   "outputs": [],
   "source": [
    "matrix = {}\n",
    "for i in range(40):\n",
    "\n",
    "    fault_type = re.sub(r'[0-9]+', '', th_file_list[i].split(\"/\")[-1].split(\".\")[0])\n",
    "    if fault_type!='ABC':\n",
    "        data = pd.read_csv(th_file_list[i])\n",
    "\n",
    "        original_labels = data['label']\n",
    "\n",
    "        data.drop(data.columns[3:6],axis=1,inplace=True)\n",
    "        index = list(set(original_labels))[-1]\n",
    "        if index>4:\n",
    "            original_labels-=1\n",
    "\n",
    "        if index !=0:\n",
    "\n",
    "\n",
    "            data =data.drop('label',axis=1)\n",
    "\n",
    "            predicted_labels = np.argmax(bin_range_model.predict(data.values.reshape(-1,1,3)), axis=1)\n",
    "\n",
    "            data['label'] = predicted_labels\n",
    "\n",
    "            data = data[data.label!=0]\n",
    "            #print(range_file_list[i],set(original_labels),index)\n",
    "\n",
    "            data = data.drop('label',axis=1)\n",
    "\n",
    "\n",
    "\n",
    "            predicted_labels = np.argmax(mul_range_model.predict(data.values.reshape(-1,1,3)), axis=1)\n",
    "\n",
    "            results = sorted(zip([each for each in Counter(predicted_labels).keys()],Counter(predicted_labels).values() ), key=lambda x: x[1])\n",
    "\n",
    "            major_label = results[-1][0]\n",
    "\n",
    "\n",
    "            percentage = list(predicted_labels).count(index-1)*100/data.shape[0]\n",
    "\n",
    "            if fault_type not in list(matrix.keys()):\n",
    "                matrix[fault_type] = []\n",
    "                matrix[fault_type].append(percentage)\n",
    "            else:\n",
    "                matrix[fault_type].append(percentage)\n",
    "\n",
    "        \n",
    "for each in matrix.keys():\n",
    "    \n",
    "    matrix[each] = sum(matrix[each])/len(matrix[each])\n",
    "\n",
    "matrix['avg'] = sum(matrix.values())/len(matrix.values())\n",
    "master_tester.append(matrix)"
   ]
  },
  {
   "cell_type": "markdown",
   "metadata": {},
   "source": []
  },
  {
   "cell_type": "code",
   "execution_count": 65,
   "metadata": {},
   "outputs": [],
   "source": [
    "matrix = {}\n",
    "for i in range(len(clus_file_list)):\n",
    "\n",
    "    fault_type = re.sub(r'[0-9]+', '', clus_file_list[i].split(\"/\")[-1].split(\".\")[0])\n",
    "    if fault_type!='ABC':\n",
    "        data = pd.read_csv(clus_file_list[i])\n",
    "\n",
    "        original_labels = data['label']\n",
    "\n",
    "        data.drop(data.columns[3:6],axis=1,inplace=True)\n",
    "        index = list(set(original_labels))[-1]\n",
    "        \n",
    "        if index>4:\n",
    "            original_labels-=1\n",
    "\n",
    "        if index !=0:\n",
    "\n",
    "\n",
    "            data =data.drop('label',axis=1)\n",
    "\n",
    "            predicted_labels = np.argmax(bin_range_model.predict(data.values.reshape(-1,1,3)), axis=1)\n",
    "\n",
    "            data['label'] = predicted_labels\n",
    "\n",
    "            data = data[data.label!=0]\n",
    "            #print(range_file_list[i],set(original_labels),index)\n",
    "\n",
    "            data = data.drop('label',axis=1)\n",
    "\n",
    "\n",
    "\n",
    "            predicted_labels = np.argmax(mul_range_model.predict(data.values.reshape(-1,1,3)), axis=1)\n",
    "\n",
    "            results = sorted(zip([each for each in Counter(predicted_labels).keys()],Counter(predicted_labels).values() ), key=lambda x: x[1])\n",
    "\n",
    "            major_label = results[-1][0]\n",
    "\n",
    "\n",
    "            percentage = list(predicted_labels).count(index-1)*100/data.shape[0]\n",
    "\n",
    "            if fault_type not in list(matrix.keys()):\n",
    "                matrix[fault_type] = []\n",
    "                matrix[fault_type].append(percentage)\n",
    "            else:\n",
    "                matrix[fault_type].append(percentage)\n",
    "\n",
    "        \n",
    "for each in matrix.keys():\n",
    "    \n",
    "    matrix[each] = sum(matrix[each])/len(matrix[each])\n",
    "\n",
    "matrix['avg'] = sum(matrix.values())/len(matrix.values())\n",
    "master_tester.append(matrix)"
   ]
  },
  {
   "cell_type": "code",
   "execution_count": 66,
   "metadata": {},
   "outputs": [
    {
     "data": {
      "text/plain": [
       "[{'ABCG': 98.92916920978767,\n",
       "  'BC': 95.2073157083094,\n",
       "  'CG': 99.89106753812636,\n",
       "  'BCG': 98.4583703804429,\n",
       "  'BG': 99.09531380119616,\n",
       "  'ABG': 98.06683982253952,\n",
       "  'AG': 100.0,\n",
       "  'ACG': 96.17150402853594,\n",
       "  'AC': 87.10358632845436,\n",
       "  'AB': 86.81316224472435,\n",
       "  'avg': 95.97363290621166},\n",
       " {'ABCG': 0.0,\n",
       "  'ABG': 0.0,\n",
       "  'BC': 71.13807075127691,\n",
       "  'CG': 0.22759103641456582,\n",
       "  'BCG': 4.818685494213979,\n",
       "  'BG': 0.0,\n",
       "  'AG': 0.0,\n",
       "  'ACG': 0.0,\n",
       "  'AC': 83.91723988439246,\n",
       "  'AB': 92.68776848156871,\n",
       "  'avg': 25.27893556478666},\n",
       " {'ABCG': 0.0,\n",
       "  'ABG': 0.0,\n",
       "  'BC': 88.37625660600173,\n",
       "  'CG': 0.29726750137806124,\n",
       "  'BCG': 4.834889069611358,\n",
       "  'BG': 0.0,\n",
       "  'AG': 0.0,\n",
       "  'ACG': 0.0,\n",
       "  'AC': 94.53969056460859,\n",
       "  'AB': 95.25600328124703,\n",
       "  'avg': 28.330410702284677}]"
      ]
     },
     "execution_count": 66,
     "metadata": {},
     "output_type": "execute_result"
    }
   ],
   "source": [
    "master_tester"
   ]
  },
  {
   "cell_type": "code",
   "execution_count": 67,
   "metadata": {},
   "outputs": [],
   "source": [
    "rang = pd.DataFrame(master_tester)"
   ]
  },
  {
   "cell_type": "code",
   "execution_count": 68,
   "metadata": {},
   "outputs": [],
   "source": [
    "rang.index = ['RangeDataset','ThresholdDataset','ClusterDataset']"
   ]
  },
  {
   "cell_type": "code",
   "execution_count": 69,
   "metadata": {},
   "outputs": [],
   "source": [
    "rang.to_csv('range_bin_mul.csv')"
   ]
  },
  {
   "cell_type": "code",
   "execution_count": 70,
   "metadata": {},
   "outputs": [
    {
     "data": {
      "image/png": "[encoded data removed]",
      "text/plain": [
       "<Figure size 1440x432 with 2 Axes>"
      ]
     },
     "metadata": {
      "needs_background": "light"
     },
     "output_type": "display_data"
    }
   ],
   "source": [
    "plt.figure(figsize=(20,6))\n",
    "\n",
    "ax = sns.heatmap(round(rang), linewidth=0,annot=True)\n",
    "plt.savefig(\"rangetraining_binary_multi.png\")\n",
    "plt.show()"
   ]
  },
  {
   "cell_type": "code",
   "execution_count": null,
   "metadata": {},
   "outputs": [],
   "source": []
  }
 ],
 "metadata": {
  "kernelspec": {
   "display_name": "Python 3",
   "language": "python",
   "name": "python3"
  },
  "language_info": {
   "codemirror_mode": {
    "name": "ipython",
    "version": 3
   },
   "file_extension": ".py",
   "mimetype": "text/x-python",
   "name": "python",
   "nbconvert_exporter": "python",
   "pygments_lexer": "ipython3",
   "version": "3.8.5"
  }
 },
 "nbformat": 4,
 "nbformat_minor": 4
}
