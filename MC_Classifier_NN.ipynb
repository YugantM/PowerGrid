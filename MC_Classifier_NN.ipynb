{
 "cells": [
  {
   "cell_type": "markdown",
   "metadata": {},
   "source": [
    "# Sequencial NN"
   ]
  },
  {
   "cell_type": "code",
   "execution_count": 1,
   "metadata": {},
   "outputs": [],
   "source": [
    "from keras.models import Sequential\n",
    "from keras.layers import Dense\n",
    "from keras.layers import LSTM"
   ]
  },
  {
   "cell_type": "code",
   "execution_count": 2,
   "metadata": {},
   "outputs": [],
   "source": [
    "import pandas as pd \n",
    "import matplotlib.pyplot as plt"
   ]
  },
  {
   "cell_type": "code",
   "execution_count": 3,
   "metadata": {},
   "outputs": [],
   "source": [
    "import numpy as np"
   ]
  },
  {
   "cell_type": "code",
   "execution_count": 4,
   "metadata": {},
   "outputs": [],
   "source": [
    "dataset = pd.read_csv('./TrainingSet/multi/mul_dataset_simulink.csv')\n",
    "dataset.dropna(inplace = True)"
   ]
  },
  {
   "cell_type": "code",
   "execution_count": 5,
   "metadata": {},
   "outputs": [],
   "source": [
    "total_labels = ['NML', 'AB', 'AC', 'BC', 'ABC', 'AG', 'BG', 'ABG', 'CG', 'ACG', 'BCG', 'ABCG']\n",
    "#dataset['label'] = dataset['label'].apply(unq_labels.index)"
   ]
  },
  {
   "cell_type": "code",
   "execution_count": 6,
   "metadata": {},
   "outputs": [],
   "source": [
    "# storing length of columns ignoring column 'label'\n",
    "data = dataset\n",
    "col_len = data.shape[1]-1\n",
    "\n",
    "# creating a new column list for the csv as there are no column names from MatLab\n",
    "cols = [str(each+1)+'A' for each in range(int(col_len/2))] + [str(each+1)+'V' for each in range(int(col_len/2))]\n",
    "\n",
    "# assigning new column names to the dataframe\n",
    "data.columns = cols + ['label']\n",
    "\n",
    "dataset = data"
   ]
  },
  {
   "cell_type": "code",
   "execution_count": 7,
   "metadata": {},
   "outputs": [],
   "source": [
    "# creating training set ignoring labels\n",
    "train_data = dataset[dataset.columns[:-1]].values\n",
    "labels = dataset['label'].values"
   ]
  },
  {
   "cell_type": "code",
   "execution_count": 8,
   "metadata": {},
   "outputs": [],
   "source": [
    "from sklearn.model_selection import train_test_split\n",
    "X_train, X_test, y_train, y_test =   train_test_split(train_data,  labels, test_size=0.20,shuffle=False)"
   ]
  },
  {
   "cell_type": "code",
   "execution_count": 9,
   "metadata": {},
   "outputs": [],
   "source": [
    "X_train = X_train.reshape(-1, 1, train_data.shape[1])\n",
    "X_test  = X_test.reshape(-1, 1, train_data.shape[1])\n",
    "y_train = y_train.reshape(-1, 1, 1)\n",
    "y_test = y_test.reshape(-1, 1, 1)\n"
   ]
  },
  {
   "cell_type": "code",
   "execution_count": 10,
   "metadata": {},
   "outputs": [
    {
     "name": "stdout",
     "output_type": "stream",
     "text": [
      "Model: \"sequential\"\n",
      "_________________________________________________________________\n",
      "Layer (type)                 Output Shape              Param #   \n",
      "=================================================================\n",
      "lstm (LSTM)                  (None, 100)               42800     \n",
      "_________________________________________________________________\n",
      "dense (Dense)                (None, 12)                1212      \n",
      "=================================================================\n",
      "Total params: 44,012\n",
      "Trainable params: 44,012\n",
      "Non-trainable params: 0\n",
      "_________________________________________________________________\n"
     ]
    }
   ],
   "source": [
    "model = Sequential()\n",
    "model.add(LSTM(100, input_shape=(X_train.shape[1], X_train.shape[2])))\n",
    "model.add(Dense(len(total_labels), activation='softmax'))\n",
    "model.summary()"
   ]
  },
  {
   "cell_type": "code",
   "execution_count": 11,
   "metadata": {},
   "outputs": [],
   "source": [
    "from keras.callbacks import ModelCheckpoint"
   ]
  },
  {
   "cell_type": "code",
   "execution_count": 12,
   "metadata": {},
   "outputs": [
    {
     "name": "stdout",
     "output_type": "stream",
     "text": [
      "Epoch 1/30\n",
      "17/17 [==============================] - 14s 156ms/step - loss: 2.2901 - accuracy: 0.2639 - val_loss: 1.9310 - val_accuracy: 0.4260\n",
      "\n",
      "Epoch 00001: val_loss improved from inf to 1.93100, saving model to best_model.pkl\n"
     ]
    },
    {
     "name": "stderr",
     "output_type": "stream",
     "text": [
      "WARNING:absl:Found untraced functions such as lstm_cell_layer_call_fn, lstm_cell_layer_call_and_return_conditional_losses, lstm_cell_layer_call_fn, lstm_cell_layer_call_and_return_conditional_losses, lstm_cell_layer_call_and_return_conditional_losses while saving (showing 5 of 5). These functions will not be directly callable after loading.\n"
     ]
    },
    {
     "name": "stdout",
     "output_type": "stream",
     "text": [
      "INFO:tensorflow:Assets written to: best_model.pkl/assets\n"
     ]
    },
    {
     "name": "stderr",
     "output_type": "stream",
     "text": [
      "INFO:tensorflow:Assets written to: best_model.pkl/assets\n"
     ]
    },
    {
     "name": "stdout",
     "output_type": "stream",
     "text": [
      "Epoch 2/30\n",
      "17/17 [==============================] - 2s 137ms/step - loss: 1.9158 - accuracy: 0.4214 - val_loss: 1.7831 - val_accuracy: 0.5779\n",
      "\n",
      "Epoch 00002: val_loss improved from 1.93100 to 1.78313, saving model to best_model.pkl\n"
     ]
    },
    {
     "name": "stderr",
     "output_type": "stream",
     "text": [
      "WARNING:absl:Found untraced functions such as lstm_cell_layer_call_fn, lstm_cell_layer_call_and_return_conditional_losses, lstm_cell_layer_call_fn, lstm_cell_layer_call_and_return_conditional_losses, lstm_cell_layer_call_and_return_conditional_losses while saving (showing 5 of 5). These functions will not be directly callable after loading.\n"
     ]
    },
    {
     "name": "stdout",
     "output_type": "stream",
     "text": [
      "INFO:tensorflow:Assets written to: best_model.pkl/assets\n"
     ]
    },
    {
     "name": "stderr",
     "output_type": "stream",
     "text": [
      "INFO:tensorflow:Assets written to: best_model.pkl/assets\n"
     ]
    },
    {
     "name": "stdout",
     "output_type": "stream",
     "text": [
      "Epoch 3/30\n",
      "17/17 [==============================] - 2s 123ms/step - loss: 1.7227 - accuracy: 0.5326 - val_loss: 1.6184 - val_accuracy: 0.6066\n",
      "\n",
      "Epoch 00003: val_loss improved from 1.78313 to 1.61838, saving model to best_model.pkl\n"
     ]
    },
    {
     "name": "stderr",
     "output_type": "stream",
     "text": [
      "WARNING:absl:Found untraced functions such as lstm_cell_layer_call_fn, lstm_cell_layer_call_and_return_conditional_losses, lstm_cell_layer_call_fn, lstm_cell_layer_call_and_return_conditional_losses, lstm_cell_layer_call_and_return_conditional_losses while saving (showing 5 of 5). These functions will not be directly callable after loading.\n"
     ]
    },
    {
     "name": "stdout",
     "output_type": "stream",
     "text": [
      "INFO:tensorflow:Assets written to: best_model.pkl/assets\n"
     ]
    },
    {
     "name": "stderr",
     "output_type": "stream",
     "text": [
      "INFO:tensorflow:Assets written to: best_model.pkl/assets\n"
     ]
    },
    {
     "name": "stdout",
     "output_type": "stream",
     "text": [
      "Epoch 4/30\n",
      "17/17 [==============================] - 2s 121ms/step - loss: 1.5769 - accuracy: 0.5594 - val_loss: 1.5054 - val_accuracy: 0.6132\n",
      "\n",
      "Epoch 00004: val_loss improved from 1.61838 to 1.50538, saving model to best_model.pkl\n"
     ]
    },
    {
     "name": "stderr",
     "output_type": "stream",
     "text": [
      "WARNING:absl:Found untraced functions such as lstm_cell_layer_call_fn, lstm_cell_layer_call_and_return_conditional_losses, lstm_cell_layer_call_fn, lstm_cell_layer_call_and_return_conditional_losses, lstm_cell_layer_call_and_return_conditional_losses while saving (showing 5 of 5). These functions will not be directly callable after loading.\n"
     ]
    },
    {
     "name": "stdout",
     "output_type": "stream",
     "text": [
      "INFO:tensorflow:Assets written to: best_model.pkl/assets\n"
     ]
    },
    {
     "name": "stderr",
     "output_type": "stream",
     "text": [
      "INFO:tensorflow:Assets written to: best_model.pkl/assets\n"
     ]
    },
    {
     "name": "stdout",
     "output_type": "stream",
     "text": [
      "Epoch 5/30\n",
      "17/17 [==============================] - 2s 129ms/step - loss: 1.4892 - accuracy: 0.5627 - val_loss: 1.4046 - val_accuracy: 0.6068\n",
      "\n",
      "Epoch 00005: val_loss improved from 1.50538 to 1.40458, saving model to best_model.pkl\n"
     ]
    },
    {
     "name": "stderr",
     "output_type": "stream",
     "text": [
      "WARNING:absl:Found untraced functions such as lstm_cell_layer_call_fn, lstm_cell_layer_call_and_return_conditional_losses, lstm_cell_layer_call_fn, lstm_cell_layer_call_and_return_conditional_losses, lstm_cell_layer_call_and_return_conditional_losses while saving (showing 5 of 5). These functions will not be directly callable after loading.\n"
     ]
    },
    {
     "name": "stdout",
     "output_type": "stream",
     "text": [
      "INFO:tensorflow:Assets written to: best_model.pkl/assets\n"
     ]
    },
    {
     "name": "stderr",
     "output_type": "stream",
     "text": [
      "INFO:tensorflow:Assets written to: best_model.pkl/assets\n"
     ]
    },
    {
     "name": "stdout",
     "output_type": "stream",
     "text": [
      "Epoch 6/30\n",
      "17/17 [==============================] - 2s 128ms/step - loss: 1.4220 - accuracy: 0.5629 - val_loss: 1.3444 - val_accuracy: 0.6085\n",
      "\n",
      "Epoch 00006: val_loss improved from 1.40458 to 1.34440, saving model to best_model.pkl\n"
     ]
    },
    {
     "name": "stderr",
     "output_type": "stream",
     "text": [
      "WARNING:absl:Found untraced functions such as lstm_cell_layer_call_fn, lstm_cell_layer_call_and_return_conditional_losses, lstm_cell_layer_call_fn, lstm_cell_layer_call_and_return_conditional_losses, lstm_cell_layer_call_and_return_conditional_losses while saving (showing 5 of 5). These functions will not be directly callable after loading.\n"
     ]
    },
    {
     "name": "stdout",
     "output_type": "stream",
     "text": [
      "INFO:tensorflow:Assets written to: best_model.pkl/assets\n"
     ]
    },
    {
     "name": "stderr",
     "output_type": "stream",
     "text": [
      "INFO:tensorflow:Assets written to: best_model.pkl/assets\n"
     ]
    },
    {
     "name": "stdout",
     "output_type": "stream",
     "text": [
      "Epoch 7/30\n",
      "17/17 [==============================] - 2s 127ms/step - loss: 1.3753 - accuracy: 0.5612 - val_loss: 1.3010 - val_accuracy: 0.6096\n",
      "\n",
      "Epoch 00007: val_loss improved from 1.34440 to 1.30098, saving model to best_model.pkl\n"
     ]
    },
    {
     "name": "stderr",
     "output_type": "stream",
     "text": [
      "WARNING:absl:Found untraced functions such as lstm_cell_layer_call_fn, lstm_cell_layer_call_and_return_conditional_losses, lstm_cell_layer_call_fn, lstm_cell_layer_call_and_return_conditional_losses, lstm_cell_layer_call_and_return_conditional_losses while saving (showing 5 of 5). These functions will not be directly callable after loading.\n"
     ]
    },
    {
     "name": "stdout",
     "output_type": "stream",
     "text": [
      "INFO:tensorflow:Assets written to: best_model.pkl/assets\n"
     ]
    },
    {
     "name": "stderr",
     "output_type": "stream",
     "text": [
      "INFO:tensorflow:Assets written to: best_model.pkl/assets\n"
     ]
    },
    {
     "name": "stdout",
     "output_type": "stream",
     "text": [
      "Epoch 8/30\n",
      "17/17 [==============================] - 2s 128ms/step - loss: 1.3389 - accuracy: 0.5616 - val_loss: 1.2847 - val_accuracy: 0.6074\n",
      "\n",
      "Epoch 00008: val_loss improved from 1.30098 to 1.28469, saving model to best_model.pkl\n"
     ]
    },
    {
     "name": "stderr",
     "output_type": "stream",
     "text": [
      "WARNING:absl:Found untraced functions such as lstm_cell_layer_call_fn, lstm_cell_layer_call_and_return_conditional_losses, lstm_cell_layer_call_fn, lstm_cell_layer_call_and_return_conditional_losses, lstm_cell_layer_call_and_return_conditional_losses while saving (showing 5 of 5). These functions will not be directly callable after loading.\n"
     ]
    },
    {
     "name": "stdout",
     "output_type": "stream",
     "text": [
      "INFO:tensorflow:Assets written to: best_model.pkl/assets\n"
     ]
    },
    {
     "name": "stderr",
     "output_type": "stream",
     "text": [
      "INFO:tensorflow:Assets written to: best_model.pkl/assets\n"
     ]
    },
    {
     "name": "stdout",
     "output_type": "stream",
     "text": [
      "Epoch 9/30\n",
      "17/17 [==============================] - 2s 147ms/step - loss: 1.3117 - accuracy: 0.5633 - val_loss: 1.2525 - val_accuracy: 0.6184\n",
      "\n",
      "Epoch 00009: val_loss improved from 1.28469 to 1.25250, saving model to best_model.pkl\n"
     ]
    },
    {
     "name": "stderr",
     "output_type": "stream",
     "text": [
      "WARNING:absl:Found untraced functions such as lstm_cell_layer_call_fn, lstm_cell_layer_call_and_return_conditional_losses, lstm_cell_layer_call_fn, lstm_cell_layer_call_and_return_conditional_losses, lstm_cell_layer_call_and_return_conditional_losses while saving (showing 5 of 5). These functions will not be directly callable after loading.\n"
     ]
    },
    {
     "name": "stdout",
     "output_type": "stream",
     "text": [
      "INFO:tensorflow:Assets written to: best_model.pkl/assets\n"
     ]
    },
    {
     "name": "stderr",
     "output_type": "stream",
     "text": [
      "INFO:tensorflow:Assets written to: best_model.pkl/assets\n"
     ]
    },
    {
     "name": "stdout",
     "output_type": "stream",
     "text": [
      "Epoch 10/30\n",
      "17/17 [==============================] - 3s 143ms/step - loss: 1.2903 - accuracy: 0.5693 - val_loss: 1.2393 - val_accuracy: 0.6210\n",
      "\n",
      "Epoch 00010: val_loss improved from 1.25250 to 1.23927, saving model to best_model.pkl\n"
     ]
    },
    {
     "name": "stderr",
     "output_type": "stream",
     "text": [
      "WARNING:absl:Found untraced functions such as lstm_cell_layer_call_fn, lstm_cell_layer_call_and_return_conditional_losses, lstm_cell_layer_call_fn, lstm_cell_layer_call_and_return_conditional_losses, lstm_cell_layer_call_and_return_conditional_losses while saving (showing 5 of 5). These functions will not be directly callable after loading.\n"
     ]
    },
    {
     "name": "stdout",
     "output_type": "stream",
     "text": [
      "INFO:tensorflow:Assets written to: best_model.pkl/assets\n"
     ]
    },
    {
     "name": "stderr",
     "output_type": "stream",
     "text": [
      "INFO:tensorflow:Assets written to: best_model.pkl/assets\n"
     ]
    },
    {
     "name": "stdout",
     "output_type": "stream",
     "text": [
      "Epoch 11/30\n",
      "17/17 [==============================] - 2s 132ms/step - loss: 1.2696 - accuracy: 0.5710 - val_loss: 1.2276 - val_accuracy: 0.6227\n",
      "\n",
      "Epoch 00011: val_loss improved from 1.23927 to 1.22758, saving model to best_model.pkl\n"
     ]
    },
    {
     "name": "stderr",
     "output_type": "stream",
     "text": [
      "WARNING:absl:Found untraced functions such as lstm_cell_layer_call_fn, lstm_cell_layer_call_and_return_conditional_losses, lstm_cell_layer_call_fn, lstm_cell_layer_call_and_return_conditional_losses, lstm_cell_layer_call_and_return_conditional_losses while saving (showing 5 of 5). These functions will not be directly callable after loading.\n"
     ]
    },
    {
     "name": "stdout",
     "output_type": "stream",
     "text": [
      "INFO:tensorflow:Assets written to: best_model.pkl/assets\n"
     ]
    },
    {
     "name": "stderr",
     "output_type": "stream",
     "text": [
      "INFO:tensorflow:Assets written to: best_model.pkl/assets\n"
     ]
    },
    {
     "name": "stdout",
     "output_type": "stream",
     "text": [
      "Epoch 12/30\n",
      "17/17 [==============================] - 2s 121ms/step - loss: 1.2578 - accuracy: 0.5709 - val_loss: 1.2103 - val_accuracy: 0.6223\n",
      "\n",
      "Epoch 00012: val_loss improved from 1.22758 to 1.21028, saving model to best_model.pkl\n"
     ]
    },
    {
     "name": "stderr",
     "output_type": "stream",
     "text": [
      "WARNING:absl:Found untraced functions such as lstm_cell_layer_call_fn, lstm_cell_layer_call_and_return_conditional_losses, lstm_cell_layer_call_fn, lstm_cell_layer_call_and_return_conditional_losses, lstm_cell_layer_call_and_return_conditional_losses while saving (showing 5 of 5). These functions will not be directly callable after loading.\n"
     ]
    },
    {
     "name": "stdout",
     "output_type": "stream",
     "text": [
      "INFO:tensorflow:Assets written to: best_model.pkl/assets\n"
     ]
    },
    {
     "name": "stderr",
     "output_type": "stream",
     "text": [
      "INFO:tensorflow:Assets written to: best_model.pkl/assets\n"
     ]
    },
    {
     "name": "stdout",
     "output_type": "stream",
     "text": [
      "Epoch 13/30\n",
      "17/17 [==============================] - 2s 123ms/step - loss: 1.2429 - accuracy: 0.5715 - val_loss: 1.1980 - val_accuracy: 0.6253\n",
      "\n",
      "Epoch 00013: val_loss improved from 1.21028 to 1.19795, saving model to best_model.pkl\n"
     ]
    },
    {
     "name": "stderr",
     "output_type": "stream",
     "text": [
      "WARNING:absl:Found untraced functions such as lstm_cell_layer_call_fn, lstm_cell_layer_call_and_return_conditional_losses, lstm_cell_layer_call_fn, lstm_cell_layer_call_and_return_conditional_losses, lstm_cell_layer_call_and_return_conditional_losses while saving (showing 5 of 5). These functions will not be directly callable after loading.\n"
     ]
    },
    {
     "name": "stdout",
     "output_type": "stream",
     "text": [
      "INFO:tensorflow:Assets written to: best_model.pkl/assets\n"
     ]
    },
    {
     "name": "stderr",
     "output_type": "stream",
     "text": [
      "INFO:tensorflow:Assets written to: best_model.pkl/assets\n"
     ]
    },
    {
     "name": "stdout",
     "output_type": "stream",
     "text": [
      "Epoch 14/30\n",
      "17/17 [==============================] - 2s 136ms/step - loss: 1.2343 - accuracy: 0.5710 - val_loss: 1.1980 - val_accuracy: 0.6225\n",
      "\n",
      "Epoch 00014: val_loss did not improve from 1.19795\n",
      "Epoch 15/30\n",
      "17/17 [==============================] - 2s 133ms/step - loss: 1.2207 - accuracy: 0.5725 - val_loss: 1.1820 - val_accuracy: 0.6242\n",
      "\n",
      "Epoch 00015: val_loss improved from 1.19795 to 1.18200, saving model to best_model.pkl\n"
     ]
    },
    {
     "name": "stderr",
     "output_type": "stream",
     "text": [
      "WARNING:absl:Found untraced functions such as lstm_cell_layer_call_fn, lstm_cell_layer_call_and_return_conditional_losses, lstm_cell_layer_call_fn, lstm_cell_layer_call_and_return_conditional_losses, lstm_cell_layer_call_and_return_conditional_losses while saving (showing 5 of 5). These functions will not be directly callable after loading.\n"
     ]
    },
    {
     "name": "stdout",
     "output_type": "stream",
     "text": [
      "INFO:tensorflow:Assets written to: best_model.pkl/assets\n"
     ]
    },
    {
     "name": "stderr",
     "output_type": "stream",
     "text": [
      "INFO:tensorflow:Assets written to: best_model.pkl/assets\n"
     ]
    },
    {
     "name": "stdout",
     "output_type": "stream",
     "text": [
      "Epoch 16/30\n",
      "17/17 [==============================] - 2s 136ms/step - loss: 1.2128 - accuracy: 0.5724 - val_loss: 1.1848 - val_accuracy: 0.6236\n",
      "\n",
      "Epoch 00016: val_loss did not improve from 1.18200\n",
      "Epoch 17/30\n",
      "17/17 [==============================] - 2s 133ms/step - loss: 1.2079 - accuracy: 0.5714 - val_loss: 1.1756 - val_accuracy: 0.6258\n",
      "\n",
      "Epoch 00017: val_loss improved from 1.18200 to 1.17557, saving model to best_model.pkl\n"
     ]
    },
    {
     "name": "stderr",
     "output_type": "stream",
     "text": [
      "WARNING:absl:Found untraced functions such as lstm_cell_layer_call_fn, lstm_cell_layer_call_and_return_conditional_losses, lstm_cell_layer_call_fn, lstm_cell_layer_call_and_return_conditional_losses, lstm_cell_layer_call_and_return_conditional_losses while saving (showing 5 of 5). These functions will not be directly callable after loading.\n"
     ]
    },
    {
     "name": "stdout",
     "output_type": "stream",
     "text": [
      "INFO:tensorflow:Assets written to: best_model.pkl/assets\n"
     ]
    },
    {
     "name": "stderr",
     "output_type": "stream",
     "text": [
      "INFO:tensorflow:Assets written to: best_model.pkl/assets\n"
     ]
    },
    {
     "name": "stdout",
     "output_type": "stream",
     "text": [
      "Epoch 18/30\n",
      "17/17 [==============================] - 2s 121ms/step - loss: 1.1990 - accuracy: 0.5729 - val_loss: 1.1774 - val_accuracy: 0.6207\n",
      "\n",
      "Epoch 00018: val_loss did not improve from 1.17557\n",
      "Epoch 19/30\n",
      "17/17 [==============================] - 2s 129ms/step - loss: 1.1963 - accuracy: 0.5719 - val_loss: 1.1520 - val_accuracy: 0.6306\n",
      "\n",
      "Epoch 00019: val_loss improved from 1.17557 to 1.15202, saving model to best_model.pkl\n"
     ]
    },
    {
     "name": "stderr",
     "output_type": "stream",
     "text": [
      "WARNING:absl:Found untraced functions such as lstm_cell_layer_call_fn, lstm_cell_layer_call_and_return_conditional_losses, lstm_cell_layer_call_fn, lstm_cell_layer_call_and_return_conditional_losses, lstm_cell_layer_call_and_return_conditional_losses while saving (showing 5 of 5). These functions will not be directly callable after loading.\n"
     ]
    },
    {
     "name": "stdout",
     "output_type": "stream",
     "text": [
      "INFO:tensorflow:Assets written to: best_model.pkl/assets\n"
     ]
    },
    {
     "name": "stderr",
     "output_type": "stream",
     "text": [
      "INFO:tensorflow:Assets written to: best_model.pkl/assets\n"
     ]
    },
    {
     "name": "stdout",
     "output_type": "stream",
     "text": [
      "Epoch 20/30\n",
      "17/17 [==============================] - 2s 138ms/step - loss: 1.1898 - accuracy: 0.5730 - val_loss: 1.1584 - val_accuracy: 0.6281\n",
      "\n",
      "Epoch 00020: val_loss did not improve from 1.15202\n",
      "Epoch 21/30\n",
      "17/17 [==============================] - 3s 150ms/step - loss: 1.1861 - accuracy: 0.5723 - val_loss: 1.1578 - val_accuracy: 0.6270\n",
      "\n",
      "Epoch 00021: val_loss did not improve from 1.15202\n",
      "Epoch 22/30\n",
      "17/17 [==============================] - 2s 141ms/step - loss: 1.1791 - accuracy: 0.5733 - val_loss: 1.1587 - val_accuracy: 0.6233\n",
      "\n",
      "Epoch 00022: val_loss did not improve from 1.15202\n",
      "Epoch 23/30\n",
      "17/17 [==============================] - 2s 146ms/step - loss: 1.1763 - accuracy: 0.5735 - val_loss: 1.1604 - val_accuracy: 0.6215\n",
      "\n",
      "Epoch 00023: val_loss did not improve from 1.15202\n",
      "Epoch 24/30\n",
      "17/17 [==============================] - 2s 144ms/step - loss: 1.1757 - accuracy: 0.5708 - val_loss: 1.1575 - val_accuracy: 0.6268\n",
      "\n",
      "Epoch 00024: val_loss did not improve from 1.15202\n",
      "Epoch 25/30\n",
      "17/17 [==============================] - 2s 142ms/step - loss: 1.1676 - accuracy: 0.5718 - val_loss: 1.1436 - val_accuracy: 0.6292\n",
      "\n",
      "Epoch 00025: val_loss improved from 1.15202 to 1.14360, saving model to best_model.pkl\n"
     ]
    },
    {
     "name": "stderr",
     "output_type": "stream",
     "text": [
      "WARNING:absl:Found untraced functions such as lstm_cell_layer_call_fn, lstm_cell_layer_call_and_return_conditional_losses, lstm_cell_layer_call_fn, lstm_cell_layer_call_and_return_conditional_losses, lstm_cell_layer_call_and_return_conditional_losses while saving (showing 5 of 5). These functions will not be directly callable after loading.\n"
     ]
    },
    {
     "name": "stdout",
     "output_type": "stream",
     "text": [
      "INFO:tensorflow:Assets written to: best_model.pkl/assets\n"
     ]
    },
    {
     "name": "stderr",
     "output_type": "stream",
     "text": [
      "INFO:tensorflow:Assets written to: best_model.pkl/assets\n"
     ]
    },
    {
     "name": "stdout",
     "output_type": "stream",
     "text": [
      "Epoch 26/30\n",
      "17/17 [==============================] - 2s 123ms/step - loss: 1.1653 - accuracy: 0.5726 - val_loss: 1.1271 - val_accuracy: 0.6336\n",
      "\n",
      "Epoch 00026: val_loss improved from 1.14360 to 1.12711, saving model to best_model.pkl\n"
     ]
    },
    {
     "name": "stderr",
     "output_type": "stream",
     "text": [
      "WARNING:absl:Found untraced functions such as lstm_cell_layer_call_fn, lstm_cell_layer_call_and_return_conditional_losses, lstm_cell_layer_call_fn, lstm_cell_layer_call_and_return_conditional_losses, lstm_cell_layer_call_and_return_conditional_losses while saving (showing 5 of 5). These functions will not be directly callable after loading.\n"
     ]
    },
    {
     "name": "stdout",
     "output_type": "stream",
     "text": [
      "INFO:tensorflow:Assets written to: best_model.pkl/assets\n"
     ]
    },
    {
     "name": "stderr",
     "output_type": "stream",
     "text": [
      "INFO:tensorflow:Assets written to: best_model.pkl/assets\n"
     ]
    },
    {
     "name": "stdout",
     "output_type": "stream",
     "text": [
      "Epoch 27/30\n",
      "17/17 [==============================] - 2s 121ms/step - loss: 1.1622 - accuracy: 0.5718 - val_loss: 1.1380 - val_accuracy: 0.6297\n",
      "\n",
      "Epoch 00027: val_loss did not improve from 1.12711\n",
      "Epoch 28/30\n",
      "17/17 [==============================] - 2s 129ms/step - loss: 1.1596 - accuracy: 0.5723 - val_loss: 1.1438 - val_accuracy: 0.6262\n",
      "\n",
      "Epoch 00028: val_loss did not improve from 1.12711\n",
      "Epoch 29/30\n",
      "17/17 [==============================] - 2s 131ms/step - loss: 1.1534 - accuracy: 0.5740 - val_loss: 1.1385 - val_accuracy: 0.6257\n",
      "\n",
      "Epoch 00029: val_loss did not improve from 1.12711\n",
      "Epoch 30/30\n",
      "17/17 [==============================] - 2s 136ms/step - loss: 1.1544 - accuracy: 0.5720 - val_loss: 1.1402 - val_accuracy: 0.6295\n",
      "\n",
      "Epoch 00030: val_loss did not improve from 1.12711\n"
     ]
    }
   ],
   "source": [
    "chk = ModelCheckpoint('best_model.pkl', monitor='val_loss', save_best_only=True, mode='auto', verbose=1)\n",
    "model.compile(loss='sparse_categorical_crossentropy', optimizer='adam', metrics=['accuracy'])\n",
    "hist = model.fit(X_train, y_train, epochs=30, batch_size=20000, callbacks=[chk], validation_split=0.2)"
   ]
  },
  {
   "cell_type": "code",
   "execution_count": 14,
   "metadata": {},
   "outputs": [
    {
     "data": {
      "image/png": "[encoded data removed]",
      "text/plain": [
       "<Figure size 792x648 with 1 Axes>"
      ]
     },
     "metadata": {
      "needs_background": "light"
     },
     "output_type": "display_data"
    }
   ],
   "source": [
    "fig, axs = plt.subplots(nrows=1, figsize=(11, 9))\n",
    "plt.rcParams['font.size'] = '14'\n",
    "    \n",
    "for label in (axs.get_xticklabels() + axs.get_yticklabels()):\n",
    "    label.set_fontsize(14)    \n",
    "\n",
    "plt.plot(hist.history['accuracy'])\n",
    "plt.plot(hist.history['val_accuracy'])\n",
    "\n",
    "axs.set_title('Model Accuracy')\n",
    "axs.set_ylabel('Accuracy', fontsize=14)\n",
    "axs.set_xlabel('Epoch', fontsize=14)\n",
    "plt.legend(['train', 'val'], loc='upper left')\n",
    "plt.show()"
   ]
  },
  {
   "cell_type": "code",
   "execution_count": 15,
   "metadata": {},
   "outputs": [],
   "source": [
    "from keras.models import load_model\n",
    "model = load_model('best_model.pkl')\n",
    "\n",
    "from sklearn.metrics import accuracy_score\n",
    "test_preds = model.predict(X_test)\n",
    "gen_pred = np.argmax(test_preds,axis=1)"
   ]
  },
  {
   "cell_type": "code",
   "execution_count": 16,
   "metadata": {},
   "outputs": [
    {
     "name": "stdout",
     "output_type": "stream",
     "text": [
      "Test accuracy\n"
     ]
    },
    {
     "data": {
      "text/plain": [
       "0.5669624560366766"
      ]
     },
     "execution_count": 16,
     "metadata": {},
     "output_type": "execute_result"
    }
   ],
   "source": [
    "print(\"Test accuracy\")\n",
    "accuracy_score([each[0] for each in y_test], gen_pred)"
   ]
  },
  {
   "cell_type": "code",
   "execution_count": 51,
   "metadata": {},
   "outputs": [],
   "source": [
    "new_data = pd.read_csv('ml_test.csv')"
   ]
  },
  {
   "cell_type": "code",
   "execution_count": 52,
   "metadata": {},
   "outputs": [],
   "source": [
    "cols = [\"A\"+str(i) for i in range(6)]\n",
    "new_data.columns = cols\n",
    "new_data\n",
    "new_data = new_data[new_data.A5>100]"
   ]
  },
  {
   "cell_type": "code",
   "execution_count": 53,
   "metadata": {},
   "outputs": [],
   "source": [
    "testing  = new_data.values.reshape(-1,1,6).tolist()\n",
    "test_preds = model.predict(testing)\n",
    "gen_pred = np.argmax(test_preds,axis=1)"
   ]
  },
  {
   "cell_type": "code",
   "execution_count": 54,
   "metadata": {},
   "outputs": [],
   "source": [
    "new_data['label'] = gen_pred"
   ]
  },
  {
   "cell_type": "code",
   "execution_count": 55,
   "metadata": {},
   "outputs": [],
   "source": [
    "col_len = new_data.shape[1]-1\n",
    "\n",
    "\n",
    "# creating a new column list for the csv as there are no column names from MatLab\n",
    "cols = [str(each+1)+'A' for each in range(int(col_len/2))] + [str(each+1)+'V' for each in range(int(col_len/2))]\n",
    "\n",
    "new_data.columns = cols + ['label']"
   ]
  },
  {
   "cell_type": "code",
   "execution_count": 56,
   "metadata": {},
   "outputs": [
    {
     "name": "stdout",
     "output_type": "stream",
     "text": [
      "['ABG', 'AB', 'BG', 'ABC']\n"
     ]
    }
   ],
   "source": [
    "total_labels = ['NML', 'AB', 'AC', 'BC', 'ABC', 'AG', 'BG', 'ABG', 'CG', 'ACG', 'BCG', 'ABCG']\n",
    "df = new_data\n",
    "\n",
    "x = list(gen_pred)\n",
    "\n",
    "unq_labels = sorted(set(x), key=x.index)\n",
    "unq_labels = [total_labels[each] for each in unq_labels]\n",
    "print(unq_labels)\n",
    "\n",
    "#df['label'] = df['label'].apply(unq_labels.index)\n",
    "\n",
    "\n"
   ]
  },
  {
   "cell_type": "code",
   "execution_count": 57,
   "metadata": {},
   "outputs": [
    {
     "name": "stdout",
     "output_type": "stream",
     "text": [
      "dict_values([219, 1, 8, 1179]) ['ABG', 'AB', 'BG', 'ABC']\n"
     ]
    }
   ],
   "source": [
    "from collections import Counter\n",
    "print(Counter(gen_pred).values(),[total_labels[each] for each in Counter(gen_pred).keys()])"
   ]
  },
  {
   "cell_type": "code",
   "execution_count": 58,
   "metadata": {},
   "outputs": [
    {
     "data": {
      "image/png": "[encoded data removed]",
      "text/plain": [
       "<Figure size 432x288 with 1 Axes>"
      ]
     },
     "metadata": {
      "needs_background": "light"
     },
     "output_type": "display_data"
    },
    {
     "data": {
      "image/png": "[encoded data removed]",
      "text/plain": [
       "<Figure size 1080x1080 with 6 Axes>"
      ]
     },
     "metadata": {
      "needs_background": "light"
     },
     "output_type": "display_data"
    }
   ],
   "source": [
    "gend_labels = gen_pred\n",
    "df = new_data\n",
    "\n",
    "plt.hist([total_labels[x] for x in gend_labels if x!=0])\n",
    "fig, ax = plt.subplots(6,figsize=(15,15))\n",
    "\n",
    "for j in range(col_len):\n",
    "        \n",
    "    legend_list = []\n",
    "    for i in range(len(unq_labels)):\n",
    "\n",
    "        extract = df[df.label==total_labels.index(unq_labels[i])][cols[j]]    \n",
    "        \n",
    "        #print(len(extract))\n",
    "        if unq_labels[i]=='AB':\n",
    "            temp = ax[j].scatter(extract.index,extract,marker='+',s=40)\n",
    "        else:\n",
    "            temp = ax[j].scatter(extract.index,extract,marker='.',s=10)\n",
    "        \n",
    "\n",
    "        legend_list.append(temp)\n",
    "\n",
    "    ax[j].legend(legend_list,unq_labels,scatterpoints=3,ncol=1,fontsize=15)\n",
    "\n",
    "fig.tight_layout()\n",
    "plt.show()\n"
   ]
  },
  {
   "cell_type": "code",
   "execution_count": null,
   "metadata": {},
   "outputs": [],
   "source": []
  },
  {
   "cell_type": "code",
   "execution_count": null,
   "metadata": {},
   "outputs": [],
   "source": []
  },
  {
   "cell_type": "code",
   "execution_count": null,
   "metadata": {},
   "outputs": [],
   "source": []
  }
 ],
 "metadata": {
  "kernelspec": {
   "display_name": "Python 3",
   "language": "python",
   "name": "python3"
  },
  "language_info": {
   "codemirror_mode": {
    "name": "ipython",
    "version": 3
   },
   "file_extension": ".py",
   "mimetype": "text/x-python",
   "name": "python",
   "nbconvert_exporter": "python",
   "pygments_lexer": "ipython3",
   "version": "3.8.5"
  }
 },
 "nbformat": 4,
 "nbformat_minor": 4
}
