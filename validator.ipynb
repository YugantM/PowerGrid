{
 "cells": [
  {
   "cell_type": "code",
   "execution_count": 1,
   "metadata": {},
   "outputs": [],
   "source": [
    "import numpy as np\n",
    "import pandas as pd \n",
    "import matplotlib.pyplot as plt\n",
    "from keras.models import Sequential\n",
    "from keras.layers import Dense,InputLayer,Dropout\n",
    "from keras.layers import LSTM\n",
    "from config.config import *\n",
    "from config.constants import *\n",
    "from keras.callbacks import ModelCheckpoint\n",
    "from keras.models import load_model\n",
    "from sklearn.metrics import accuracy_score,multilabel_confusion_matrix\n",
    "from collections import Counter\n",
    "from sklearn.model_selection import train_test_split"
   ]
  },
  {
   "cell_type": "code",
   "execution_count": 2,
   "metadata": {},
   "outputs": [],
   "source": [
    "import os\n",
    "import matplotlib.pyplot as plt\n",
    "from kneed import KneeLocator\n",
    "from sklearn.datasets import make_blobs\n",
    "from sklearn.cluster import KMeans\n",
    "from sklearn.metrics import silhouette_score\n",
    "from sklearn.preprocessing import StandardScaler"
   ]
  },
  {
   "cell_type": "code",
   "execution_count": 3,
   "metadata": {},
   "outputs": [],
   "source": [
    "import seaborn as sns\n",
    "import matplotlib.pylab as plt"
   ]
  },
  {
   "cell_type": "code",
   "execution_count": 4,
   "metadata": {},
   "outputs": [],
   "source": [
    "import regex as re"
   ]
  },
  {
   "cell_type": "code",
   "execution_count": 5,
   "metadata": {},
   "outputs": [],
   "source": [
    "master_binary = []\n",
    "master_bin_with_multi = []"
   ]
  },
  {
   "cell_type": "code",
   "execution_count": 7,
   "metadata": {},
   "outputs": [],
   "source": [
    "# current directory\n",
    "th_path = \"./TrainingSet/\"\n",
    "\n",
    "# list of file of the given path is assigned to the variable \n",
    "th_file_list = [th_path+each for each in list(os.walk(th_path))[0][-1] if \".csv\" in each]\n",
    "\n",
    "clus_path = './KMTrainingset/'\n",
    "\n",
    "clus_file_list = [clus_path+each for each in list(os.walk(clus_path))[0][-1] if \".csv\" in each]"
   ]
  },
  {
   "cell_type": "code",
   "execution_count": 8,
   "metadata": {},
   "outputs": [],
   "source": [
    "range_path = './RangeTrainingset/'\n",
    "range_file_list = [range_path+each for each in list(os.walk(range_path))[0][-1] if \".csv\" in each]"
   ]
  },
  {
   "cell_type": "code",
   "execution_count": 9,
   "metadata": {},
   "outputs": [],
   "source": [
    "bin_th_model = load_model('manual_binary_clf.pkl')\n",
    "mul_th_model = load_model('manual_multi_clf.pkl')"
   ]
  },
  {
   "cell_type": "code",
   "execution_count": 10,
   "metadata": {},
   "outputs": [],
   "source": [
    "bin_clus_model = load_model('clus_binary_clf.pkl')\n",
    "mul_clus_model = load_model('clus_multi_clf.pkl')"
   ]
  },
  {
   "cell_type": "code",
   "execution_count": 11,
   "metadata": {},
   "outputs": [],
   "source": [
    "bin_range_model = load_model('range_binary_clf.pkl')\n",
    "mul_range_model = load_model('range_multi_clf.pkl')"
   ]
  },
  {
   "cell_type": "code",
   "execution_count": 12,
   "metadata": {},
   "outputs": [],
   "source": [
    "bin_new_model = load_model('range_lSim_binary_clf.pkl/')\n",
    "mul_new_model = load_model('range_lSim_multi_clf.pkl/')"
   ]
  },
  {
   "cell_type": "markdown",
   "metadata": {},
   "source": [
    "# 1. Testing threshold model "
   ]
  },
  {
   "cell_type": "markdown",
   "metadata": {},
   "source": [
    "### Trainingset + TH Binary model"
   ]
  },
  {
   "cell_type": "code",
   "execution_count": 13,
   "metadata": {},
   "outputs": [],
   "source": [
    "matrix = {}\n",
    "for i in range(len(th_file_list)):\n",
    "\n",
    "    fault_type = re.sub(r'[0-9]+', '', th_file_list[i].split(\"/\")[-1].split(\".\")[0])\n",
    "    data = pd.read_csv(th_file_list[i])\n",
    "\n",
    "    original_labels = data['label']\n",
    "    #print(fault_type, set(original_labels))\n",
    "\n",
    "    original_labels = [1 if each!=0 else 0 for each in original_labels ]\n",
    "    data =data.drop('label',axis=1)\n",
    "    predicted_labels = np.argmax(bin_th_model.predict(data.values.reshape(-1,1,6)), axis=1)\n",
    "    \n",
    "    percentage = 100*[x-y for x,y in zip(original_labels,predicted_labels)].count(0)/data.shape[0]\n",
    "    \n",
    "    if fault_type not in list(matrix.keys()):\n",
    "        matrix[fault_type] = []\n",
    "        matrix[fault_type].append(percentage)\n",
    "    else:\n",
    "        matrix[fault_type].append(percentage)"
   ]
  },
  {
   "cell_type": "code",
   "execution_count": 14,
   "metadata": {},
   "outputs": [
    {
     "name": "stdout",
     "output_type": "stream",
     "text": [
      "{'ABCG': 90.755, 'ABG': 95.77850000000001, 'BC': 97.17750000000001, 'CG': 98.543, 'BCG': 95.69, 'BG': 98.49599999999998, 'AG': 97.91500000000002, 'ABC': 89.962, 'ACG': 95.319, 'AC': 94.12750000000001, 'AB': 94.48400000000001}\n"
     ]
    }
   ],
   "source": [
    "for each in matrix.keys():\n",
    "    \n",
    "    matrix[each] = sum(matrix[each])/len(matrix[each])\n",
    "\n",
    "print(matrix)"
   ]
  },
  {
   "cell_type": "code",
   "execution_count": 15,
   "metadata": {},
   "outputs": [],
   "source": [
    "master_binary.append(matrix)"
   ]
  },
  {
   "cell_type": "code",
   "execution_count": 16,
   "metadata": {},
   "outputs": [
    {
     "data": {
      "text/plain": [
       "95.29522727272727"
      ]
     },
     "execution_count": 16,
     "metadata": {},
     "output_type": "execute_result"
    }
   ],
   "source": [
    "sum(matrix.values())/len(matrix.values())"
   ]
  },
  {
   "cell_type": "markdown",
   "metadata": {},
   "source": [
    "## KMTrainingset + TH Binary model"
   ]
  },
  {
   "cell_type": "code",
   "execution_count": 17,
   "metadata": {},
   "outputs": [],
   "source": [
    "matrix = {}\n",
    "for i in range(len(clus_file_list)):\n",
    "\n",
    "    fault_type = re.sub(r'[0-9]+', '', clus_file_list[i].split(\"/\")[-1].split(\".\")[0])\n",
    "    data = pd.read_csv(clus_file_list[i])\n",
    "\n",
    "    original_labels = data['label']\n",
    "    #print(fault_type, set(original_labels))\n",
    "\n",
    "    original_labels = [1 if each!=0 else 0 for each in original_labels ]\n",
    "    data =data.drop('label',axis=1)\n",
    "    predicted_labels = np.argmax(bin_th_model.predict(data.values.reshape(-1,1,6)), axis=1)\n",
    "    \n",
    "    percentage = 100*[x-y for x,y in zip(original_labels,predicted_labels)].count(0)/data.shape[0]\n",
    "    \n",
    "    if fault_type not in list(matrix.keys()):\n",
    "        matrix[fault_type] = []\n",
    "        matrix[fault_type].append(percentage)\n",
    "    else:\n",
    "        matrix[fault_type].append(percentage)"
   ]
  },
  {
   "cell_type": "code",
   "execution_count": 18,
   "metadata": {},
   "outputs": [
    {
     "name": "stdout",
     "output_type": "stream",
     "text": [
      "{'ABCG': 74.454, 'ABG': 88.93350000000001, 'BC': 95.111, 'CG': 87.39799999999998, 'BCG': 80.32, 'BG': 96.1805, 'AG': 96.561, 'ABC': 82.6125, 'ACG': 88.69500000000001, 'AC': 93.18999999999998, 'AB': 93.444}\n"
     ]
    }
   ],
   "source": [
    "for each in matrix.keys():\n",
    "    \n",
    "    matrix[each] = sum(matrix[each])/len(matrix[each])\n",
    "\n",
    "print(matrix)"
   ]
  },
  {
   "cell_type": "code",
   "execution_count": 19,
   "metadata": {},
   "outputs": [],
   "source": [
    "master_binary.append(matrix)"
   ]
  },
  {
   "cell_type": "code",
   "execution_count": 20,
   "metadata": {},
   "outputs": [
    {
     "data": {
      "text/plain": [
       "88.80904545454544"
      ]
     },
     "execution_count": 20,
     "metadata": {},
     "output_type": "execute_result"
    }
   ],
   "source": [
    "sum(matrix.values())/len(matrix.values())"
   ]
  },
  {
   "cell_type": "markdown",
   "metadata": {},
   "source": [
    "## Trainingset + Clus Binary model"
   ]
  },
  {
   "cell_type": "code",
   "execution_count": 21,
   "metadata": {},
   "outputs": [],
   "source": [
    "matrix = {}\n",
    "for i in range(len(th_file_list)):\n",
    "\n",
    "    fault_type = re.sub(r'[0-9]+', '', th_file_list[i].split(\"/\")[-1].split(\".\")[0])\n",
    "    data = pd.read_csv(th_file_list[i])\n",
    "\n",
    "    original_labels = data['label']\n",
    "    #print(fault_type, set(original_labels))\n",
    "\n",
    "    original_labels = [1 if each!=0 else 0 for each in original_labels ]\n",
    "    data =data.drop('label',axis=1)\n",
    "    predicted_labels = np.argmax(bin_clus_model.predict(data.values.reshape(-1,1,6)), axis=1)\n",
    "    \n",
    "    percentage = 100*[x-y for x,y in zip(original_labels,predicted_labels)].count(0)/data.shape[0]\n",
    "    \n",
    "    if fault_type not in list(matrix.keys()):\n",
    "        matrix[fault_type] = []\n",
    "        matrix[fault_type].append(percentage)\n",
    "    else:\n",
    "        matrix[fault_type].append(percentage)"
   ]
  },
  {
   "cell_type": "code",
   "execution_count": 22,
   "metadata": {},
   "outputs": [
    {
     "name": "stdout",
     "output_type": "stream",
     "text": [
      "{'ABCG': 74.254, 'ABG': 88.7625, 'BC': 94.04499999999999, 'CG': 91.95200000000001, 'BCG': 82.47149999999999, 'BG': 96.066, 'AG': 96.457, 'ABC': 67.553, 'ACG': 86.9515, 'AC': 88.53000000000002, 'AB': 90.01199999999999}\n"
     ]
    }
   ],
   "source": [
    "for each in matrix.keys():\n",
    "    \n",
    "    matrix[each] = sum(matrix[each])/len(matrix[each])\n",
    "\n",
    "print(matrix)"
   ]
  },
  {
   "cell_type": "code",
   "execution_count": 23,
   "metadata": {},
   "outputs": [],
   "source": [
    "master_binary.append(matrix)"
   ]
  },
  {
   "cell_type": "code",
   "execution_count": 24,
   "metadata": {},
   "outputs": [
    {
     "data": {
      "text/plain": [
       "87.00495454545454"
      ]
     },
     "execution_count": 24,
     "metadata": {},
     "output_type": "execute_result"
    }
   ],
   "source": [
    "sum(matrix.values())/len(matrix.values())"
   ]
  },
  {
   "cell_type": "code",
   "execution_count": null,
   "metadata": {},
   "outputs": [],
   "source": []
  },
  {
   "cell_type": "markdown",
   "metadata": {},
   "source": [
    "## KMTrainingset + Clus Binary model"
   ]
  },
  {
   "cell_type": "code",
   "execution_count": 25,
   "metadata": {},
   "outputs": [],
   "source": [
    "matrix = {}\n",
    "for i in range(len(clus_file_list)):\n",
    "\n",
    "    fault_type = re.sub(r'[0-9]+', '', clus_file_list[i].split(\"/\")[-1].split(\".\")[0])\n",
    "    data = pd.read_csv(clus_file_list[i])\n",
    "\n",
    "    original_labels = data['label']\n",
    "    #print(fault_type, set(original_labels))\n",
    "\n",
    "    original_labels = [1 if each!=0 else 0 for each in original_labels ]\n",
    "    data =data.drop('label',axis=1)\n",
    "    predicted_labels = np.argmax(bin_clus_model.predict(data.values.reshape(-1,1,6)), axis=1)\n",
    "    \n",
    "    percentage = 100*[x-y for x,y in zip(original_labels,predicted_labels)].count(0)/data.shape[0]\n",
    "    \n",
    "    if fault_type not in list(matrix.keys()):\n",
    "        matrix[fault_type] = []\n",
    "        matrix[fault_type].append(percentage)\n",
    "    else:\n",
    "        matrix[fault_type].append(percentage)"
   ]
  },
  {
   "cell_type": "code",
   "execution_count": 26,
   "metadata": {},
   "outputs": [
    {
     "name": "stdout",
     "output_type": "stream",
     "text": [
      "{'ABCG': 90.23700000000001, 'ABG': 99.956, 'BC': 99.94050000000001, 'CG': 91.246, 'BCG': 91.69800000000001, 'BG': 99.95400000000001, 'AG': 99.94450000000002, 'ABC': 99.819, 'ACG': 99.9375, 'AC': 99.92049999999999, 'AB': 99.911}\n"
     ]
    }
   ],
   "source": [
    "for each in matrix.keys():\n",
    "    \n",
    "    matrix[each] = sum(matrix[each])/len(matrix[each])\n",
    "\n",
    "print(matrix)"
   ]
  },
  {
   "cell_type": "code",
   "execution_count": 27,
   "metadata": {},
   "outputs": [],
   "source": [
    "master_binary.append(matrix)"
   ]
  },
  {
   "cell_type": "code",
   "execution_count": 28,
   "metadata": {},
   "outputs": [
    {
     "data": {
      "text/plain": [
       "97.50581818181819"
      ]
     },
     "execution_count": 28,
     "metadata": {},
     "output_type": "execute_result"
    }
   ],
   "source": [
    "sum(matrix.values())/len(matrix.values())"
   ]
  },
  {
   "cell_type": "code",
   "execution_count": 29,
   "metadata": {},
   "outputs": [],
   "source": [
    "x = pd.DataFrame(master_binary)\n",
    "x.index = ['TH+TH','TH+CLS','CLS+TH','CLS+CLS']\n",
    "x['Avg'] = [round(sum(x.iloc[i])/x.shape[1]) for i in range(x.shape[0])]"
   ]
  },
  {
   "cell_type": "code",
   "execution_count": 30,
   "metadata": {},
   "outputs": [],
   "source": [
    "#x"
   ]
  },
  {
   "cell_type": "code",
   "execution_count": 31,
   "metadata": {},
   "outputs": [],
   "source": [
    "x.to_csv('Binary_Matrix.csv')"
   ]
  },
  {
   "cell_type": "code",
   "execution_count": 32,
   "metadata": {},
   "outputs": [
    {
     "data": {
      "image/png": "[encoded data removed]",
      "text/plain": [
       "<Figure size 1440x720 with 2 Axes>"
      ]
     },
     "metadata": {
      "needs_background": "light"
     },
     "output_type": "display_data"
    }
   ],
   "source": [
    "plt.figure(figsize=(20,10))\n",
    "\n",
    "\n",
    "ax = sns.heatmap(round(x), linewidth=0,annot=True)\n",
    "plt.savefig('binary_validation.png')\n",
    "plt.show()"
   ]
  },
  {
   "cell_type": "markdown",
   "metadata": {},
   "source": [
    "## Binary + Multi"
   ]
  },
  {
   "cell_type": "markdown",
   "metadata": {},
   "source": [
    "### 1. Binary = TH"
   ]
  },
  {
   "cell_type": "code",
   "execution_count": 33,
   "metadata": {},
   "outputs": [],
   "source": [
    "all_faluts = ['NML','AB', 'AC', 'BC', 'ABC', 'AG', 'BG', 'ABG', 'CG', 'ACG', 'BCG', 'ABCG']"
   ]
  },
  {
   "cell_type": "code",
   "execution_count": 34,
   "metadata": {},
   "outputs": [],
   "source": [
    "master_bin_with_multi = []"
   ]
  },
  {
   "cell_type": "markdown",
   "metadata": {},
   "source": [
    "### Trainingset"
   ]
  },
  {
   "cell_type": "code",
   "execution_count": 39,
   "metadata": {},
   "outputs": [],
   "source": [
    "matrix = {}\n",
    "for i in range(len(th_file_list)):\n",
    "\n",
    "    fault_type = re.sub(r'[0-9]+', '', th_file_list[i].split(\"/\")[-1].split(\".\")[0])\n",
    "    data = pd.read_csv(th_file_list[i])\n",
    "\n",
    "\n",
    "    original_labels = data['label']\n",
    "    data = data[data.columns[:3]]\n",
    "    index = list(set(original_labels))[-1]\n",
    "\n",
    "    #data =data.drop('label',axis=1)\n",
    "\n",
    "    predicted_labels = np.argmax(bin_new_model.predict(data.values.reshape(-1,1,3)), axis=1)\n",
    "\n",
    "    data['label'] = predicted_labels\n",
    "\n",
    "    data = data[data.label!=0]\n",
    "\n",
    "    data = data.drop('label',axis=1)\n",
    "\n",
    "    predicted_labels = np.argmax(mul_new_model.predict(data.values.reshape(-1,1,3)), axis=1)\n",
    "\n",
    "    results = sorted(zip([each for each in Counter(predicted_labels).keys()],Counter(predicted_labels).values() ), key=lambda x: x[1])\n",
    "\n",
    "    major_label = results[-1][0]\n",
    "\n",
    "\n",
    "    percentage = list(predicted_labels).count(index-1)*100/data.shape[0]\n",
    "    \n",
    "    if fault_type not in list(matrix.keys()):\n",
    "        matrix[fault_type] = []\n",
    "        matrix[fault_type].append(percentage)\n",
    "    else:\n",
    "        matrix[fault_type].append(percentage)\n",
    "\n",
    "        \n",
    "for each in matrix.keys():\n",
    "    \n",
    "    matrix[each] = sum(matrix[each])/len(matrix[each])\n",
    "\n",
    "matrix['avg'] = sum(matrix.values())/len(matrix.values())\n",
    "master_bin_with_multi.append(matrix)"
   ]
  },
  {
   "cell_type": "code",
   "execution_count": null,
   "metadata": {},
   "outputs": [],
   "source": []
  },
  {
   "cell_type": "code",
   "execution_count": 41,
   "metadata": {},
   "outputs": [],
   "source": [
    "matrix = {}\n",
    "for i in range(len(th_file_list)):\n",
    "\n",
    "    fault_type = re.sub(r'[0-9]+', '', th_file_list[i].split(\"/\")[-1].split(\".\")[0])\n",
    "    data = pd.read_csv(th_file_list[i])\n",
    "\n",
    "    original_labels = data['label']\n",
    "\n",
    "    index = list(set(original_labels))[-1]\n",
    "\n",
    "    data = data[data.columns[:3]]\n",
    "    #data =data.drop('label',axis=1)\n",
    "\n",
    "    predicted_labels = np.argmax(bin_new_model.predict(data.values.reshape(-1,1,3)), axis=1)\n",
    "\n",
    "    data['label'] = predicted_labels\n",
    "\n",
    "    data = data[data.label!=0]\n",
    "\n",
    "    data = data.drop('label',axis=1)\n",
    "\n",
    "    predicted_labels = np.argmax(mul_new_model.predict(data.values.reshape(-1,1,3)), axis=1)\n",
    "\n",
    "    results = sorted(zip([each for each in Counter(predicted_labels).keys()],Counter(predicted_labels).values() ), key=lambda x: x[1])\n",
    "\n",
    "    major_label = results[-1][0]\n",
    "\n",
    "\n",
    "    percentage = list(predicted_labels).count(index-1)*100/data.shape[0]\n",
    "    \n",
    "    if fault_type not in list(matrix.keys()):\n",
    "        matrix[fault_type] = []\n",
    "        matrix[fault_type].append(percentage)\n",
    "    else:\n",
    "        matrix[fault_type].append(percentage)\n",
    "\n",
    "        \n",
    "for each in matrix.keys():\n",
    "    \n",
    "    matrix[each] = sum(matrix[each])/len(matrix[each])\n",
    "\n",
    "matrix['avg'] = sum(matrix.values())/len(matrix.values())\n",
    "master_bin_with_multi.append(matrix)"
   ]
  },
  {
   "cell_type": "code",
   "execution_count": null,
   "metadata": {},
   "outputs": [],
   "source": [
    "matrix = {}\n",
    "for i in range(len(th_file_list)):\n",
    "\n",
    "    fault_type = re.sub(r'[0-9]+', '', th_file_list[i].split(\"/\")[-1].split(\".\")[0])\n",
    "    data = pd.read_csv(th_file_list[i])\n",
    "\n",
    "    original_labels = data['label']\n",
    "\n",
    "    index = list(set(original_labels))[-1]\n",
    "    data = data[data.columns[:3]]\n",
    "    #data =data.drop('label',axis=1)\n",
    "\n",
    "    predicted_labels = np.argmax(bin_new_model.predict(data.values.reshape(-1,1,3)), axis=1)\n",
    "\n",
    "    data['label'] = predicted_labels\n",
    "\n",
    "    data = data[data.label!=0]\n",
    "\n",
    "    #data = data.drop('label',axis=1)\n",
    "\n",
    "    predicted_labels = np.argmax(mul_new_model.predict(data.values.reshape(-1,1,3)), axis=1)\n",
    "\n",
    "    results = sorted(zip([each for each in Counter(predicted_labels).keys()],Counter(predicted_labels).values() ), key=lambda x: x[1])\n",
    "\n",
    "    major_label = results[-1][0]\n",
    "\n",
    "\n",
    "    percentage = list(predicted_labels).count(index-1)*100/data.shape[0]\n",
    "    \n",
    "    if fault_type not in list(matrix.keys()):\n",
    "        matrix[fault_type] = []\n",
    "        matrix[fault_type].append(percentage)\n",
    "    else:\n",
    "        matrix[fault_type].append(percentage)\n",
    "\n",
    "        \n",
    "for each in matrix.keys():\n",
    "    \n",
    "    matrix[each] = sum(matrix[each])/len(matrix[each])\n",
    "\n",
    "matrix['avg'] = sum(matrix.values())/len(matrix.values())\n",
    "master_bin_with_multi.append(matrix)"
   ]
  },
  {
   "cell_type": "code",
   "execution_count": null,
   "metadata": {},
   "outputs": [],
   "source": []
  },
  {
   "cell_type": "code",
   "execution_count": null,
   "metadata": {},
   "outputs": [],
   "source": [
    "matrix = {}\n",
    "for i in range(len(th_file_list)):\n",
    "\n",
    "    fault_type = re.sub(r'[0-9]+', '', th_file_list[i].split(\"/\")[-1].split(\".\")[0])\n",
    "    data = pd.read_csv(th_file_list[i])\n",
    "\n",
    "    original_labels = data['label']\n",
    "\n",
    "    index = list(set(original_labels))[-1]\n",
    "\n",
    "    data = data[data.columns[:3]]\n",
    "    #data =data.drop('label',axis=1)\n",
    "\n",
    "    predicted_labels = np.argmax(bin_clus_model.predict(data.values.reshape(-1,1,3)), axis=1)\n",
    "\n",
    "    data['label'] = predicted_labels\n",
    "\n",
    "    data = data[data.label!=0]\n",
    "\n",
    "    data = data.drop('label',axis=1)\n",
    "\n",
    "    predicted_labels = np.argmax(mul_clus_model.predict(data.values.reshape(-1,1,3)), axis=1)\n",
    "\n",
    "    results = sorted(zip([each for each in Counter(predicted_labels).keys()],Counter(predicted_labels).values() ), key=lambda x: x[1])\n",
    "\n",
    "    major_label = results[-1][0]\n",
    "\n",
    "\n",
    "    percentage = list(predicted_labels).count(index-1)*100/data.shape[0]\n",
    "    \n",
    "    if fault_type not in list(matrix.keys()):\n",
    "        matrix[fault_type] = []\n",
    "        matrix[fault_type].append(percentage)\n",
    "    else:\n",
    "        matrix[fault_type].append(percentage)\n",
    "\n",
    "        \n",
    "for each in matrix.keys():\n",
    "    \n",
    "    matrix[each] = sum(matrix[each])/len(matrix[each])\n",
    "\n",
    "matrix['avg'] = sum(matrix.values())/len(matrix.values())\n",
    "master_bin_with_multi.append(matrix)"
   ]
  },
  {
   "cell_type": "code",
   "execution_count": null,
   "metadata": {},
   "outputs": [],
   "source": [
    "y = pd.DataFrame(master_bin_with_multi)\n",
    "y.index = ['TH+TH','TH+CLS','CLS+TH','CLS+CLS']"
   ]
  },
  {
   "cell_type": "code",
   "execution_count": null,
   "metadata": {},
   "outputs": [],
   "source": [
    "#y"
   ]
  },
  {
   "cell_type": "code",
   "execution_count": null,
   "metadata": {},
   "outputs": [],
   "source": [
    "plt.figure(figsize=(20,10))\n",
    "\n",
    "\n",
    "ax = sns.heatmap(round(y), linewidth=0,annot=True)\n",
    "plt.savefig(\"training_binary_multi.png\")\n",
    "plt.show()"
   ]
  },
  {
   "cell_type": "code",
   "execution_count": null,
   "metadata": {},
   "outputs": [],
   "source": [
    "y.to_csv('training_bin_mul.csv')"
   ]
  },
  {
   "cell_type": "markdown",
   "metadata": {},
   "source": [
    "### KMTraininngset"
   ]
  },
  {
   "cell_type": "code",
   "execution_count": null,
   "metadata": {},
   "outputs": [],
   "source": [
    "matrix = {}\n",
    "for i in range(len(clus_file_list)):\n",
    "\n",
    "    fault_type = re.sub(r'[0-9]+', '', clus_file_list[i].split(\"/\")[-1].split(\".\")[0])\n",
    "    data = pd.read_csv(clus_file_list[i])\n",
    "\n",
    "    original_labels = data['label']\n",
    "\n",
    "    index = list(set(original_labels))[-1]\n",
    "\n",
    "    data =data.drop('label',axis=1)\n",
    "\n",
    "    predicted_labels = np.argmax(bin_th_model.predict(data.values.reshape(-1,1,6)), axis=1)\n",
    "\n",
    "    data['label'] = predicted_labels\n",
    "\n",
    "    data = data[data.label!=0]\n",
    "\n",
    "    data = data.drop('label',axis=1)\n",
    "\n",
    "    predicted_labels = np.argmax(mul_th_model.predict(data.values.reshape(-1,1,6)), axis=1)\n",
    "\n",
    "    results = sorted(zip([each for each in Counter(predicted_labels).keys()],Counter(predicted_labels).values() ), key=lambda x: x[1])\n",
    "\n",
    "    major_label = results[-1][0]\n",
    "\n",
    "\n",
    "    percentage = list(predicted_labels).count(index-1)*100/data.shape[0]\n",
    "    \n",
    "    if fault_type not in list(matrix.keys()):\n",
    "        matrix[fault_type] = []\n",
    "        matrix[fault_type].append(percentage)\n",
    "    else:\n",
    "        matrix[fault_type].append(percentage)\n",
    "\n",
    "        \n",
    "for each in matrix.keys():\n",
    "    \n",
    "    matrix[each] = sum(matrix[each])/len(matrix[each])\n",
    "\n",
    "matrix['avg'] = sum(matrix.values())/len(matrix.values())\n",
    "master_bin_with_multi.append(matrix)"
   ]
  },
  {
   "cell_type": "code",
   "execution_count": null,
   "metadata": {},
   "outputs": [],
   "source": [
    "matrix = {}\n",
    "for i in range(len(clus_file_list)):\n",
    "\n",
    "    fault_type = re.sub(r'[0-9]+', '', clus_file_list[i].split(\"/\")[-1].split(\".\")[0])\n",
    "    data = pd.read_csv(clus_file_list[i])\n",
    "\n",
    "    original_labels = data['label']\n",
    "\n",
    "    index = list(set(original_labels))[-1]\n",
    "\n",
    "    data =data.drop('label',axis=1)\n",
    "\n",
    "    predicted_labels = np.argmax(bin_th_model.predict(data.values.reshape(-1,1,6)), axis=1)\n",
    "\n",
    "    data['label'] = predicted_labels\n",
    "\n",
    "    data = data[data.label!=0]\n",
    "\n",
    "    data = data.drop('label',axis=1)\n",
    "\n",
    "    predicted_labels = np.argmax(mul_clus_model.predict(data.values.reshape(-1,1,6)), axis=1)\n",
    "\n",
    "    results = sorted(zip([each for each in Counter(predicted_labels).keys()],Counter(predicted_labels).values() ), key=lambda x: x[1])\n",
    "\n",
    "    major_label = results[-1][0]\n",
    "\n",
    "\n",
    "    percentage = list(predicted_labels).count(index-1)*100/data.shape[0]\n",
    "    \n",
    "    if fault_type not in list(matrix.keys()):\n",
    "        matrix[fault_type] = []\n",
    "        matrix[fault_type].append(percentage)\n",
    "    else:\n",
    "        matrix[fault_type].append(percentage)\n",
    "\n",
    "        \n",
    "for each in matrix.keys():\n",
    "    \n",
    "    matrix[each] = sum(matrix[each])/len(matrix[each])\n",
    "\n",
    "matrix['avg'] = sum(matrix.values())/len(matrix.values())\n",
    "master_bin_with_multi.append(matrix)"
   ]
  },
  {
   "cell_type": "code",
   "execution_count": null,
   "metadata": {},
   "outputs": [],
   "source": [
    "matrix = {}\n",
    "for i in range(len(clus_file_list)):\n",
    "\n",
    "    fault_type = re.sub(r'[0-9]+', '', clus_file_list[i].split(\"/\")[-1].split(\".\")[0])\n",
    "    data = pd.read_csv(clus_file_list[i])\n",
    "\n",
    "    original_labels = data['label']\n",
    "\n",
    "    index = list(set(original_labels))[-1]\n",
    "\n",
    "    data =data.drop('label',axis=1)\n",
    "\n",
    "    predicted_labels = np.argmax(bin_clus_model.predict(data.values.reshape(-1,1,6)), axis=1)\n",
    "\n",
    "    data['label'] = predicted_labels\n",
    "\n",
    "    data = data[data.label!=0]\n",
    "\n",
    "    data = data.drop('label',axis=1)\n",
    "\n",
    "    predicted_labels = np.argmax(mul_th_model.predict(data.values.reshape(-1,1,6)), axis=1)\n",
    "\n",
    "    results = sorted(zip([each for each in Counter(predicted_labels).keys()],Counter(predicted_labels).values() ), key=lambda x: x[1])\n",
    "\n",
    "    major_label = results[-1][0]\n",
    "\n",
    "\n",
    "    percentage = list(predicted_labels).count(index-1)*100/data.shape[0]\n",
    "    \n",
    "    if fault_type not in list(matrix.keys()):\n",
    "        matrix[fault_type] = []\n",
    "        matrix[fault_type].append(percentage)\n",
    "    else:\n",
    "        matrix[fault_type].append(percentage)\n",
    "\n",
    "        \n",
    "for each in matrix.keys():\n",
    "    \n",
    "    matrix[each] = sum(matrix[each])/len(matrix[each])\n",
    "\n",
    "matrix['avg'] = sum(matrix.values())/len(matrix.values())\n",
    "master_bin_with_multi.append(matrix)"
   ]
  },
  {
   "cell_type": "code",
   "execution_count": null,
   "metadata": {},
   "outputs": [],
   "source": [
    "matrix = {}\n",
    "for i in range(len(clus_file_list)):\n",
    "\n",
    "    fault_type = re.sub(r'[0-9]+', '', clus_file_list[i].split(\"/\")[-1].split(\".\")[0])\n",
    "    data = pd.read_csv(clus_file_list[i])\n",
    "\n",
    "    original_labels = data['label']\n",
    "\n",
    "    index = list(set(original_labels))[-1]\n",
    "\n",
    "    data =data.drop('label',axis=1)\n",
    "\n",
    "    predicted_labels = np.argmax(bin_clus_model.predict(data.values.reshape(-1,1,6)), axis=1)\n",
    "\n",
    "    data['label'] = predicted_labels\n",
    "\n",
    "    data = data[data.label!=0]\n",
    "\n",
    "    data = data.drop('label',axis=1)\n",
    "\n",
    "    predicted_labels = np.argmax(mul_clus_model.predict(data.values.reshape(-1,1,6)), axis=1)\n",
    "\n",
    "    results = sorted(zip([each for each in Counter(predicted_labels).keys()],Counter(predicted_labels).values() ), key=lambda x: x[1])\n",
    "\n",
    "    major_label = results[-1][0]\n",
    "\n",
    "\n",
    "    percentage = list(predicted_labels).count(index-1)*100/data.shape[0]\n",
    "    \n",
    "    if fault_type not in list(matrix.keys()):\n",
    "        matrix[fault_type] = []\n",
    "        matrix[fault_type].append(percentage)\n",
    "    else:\n",
    "        matrix[fault_type].append(percentage)\n",
    "\n",
    "        \n",
    "for each in matrix.keys():\n",
    "    \n",
    "    matrix[each] = sum(matrix[each])/len(matrix[each])\n",
    "\n",
    "matrix['avg'] = sum(matrix.values())/len(matrix.values())\n",
    "master_bin_with_multi.append(matrix)"
   ]
  },
  {
   "cell_type": "code",
   "execution_count": null,
   "metadata": {},
   "outputs": [],
   "source": []
  },
  {
   "cell_type": "code",
   "execution_count": null,
   "metadata": {},
   "outputs": [],
   "source": [
    "z = pd.DataFrame(master_bin_with_multi[4:])\n",
    "z.index = ['TH+TH','TH+CLS','CLS+TH','CLS+CLS']"
   ]
  },
  {
   "cell_type": "code",
   "execution_count": null,
   "metadata": {},
   "outputs": [],
   "source": [
    "#z"
   ]
  },
  {
   "cell_type": "code",
   "execution_count": null,
   "metadata": {},
   "outputs": [],
   "source": [
    "z.to_csv('kmtraining_binary_mul.csv')"
   ]
  },
  {
   "cell_type": "code",
   "execution_count": null,
   "metadata": {},
   "outputs": [],
   "source": [
    "\n",
    "#plt.plot(z.T)\n",
    "plt.figure(figsize=(20,10))\n",
    "\n",
    "ax = sns.heatmap(round(z), linewidth=0,annot=True)\n",
    "plt.savefig(\"kmtraining_binary_multi.png\")\n",
    "plt.show()"
   ]
  },
  {
   "cell_type": "markdown",
   "metadata": {},
   "source": [
    "## Range training-set"
   ]
  },
  {
   "cell_type": "code",
   "execution_count": 42,
   "metadata": {},
   "outputs": [],
   "source": [
    "master_tester = []"
   ]
  },
  {
   "cell_type": "code",
   "execution_count": 43,
   "metadata": {},
   "outputs": [
    {
     "ename": "KeyboardInterrupt",
     "evalue": "",
     "output_type": "error",
     "traceback": [
      "\u001b[0;31m---------------------------------------------------------------------------\u001b[0m",
      "\u001b[0;31mKeyboardInterrupt\u001b[0m                         Traceback (most recent call last)",
      "\u001b[0;32m<ipython-input-43-1dd9775e24aa>\u001b[0m in \u001b[0;36m<module>\u001b[0;34m\u001b[0m\n\u001b[1;32m     14\u001b[0m         \u001b[0mdata\u001b[0m \u001b[0;34m=\u001b[0m\u001b[0mdata\u001b[0m\u001b[0;34m.\u001b[0m\u001b[0mdrop\u001b[0m\u001b[0;34m(\u001b[0m\u001b[0;34m'label'\u001b[0m\u001b[0;34m,\u001b[0m\u001b[0maxis\u001b[0m\u001b[0;34m=\u001b[0m\u001b[0;36m1\u001b[0m\u001b[0;34m)\u001b[0m\u001b[0;34m\u001b[0m\u001b[0;34m\u001b[0m\u001b[0m\n\u001b[1;32m     15\u001b[0m \u001b[0;34m\u001b[0m\u001b[0m\n\u001b[0;32m---> 16\u001b[0;31m         \u001b[0mpredicted_labels\u001b[0m \u001b[0;34m=\u001b[0m \u001b[0mnp\u001b[0m\u001b[0;34m.\u001b[0m\u001b[0margmax\u001b[0m\u001b[0;34m(\u001b[0m\u001b[0mbin_new_model\u001b[0m\u001b[0;34m.\u001b[0m\u001b[0mpredict\u001b[0m\u001b[0;34m(\u001b[0m\u001b[0mdata\u001b[0m\u001b[0;34m.\u001b[0m\u001b[0mvalues\u001b[0m\u001b[0;34m.\u001b[0m\u001b[0mreshape\u001b[0m\u001b[0;34m(\u001b[0m\u001b[0;34m-\u001b[0m\u001b[0;36m1\u001b[0m\u001b[0;34m,\u001b[0m\u001b[0;36m1\u001b[0m\u001b[0;34m,\u001b[0m\u001b[0;36m3\u001b[0m\u001b[0;34m)\u001b[0m\u001b[0;34m)\u001b[0m\u001b[0;34m,\u001b[0m \u001b[0maxis\u001b[0m\u001b[0;34m=\u001b[0m\u001b[0;36m1\u001b[0m\u001b[0;34m)\u001b[0m\u001b[0;34m\u001b[0m\u001b[0;34m\u001b[0m\u001b[0m\n\u001b[0m\u001b[1;32m     17\u001b[0m \u001b[0;34m\u001b[0m\u001b[0m\n\u001b[1;32m     18\u001b[0m         \u001b[0mdata\u001b[0m\u001b[0;34m[\u001b[0m\u001b[0;34m'label'\u001b[0m\u001b[0;34m]\u001b[0m \u001b[0;34m=\u001b[0m \u001b[0mpredicted_labels\u001b[0m\u001b[0;34m\u001b[0m\u001b[0;34m\u001b[0m\u001b[0m\n",
      "\u001b[0;32m~/opt/anaconda3/lib/python3.8/site-packages/keras/engine/training.py\u001b[0m in \u001b[0;36mpredict\u001b[0;34m(self, x, batch_size, verbose, steps, callbacks, max_queue_size, workers, use_multiprocessing)\u001b[0m\n\u001b[1;32m   1700\u001b[0m           \u001b[0;32mfor\u001b[0m \u001b[0mstep\u001b[0m \u001b[0;32min\u001b[0m \u001b[0mdata_handler\u001b[0m\u001b[0;34m.\u001b[0m\u001b[0msteps\u001b[0m\u001b[0;34m(\u001b[0m\u001b[0;34m)\u001b[0m\u001b[0;34m:\u001b[0m\u001b[0;34m\u001b[0m\u001b[0;34m\u001b[0m\u001b[0m\n\u001b[1;32m   1701\u001b[0m             \u001b[0mcallbacks\u001b[0m\u001b[0;34m.\u001b[0m\u001b[0mon_predict_batch_begin\u001b[0m\u001b[0;34m(\u001b[0m\u001b[0mstep\u001b[0m\u001b[0;34m)\u001b[0m\u001b[0;34m\u001b[0m\u001b[0;34m\u001b[0m\u001b[0m\n\u001b[0;32m-> 1702\u001b[0;31m             \u001b[0mtmp_batch_outputs\u001b[0m \u001b[0;34m=\u001b[0m \u001b[0mself\u001b[0m\u001b[0;34m.\u001b[0m\u001b[0mpredict_function\u001b[0m\u001b[0;34m(\u001b[0m\u001b[0miterator\u001b[0m\u001b[0;34m)\u001b[0m\u001b[0;34m\u001b[0m\u001b[0;34m\u001b[0m\u001b[0m\n\u001b[0m\u001b[1;32m   1703\u001b[0m             \u001b[0;32mif\u001b[0m \u001b[0mdata_handler\u001b[0m\u001b[0;34m.\u001b[0m\u001b[0mshould_sync\u001b[0m\u001b[0;34m:\u001b[0m\u001b[0;34m\u001b[0m\u001b[0;34m\u001b[0m\u001b[0m\n\u001b[1;32m   1704\u001b[0m               \u001b[0mcontext\u001b[0m\u001b[0;34m.\u001b[0m\u001b[0masync_wait\u001b[0m\u001b[0;34m(\u001b[0m\u001b[0;34m)\u001b[0m\u001b[0;34m\u001b[0m\u001b[0;34m\u001b[0m\u001b[0m\n",
      "\u001b[0;32m~/opt/anaconda3/lib/python3.8/site-packages/tensorflow/python/eager/def_function.py\u001b[0m in \u001b[0;36m__call__\u001b[0;34m(self, *args, **kwds)\u001b[0m\n\u001b[1;32m    887\u001b[0m \u001b[0;34m\u001b[0m\u001b[0m\n\u001b[1;32m    888\u001b[0m       \u001b[0;32mwith\u001b[0m \u001b[0mOptionalXlaContext\u001b[0m\u001b[0;34m(\u001b[0m\u001b[0mself\u001b[0m\u001b[0;34m.\u001b[0m\u001b[0m_jit_compile\u001b[0m\u001b[0;34m)\u001b[0m\u001b[0;34m:\u001b[0m\u001b[0;34m\u001b[0m\u001b[0;34m\u001b[0m\u001b[0m\n\u001b[0;32m--> 889\u001b[0;31m         \u001b[0mresult\u001b[0m \u001b[0;34m=\u001b[0m \u001b[0mself\u001b[0m\u001b[0;34m.\u001b[0m\u001b[0m_call\u001b[0m\u001b[0;34m(\u001b[0m\u001b[0;34m*\u001b[0m\u001b[0margs\u001b[0m\u001b[0;34m,\u001b[0m \u001b[0;34m**\u001b[0m\u001b[0mkwds\u001b[0m\u001b[0;34m)\u001b[0m\u001b[0;34m\u001b[0m\u001b[0;34m\u001b[0m\u001b[0m\n\u001b[0m\u001b[1;32m    890\u001b[0m \u001b[0;34m\u001b[0m\u001b[0m\n\u001b[1;32m    891\u001b[0m       \u001b[0mnew_tracing_count\u001b[0m \u001b[0;34m=\u001b[0m \u001b[0mself\u001b[0m\u001b[0;34m.\u001b[0m\u001b[0mexperimental_get_tracing_count\u001b[0m\u001b[0;34m(\u001b[0m\u001b[0;34m)\u001b[0m\u001b[0;34m\u001b[0m\u001b[0;34m\u001b[0m\u001b[0m\n",
      "\u001b[0;32m~/opt/anaconda3/lib/python3.8/site-packages/tensorflow/python/eager/def_function.py\u001b[0m in \u001b[0;36m_call\u001b[0;34m(self, *args, **kwds)\u001b[0m\n\u001b[1;32m    922\u001b[0m       \u001b[0;31m# In this case we have not created variables on the first call. So we can\u001b[0m\u001b[0;34m\u001b[0m\u001b[0;34m\u001b[0m\u001b[0;34m\u001b[0m\u001b[0m\n\u001b[1;32m    923\u001b[0m       \u001b[0;31m# run the first trace but we should fail if variables are created.\u001b[0m\u001b[0;34m\u001b[0m\u001b[0;34m\u001b[0m\u001b[0;34m\u001b[0m\u001b[0m\n\u001b[0;32m--> 924\u001b[0;31m       \u001b[0mresults\u001b[0m \u001b[0;34m=\u001b[0m \u001b[0mself\u001b[0m\u001b[0;34m.\u001b[0m\u001b[0m_stateful_fn\u001b[0m\u001b[0;34m(\u001b[0m\u001b[0;34m*\u001b[0m\u001b[0margs\u001b[0m\u001b[0;34m,\u001b[0m \u001b[0;34m**\u001b[0m\u001b[0mkwds\u001b[0m\u001b[0;34m)\u001b[0m\u001b[0;34m\u001b[0m\u001b[0;34m\u001b[0m\u001b[0m\n\u001b[0m\u001b[1;32m    925\u001b[0m       \u001b[0;32mif\u001b[0m \u001b[0mself\u001b[0m\u001b[0;34m.\u001b[0m\u001b[0m_created_variables\u001b[0m\u001b[0;34m:\u001b[0m\u001b[0;34m\u001b[0m\u001b[0;34m\u001b[0m\u001b[0m\n\u001b[1;32m    926\u001b[0m         raise ValueError(\"Creating variables on a non-first call to a function\"\n",
      "\u001b[0;32m~/opt/anaconda3/lib/python3.8/site-packages/tensorflow/python/eager/function.py\u001b[0m in \u001b[0;36m__call__\u001b[0;34m(self, *args, **kwargs)\u001b[0m\n\u001b[1;32m   3021\u001b[0m       (graph_function,\n\u001b[1;32m   3022\u001b[0m        filtered_flat_args) = self._maybe_define_function(args, kwargs)\n\u001b[0;32m-> 3023\u001b[0;31m     return graph_function._call_flat(\n\u001b[0m\u001b[1;32m   3024\u001b[0m         filtered_flat_args, captured_inputs=graph_function.captured_inputs)  # pylint: disable=protected-access\n\u001b[1;32m   3025\u001b[0m \u001b[0;34m\u001b[0m\u001b[0m\n",
      "\u001b[0;32m~/opt/anaconda3/lib/python3.8/site-packages/tensorflow/python/eager/function.py\u001b[0m in \u001b[0;36m_call_flat\u001b[0;34m(self, args, captured_inputs, cancellation_manager)\u001b[0m\n\u001b[1;32m   1958\u001b[0m         and executing_eagerly):\n\u001b[1;32m   1959\u001b[0m       \u001b[0;31m# No tape is watching; skip to running the function.\u001b[0m\u001b[0;34m\u001b[0m\u001b[0;34m\u001b[0m\u001b[0;34m\u001b[0m\u001b[0m\n\u001b[0;32m-> 1960\u001b[0;31m       return self._build_call_outputs(self._inference_function.call(\n\u001b[0m\u001b[1;32m   1961\u001b[0m           ctx, args, cancellation_manager=cancellation_manager))\n\u001b[1;32m   1962\u001b[0m     forward_backward = self._select_forward_and_backward_functions(\n",
      "\u001b[0;32m~/opt/anaconda3/lib/python3.8/site-packages/tensorflow/python/eager/function.py\u001b[0m in \u001b[0;36mcall\u001b[0;34m(self, ctx, args, cancellation_manager)\u001b[0m\n\u001b[1;32m    589\u001b[0m       \u001b[0;32mwith\u001b[0m \u001b[0m_InterpolateFunctionError\u001b[0m\u001b[0;34m(\u001b[0m\u001b[0mself\u001b[0m\u001b[0;34m)\u001b[0m\u001b[0;34m:\u001b[0m\u001b[0;34m\u001b[0m\u001b[0;34m\u001b[0m\u001b[0m\n\u001b[1;32m    590\u001b[0m         \u001b[0;32mif\u001b[0m \u001b[0mcancellation_manager\u001b[0m \u001b[0;32mis\u001b[0m \u001b[0;32mNone\u001b[0m\u001b[0;34m:\u001b[0m\u001b[0;34m\u001b[0m\u001b[0;34m\u001b[0m\u001b[0m\n\u001b[0;32m--> 591\u001b[0;31m           outputs = execute.execute(\n\u001b[0m\u001b[1;32m    592\u001b[0m               \u001b[0mstr\u001b[0m\u001b[0;34m(\u001b[0m\u001b[0mself\u001b[0m\u001b[0;34m.\u001b[0m\u001b[0msignature\u001b[0m\u001b[0;34m.\u001b[0m\u001b[0mname\u001b[0m\u001b[0;34m)\u001b[0m\u001b[0;34m,\u001b[0m\u001b[0;34m\u001b[0m\u001b[0;34m\u001b[0m\u001b[0m\n\u001b[1;32m    593\u001b[0m               \u001b[0mnum_outputs\u001b[0m\u001b[0;34m=\u001b[0m\u001b[0mself\u001b[0m\u001b[0;34m.\u001b[0m\u001b[0m_num_outputs\u001b[0m\u001b[0;34m,\u001b[0m\u001b[0;34m\u001b[0m\u001b[0;34m\u001b[0m\u001b[0m\n",
      "\u001b[0;32m~/opt/anaconda3/lib/python3.8/site-packages/tensorflow/python/eager/execute.py\u001b[0m in \u001b[0;36mquick_execute\u001b[0;34m(op_name, num_outputs, inputs, attrs, ctx, name)\u001b[0m\n\u001b[1;32m     57\u001b[0m   \u001b[0;32mtry\u001b[0m\u001b[0;34m:\u001b[0m\u001b[0;34m\u001b[0m\u001b[0;34m\u001b[0m\u001b[0m\n\u001b[1;32m     58\u001b[0m     \u001b[0mctx\u001b[0m\u001b[0;34m.\u001b[0m\u001b[0mensure_initialized\u001b[0m\u001b[0;34m(\u001b[0m\u001b[0;34m)\u001b[0m\u001b[0;34m\u001b[0m\u001b[0;34m\u001b[0m\u001b[0m\n\u001b[0;32m---> 59\u001b[0;31m     tensors = pywrap_tfe.TFE_Py_Execute(ctx._handle, device_name, op_name,\n\u001b[0m\u001b[1;32m     60\u001b[0m                                         inputs, attrs, num_outputs)\n\u001b[1;32m     61\u001b[0m   \u001b[0;32mexcept\u001b[0m \u001b[0mcore\u001b[0m\u001b[0;34m.\u001b[0m\u001b[0m_NotOkStatusException\u001b[0m \u001b[0;32mas\u001b[0m \u001b[0me\u001b[0m\u001b[0;34m:\u001b[0m\u001b[0;34m\u001b[0m\u001b[0;34m\u001b[0m\u001b[0m\n",
      "\u001b[0;31mKeyboardInterrupt\u001b[0m: "
     ]
    }
   ],
   "source": [
    "matrix = {}\n",
    "for i in range(len(range_file_list)):\n",
    "\n",
    "    fault_type = re.sub(r'[0-9]+', '', range_file_list[i].split(\"/\")[-1].split(\".\")[0])\n",
    "    data = pd.read_csv(range_file_list[i])\n",
    "\n",
    "    original_labels = data['label']\n",
    "\n",
    "    index = list(set(original_labels))[-1]\n",
    "\n",
    "    if index !=0:\n",
    "        \n",
    "\n",
    "        data =data.drop('label',axis=1)\n",
    "\n",
    "        predicted_labels = np.argmax(bin_new_model.predict(data.values.reshape(-1,1,3)), axis=1)\n",
    "\n",
    "        data['label'] = predicted_labels\n",
    "\n",
    "        data = data[data.label!=0]\n",
    "        #print(range_file_list[i],set(original_labels),index)\n",
    "\n",
    "        data = data.drop('label',axis=1)\n",
    "\n",
    "\n",
    "\n",
    "        predicted_labels = np.argmax(mul_new_model.predict(data.values.reshape(-1,1,3)), axis=1)\n",
    "\n",
    "        results = sorted(zip([each for each in Counter(predicted_labels).keys()],Counter(predicted_labels).values() ), key=lambda x: x[1])\n",
    "\n",
    "        major_label = results[-1][0]\n",
    "\n",
    "\n",
    "        percentage = list(predicted_labels).count(index-1)*100/data.shape[0]\n",
    "\n",
    "        if fault_type not in list(matrix.keys()):\n",
    "            matrix[fault_type] = []\n",
    "            matrix[fault_type].append(percentage)\n",
    "        else:\n",
    "            matrix[fault_type].append(percentage)\n",
    "\n",
    "        \n",
    "for each in matrix.keys():\n",
    "    \n",
    "    matrix[each] = sum(matrix[each])/len(matrix[each])\n",
    "\n",
    "matrix['avg'] = sum(matrix.values())/len(matrix.values())\n",
    "master_tester.append(matrix)"
   ]
  },
  {
   "cell_type": "code",
   "execution_count": null,
   "metadata": {},
   "outputs": [],
   "source": [
    "matrix = {}\n",
    "for i in range(len(th_file_list)):\n",
    "\n",
    "    fault_type = re.sub(r'[0-9]+', '', th_file_list[i].split(\"/\")[-1].split(\".\")[0])\n",
    "    if fault_type!='ABC':\n",
    "        data = pd.read_csv(th_file_list[i])\n",
    "\n",
    "        original_labels = data['label']\n",
    "\n",
    "        data.drop(data.columns[3:6],axis=1,inplace=True)\n",
    "        index = list(set(original_labels))[-1]\n",
    "        if index>=4:\n",
    "            original_labels-=2\n",
    "            index-=1\n",
    "\n",
    "        if index !=0:\n",
    "\n",
    "\n",
    "            data =data.drop('label',axis=1)\n",
    "\n",
    "            predicted_labels = np.argmax(bin_new_model.predict(data.values.reshape(-1,1,3)), axis=1)\n",
    "\n",
    "            data['label'] = predicted_labels\n",
    "\n",
    "            data = data[data.label!=0]\n",
    "            #print(range_file_list[i],set(original_labels),index)\n",
    "\n",
    "            data = data.drop('label',axis=1)\n",
    "\n",
    "\n",
    "            if data.shape[0]!=0:\n",
    "                predicted_labels = np.argmax(mul_new_model.predict(data.values.reshape(-1,1,3)), axis=1)\n",
    "\n",
    "                results = sorted(zip([each for each in Counter(predicted_labels).keys()],Counter(predicted_labels).values() ), key=lambda x: x[1])\n",
    "\n",
    "                major_label = results[-1][0]\n",
    "\n",
    "\n",
    "                percentage = list(predicted_labels).count(index-1)*100/data.shape[0]\n",
    "\n",
    "                if fault_type not in list(matrix.keys()):\n",
    "                    matrix[fault_type] = []\n",
    "                    matrix[fault_type].append(percentage)\n",
    "                else:\n",
    "                    matrix[fault_type].append(percentage)\n",
    "\n",
    "        \n",
    "for each in matrix.keys():\n",
    "    \n",
    "    matrix[each] = sum(matrix[each])/len(matrix[each])\n",
    "\n",
    "matrix['avg'] = sum(matrix.values())/len(matrix.values())\n",
    "master_tester.append(matrix)"
   ]
  },
  {
   "cell_type": "code",
   "execution_count": null,
   "metadata": {},
   "outputs": [],
   "source": [
    "matrix = {}\n",
    "for i in range(len(clus_file_list)):\n",
    "\n",
    "    fault_type = re.sub(r'[0-9]+', '', clus_file_list[i].split(\"/\")[-1].split(\".\")[0])\n",
    "    if fault_type!='ABC':\n",
    "        data = pd.read_csv(clus_file_list[i])\n",
    "\n",
    "        original_labels = data['label']\n",
    "\n",
    "        data.drop(data.columns[3:6],axis=1,inplace=True)\n",
    "        index = list(set(original_labels))[-1]\n",
    "        \n",
    "        if index>=4:\n",
    "            original_labels-=2\n",
    "            index-=1\n",
    "\n",
    "        if index !=0:\n",
    "\n",
    "\n",
    "            data =data.drop('label',axis=1)\n",
    "\n",
    "            predicted_labels = np.argmax(bin_new_model.predict(data.values.reshape(-1,1,3)), axis=1)\n",
    "\n",
    "            data['label'] = predicted_labels\n",
    "\n",
    "            data = data[data.label!=0]\n",
    "            #print(range_file_list[i],set(original_labels),index)\n",
    "\n",
    "            data = data.drop('label',axis=1)\n",
    "\n",
    "\n",
    "            if data.shape[0]!=0:\n",
    "                predicted_labels = np.argmax(mul_new_model.predict(data.values.reshape(-1,1,3)), axis=1)\n",
    "\n",
    "                results = sorted(zip([each for each in Counter(predicted_labels).keys()],Counter(predicted_labels).values() ), key=lambda x: x[1])\n",
    "\n",
    "                major_label = results[-1][0]\n",
    "\n",
    "\n",
    "                percentage = list(predicted_labels).count(index-1)*100/data.shape[0]\n",
    "\n",
    "                if fault_type not in list(matrix.keys()):\n",
    "                    matrix[fault_type] = []\n",
    "                    matrix[fault_type].append(percentage)\n",
    "                else:\n",
    "                    matrix[fault_type].append(percentage)\n",
    "\n",
    "\n",
    "for each in matrix.keys():\n",
    "    \n",
    "    matrix[each] = sum(matrix[each])/len(matrix[each])\n",
    "\n",
    "matrix['avg'] = sum(matrix.values())/len(matrix.values())\n",
    "master_tester.append(matrix)"
   ]
  },
  {
   "cell_type": "code",
   "execution_count": null,
   "metadata": {},
   "outputs": [],
   "source": [
    "rang = pd.DataFrame(master_tester)"
   ]
  },
  {
   "cell_type": "code",
   "execution_count": null,
   "metadata": {},
   "outputs": [],
   "source": [
    "rang.index = ['RangeDataset','ThresholdDataset','ClusterDataset']"
   ]
  },
  {
   "cell_type": "code",
   "execution_count": null,
   "metadata": {},
   "outputs": [],
   "source": [
    "rang.to_csv('lSimRange_bin_mul.csv')"
   ]
  },
  {
   "cell_type": "code",
   "execution_count": null,
   "metadata": {},
   "outputs": [],
   "source": [
    "plt.figure(figsize=(20,6))\n",
    "\n",
    "ax = sns.heatmap(round(rang), linewidth=0,annot=True)\n",
    "plt.savefig(\"lSimNewtraining_binary_multi.png\")\n",
    "plt.show()"
   ]
  },
  {
   "cell_type": "code",
   "execution_count": null,
   "metadata": {},
   "outputs": [],
   "source": []
  },
  {
   "cell_type": "code",
   "execution_count": null,
   "metadata": {},
   "outputs": [],
   "source": []
  },
  {
   "cell_type": "code",
   "execution_count": null,
   "metadata": {},
   "outputs": [],
   "source": []
  },
  {
   "cell_type": "code",
   "execution_count": null,
   "metadata": {},
   "outputs": [],
   "source": []
  },
  {
   "cell_type": "code",
   "execution_count": null,
   "metadata": {},
   "outputs": [],
   "source": []
  }
 ],
 "metadata": {
  "kernelspec": {
   "display_name": "Python 3",
   "language": "python",
   "name": "python3"
  },
  "language_info": {
   "codemirror_mode": {
    "name": "ipython",
    "version": 3
   },
   "file_extension": ".py",
   "mimetype": "text/x-python",
   "name": "python",
   "nbconvert_exporter": "python",
   "pygments_lexer": "ipython3",
   "version": "3.8.5"
  }
 },
 "nbformat": 4,
 "nbformat_minor": 4
}
