{
 "cells": [
  {
   "cell_type": "code",
   "execution_count": 345,
   "metadata": {},
   "outputs": [],
   "source": [
    "import matlab.engine\n",
    "import pandas as pd\n",
    "import matplotlib.pyplot as plt\n",
    "import scipy.io"
   ]
  },
  {
   "cell_type": "code",
   "execution_count": 106,
   "metadata": {},
   "outputs": [],
   "source": [
    "from datetime import datetime"
   ]
  },
  {
   "cell_type": "code",
   "execution_count": null,
   "metadata": {},
   "outputs": [],
   "source": [
    "!pip install pandas"
   ]
  },
  {
   "cell_type": "code",
   "execution_count": null,
   "metadata": {},
   "outputs": [],
   "source": [
    "!pip install %matplotlibtlib"
   ]
  },
  {
   "cell_type": "code",
   "execution_count": null,
   "metadata": {},
   "outputs": [],
   "source": [
    "!pip install psycopg2"
   ]
  },
  {
   "cell_type": "code",
   "execution_count": null,
   "metadata": {},
   "outputs": [],
   "source": [
    "!pip install scipy"
   ]
  },
  {
   "cell_type": "code",
   "execution_count": 44,
   "metadata": {},
   "outputs": [],
   "source": [
    "# library to connect postgres with python\n",
    "import psycopg2"
   ]
  },
  {
   "cell_type": "code",
   "execution_count": 489,
   "metadata": {},
   "outputs": [],
   "source": [
    "# making a connection\n",
    "## todo _ get the credentials from config file\n",
    "conn = psycopg2.connect(user='test2', password='123wer', host='192.168.142.73', dbname='test2db')\n",
    "\n",
    "# get the cursor from connection\n",
    "cur = conn.cursor()\n",
    "\n",
    "# setting autocommit to remove redundant lines of code\n",
    "conn.autocommit = True"
   ]
  },
  {
   "cell_type": "code",
   "execution_count": 232,
   "metadata": {},
   "outputs": [],
   "source": [
    "def encode(lis):\n",
    "    \n",
    "    # takes list of matlab timestamps and returns for db\n",
    "    data = datetime.now()\n",
    "    new_date = []\n",
    "    for i in [int(i*1000) for i in lis]:\n",
    "        new_date.append(\"'\"+data.replace(microsecond = data.microsecond + i).strftime('%Y-%m-%d %H:%M:%S.%f')+\"'\")\n",
    "        \n",
    "    return new_date\n",
    "\n",
    "def decoder(lis):\n",
    "    \n",
    "    # this takes actual timestamp and returns matlab ones\n",
    "    lis = [float(i.microsecond) for i in lis]\n",
    "    return [(x-lis[0])/1000 for x in lis]\n",
    "    "
   ]
  },
  {
   "cell_type": "code",
   "execution_count": 480,
   "metadata": {},
   "outputs": [],
   "source": [
    "def dump_df(mycursor,name,df,typ=None,replace= False, append= False):\n",
    "\n",
    "    # by default the table is not existing\n",
    "    exist_flag = False\n",
    "    \n",
    "    # list out the tables\n",
    "    cur.execute('select * from pg_catalog.pg_tables;')\n",
    "    tables = []\n",
    "    \n",
    "    # fetching the query results\n",
    "    for each in cur.fetchall():\n",
    "        tables.append(each[1])\n",
    "    \n",
    "    # checking the existance of table in the list of tables\n",
    "    for x in tables:\n",
    "    \n",
    "        # if the name from argument is existing in the database set the flag to True\n",
    "        if name == x:\n",
    "            exist_flag = True\n",
    "\n",
    "    # if the table is present and argument is passed to replace it\n",
    "    if exist_flag and replace:\n",
    "        \n",
    "        # drop the table\n",
    "        drop_it = \"drop table {0}\".format(name)\n",
    "        if replace==True:\n",
    "            mycursor.execute(drop_it)\n",
    "            print(\"table: {0} has been droped\".format(name))\n",
    "        \n",
    "    \n",
    "    \n",
    "    # making a list of columns for postgres query depending on the typ argument\n",
    "    if typ=='in2':\n",
    "        columns = \"(id SERIAL PRIMARY KEY, timestampe timestamp, frequency_value float);\"\n",
    "    elif typ=='in1':\n",
    "        columns = \"(id SERIAL PRIMARY KEY, timestampe timestamp, voltage_value float);\"    \n",
    "    elif typ=='out' and append:\n",
    "        columns = \"(id SERIAL PRIMARY KEY, timestampe timestamp, H_inertia float,r_fd float, r_1d float, r_1q float, r_2q float, x_ddd float, x_qdd float, r_str float, Tr float, Tb float, Tc float,Ka float,Ta float, Kc float, K float, T1 float, T2 float, T3 float, T4 float);\"\n",
    "\n",
    "    # if table is not present inside the database then create it\n",
    "    if not exist_flag:\n",
    "        sql = '''Create table '''+ str(name)+ columns\n",
    "        print(sql)\n",
    "    \n",
    "        mycursor.execute(sql[:-1])\n",
    "\n",
    "    #  making a list of columns for postgres query from variable columns\n",
    "    columns = [each.strip(' ').split(' ')[0] for each in columns[:-2].strip('(').split(',')][1:]\n",
    "    \n",
    "    # loop for reading the data row by row\n",
    "    for i in list(df.index):\n",
    "        cols = \"(\"+\",\".join(columns)+\")\"\n",
    "        temp = \"INSERT INTO \"+str(name)+ cols +\" VALUES\"\n",
    "\n",
    "        # inserting the row data to the table\n",
    "        mycursor.execute(temp+ \"(\"+\",\".join([str(each) for each in list(df.iloc[i])])+\");\")\n",
    "        \n",
    "\n"
   ]
  },
  {
   "cell_type": "code",
   "execution_count": 481,
   "metadata": {},
   "outputs": [],
   "source": [
    "# takes query as input and return dataframe\n",
    "def read_table(cur,query):\n",
    "    cur.execute(query)\n",
    "    temp = []\n",
    "\n",
    "    # fetching the query results\n",
    "    for row in cur.fetchall():\n",
    "        temp.append(list(row))\n",
    "\n",
    "    # converting the list of data to dataframe\n",
    "    temp = pd.DataFrame(temp)\n",
    "    # droping the extra axis\n",
    "    temp.drop([0],axis=1,inplace=True)\n",
    "    \n",
    "    return temp"
   ]
  },
  {
   "cell_type": "code",
   "execution_count": 245,
   "metadata": {},
   "outputs": [],
   "source": [
    "# takes input as matlab data from workspace and returns pandas dataframe, but it is not universal yet\n",
    "def workspace_to_pandas(data):\n",
    "    return pd.DataFrame([list(each) for each in data])\n",
    "    "
   ]
  },
  {
   "cell_type": "markdown",
   "metadata": {},
   "source": [
    "## loading the simulink model"
   ]
  },
  {
   "cell_type": "code",
   "execution_count": 411,
   "metadata": {},
   "outputs": [],
   "source": [
    "eng = matlab.engine.start_matlab()"
   ]
  },
  {
   "cell_type": "code",
   "execution_count": 482,
   "metadata": {},
   "outputs": [
    {
     "data": {
      "text/plain": [
       "'C:\\\\Users\\\\Opal3\\\\OneDrive\\\\文档\\\\GitHub\\\\PowerGrid'"
      ]
     },
     "execution_count": 482,
     "metadata": {},
     "output_type": "execute_result"
    }
   ],
   "source": [
    "# changing path of matlab to the given path\n",
    "eng.cd(r'C:\\Users\\Opal3\\OneDrive\\文档\\GitHub\\PowerGrid')"
   ]
  },
  {
   "cell_type": "code",
   "execution_count": 483,
   "metadata": {},
   "outputs": [],
   "source": [
    "sim_file ='Online_Estimation_Synchrongenerator_NEW.slx'\n",
    "file2 = 'Online_Estimation_Synchrongenerator_NEW_2018a.slx'"
   ]
  },
  {
   "cell_type": "code",
   "execution_count": 486,
   "metadata": {},
   "outputs": [
    {
     "data": {
      "text/plain": [
       "0.0001220703125"
      ]
     },
     "execution_count": 486,
     "metadata": {},
     "output_type": "execute_result"
    }
   ],
   "source": [
    "# loading the simulink model into the system\n",
    "eng.eval(\"load_system('{}')\".format(file2))"
   ]
  },
  {
   "cell_type": "markdown",
   "metadata": {},
   "source": [
    "## reading the input from Databsae table named \"input_mat\""
   ]
  },
  {
   "cell_type": "code",
   "execution_count": 487,
   "metadata": {},
   "outputs": [],
   "source": [
    "q1 = \"select * from test_input_voltage;\"\n",
    "q2 = \"select * from test_input_frequency;\""
   ]
  },
  {
   "cell_type": "code",
   "execution_count": 494,
   "metadata": {},
   "outputs": [],
   "source": [
    "# reading two table from database: test_input_voltage and test_input_frequency\n",
    "df1 = read_table(cur,q1)\n",
    "df2 = read_table(cur,q2)"
   ]
  },
  {
   "cell_type": "code",
   "execution_count": 495,
   "metadata": {},
   "outputs": [],
   "source": [
    "# assigning frequency data from second dataframe to the first one \n",
    "df1[3] = df2[2]"
   ]
  },
  {
   "cell_type": "code",
   "execution_count": 496,
   "metadata": {},
   "outputs": [
    {
     "data": {
      "text/html": [
       "<div>\n",
       "<style scoped>\n",
       "    .dataframe tbody tr th:only-of-type {\n",
       "        vertical-align: middle;\n",
       "    }\n",
       "\n",
       "    .dataframe tbody tr th {\n",
       "        vertical-align: top;\n",
       "    }\n",
       "\n",
       "    .dataframe thead th {\n",
       "        text-align: right;\n",
       "    }\n",
       "</style>\n",
       "<table border=\"1\" class=\"dataframe\">\n",
       "  <thead>\n",
       "    <tr style=\"text-align: right;\">\n",
       "      <th></th>\n",
       "      <th>1</th>\n",
       "      <th>2</th>\n",
       "      <th>3</th>\n",
       "    </tr>\n",
       "  </thead>\n",
       "  <tbody>\n",
       "    <tr>\n",
       "      <th>0</th>\n",
       "      <td>0.00</td>\n",
       "      <td>1.0</td>\n",
       "      <td>1.0</td>\n",
       "    </tr>\n",
       "    <tr>\n",
       "      <th>1</th>\n",
       "      <td>0.01</td>\n",
       "      <td>1.0</td>\n",
       "      <td>1.0</td>\n",
       "    </tr>\n",
       "    <tr>\n",
       "      <th>2</th>\n",
       "      <td>0.02</td>\n",
       "      <td>1.0</td>\n",
       "      <td>1.0</td>\n",
       "    </tr>\n",
       "    <tr>\n",
       "      <th>3</th>\n",
       "      <td>0.03</td>\n",
       "      <td>1.0</td>\n",
       "      <td>1.0</td>\n",
       "    </tr>\n",
       "    <tr>\n",
       "      <th>4</th>\n",
       "      <td>0.04</td>\n",
       "      <td>1.0</td>\n",
       "      <td>1.0</td>\n",
       "    </tr>\n",
       "  </tbody>\n",
       "</table>\n",
       "</div>"
      ],
      "text/plain": [
       "      1    2    3\n",
       "0  0.00  1.0  1.0\n",
       "1  0.01  1.0  1.0\n",
       "2  0.02  1.0  1.0\n",
       "3  0.03  1.0  1.0\n",
       "4  0.04  1.0  1.0"
      ]
     },
     "execution_count": 496,
     "metadata": {},
     "output_type": "execute_result"
    }
   ],
   "source": [
    "# converting actual timestamp to matlab timestamp \n",
    "df1[1] = decoder(df1[1])\n",
    "df1.head()"
   ]
  },
  {
   "cell_type": "code",
   "execution_count": 498,
   "metadata": {},
   "outputs": [],
   "source": [
    "# writing the values to the mat file \n",
    "scipy.io.savemat('temp.mat', {'input':df1.values})\n",
    "del df1"
   ]
  },
  {
   "cell_type": "code",
   "execution_count": 499,
   "metadata": {},
   "outputs": [],
   "source": [
    "# load the matfile in the current workspace\n",
    "eng.workspace['input'] = eng.load('temp.mat')['input']"
   ]
  },
  {
   "cell_type": "code",
   "execution_count": 263,
   "metadata": {},
   "outputs": [
    {
     "name": "stdout",
     "output_type": "stream",
     "text": [
      "Create table test_input_voltage(id SERIAL PRIMARY KEY, timestampe timestamp, voltage_value float);\n",
      "Create table test_input_frequency(id SERIAL PRIMARY KEY, timestampe timestamp, frequency_value float);\n"
     ]
    }
   ],
   "source": [
    "'''dump_df(cur,'test_input_voltage',voltages,typ='in1',replace=True)\n",
    "dump_df(cur,'test_input_frequency',freqs,typ='in2',replace=True)'''"
   ]
  },
  {
   "cell_type": "code",
   "execution_count": 500,
   "metadata": {},
   "outputs": [],
   "source": [
    "# running the simulation\n",
    "eng.sim(file2,nargout=0)"
   ]
  },
  {
   "cell_type": "code",
   "execution_count": 501,
   "metadata": {},
   "outputs": [],
   "source": [
    "# loading the results in workspace to variable named output\n",
    "eng.workspace['output'] = eng.eval('simout.Data')"
   ]
  },
  {
   "cell_type": "code",
   "execution_count": 502,
   "metadata": {},
   "outputs": [],
   "source": [
    "# appending actual timestamp to the result where result is the last row from the simulation\n",
    "out = pd.DataFrame([\"'\"+datetime.now().strftime('%Y-%m-%d %H:%M:%S.%f')+\"'\"]+ workspace_to_pandas(list(eng.workspace['output'][0])).T.tail(1).values.tolist()[0]).T"
   ]
  },
  {
   "cell_type": "code",
   "execution_count": 516,
   "metadata": {},
   "outputs": [],
   "source": [
    "# dumping the result dataframe\n",
    "dump_df(cur,'test_out',out,typ='out',replace=False,append=True)"
   ]
  },
  {
   "cell_type": "code",
   "execution_count": 517,
   "metadata": {},
   "outputs": [],
   "source": [
    "conn.close()"
   ]
  },
  {
   "cell_type": "code",
   "execution_count": 506,
   "metadata": {},
   "outputs": [
    {
     "data": {
      "text/html": [
       "<div>\n",
       "<style scoped>\n",
       "    .dataframe tbody tr th:only-of-type {\n",
       "        vertical-align: middle;\n",
       "    }\n",
       "\n",
       "    .dataframe tbody tr th {\n",
       "        vertical-align: top;\n",
       "    }\n",
       "\n",
       "    .dataframe thead th {\n",
       "        text-align: right;\n",
       "    }\n",
       "</style>\n",
       "<table border=\"1\" class=\"dataframe\">\n",
       "  <thead>\n",
       "    <tr style=\"text-align: right;\">\n",
       "      <th></th>\n",
       "      <th>0</th>\n",
       "      <th>1</th>\n",
       "      <th>2</th>\n",
       "      <th>3</th>\n",
       "      <th>4</th>\n",
       "      <th>5</th>\n",
       "      <th>6</th>\n",
       "      <th>7</th>\n",
       "      <th>8</th>\n",
       "      <th>9</th>\n",
       "      <th>10</th>\n",
       "      <th>11</th>\n",
       "      <th>12</th>\n",
       "      <th>13</th>\n",
       "      <th>14</th>\n",
       "      <th>15</th>\n",
       "      <th>16</th>\n",
       "      <th>17</th>\n",
       "      <th>18</th>\n",
       "    </tr>\n",
       "  </thead>\n",
       "  <tbody>\n",
       "    <tr>\n",
       "      <th>31</th>\n",
       "      <td>6.705882</td>\n",
       "      <td>0.001843</td>\n",
       "      <td>0.056110</td>\n",
       "      <td>0.019004</td>\n",
       "      <td>0.006328</td>\n",
       "      <td>0.170001</td>\n",
       "      <td>0.179497</td>\n",
       "      <td>0.000867</td>\n",
       "      <td>0.010005</td>\n",
       "      <td>0.049995</td>\n",
       "      <td>0.05</td>\n",
       "      <td>100.0</td>\n",
       "      <td>0.01</td>\n",
       "      <td>0.1</td>\n",
       "      <td>5.055063</td>\n",
       "      <td>0.500145</td>\n",
       "      <td>0.099993</td>\n",
       "      <td>0.950002</td>\n",
       "      <td>0.8</td>\n",
       "    </tr>\n",
       "    <tr>\n",
       "      <th>32</th>\n",
       "      <td>6.705882</td>\n",
       "      <td>0.001843</td>\n",
       "      <td>0.056110</td>\n",
       "      <td>0.019004</td>\n",
       "      <td>0.006328</td>\n",
       "      <td>0.170001</td>\n",
       "      <td>0.179497</td>\n",
       "      <td>0.000867</td>\n",
       "      <td>0.010005</td>\n",
       "      <td>0.049995</td>\n",
       "      <td>0.05</td>\n",
       "      <td>100.0</td>\n",
       "      <td>0.01</td>\n",
       "      <td>0.1</td>\n",
       "      <td>5.055192</td>\n",
       "      <td>0.500145</td>\n",
       "      <td>0.099993</td>\n",
       "      <td>0.950002</td>\n",
       "      <td>0.8</td>\n",
       "    </tr>\n",
       "    <tr>\n",
       "      <th>33</th>\n",
       "      <td>6.705882</td>\n",
       "      <td>0.001843</td>\n",
       "      <td>0.056110</td>\n",
       "      <td>0.019004</td>\n",
       "      <td>0.006328</td>\n",
       "      <td>0.170001</td>\n",
       "      <td>0.179497</td>\n",
       "      <td>0.000867</td>\n",
       "      <td>0.010005</td>\n",
       "      <td>0.049995</td>\n",
       "      <td>0.05</td>\n",
       "      <td>100.0</td>\n",
       "      <td>0.01</td>\n",
       "      <td>0.1</td>\n",
       "      <td>5.055026</td>\n",
       "      <td>0.500145</td>\n",
       "      <td>0.099993</td>\n",
       "      <td>0.950002</td>\n",
       "      <td>0.8</td>\n",
       "    </tr>\n",
       "    <tr>\n",
       "      <th>34</th>\n",
       "      <td>6.705882</td>\n",
       "      <td>0.001843</td>\n",
       "      <td>0.056110</td>\n",
       "      <td>0.019004</td>\n",
       "      <td>0.006328</td>\n",
       "      <td>0.170001</td>\n",
       "      <td>0.179497</td>\n",
       "      <td>0.000867</td>\n",
       "      <td>0.010005</td>\n",
       "      <td>0.049995</td>\n",
       "      <td>0.05</td>\n",
       "      <td>100.0</td>\n",
       "      <td>0.01</td>\n",
       "      <td>0.1</td>\n",
       "      <td>5.055188</td>\n",
       "      <td>0.500145</td>\n",
       "      <td>0.099993</td>\n",
       "      <td>0.950002</td>\n",
       "      <td>0.8</td>\n",
       "    </tr>\n",
       "    <tr>\n",
       "      <th>35</th>\n",
       "      <td>6.705882</td>\n",
       "      <td>0.001843</td>\n",
       "      <td>0.056111</td>\n",
       "      <td>0.019004</td>\n",
       "      <td>0.006328</td>\n",
       "      <td>0.170001</td>\n",
       "      <td>0.179498</td>\n",
       "      <td>0.000867</td>\n",
       "      <td>0.010005</td>\n",
       "      <td>0.049995</td>\n",
       "      <td>0.05</td>\n",
       "      <td>100.0</td>\n",
       "      <td>0.01</td>\n",
       "      <td>0.1</td>\n",
       "      <td>5.055232</td>\n",
       "      <td>0.500145</td>\n",
       "      <td>0.099993</td>\n",
       "      <td>0.950002</td>\n",
       "      <td>0.8</td>\n",
       "    </tr>\n",
       "    <tr>\n",
       "      <th>36</th>\n",
       "      <td>6.705882</td>\n",
       "      <td>0.001843</td>\n",
       "      <td>0.056110</td>\n",
       "      <td>0.019004</td>\n",
       "      <td>0.006328</td>\n",
       "      <td>0.170001</td>\n",
       "      <td>0.179497</td>\n",
       "      <td>0.000867</td>\n",
       "      <td>0.010005</td>\n",
       "      <td>0.049995</td>\n",
       "      <td>0.05</td>\n",
       "      <td>100.0</td>\n",
       "      <td>0.01</td>\n",
       "      <td>0.1</td>\n",
       "      <td>5.055103</td>\n",
       "      <td>0.500145</td>\n",
       "      <td>0.099993</td>\n",
       "      <td>0.950002</td>\n",
       "      <td>0.8</td>\n",
       "    </tr>\n",
       "    <tr>\n",
       "      <th>37</th>\n",
       "      <td>6.705882</td>\n",
       "      <td>0.001842</td>\n",
       "      <td>0.056111</td>\n",
       "      <td>0.019004</td>\n",
       "      <td>0.006328</td>\n",
       "      <td>0.170001</td>\n",
       "      <td>0.179498</td>\n",
       "      <td>0.000867</td>\n",
       "      <td>0.010005</td>\n",
       "      <td>0.049995</td>\n",
       "      <td>0.05</td>\n",
       "      <td>100.0</td>\n",
       "      <td>0.01</td>\n",
       "      <td>0.1</td>\n",
       "      <td>5.055271</td>\n",
       "      <td>0.500145</td>\n",
       "      <td>0.099993</td>\n",
       "      <td>0.950002</td>\n",
       "      <td>0.8</td>\n",
       "    </tr>\n",
       "    <tr>\n",
       "      <th>38</th>\n",
       "      <td>6.705882</td>\n",
       "      <td>0.001843</td>\n",
       "      <td>0.056111</td>\n",
       "      <td>0.019004</td>\n",
       "      <td>0.006328</td>\n",
       "      <td>0.170001</td>\n",
       "      <td>0.179498</td>\n",
       "      <td>0.000867</td>\n",
       "      <td>0.010005</td>\n",
       "      <td>0.049995</td>\n",
       "      <td>0.05</td>\n",
       "      <td>100.0</td>\n",
       "      <td>0.01</td>\n",
       "      <td>0.1</td>\n",
       "      <td>5.055241</td>\n",
       "      <td>0.500145</td>\n",
       "      <td>0.099993</td>\n",
       "      <td>0.950002</td>\n",
       "      <td>0.8</td>\n",
       "    </tr>\n",
       "    <tr>\n",
       "      <th>39</th>\n",
       "      <td>6.705882</td>\n",
       "      <td>0.001843</td>\n",
       "      <td>0.056110</td>\n",
       "      <td>0.019004</td>\n",
       "      <td>0.006328</td>\n",
       "      <td>0.170001</td>\n",
       "      <td>0.179497</td>\n",
       "      <td>0.000867</td>\n",
       "      <td>0.010005</td>\n",
       "      <td>0.049995</td>\n",
       "      <td>0.05</td>\n",
       "      <td>100.0</td>\n",
       "      <td>0.01</td>\n",
       "      <td>0.1</td>\n",
       "      <td>5.055154</td>\n",
       "      <td>0.500145</td>\n",
       "      <td>0.099993</td>\n",
       "      <td>0.950002</td>\n",
       "      <td>0.8</td>\n",
       "    </tr>\n",
       "    <tr>\n",
       "      <th>40</th>\n",
       "      <td>6.705882</td>\n",
       "      <td>0.001842</td>\n",
       "      <td>0.056111</td>\n",
       "      <td>0.019004</td>\n",
       "      <td>0.006328</td>\n",
       "      <td>0.170001</td>\n",
       "      <td>0.179498</td>\n",
       "      <td>0.000867</td>\n",
       "      <td>0.010005</td>\n",
       "      <td>0.049995</td>\n",
       "      <td>0.05</td>\n",
       "      <td>100.0</td>\n",
       "      <td>0.01</td>\n",
       "      <td>0.1</td>\n",
       "      <td>5.055301</td>\n",
       "      <td>0.500145</td>\n",
       "      <td>0.099993</td>\n",
       "      <td>0.950002</td>\n",
       "      <td>0.8</td>\n",
       "    </tr>\n",
       "  </tbody>\n",
       "</table>\n",
       "</div>"
      ],
      "text/plain": [
       "          0         1         2         3         4         5         6   \\\n",
       "31  6.705882  0.001843  0.056110  0.019004  0.006328  0.170001  0.179497   \n",
       "32  6.705882  0.001843  0.056110  0.019004  0.006328  0.170001  0.179497   \n",
       "33  6.705882  0.001843  0.056110  0.019004  0.006328  0.170001  0.179497   \n",
       "34  6.705882  0.001843  0.056110  0.019004  0.006328  0.170001  0.179497   \n",
       "35  6.705882  0.001843  0.056111  0.019004  0.006328  0.170001  0.179498   \n",
       "36  6.705882  0.001843  0.056110  0.019004  0.006328  0.170001  0.179497   \n",
       "37  6.705882  0.001842  0.056111  0.019004  0.006328  0.170001  0.179498   \n",
       "38  6.705882  0.001843  0.056111  0.019004  0.006328  0.170001  0.179498   \n",
       "39  6.705882  0.001843  0.056110  0.019004  0.006328  0.170001  0.179497   \n",
       "40  6.705882  0.001842  0.056111  0.019004  0.006328  0.170001  0.179498   \n",
       "\n",
       "          7         8         9     10     11    12   13        14        15  \\\n",
       "31  0.000867  0.010005  0.049995  0.05  100.0  0.01  0.1  5.055063  0.500145   \n",
       "32  0.000867  0.010005  0.049995  0.05  100.0  0.01  0.1  5.055192  0.500145   \n",
       "33  0.000867  0.010005  0.049995  0.05  100.0  0.01  0.1  5.055026  0.500145   \n",
       "34  0.000867  0.010005  0.049995  0.05  100.0  0.01  0.1  5.055188  0.500145   \n",
       "35  0.000867  0.010005  0.049995  0.05  100.0  0.01  0.1  5.055232  0.500145   \n",
       "36  0.000867  0.010005  0.049995  0.05  100.0  0.01  0.1  5.055103  0.500145   \n",
       "37  0.000867  0.010005  0.049995  0.05  100.0  0.01  0.1  5.055271  0.500145   \n",
       "38  0.000867  0.010005  0.049995  0.05  100.0  0.01  0.1  5.055241  0.500145   \n",
       "39  0.000867  0.010005  0.049995  0.05  100.0  0.01  0.1  5.055154  0.500145   \n",
       "40  0.000867  0.010005  0.049995  0.05  100.0  0.01  0.1  5.055301  0.500145   \n",
       "\n",
       "          16        17   18  \n",
       "31  0.099993  0.950002  0.8  \n",
       "32  0.099993  0.950002  0.8  \n",
       "33  0.099993  0.950002  0.8  \n",
       "34  0.099993  0.950002  0.8  \n",
       "35  0.099993  0.950002  0.8  \n",
       "36  0.099993  0.950002  0.8  \n",
       "37  0.099993  0.950002  0.8  \n",
       "38  0.099993  0.950002  0.8  \n",
       "39  0.099993  0.950002  0.8  \n",
       "40  0.099993  0.950002  0.8  "
      ]
     },
     "execution_count": 506,
     "metadata": {},
     "output_type": "execute_result"
    }
   ],
   "source": [
    "dat = workspace_to_pandas(list(eng.workspace['output'][0])).T\n",
    "dat.tail(10)"
   ]
  },
  {
   "cell_type": "code",
   "execution_count": 511,
   "metadata": {},
   "outputs": [
    {
     "data": {
      "image/png": "[encoded data removed]",
      "text/plain": [
       "<Figure size 1440x576 with 1 Axes>"
      ]
     },
     "metadata": {
      "needs_background": "light"
     },
     "output_type": "display_data"
    }
   ],
   "source": [
    "plt.figure(figsize=(20,8))\n",
    "plt.plot(dat.tail(10))\n",
    "plt.show()"
   ]
  }
 ],
 "metadata": {
  "kernelspec": {
   "display_name": "Python 3 (ipykernel)",
   "language": "python",
   "name": "python3"
  },
  "language_info": {
   "codemirror_mode": {
    "name": "ipython",
    "version": 3
   },
   "file_extension": ".py",
   "mimetype": "text/x-python",
   "name": "python",
   "nbconvert_exporter": "python",
   "pygments_lexer": "ipython3",
   "version": "3.7.6"
  }
 },
 "nbformat": 4,
 "nbformat_minor": 4
}
